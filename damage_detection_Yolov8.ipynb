{
 "cells": [
  {
   "cell_type": "code",
   "execution_count": 1,
   "metadata": {},
   "outputs": [],
   "source": [
    "from ultralytics import YOLO\n",
    "import torch\n",
    "from PIL import Image\n",
    "from torchvision import transforms\n",
    "import matplotlib.pyplot as plt\n"
   ]
  },
  {
   "cell_type": "code",
   "execution_count": 2,
   "metadata": {},
   "outputs": [],
   "source": [
    "import os\n",
    "from dotenv import load_dotenv\n",
    "\n",
    "load_dotenv()\n",
    "datasets_path = os.getenv('DATASET_PATH_YOLO')\n",
    "datasets_annotations_path = os.getenv('DATASET_ANNOTATIONS_PATH_YOLO')\n",
    "datasets_images_path = os.getenv('DATASET_IMAGES_PATH_YOLO')"
   ]
  },
  {
   "cell_type": "markdown",
   "metadata": {},
   "source": [
    "## Dataset Checkings"
   ]
  },
  {
   "cell_type": "code",
   "execution_count": 3,
   "metadata": {},
   "outputs": [
    {
     "name": "stdout",
     "output_type": "stream",
     "text": [
      "Jumlah gambar: 596\n",
      "Jumlah anotasi: 1003\n",
      "Kategori: [{'id': 1, 'name': 'damage', 'supercategory': 'none'}]\n",
      "\n",
      "Contoh data gambar:\n",
      "{'id': 0, 'license': 1, 'file_name': '155_jpg.rf.06593f538171c239122303ed08a56d3b.jpg', 'height': 168, 'width': 300, 'date_captured': '2022-04-21T04:47:27+00:00'}\n",
      "\n",
      "Contoh data anotasi:\n",
      "{'id': 0, 'image_id': 0, 'category_id': 1, 'bbox': [73, 21, 75, 55], 'area': 4125, 'segmentation': [[77, 75, 105, 76, 137, 63, 148, 47, 136, 27, 115, 21, 97, 25, 84, 35, 73, 49]], 'iscrowd': 0}\n"
     ]
    }
   ],
   "source": [
    "import json\n",
    "\n",
    "# Load JSON file\n",
    "json_path_train = datasets_annotations_path + \"/train.json\"  # Ubah ke lokasi file JSON Anda\n",
    "with open(json_path_train, \"r\") as f:\n",
    "    data = json.load(f)\n",
    "\n",
    "# Print some information\n",
    "print(\"Jumlah gambar:\", len(data[\"images\"]))\n",
    "print(\"Jumlah anotasi:\", len(data[\"annotations\"]))\n",
    "print(\"Kategori:\", data[\"categories\"])\n",
    "\n",
    "# Check a sample image and annotation\n",
    "print(\"\\nContoh data gambar:\")\n",
    "print(data[\"images\"][0])\n",
    "\n",
    "print(\"\\nContoh data anotasi:\")\n",
    "print(data[\"annotations\"][0])"
   ]
  },
  {
   "cell_type": "code",
   "execution_count": 4,
   "metadata": {},
   "outputs": [
    {
     "name": "stdout",
     "output_type": "stream",
     "text": [
      "Jumlah gambar: 196\n",
      "Jumlah anotasi: 341\n",
      "Kategori: [{'id': 1, 'name': 'damage', 'supercategory': 'none'}]\n",
      "\n",
      "Contoh data gambar:\n",
      "{'id': 0, 'license': 1, 'file_name': '160_jpg.rf.697c4d606e9f15b7ac8506e27077e541.jpg', 'height': 392, 'width': 720, 'date_captured': '2022-04-21T04:47:27+00:00'}\n",
      "\n",
      "Contoh data anotasi:\n",
      "{'id': 0, 'image_id': 0, 'category_id': 1, 'bbox': [419, 168, 248, 169], 'area': 41912, 'segmentation': [[509, 337, 573, 335, 641, 335, 658, 308, 665, 279, 667, 253, 667, 215, 663, 169, 609, 168, 567, 169, 542, 183, 475, 224, 425, 293, 421, 317, 419, 329]], 'iscrowd': 0}\n"
     ]
    }
   ],
   "source": [
    "import json\n",
    "\n",
    "# Load JSON file\n",
    "json_path_val = datasets_annotations_path + \"/val.json\"  # Ubah ke lokasi file JSON Anda\n",
    "with open(json_path_val, \"r\") as f:\n",
    "    data = json.load(f)\n",
    "\n",
    "# Print some information\n",
    "print(\"Jumlah gambar:\", len(data[\"images\"]))\n",
    "print(\"Jumlah anotasi:\", len(data[\"annotations\"]))\n",
    "print(\"Kategori:\", data[\"categories\"])\n",
    "\n",
    "# Check a sample image and annotation\n",
    "print(\"\\nContoh data gambar:\")\n",
    "print(data[\"images\"][0])\n",
    "\n",
    "print(\"\\nContoh data anotasi:\")\n",
    "print(data[\"annotations\"][0])"
   ]
  },
  {
   "cell_type": "code",
   "execution_count": 5,
   "metadata": {},
   "outputs": [],
   "source": [
    "import json\n",
    "import os\n",
    "from PIL import Image  # Impor pustaka untuk membuka gambar\n",
    "\n",
    "def convert_coco_to_yolo(coco_json_path, output_dir, image_dir):\n",
    "    # Buka file JSON COCO\n",
    "    with open(coco_json_path) as f:\n",
    "        coco_data = json.load(f)\n",
    "    \n",
    "    # Buat folder output jika belum ada\n",
    "    os.makedirs(output_dir, exist_ok=True)\n",
    "\n",
    "    # Ambil informasi kategori (class)\n",
    "    categories = {cat['id']: cat['name'] for cat in coco_data['categories']}\n",
    "    category_id_map = {cat['id']: idx for idx, cat in enumerate(coco_data['categories'])}\n",
    "\n",
    "    # Iterasi melalui anotasi\n",
    "    annotations = coco_data['annotations']\n",
    "    images = {img['id']: img['file_name'] for img in coco_data['images']}\n",
    "    \n",
    "    for annotation in annotations:\n",
    "        image_id = annotation['image_id']\n",
    "        file_name = images[image_id]\n",
    "        \n",
    "        # Path ke gambar\n",
    "        img_path = os.path.join(image_dir, file_name)\n",
    "        \n",
    "        # Buka gambar untuk mendapatkan dimensi\n",
    "        with Image.open(img_path) as img:\n",
    "            img_width, img_height = img.size\n",
    "        \n",
    "        # File label output\n",
    "        label_file = os.path.join(output_dir, file_name.replace('.jpg', '.txt'))\n",
    "        \n",
    "        # Koordinat bounding box\n",
    "        bbox = annotation['bbox']\n",
    "        x_min, y_min, width, height = bbox\n",
    "        x_center = x_min + width / 2\n",
    "        y_center = y_min + height / 2\n",
    "        \n",
    "        # Normalisasi (dalam skala 0-1)\n",
    "        x_center /= img_width\n",
    "        y_center /= img_height\n",
    "        width /= img_width\n",
    "        height /= img_height\n",
    "        \n",
    "        # ID kategori yang diubah ke indeks YOLO\n",
    "        category_id = annotation['category_id']\n",
    "        yolo_category_id = category_id_map[category_id]\n",
    "        \n",
    "        # Tulis ke file\n",
    "        with open(label_file, 'a') as lf:\n",
    "            lf.write(f\"{yolo_category_id} {x_center} {y_center} {width} {height}\\n\")\n",
    "\n",
    "    print(\"Konversi selesai.\")\n"
   ]
  },
  {
   "cell_type": "code",
   "execution_count": 6,
   "metadata": {},
   "outputs": [
    {
     "name": "stdout",
     "output_type": "stream",
     "text": [
      "Konversi selesai.\n"
     ]
    }
   ],
   "source": [
    "convert_coco_to_yolo(\n",
    "    coco_json_path=json_path_train,\n",
    "    output_dir=datasets_path + \"/labels/train\",\n",
    "    image_dir=datasets_path + \"/images/train\"\n",
    ")"
   ]
  },
  {
   "cell_type": "code",
   "execution_count": 7,
   "metadata": {},
   "outputs": [
    {
     "name": "stdout",
     "output_type": "stream",
     "text": [
      "Konversi selesai.\n"
     ]
    }
   ],
   "source": [
    "convert_coco_to_yolo(\n",
    "    coco_json_path=json_path_val,\n",
    "    output_dir=datasets_path + \"/labels/val\",\n",
    "    image_dir=datasets_path + \"/images/val\"\n",
    ")"
   ]
  },
  {
   "cell_type": "code",
   "execution_count": 8,
   "metadata": {},
   "outputs": [],
   "source": [
    "import os\n",
    "\n",
    "for file in os.listdir(datasets_path + \"/labels/train\"):\n",
    "    if not file.endswith(\".txt\"):\n",
    "        continue\n",
    "    with open(os.path.join(datasets_path + \"/labels/train\", file), 'r') as f:\n",
    "        lines = f.readlines()\n",
    "        if not lines:\n",
    "            print(f\"Empty file: {file}\")\n",
    "        for line in lines:\n",
    "            values = line.strip().split()\n",
    "            if len(values) != 5:\n",
    "                print(f\"Incorrect format in file {file}: {line}\")"
   ]
  },
  {
   "cell_type": "code",
   "execution_count": 9,
   "metadata": {},
   "outputs": [],
   "source": [
    "import os\n",
    "\n",
    "for file in os.listdir(datasets_path + \"/labels/val\"):\n",
    "    if not file.endswith(\".txt\"):\n",
    "        continue\n",
    "    with open(os.path.join(datasets_path + \"/labels/val\", file), 'r') as f:\n",
    "        lines = f.readlines()\n",
    "        if not lines:\n",
    "            print(f\"Empty file: {file}\")\n",
    "        for line in lines:\n",
    "            values = line.strip().split()\n",
    "            if len(values) != 5:\n",
    "                print(f\"Incorrect format in file {file}: {line}\")"
   ]
  },
  {
   "cell_type": "code",
   "execution_count": 10,
   "metadata": {},
   "outputs": [
    {
     "name": "stdout",
     "output_type": "stream",
     "text": [
      "Downloading https://github.com/ultralytics/assets/releases/download/v8.3.0/yolov8n.pt to 'yolov8n.pt'...\n"
     ]
    },
    {
     "name": "stderr",
     "output_type": "stream",
     "text": [
      "100%|██████████| 6.25M/6.25M [00:18<00:00, 358kB/s]\n"
     ]
    }
   ],
   "source": [
    "model = YOLO('yolov8n.pt')         "
   ]
  },
  {
   "cell_type": "code",
   "execution_count": null,
   "metadata": {},
   "outputs": [
    {
     "name": "stdout",
     "output_type": "stream",
     "text": [
      "New https://pypi.org/project/ultralytics/8.3.56 available  Update with 'pip install -U ultralytics'\n",
      "Ultralytics 8.3.54  Python-3.10.16 torch-2.5.1+cu124 CUDA:0 (NVIDIA GeForce RTX 3050 Laptop GPU, 4096MiB)\n",
      "\u001b[34m\u001b[1mengine\\trainer: \u001b[0mtask=detect, mode=train, model=yolov8n.pt, data=dataset.yaml, epochs=50, time=None, patience=100, batch=8, imgsz=512, save=True, save_period=-1, cache=False, device=None, workers=8, project=None, name=train26, exist_ok=False, pretrained=True, optimizer=auto, verbose=True, seed=0, deterministic=True, single_cls=False, rect=False, cos_lr=False, close_mosaic=10, resume=False, amp=True, fraction=1.0, profile=False, freeze=None, multi_scale=False, overlap_mask=True, mask_ratio=4, dropout=0.0, val=True, split=val, save_json=False, save_hybrid=False, conf=None, iou=0.7, max_det=300, half=False, dnn=False, plots=True, source=None, vid_stride=1, stream_buffer=False, visualize=False, augment=False, agnostic_nms=False, classes=None, retina_masks=False, embed=None, show=False, save_frames=False, save_txt=False, save_conf=False, save_crop=False, show_labels=True, show_conf=True, show_boxes=True, line_width=None, format=torchscript, keras=False, optimize=False, int8=False, dynamic=False, simplify=True, opset=None, workspace=None, nms=False, lr0=0.01, lrf=0.01, momentum=0.937, weight_decay=0.0005, warmup_epochs=3.0, warmup_momentum=0.8, warmup_bias_lr=0.1, box=7.5, cls=0.5, dfl=1.5, pose=12.0, kobj=1.0, nbs=64, hsv_h=0.015, hsv_s=0.7, hsv_v=0.4, degrees=0.0, translate=0.1, scale=0.5, shear=0.0, perspective=0.0, flipud=0.0, fliplr=0.5, bgr=0.0, mosaic=1.0, mixup=0.0, copy_paste=0.0, copy_paste_mode=flip, auto_augment=randaugment, erasing=0.4, crop_fraction=1.0, cfg=None, tracker=botsort.yaml, save_dir=runs\\detect\\train26\n",
      "Overriding model.yaml nc=80 with nc=1\n",
      "\n",
      "                   from  n    params  module                                       arguments                     \n",
      "  0                  -1  1       464  ultralytics.nn.modules.conv.Conv             [3, 16, 3, 2]                 \n",
      "  1                  -1  1      4672  ultralytics.nn.modules.conv.Conv             [16, 32, 3, 2]                \n",
      "  2                  -1  1      7360  ultralytics.nn.modules.block.C2f             [32, 32, 1, True]             \n",
      "  3                  -1  1     18560  ultralytics.nn.modules.conv.Conv             [32, 64, 3, 2]                \n",
      "  4                  -1  2     49664  ultralytics.nn.modules.block.C2f             [64, 64, 2, True]             \n",
      "  5                  -1  1     73984  ultralytics.nn.modules.conv.Conv             [64, 128, 3, 2]               \n",
      "  6                  -1  2    197632  ultralytics.nn.modules.block.C2f             [128, 128, 2, True]           \n",
      "  7                  -1  1    295424  ultralytics.nn.modules.conv.Conv             [128, 256, 3, 2]              \n",
      "  8                  -1  1    460288  ultralytics.nn.modules.block.C2f             [256, 256, 1, True]           \n",
      "  9                  -1  1    164608  ultralytics.nn.modules.block.SPPF            [256, 256, 5]                 \n",
      " 10                  -1  1         0  torch.nn.modules.upsampling.Upsample         [None, 2, 'nearest']          \n",
      " 11             [-1, 6]  1         0  ultralytics.nn.modules.conv.Concat           [1]                           \n",
      " 12                  -1  1    148224  ultralytics.nn.modules.block.C2f             [384, 128, 1]                 \n",
      " 13                  -1  1         0  torch.nn.modules.upsampling.Upsample         [None, 2, 'nearest']          \n",
      " 14             [-1, 4]  1         0  ultralytics.nn.modules.conv.Concat           [1]                           \n",
      " 15                  -1  1     37248  ultralytics.nn.modules.block.C2f             [192, 64, 1]                  \n",
      " 16                  -1  1     36992  ultralytics.nn.modules.conv.Conv             [64, 64, 3, 2]                \n",
      " 17            [-1, 12]  1         0  ultralytics.nn.modules.conv.Concat           [1]                           \n",
      " 18                  -1  1    123648  ultralytics.nn.modules.block.C2f             [192, 128, 1]                 \n",
      " 19                  -1  1    147712  ultralytics.nn.modules.conv.Conv             [128, 128, 3, 2]              \n",
      " 20             [-1, 9]  1         0  ultralytics.nn.modules.conv.Concat           [1]                           \n",
      " 21                  -1  1    493056  ultralytics.nn.modules.block.C2f             [384, 256, 1]                 \n",
      " 22        [15, 18, 21]  1    751507  ultralytics.nn.modules.head.Detect           [1, [64, 128, 256]]           \n",
      "Model summary: 225 layers, 3,011,043 parameters, 3,011,027 gradients, 8.2 GFLOPs\n",
      "\n",
      "Transferred 319/355 items from pretrained weights\n",
      "\u001b[34m\u001b[1mTensorBoard: \u001b[0mStart with 'tensorboard --logdir runs\\detect\\train26', view at http://localhost:6006/\n",
      "Freezing layer 'model.22.dfl.conv.weight'\n",
      "\u001b[34m\u001b[1mAMP: \u001b[0mrunning Automatic Mixed Precision (AMP) checks...\n",
      "\u001b[34m\u001b[1mAMP: \u001b[0mchecks passed \n"
     ]
    },
    {
     "name": "stderr",
     "output_type": "stream",
     "text": [
      "\u001b[34m\u001b[1mtrain: \u001b[0mScanning D:\\Datasets\\riset_infor_dataset\\Car_Damage_Coco_Dataset_Yolov8\\labels\\train... 596 images, 29 backgrounds, 1 corrupt: 100%|██████████| 625/625 [00:00<00:00, 1566.26it/s]"
     ]
    },
    {
     "name": "stdout",
     "output_type": "stream",
     "text": [
      "\u001b[34m\u001b[1mtrain: \u001b[0mWARNING  D:\\Datasets\\riset_infor_dataset\\Car_Damage_Coco_Dataset_Yolov8\\images\\train\\100_jpg.rf.ec010f806c856b308ad7d050880c39fa.jpg: 8 duplicate labels removed\n",
      "\u001b[34m\u001b[1mtrain: \u001b[0mWARNING  D:\\Datasets\\riset_infor_dataset\\Car_Damage_Coco_Dataset_Yolov8\\images\\train\\101_jpg.rf.05a9c7e86de33e0e9c08395bd522b0f3.jpg: 4 duplicate labels removed\n",
      "\u001b[34m\u001b[1mtrain: \u001b[0mWARNING  D:\\Datasets\\riset_infor_dataset\\Car_Damage_Coco_Dataset_Yolov8\\images\\train\\102_jpg.rf.6cda08a5ad0a691b55b342d26f73a158.jpg: 4 duplicate labels removed\n",
      "\u001b[34m\u001b[1mtrain: \u001b[0mWARNING  D:\\Datasets\\riset_infor_dataset\\Car_Damage_Coco_Dataset_Yolov8\\images\\train\\103_jpg.rf.3324757de21a8b5087e84725cff6957f.jpg: 4 duplicate labels removed\n",
      "\u001b[34m\u001b[1mtrain: \u001b[0mWARNING  D:\\Datasets\\riset_infor_dataset\\Car_Damage_Coco_Dataset_Yolov8\\images\\train\\104_jpg.rf.aff208134de1a6df75660d1fde5f0b0d.jpg: 8 duplicate labels removed\n",
      "\u001b[34m\u001b[1mtrain: \u001b[0mWARNING  D:\\Datasets\\riset_infor_dataset\\Car_Damage_Coco_Dataset_Yolov8\\images\\train\\105_jpg.rf.cc2b4d77aa3e6ae0b6975933b60fec3c.jpg: 8 duplicate labels removed\n",
      "\u001b[34m\u001b[1mtrain: \u001b[0mWARNING  D:\\Datasets\\riset_infor_dataset\\Car_Damage_Coco_Dataset_Yolov8\\images\\train\\106_jpg.rf.78606730ba9f537a2a3a6f393fbccfab.jpg: 12 duplicate labels removed\n",
      "\u001b[34m\u001b[1mtrain: \u001b[0mWARNING  D:\\Datasets\\riset_infor_dataset\\Car_Damage_Coco_Dataset_Yolov8\\images\\train\\107_jpg.rf.bafd4d21d78cc642a34ce2a24fe843dc.jpg: 4 duplicate labels removed\n",
      "\u001b[34m\u001b[1mtrain: \u001b[0mWARNING  D:\\Datasets\\riset_infor_dataset\\Car_Damage_Coco_Dataset_Yolov8\\images\\train\\108_jpg.rf.94111853e4641fbb40c40a6a74cfa714.jpg: 4 duplicate labels removed\n",
      "\u001b[34m\u001b[1mtrain: \u001b[0mWARNING  D:\\Datasets\\riset_infor_dataset\\Car_Damage_Coco_Dataset_Yolov8\\images\\train\\109_jpg.rf.698c4eff487d3ee3342f000eef79b610.jpg: 4 duplicate labels removed\n",
      "\u001b[34m\u001b[1mtrain: \u001b[0mWARNING  D:\\Datasets\\riset_infor_dataset\\Car_Damage_Coco_Dataset_Yolov8\\images\\train\\10_jpg.rf.57a7b0428e861cf949b09330cf9883fd.jpg: 4 duplicate labels removed\n",
      "\u001b[34m\u001b[1mtrain: \u001b[0mWARNING  D:\\Datasets\\riset_infor_dataset\\Car_Damage_Coco_Dataset_Yolov8\\images\\train\\110_jpg.rf.7559e09ad92310621090de8bf296b1f7.jpg: 4 duplicate labels removed\n",
      "\u001b[34m\u001b[1mtrain: \u001b[0mWARNING  D:\\Datasets\\riset_infor_dataset\\Car_Damage_Coco_Dataset_Yolov8\\images\\train\\111_jpg.rf.f6ad680a9fdafd1fbb332873a2e22694.jpg: 4 duplicate labels removed\n",
      "\u001b[34m\u001b[1mtrain: \u001b[0mWARNING  D:\\Datasets\\riset_infor_dataset\\Car_Damage_Coco_Dataset_Yolov8\\images\\train\\112_jpg.rf.e07670d46d78ab044fa47caaf86f870c.jpg: 4 duplicate labels removed\n",
      "\u001b[34m\u001b[1mtrain: \u001b[0mWARNING  D:\\Datasets\\riset_infor_dataset\\Car_Damage_Coco_Dataset_Yolov8\\images\\train\\113_jpg.rf.4fa971f8d19a8c908d119d5be7df7151.jpg: 4 duplicate labels removed\n",
      "\u001b[34m\u001b[1mtrain: \u001b[0mWARNING  D:\\Datasets\\riset_infor_dataset\\Car_Damage_Coco_Dataset_Yolov8\\images\\train\\115_jpg.rf.bc0bd7f0238d3396d89f2131bb21ee43.jpg: 4 duplicate labels removed\n",
      "\u001b[34m\u001b[1mtrain: \u001b[0mWARNING  D:\\Datasets\\riset_infor_dataset\\Car_Damage_Coco_Dataset_Yolov8\\images\\train\\116_jpg.rf.380cd43e01835188e7b3a5c09e819494.jpg: 4 duplicate labels removed\n",
      "\u001b[34m\u001b[1mtrain: \u001b[0mWARNING  D:\\Datasets\\riset_infor_dataset\\Car_Damage_Coco_Dataset_Yolov8\\images\\train\\117_jpg.rf.952f8e828c11d113fe604ffcab1db1e4.jpg: 4 duplicate labels removed\n",
      "\u001b[34m\u001b[1mtrain: \u001b[0mWARNING  D:\\Datasets\\riset_infor_dataset\\Car_Damage_Coco_Dataset_Yolov8\\images\\train\\118_jpg.rf.04d8fdc8d7548db74e236ce06f51744e.jpg: 4 duplicate labels removed\n",
      "\u001b[34m\u001b[1mtrain: \u001b[0mWARNING  D:\\Datasets\\riset_infor_dataset\\Car_Damage_Coco_Dataset_Yolov8\\images\\train\\119_jpg.rf.b130600275b63d564474d1a7496c3423.jpg: 4 duplicate labels removed\n",
      "\u001b[34m\u001b[1mtrain: \u001b[0mWARNING  D:\\Datasets\\riset_infor_dataset\\Car_Damage_Coco_Dataset_Yolov8\\images\\train\\11_jpg.rf.253ed00a9d3e52a0d59df9cba1f79029.jpg: 4 duplicate labels removed\n",
      "\u001b[34m\u001b[1mtrain: \u001b[0mWARNING  D:\\Datasets\\riset_infor_dataset\\Car_Damage_Coco_Dataset_Yolov8\\images\\train\\120_jpg.rf.c2f282fa020880bbfee55203b572453b.jpg: 4 duplicate labels removed\n",
      "\u001b[34m\u001b[1mtrain: \u001b[0mWARNING  D:\\Datasets\\riset_infor_dataset\\Car_Damage_Coco_Dataset_Yolov8\\images\\train\\121_jpg.rf.a40c2758359fe2fe2c016bd94da5b01f.jpg: 8 duplicate labels removed\n",
      "\u001b[34m\u001b[1mtrain: \u001b[0mWARNING  D:\\Datasets\\riset_infor_dataset\\Car_Damage_Coco_Dataset_Yolov8\\images\\train\\122_jpg.rf.adca16167c67cce63c117798ccb45267.jpg: 4 duplicate labels removed\n",
      "\u001b[34m\u001b[1mtrain: \u001b[0mWARNING  D:\\Datasets\\riset_infor_dataset\\Car_Damage_Coco_Dataset_Yolov8\\images\\train\\124_jpg.rf.d5962feae1fce0d17041529c651cf427.jpg: 4 duplicate labels removed\n",
      "\u001b[34m\u001b[1mtrain: \u001b[0mWARNING  D:\\Datasets\\riset_infor_dataset\\Car_Damage_Coco_Dataset_Yolov8\\images\\train\\125_jpg.rf.ba90705ec9889490e008011e59fd609b.jpg: 4 duplicate labels removed\n",
      "\u001b[34m\u001b[1mtrain: \u001b[0mWARNING  D:\\Datasets\\riset_infor_dataset\\Car_Damage_Coco_Dataset_Yolov8\\images\\train\\126_jpg.rf.4c06472e0ee626af4d563095ebc4623a.jpg: 8 duplicate labels removed\n",
      "\u001b[34m\u001b[1mtrain: \u001b[0mWARNING  D:\\Datasets\\riset_infor_dataset\\Car_Damage_Coco_Dataset_Yolov8\\images\\train\\127_jpg.rf.40066649ed4f024cbc38c8aa35c43ade.jpg: 4 duplicate labels removed\n",
      "\u001b[34m\u001b[1mtrain: \u001b[0mWARNING  D:\\Datasets\\riset_infor_dataset\\Car_Damage_Coco_Dataset_Yolov8\\images\\train\\128_jpg.rf.90295498b4f9a8f223842abdcbaec3a9.jpg: 4 duplicate labels removed\n",
      "\u001b[34m\u001b[1mtrain: \u001b[0mWARNING  D:\\Datasets\\riset_infor_dataset\\Car_Damage_Coco_Dataset_Yolov8\\images\\train\\129_jpg.rf.2200ef724f334c1a1e8db2c03048c7df.jpg: 4 duplicate labels removed\n",
      "\u001b[34m\u001b[1mtrain: \u001b[0mWARNING  D:\\Datasets\\riset_infor_dataset\\Car_Damage_Coco_Dataset_Yolov8\\images\\train\\12_jpg.rf.924348c71c605304e2fbe7d15904cd89.jpg: 4 duplicate labels removed\n",
      "\u001b[34m\u001b[1mtrain: \u001b[0mWARNING  D:\\Datasets\\riset_infor_dataset\\Car_Damage_Coco_Dataset_Yolov8\\images\\train\\130_jpg.rf.4db702c71fa76f5452458e315e917a01.jpg: 16 duplicate labels removed\n",
      "\u001b[34m\u001b[1mtrain: \u001b[0mWARNING  D:\\Datasets\\riset_infor_dataset\\Car_Damage_Coco_Dataset_Yolov8\\images\\train\\131_jpg.rf.872269a269df95dc0253a04146fbf4ce.jpg: 4 duplicate labels removed\n",
      "\u001b[34m\u001b[1mtrain: \u001b[0mWARNING  D:\\Datasets\\riset_infor_dataset\\Car_Damage_Coco_Dataset_Yolov8\\images\\train\\133_jpg.rf.fce47ea6cad61fcba5bb2171fde4ee3f.jpg: 4 duplicate labels removed\n",
      "\u001b[34m\u001b[1mtrain: \u001b[0mWARNING  D:\\Datasets\\riset_infor_dataset\\Car_Damage_Coco_Dataset_Yolov8\\images\\train\\134_jpg.rf.0b6909be4dc6afb2544a2d805c41b1fb.jpg: 4 duplicate labels removed\n",
      "\u001b[34m\u001b[1mtrain: \u001b[0mWARNING  D:\\Datasets\\riset_infor_dataset\\Car_Damage_Coco_Dataset_Yolov8\\images\\train\\135_jpg.rf.2e2859126d5c107645a88f6e652f9483.jpg: 16 duplicate labels removed\n",
      "\u001b[34m\u001b[1mtrain: \u001b[0mWARNING  D:\\Datasets\\riset_infor_dataset\\Car_Damage_Coco_Dataset_Yolov8\\images\\train\\136_jpg.rf.9df4dbc137a0aebc40daed1eb5e9b102.jpg: 8 duplicate labels removed\n",
      "\u001b[34m\u001b[1mtrain: \u001b[0mWARNING  D:\\Datasets\\riset_infor_dataset\\Car_Damage_Coco_Dataset_Yolov8\\images\\train\\137_jpg.rf.c511288bbca68088f39bde8338109f13.jpg: 8 duplicate labels removed\n",
      "\u001b[34m\u001b[1mtrain: \u001b[0mWARNING  D:\\Datasets\\riset_infor_dataset\\Car_Damage_Coco_Dataset_Yolov8\\images\\train\\138_jpg.rf.91d38449648dfbebac0c80121f0c1ea2.jpg: 8 duplicate labels removed\n",
      "\u001b[34m\u001b[1mtrain: \u001b[0mWARNING  D:\\Datasets\\riset_infor_dataset\\Car_Damage_Coco_Dataset_Yolov8\\images\\train\\139_jpg.rf.3411a2566068539f5709c4655bf87dfa.jpg: 12 duplicate labels removed\n",
      "\u001b[34m\u001b[1mtrain: \u001b[0mWARNING  D:\\Datasets\\riset_infor_dataset\\Car_Damage_Coco_Dataset_Yolov8\\images\\train\\13_jpg.rf.63e30e010d75dd4b5fa7b63f097a8bbf.jpg: 4 duplicate labels removed\n",
      "\u001b[34m\u001b[1mtrain: \u001b[0mWARNING  D:\\Datasets\\riset_infor_dataset\\Car_Damage_Coco_Dataset_Yolov8\\images\\train\\140_jpg.rf.89ecfc5801e9a538399aeb65bdaf11b8.jpg: 12 duplicate labels removed\n",
      "\u001b[34m\u001b[1mtrain: \u001b[0mWARNING  D:\\Datasets\\riset_infor_dataset\\Car_Damage_Coco_Dataset_Yolov8\\images\\train\\141_jpg.rf.e8750f05eb55a7c9b608a99e73227bec.jpg: 12 duplicate labels removed\n",
      "\u001b[34m\u001b[1mtrain: \u001b[0mWARNING  D:\\Datasets\\riset_infor_dataset\\Car_Damage_Coco_Dataset_Yolov8\\images\\train\\142_jpg.rf.6b6320565779d0ddfb0eeb7be00a2059.jpg: 8 duplicate labels removed\n",
      "\u001b[34m\u001b[1mtrain: \u001b[0mWARNING  D:\\Datasets\\riset_infor_dataset\\Car_Damage_Coco_Dataset_Yolov8\\images\\train\\143_jpg.rf.c525b334ead32d1a2d2809ead80ad714.jpg: 4 duplicate labels removed\n",
      "\u001b[34m\u001b[1mtrain: \u001b[0mWARNING  D:\\Datasets\\riset_infor_dataset\\Car_Damage_Coco_Dataset_Yolov8\\images\\train\\144_jpg.rf.72178abd961aa19219983c7ef69dafdc.jpg: 4 duplicate labels removed\n",
      "\u001b[34m\u001b[1mtrain: \u001b[0mWARNING  D:\\Datasets\\riset_infor_dataset\\Car_Damage_Coco_Dataset_Yolov8\\images\\train\\145_jpg.rf.856316bda9bba1589281319ec4b96974.jpg: 4 duplicate labels removed\n",
      "\u001b[34m\u001b[1mtrain: \u001b[0mWARNING  D:\\Datasets\\riset_infor_dataset\\Car_Damage_Coco_Dataset_Yolov8\\images\\train\\146_jpg.rf.eeb8a7e6d2f84831b1964951560747bd.jpg: 4 duplicate labels removed\n",
      "\u001b[34m\u001b[1mtrain: \u001b[0mWARNING  D:\\Datasets\\riset_infor_dataset\\Car_Damage_Coco_Dataset_Yolov8\\images\\train\\147_jpg.rf.01a2e2adfd18705dc6bbd46728d9f16c.jpg: 4 duplicate labels removed\n",
      "\u001b[34m\u001b[1mtrain: \u001b[0mWARNING  D:\\Datasets\\riset_infor_dataset\\Car_Damage_Coco_Dataset_Yolov8\\images\\train\\148_jpg.rf.024dfeb726673bccce7bb6cb5908c69c.jpg: 4 duplicate labels removed\n",
      "\u001b[34m\u001b[1mtrain: \u001b[0mWARNING  D:\\Datasets\\riset_infor_dataset\\Car_Damage_Coco_Dataset_Yolov8\\images\\train\\149_jpg.rf.7c1745bf3b872cc083fd0ad37e6c03dc.jpg: 8 duplicate labels removed\n",
      "\u001b[34m\u001b[1mtrain: \u001b[0mWARNING  D:\\Datasets\\riset_infor_dataset\\Car_Damage_Coco_Dataset_Yolov8\\images\\train\\150_jpg.rf.43f9a102bbeba27bf4f652c7b83940a2.jpg: 4 duplicate labels removed\n",
      "\u001b[34m\u001b[1mtrain: \u001b[0mWARNING  D:\\Datasets\\riset_infor_dataset\\Car_Damage_Coco_Dataset_Yolov8\\images\\train\\151_jpg.rf.5ae4625db934cd1b7d7eab23e1191086.jpg: 8 duplicate labels removed\n",
      "\u001b[34m\u001b[1mtrain: \u001b[0mWARNING  D:\\Datasets\\riset_infor_dataset\\Car_Damage_Coco_Dataset_Yolov8\\images\\train\\152_jpg.rf.0f08c4781e20be30883da49e35d5c524.jpg: 4 duplicate labels removed\n",
      "\u001b[34m\u001b[1mtrain: \u001b[0mWARNING  D:\\Datasets\\riset_infor_dataset\\Car_Damage_Coco_Dataset_Yolov8\\images\\train\\153_jpg.rf.293944043be2306b68716c0d16aaa768.jpg: 4 duplicate labels removed\n",
      "\u001b[34m\u001b[1mtrain: \u001b[0mWARNING  D:\\Datasets\\riset_infor_dataset\\Car_Damage_Coco_Dataset_Yolov8\\images\\train\\154_jpg.rf.2e1dd26efd9d31a3587fedbb6ab15ca4.jpg: 4 duplicate labels removed\n",
      "\u001b[34m\u001b[1mtrain: \u001b[0mWARNING  D:\\Datasets\\riset_infor_dataset\\Car_Damage_Coco_Dataset_Yolov8\\images\\train\\155_jpg.rf.06593f538171c239122303ed08a56d3b.jpg: 4 duplicate labels removed\n",
      "\u001b[34m\u001b[1mtrain: \u001b[0mWARNING  D:\\Datasets\\riset_infor_dataset\\Car_Damage_Coco_Dataset_Yolov8\\images\\train\\156_jpg.rf.6a45cfff77a7c455b532197189e35e95.jpg: 4 duplicate labels removed\n",
      "\u001b[34m\u001b[1mtrain: \u001b[0mWARNING  D:\\Datasets\\riset_infor_dataset\\Car_Damage_Coco_Dataset_Yolov8\\images\\train\\157_jpg.rf.0db163590c09971c4e3f1d6931062fb1.jpg: 4 duplicate labels removed\n",
      "\u001b[34m\u001b[1mtrain: \u001b[0mWARNING  D:\\Datasets\\riset_infor_dataset\\Car_Damage_Coco_Dataset_Yolov8\\images\\train\\158_jpg.rf.f2172a52cbf4d71316d461e39e51579d.jpg: 4 duplicate labels removed\n",
      "\u001b[34m\u001b[1mtrain: \u001b[0mWARNING  D:\\Datasets\\riset_infor_dataset\\Car_Damage_Coco_Dataset_Yolov8\\images\\train\\159_jpg.rf.5d22d5b4b7394cc164e160c8fc9945a4.jpg: 4 duplicate labels removed\n",
      "\u001b[34m\u001b[1mtrain: \u001b[0mWARNING  D:\\Datasets\\riset_infor_dataset\\Car_Damage_Coco_Dataset_Yolov8\\images\\train\\161_jpg.rf.de386ae25cae7636787cc37a96184cb1.jpg: 8 duplicate labels removed\n",
      "\u001b[34m\u001b[1mtrain: \u001b[0mWARNING  D:\\Datasets\\riset_infor_dataset\\Car_Damage_Coco_Dataset_Yolov8\\images\\train\\163_jpg.rf.addcd22981887ae40621bc45dba2f89b.jpg: 12 duplicate labels removed\n",
      "\u001b[34m\u001b[1mtrain: \u001b[0mWARNING  D:\\Datasets\\riset_infor_dataset\\Car_Damage_Coco_Dataset_Yolov8\\images\\train\\164_jpg.rf.9167f5d61033630c737140ec94097a8e.jpg: 12 duplicate labels removed\n",
      "\u001b[34m\u001b[1mtrain: \u001b[0mWARNING  D:\\Datasets\\riset_infor_dataset\\Car_Damage_Coco_Dataset_Yolov8\\images\\train\\165_jpg.rf.6c060d151662387cd9acc6771ebf9d94.jpg: 12 duplicate labels removed\n",
      "\u001b[34m\u001b[1mtrain: \u001b[0mWARNING  D:\\Datasets\\riset_infor_dataset\\Car_Damage_Coco_Dataset_Yolov8\\images\\train\\166_jpg.rf.9714a20f10032ae9a6663e5755ba126d.jpg: 4 duplicate labels removed\n",
      "\u001b[34m\u001b[1mtrain: \u001b[0mWARNING  D:\\Datasets\\riset_infor_dataset\\Car_Damage_Coco_Dataset_Yolov8\\images\\train\\167_jpg.rf.dd3587eb8fd00c694bf14a244212b256.jpg: 4 duplicate labels removed\n",
      "\u001b[34m\u001b[1mtrain: \u001b[0mWARNING  D:\\Datasets\\riset_infor_dataset\\Car_Damage_Coco_Dataset_Yolov8\\images\\train\\168_jpg.rf.f882026ec86b26edce6c82ca817f9765.jpg: 12 duplicate labels removed\n",
      "\u001b[34m\u001b[1mtrain: \u001b[0mWARNING  D:\\Datasets\\riset_infor_dataset\\Car_Damage_Coco_Dataset_Yolov8\\images\\train\\16_jpg.rf.89a6385232f0341fc635163832138342.jpg: 8 duplicate labels removed\n",
      "\u001b[34m\u001b[1mtrain: \u001b[0mWARNING  D:\\Datasets\\riset_infor_dataset\\Car_Damage_Coco_Dataset_Yolov8\\images\\train\\17_jpg.rf.08c9901281feeff0c0bdd1bf87ffc5e7.jpg: 4 duplicate labels removed\n",
      "\u001b[34m\u001b[1mtrain: \u001b[0mWARNING  D:\\Datasets\\riset_infor_dataset\\Car_Damage_Coco_Dataset_Yolov8\\images\\train\\18_jpg.rf.88ca886b565b2644785fa9535d5f51bb.jpg: 8 duplicate labels removed\n",
      "\u001b[34m\u001b[1mtrain: \u001b[0mWARNING  D:\\Datasets\\riset_infor_dataset\\Car_Damage_Coco_Dataset_Yolov8\\images\\train\\1_jpg.rf.44b84c4310969328b2748d7dddfa3563.jpg: 8 duplicate labels removed\n",
      "\u001b[34m\u001b[1mtrain: \u001b[0mWARNING  D:\\Datasets\\riset_infor_dataset\\Car_Damage_Coco_Dataset_Yolov8\\images\\train\\20_jpg.rf.797031c450b7052e351de17bc626a5f2.jpg: 8 duplicate labels removed\n",
      "\u001b[34m\u001b[1mtrain: \u001b[0mWARNING  D:\\Datasets\\riset_infor_dataset\\Car_Damage_Coco_Dataset_Yolov8\\images\\train\\21_jpg.rf.3bc5b268a84d1037bef5b5cc12b79edf.jpg: 4 duplicate labels removed\n",
      "\u001b[34m\u001b[1mtrain: \u001b[0mWARNING  D:\\Datasets\\riset_infor_dataset\\Car_Damage_Coco_Dataset_Yolov8\\images\\train\\22_jpg.rf.60a36fae484d81b8c9a2a63acf56c2dc.jpg: 4 duplicate labels removed\n",
      "\u001b[34m\u001b[1mtrain: \u001b[0mWARNING  D:\\Datasets\\riset_infor_dataset\\Car_Damage_Coco_Dataset_Yolov8\\images\\train\\23_jpg.rf.0b1f03b5209c19b31940783e272ac265.jpg: 4 duplicate labels removed\n",
      "\u001b[34m\u001b[1mtrain: \u001b[0mWARNING  D:\\Datasets\\riset_infor_dataset\\Car_Damage_Coco_Dataset_Yolov8\\images\\train\\25_jpg.rf.1725e7df409c973fbb51ad04aff5e121.jpg: 4 duplicate labels removed\n",
      "\u001b[34m\u001b[1mtrain: \u001b[0mWARNING  D:\\Datasets\\riset_infor_dataset\\Car_Damage_Coco_Dataset_Yolov8\\images\\train\\26_jpg.rf.bc0db0fd28240cbd71a80810ce87d707.jpg: 4 duplicate labels removed\n",
      "\u001b[34m\u001b[1mtrain: \u001b[0mWARNING  D:\\Datasets\\riset_infor_dataset\\Car_Damage_Coco_Dataset_Yolov8\\images\\train\\27_jpg.rf.6f51c37d3d4304ab0e31fec0e64bacc2.jpg: 4 duplicate labels removed\n",
      "\u001b[34m\u001b[1mtrain: \u001b[0mWARNING  D:\\Datasets\\riset_infor_dataset\\Car_Damage_Coco_Dataset_Yolov8\\images\\train\\28_jpg.rf.1c1d6dea01c7a2d45097d3292d92dfa0.jpg: 4 duplicate labels removed\n",
      "\u001b[34m\u001b[1mtrain: \u001b[0mWARNING  D:\\Datasets\\riset_infor_dataset\\Car_Damage_Coco_Dataset_Yolov8\\images\\train\\29_jpg.rf.7a4756a1c82db3b86e3e808914bf96d8.jpg: 4 duplicate labels removed\n",
      "\u001b[34m\u001b[1mtrain: \u001b[0mWARNING  D:\\Datasets\\riset_infor_dataset\\Car_Damage_Coco_Dataset_Yolov8\\images\\train\\2_jpg.rf.363414e5709aaac80cd11823d111f50b.jpg: 4 duplicate labels removed\n",
      "\u001b[34m\u001b[1mtrain: \u001b[0mWARNING  D:\\Datasets\\riset_infor_dataset\\Car_Damage_Coco_Dataset_Yolov8\\images\\train\\30_jpg.rf.844d0dde3d8c2c89d530545517f3a685.jpg: 4 duplicate labels removed\n",
      "\u001b[34m\u001b[1mtrain: \u001b[0mWARNING  D:\\Datasets\\riset_infor_dataset\\Car_Damage_Coco_Dataset_Yolov8\\images\\train\\31_jpg.rf.b6ef64f234ec6c489e79701160579e89.jpg: 4 duplicate labels removed\n",
      "\u001b[34m\u001b[1mtrain: \u001b[0mWARNING  D:\\Datasets\\riset_infor_dataset\\Car_Damage_Coco_Dataset_Yolov8\\images\\train\\32_jpg.rf.7209a628a4138b453e3547640942eef7.jpg: 4 duplicate labels removed\n",
      "\u001b[34m\u001b[1mtrain: \u001b[0mWARNING  D:\\Datasets\\riset_infor_dataset\\Car_Damage_Coco_Dataset_Yolov8\\images\\train\\33_jpg.rf.e29f3294fe75b8af321c13261769fa6a.jpg: 4 duplicate labels removed\n",
      "\u001b[34m\u001b[1mtrain: \u001b[0mWARNING  D:\\Datasets\\riset_infor_dataset\\Car_Damage_Coco_Dataset_Yolov8\\images\\train\\34_jpg.rf.d7c34a22c88ccb6eb91857dc4b97e5ca.jpg: 4 duplicate labels removed\n",
      "\u001b[34m\u001b[1mtrain: \u001b[0mWARNING  D:\\Datasets\\riset_infor_dataset\\Car_Damage_Coco_Dataset_Yolov8\\images\\train\\36_jpg.rf.b493c5234d673312650edbc937413697.jpg: 4 duplicate labels removed\n",
      "\u001b[34m\u001b[1mtrain: \u001b[0mWARNING  D:\\Datasets\\riset_infor_dataset\\Car_Damage_Coco_Dataset_Yolov8\\images\\train\\37_jpg.rf.436ea7c03d1f51692fb9bef0eee4dfab.jpg: 4 duplicate labels removed\n",
      "\u001b[34m\u001b[1mtrain: \u001b[0mWARNING  D:\\Datasets\\riset_infor_dataset\\Car_Damage_Coco_Dataset_Yolov8\\images\\train\\39_jpg.rf.16c67a1e8e4133c0f4c75c87811fbb41.jpg: 8 duplicate labels removed\n",
      "\u001b[34m\u001b[1mtrain: \u001b[0mWARNING  D:\\Datasets\\riset_infor_dataset\\Car_Damage_Coco_Dataset_Yolov8\\images\\train\\3_jpg.rf.be9a65130496285c7ea6d19ac494902a.jpg: 4 duplicate labels removed\n",
      "\u001b[34m\u001b[1mtrain: \u001b[0mWARNING  D:\\Datasets\\riset_infor_dataset\\Car_Damage_Coco_Dataset_Yolov8\\images\\train\\41_jpg.rf.a5c8c7779274b1c5708a1bdd73ee3c40.jpg: 8 duplicate labels removed\n",
      "\u001b[34m\u001b[1mtrain: \u001b[0mWARNING  D:\\Datasets\\riset_infor_dataset\\Car_Damage_Coco_Dataset_Yolov8\\images\\train\\43_jpg.rf.5e1fb4aa4253513154c8e7799e0b468e.jpg: 4 duplicate labels removed\n",
      "\u001b[34m\u001b[1mtrain: \u001b[0mWARNING  D:\\Datasets\\riset_infor_dataset\\Car_Damage_Coco_Dataset_Yolov8\\images\\train\\44_jpg.rf.618e301b18a98fd7324ba166c83590a9.jpg: 4 duplicate labels removed\n",
      "\u001b[34m\u001b[1mtrain: \u001b[0mWARNING  D:\\Datasets\\riset_infor_dataset\\Car_Damage_Coco_Dataset_Yolov8\\images\\train\\45_jpg.rf.9dbdea3de7e00e21f8f09a2ad0f2a6ee.jpg: 4 duplicate labels removed\n",
      "\u001b[34m\u001b[1mtrain: \u001b[0mWARNING  D:\\Datasets\\riset_infor_dataset\\Car_Damage_Coco_Dataset_Yolov8\\images\\train\\46_jpg.rf.92f270ddefcaccb8eba9b6d32a83ff20.jpg: 4 duplicate labels removed\n",
      "\u001b[34m\u001b[1mtrain: \u001b[0mWARNING  D:\\Datasets\\riset_infor_dataset\\Car_Damage_Coco_Dataset_Yolov8\\images\\train\\47_jpg.rf.247b60843f246cdffe3a2eda0c921b28.jpg: 8 duplicate labels removed\n",
      "\u001b[34m\u001b[1mtrain: \u001b[0mWARNING  D:\\Datasets\\riset_infor_dataset\\Car_Damage_Coco_Dataset_Yolov8\\images\\train\\48_jpg.rf.2c6be70344a0d3ea0942ee0f8057a89d.jpg: 4 duplicate labels removed\n",
      "\u001b[34m\u001b[1mtrain: \u001b[0mWARNING  D:\\Datasets\\riset_infor_dataset\\Car_Damage_Coco_Dataset_Yolov8\\images\\train\\49_jpg.rf.ad30a312e6f1ce08d0b22853c5a3aac7.jpg: 4 duplicate labels removed\n",
      "\u001b[34m\u001b[1mtrain: \u001b[0mWARNING  D:\\Datasets\\riset_infor_dataset\\Car_Damage_Coco_Dataset_Yolov8\\images\\train\\4_jpg.rf.b4346c6c8f0d0d55623203e569079ff4.jpg: 8 duplicate labels removed\n",
      "\u001b[34m\u001b[1mtrain: \u001b[0mWARNING  D:\\Datasets\\riset_infor_dataset\\Car_Damage_Coco_Dataset_Yolov8\\images\\train\\50_jpg.rf.07e31c4ca7c8d5060c094d9fcc6c6ed5.jpg: 4 duplicate labels removed\n",
      "\u001b[34m\u001b[1mtrain: \u001b[0mWARNING  D:\\Datasets\\riset_infor_dataset\\Car_Damage_Coco_Dataset_Yolov8\\images\\train\\52_jpg.rf.f27bce3526bae273b01d69d984ce426e.jpg: 4 duplicate labels removed\n",
      "\u001b[34m\u001b[1mtrain: \u001b[0mWARNING  D:\\Datasets\\riset_infor_dataset\\Car_Damage_Coco_Dataset_Yolov8\\images\\train\\53_jpg.rf.d6361e1659efa8edf5776d8fd2eaaece.jpg: 4 duplicate labels removed\n",
      "\u001b[34m\u001b[1mtrain: \u001b[0mWARNING  D:\\Datasets\\riset_infor_dataset\\Car_Damage_Coco_Dataset_Yolov8\\images\\train\\54_jpg.rf.82a4fcd12692adcc8e4e9a5932455742.jpg: 4 duplicate labels removed\n",
      "\u001b[34m\u001b[1mtrain: \u001b[0mWARNING  D:\\Datasets\\riset_infor_dataset\\Car_Damage_Coco_Dataset_Yolov8\\images\\train\\55_jpg.rf.069e1682f2d857cca78eeae1bdc338da.jpg: 4 duplicate labels removed\n",
      "\u001b[34m\u001b[1mtrain: \u001b[0mWARNING  D:\\Datasets\\riset_infor_dataset\\Car_Damage_Coco_Dataset_Yolov8\\images\\train\\56_jpg.rf.6f93fc6b2b2494b826adc7b88a847371.jpg: 4 duplicate labels removed\n",
      "\u001b[34m\u001b[1mtrain: \u001b[0mWARNING  D:\\Datasets\\riset_infor_dataset\\Car_Damage_Coco_Dataset_Yolov8\\images\\train\\57_jpg.rf.10e9d99c1ec7ea481390cedadd0e9bf9.jpg: 4 duplicate labels removed\n",
      "\u001b[34m\u001b[1mtrain: \u001b[0mWARNING  D:\\Datasets\\riset_infor_dataset\\Car_Damage_Coco_Dataset_Yolov8\\images\\train\\58_jpg.rf.fa2e618aad259ab5e19f0303272a4c0a.jpg: 4 duplicate labels removed\n",
      "\u001b[34m\u001b[1mtrain: \u001b[0mWARNING  D:\\Datasets\\riset_infor_dataset\\Car_Damage_Coco_Dataset_Yolov8\\images\\train\\5_jpg.rf.37a6f7cc0e0ec7ba8f63275ab9cb3281.jpg: 4 duplicate labels removed\n",
      "\u001b[34m\u001b[1mtrain: \u001b[0mWARNING  D:\\Datasets\\riset_infor_dataset\\Car_Damage_Coco_Dataset_Yolov8\\images\\train\\60_jpg.rf.ec8a2a4df42ef7993b6aa9da3d3d861a.jpg: 4 duplicate labels removed\n",
      "\u001b[34m\u001b[1mtrain: \u001b[0mWARNING  D:\\Datasets\\riset_infor_dataset\\Car_Damage_Coco_Dataset_Yolov8\\images\\train\\61_jpg.rf.3f79f7f4ee2e0fa29b8e2b570cbfa6bb.jpg: 4 duplicate labels removed\n",
      "\u001b[34m\u001b[1mtrain: \u001b[0mWARNING  D:\\Datasets\\riset_infor_dataset\\Car_Damage_Coco_Dataset_Yolov8\\images\\train\\62_jpg.rf.a178f2ba1a4089301d0c62c24f86414b.jpg: 8 duplicate labels removed\n",
      "\u001b[34m\u001b[1mtrain: \u001b[0mWARNING  D:\\Datasets\\riset_infor_dataset\\Car_Damage_Coco_Dataset_Yolov8\\images\\train\\63_jpg.rf.0fc41e4fabeb56baa70d433669889122.jpg: 4 duplicate labels removed\n",
      "\u001b[34m\u001b[1mtrain: \u001b[0mWARNING  D:\\Datasets\\riset_infor_dataset\\Car_Damage_Coco_Dataset_Yolov8\\images\\train\\64_jpg.rf.142cef4deabdbab73b4ebec3d243bba4.jpg: 4 duplicate labels removed\n",
      "\u001b[34m\u001b[1mtrain: \u001b[0mWARNING  D:\\Datasets\\riset_infor_dataset\\Car_Damage_Coco_Dataset_Yolov8\\images\\train\\65_jpg.rf.0772506d4f6c8efd6fdc3169663b9be1.jpg: 8 duplicate labels removed\n",
      "\u001b[34m\u001b[1mtrain: \u001b[0mWARNING  D:\\Datasets\\riset_infor_dataset\\Car_Damage_Coco_Dataset_Yolov8\\images\\train\\66_jpg.rf.b66dffdae8df15291185c432a4e157ff.jpg: 8 duplicate labels removed\n",
      "\u001b[34m\u001b[1mtrain: \u001b[0mWARNING  D:\\Datasets\\riset_infor_dataset\\Car_Damage_Coco_Dataset_Yolov8\\images\\train\\67_jpg.rf.7d92f285ce2fb8d7b2fa9dfcdffcebce.jpg: 4 duplicate labels removed\n",
      "\u001b[34m\u001b[1mtrain: \u001b[0mWARNING  D:\\Datasets\\riset_infor_dataset\\Car_Damage_Coco_Dataset_Yolov8\\images\\train\\68_jpg.rf.4938acdb84faf0628d56e70977cf4f4a.jpg: 8 duplicate labels removed\n",
      "\u001b[34m\u001b[1mtrain: \u001b[0mWARNING  D:\\Datasets\\riset_infor_dataset\\Car_Damage_Coco_Dataset_Yolov8\\images\\train\\6_jpg.rf.cf57201cf293be3a751890f8d193fea6.jpg: 4 duplicate labels removed\n",
      "\u001b[34m\u001b[1mtrain: \u001b[0mWARNING  D:\\Datasets\\riset_infor_dataset\\Car_Damage_Coco_Dataset_Yolov8\\images\\train\\71_jpg.rf.4bd84990f2956862b677475de8b72157.jpg: 4 duplicate labels removed\n",
      "\u001b[34m\u001b[1mtrain: \u001b[0mWARNING  D:\\Datasets\\riset_infor_dataset\\Car_Damage_Coco_Dataset_Yolov8\\images\\train\\72_jpg.rf.2698468dde169562e14e762cfac048cc.jpg: 4 duplicate labels removed\n",
      "\u001b[34m\u001b[1mtrain: \u001b[0mWARNING  D:\\Datasets\\riset_infor_dataset\\Car_Damage_Coco_Dataset_Yolov8\\images\\train\\73_jpg.rf.adca4dc11239a13df94a10e62a3c7c98.jpg: 8 duplicate labels removed\n",
      "\u001b[34m\u001b[1mtrain: \u001b[0mWARNING  D:\\Datasets\\riset_infor_dataset\\Car_Damage_Coco_Dataset_Yolov8\\images\\train\\74_jpg.rf.e5f447bdf888f06060cc8e6d09f9cc53.jpg: 4 duplicate labels removed\n",
      "\u001b[34m\u001b[1mtrain: \u001b[0mWARNING  D:\\Datasets\\riset_infor_dataset\\Car_Damage_Coco_Dataset_Yolov8\\images\\train\\75_jpg.rf.705274ec039e8e4b89ba593a0f8f32c6.jpg: 4 duplicate labels removed\n",
      "\u001b[34m\u001b[1mtrain: \u001b[0mWARNING  D:\\Datasets\\riset_infor_dataset\\Car_Damage_Coco_Dataset_Yolov8\\images\\train\\76_jpg.rf.840d8688ea7f745e48730c31e7ced9df.jpg: 24 duplicate labels removed\n",
      "\u001b[34m\u001b[1mtrain: \u001b[0mWARNING  D:\\Datasets\\riset_infor_dataset\\Car_Damage_Coco_Dataset_Yolov8\\images\\train\\77_jpg.rf.04f75c4d78a7077e056492d08e1a2f73.jpg: 4 duplicate labels removed\n",
      "\u001b[34m\u001b[1mtrain: \u001b[0mWARNING  D:\\Datasets\\riset_infor_dataset\\Car_Damage_Coco_Dataset_Yolov8\\images\\train\\78_jpg.rf.404c7d0950b88df463ab8ad92c7182e4.jpg: 4 duplicate labels removed\n",
      "\u001b[34m\u001b[1mtrain: \u001b[0mWARNING  D:\\Datasets\\riset_infor_dataset\\Car_Damage_Coco_Dataset_Yolov8\\images\\train\\79_jpg.rf.4adf2e78ab3e7b1e46df841f790b7ddb.jpg: 4 duplicate labels removed\n",
      "\u001b[34m\u001b[1mtrain: \u001b[0mWARNING  D:\\Datasets\\riset_infor_dataset\\Car_Damage_Coco_Dataset_Yolov8\\images\\train\\80_jpg.rf.c213cd21b108f5005d05e6ce56187214.jpg: 8 duplicate labels removed\n",
      "\u001b[34m\u001b[1mtrain: \u001b[0mWARNING  D:\\Datasets\\riset_infor_dataset\\Car_Damage_Coco_Dataset_Yolov8\\images\\train\\82_jpg.rf.b5c4610f73235de427460c439056936d.jpg: 4 duplicate labels removed\n",
      "\u001b[34m\u001b[1mtrain: \u001b[0mWARNING  D:\\Datasets\\riset_infor_dataset\\Car_Damage_Coco_Dataset_Yolov8\\images\\train\\83_jpg.rf.807d376f9aca68b5bbc6292e048f0d95.jpg: 4 duplicate labels removed\n",
      "\u001b[34m\u001b[1mtrain: \u001b[0mWARNING  D:\\Datasets\\riset_infor_dataset\\Car_Damage_Coco_Dataset_Yolov8\\images\\train\\84_jpg.rf.129b147d021913ee001f6bf58e3dbc6e.jpg: 4 duplicate labels removed\n",
      "\u001b[34m\u001b[1mtrain: \u001b[0mWARNING  D:\\Datasets\\riset_infor_dataset\\Car_Damage_Coco_Dataset_Yolov8\\images\\train\\85_jpg.rf.44c1323a4c429c098ff46ed3076f292b.jpg: 4 duplicate labels removed\n",
      "\u001b[34m\u001b[1mtrain: \u001b[0mWARNING  D:\\Datasets\\riset_infor_dataset\\Car_Damage_Coco_Dataset_Yolov8\\images\\train\\86_jpg.rf.47101afd00abcd329dac411936660297.jpg: 4 duplicate labels removed\n",
      "\u001b[34m\u001b[1mtrain: \u001b[0mWARNING  D:\\Datasets\\riset_infor_dataset\\Car_Damage_Coco_Dataset_Yolov8\\images\\train\\87_jpg.rf.3099920de14465739a425f2bf1411ae7.jpg: 4 duplicate labels removed\n",
      "\u001b[34m\u001b[1mtrain: \u001b[0mWARNING  D:\\Datasets\\riset_infor_dataset\\Car_Damage_Coco_Dataset_Yolov8\\images\\train\\88_jpg.rf.2e3029af583843567cc1bb10fd7b8153.jpg: 4 duplicate labels removed\n",
      "\u001b[34m\u001b[1mtrain: \u001b[0mWARNING  D:\\Datasets\\riset_infor_dataset\\Car_Damage_Coco_Dataset_Yolov8\\images\\train\\89_jpg.rf.f622f66cc750e5e6fadcb8f515a3c083.jpg: 4 duplicate labels removed\n",
      "\u001b[34m\u001b[1mtrain: \u001b[0mWARNING  D:\\Datasets\\riset_infor_dataset\\Car_Damage_Coco_Dataset_Yolov8\\images\\train\\8_jpg.rf.94e64f81b9884171c406b283b98f53df.jpg: 4 duplicate labels removed\n",
      "\u001b[34m\u001b[1mtrain: \u001b[0mWARNING  D:\\Datasets\\riset_infor_dataset\\Car_Damage_Coco_Dataset_Yolov8\\images\\train\\90_jpg.rf.672330b99bd24457059e8b69e17726ef.jpg: 4 duplicate labels removed\n",
      "\u001b[34m\u001b[1mtrain: \u001b[0mWARNING  D:\\Datasets\\riset_infor_dataset\\Car_Damage_Coco_Dataset_Yolov8\\images\\train\\91_jpg.rf.0248314f766792cd1f11209169e47b19.jpg: 4 duplicate labels removed\n",
      "\u001b[34m\u001b[1mtrain: \u001b[0mWARNING  D:\\Datasets\\riset_infor_dataset\\Car_Damage_Coco_Dataset_Yolov8\\images\\train\\92_jpg.rf.ca8bc8e8d25dcd32481fb9c800514041.jpg: 12 duplicate labels removed\n",
      "\u001b[34m\u001b[1mtrain: \u001b[0mWARNING  D:\\Datasets\\riset_infor_dataset\\Car_Damage_Coco_Dataset_Yolov8\\images\\train\\96_jpg.rf.9dd5d761d072bb9ebdae03f01251cdc6.jpg: 4 duplicate labels removed\n",
      "\u001b[34m\u001b[1mtrain: \u001b[0mWARNING  D:\\Datasets\\riset_infor_dataset\\Car_Damage_Coco_Dataset_Yolov8\\images\\train\\97_jpg.rf.fba78de5547e952327f92a41bc91c354.jpg: 12 duplicate labels removed\n",
      "\u001b[34m\u001b[1mtrain: \u001b[0mWARNING  D:\\Datasets\\riset_infor_dataset\\Car_Damage_Coco_Dataset_Yolov8\\images\\train\\98_jpg.rf.2382cecbf0a3c6741c8dfadc27e97adb.jpg: 4 duplicate labels removed\n",
      "\u001b[34m\u001b[1mtrain: \u001b[0mWARNING  D:\\Datasets\\riset_infor_dataset\\Car_Damage_Coco_Dataset_Yolov8\\images\\train\\99_jpg.rf.f79a73c888ef26caeaa549fbdefc5b50.jpg: 12 duplicate labels removed\n",
      "\u001b[34m\u001b[1mtrain: \u001b[0mWARNING  D:\\Datasets\\riset_infor_dataset\\Car_Damage_Coco_Dataset_Yolov8\\images\\train\\9_jpg.rf.da11f23d285747fa6a45f58d9af64250.jpg: 8 duplicate labels removed\n",
      "\u001b[34m\u001b[1mtrain: \u001b[0mWARNING  D:\\Datasets\\riset_infor_dataset\\Car_Damage_Coco_Dataset_Yolov8\\images\\train\\akhand_b43_0.jpg: 4 duplicate labels removed\n",
      "\u001b[34m\u001b[1mtrain: \u001b[0mWARNING  D:\\Datasets\\riset_infor_dataset\\Car_Damage_Coco_Dataset_Yolov8\\images\\train\\akhand_b43_1.jpg: 4 duplicate labels removed\n",
      "\u001b[34m\u001b[1mtrain: \u001b[0mWARNING  D:\\Datasets\\riset_infor_dataset\\Car_Damage_Coco_Dataset_Yolov8\\images\\train\\akhand_b43_10.jpg: 4 duplicate labels removed\n",
      "\u001b[34m\u001b[1mtrain: \u001b[0mWARNING  D:\\Datasets\\riset_infor_dataset\\Car_Damage_Coco_Dataset_Yolov8\\images\\train\\akhand_b43_101.jpg: 8 duplicate labels removed\n",
      "\u001b[34m\u001b[1mtrain: \u001b[0mWARNING  D:\\Datasets\\riset_infor_dataset\\Car_Damage_Coco_Dataset_Yolov8\\images\\train\\akhand_b43_103.jpg: 8 duplicate labels removed\n",
      "\u001b[34m\u001b[1mtrain: \u001b[0mWARNING  D:\\Datasets\\riset_infor_dataset\\Car_Damage_Coco_Dataset_Yolov8\\images\\train\\akhand_b43_104.jpg: 20 duplicate labels removed\n",
      "\u001b[34m\u001b[1mtrain: \u001b[0mWARNING  D:\\Datasets\\riset_infor_dataset\\Car_Damage_Coco_Dataset_Yolov8\\images\\train\\akhand_b43_107.jpg: 4 duplicate labels removed\n",
      "\u001b[34m\u001b[1mtrain: \u001b[0mWARNING  D:\\Datasets\\riset_infor_dataset\\Car_Damage_Coco_Dataset_Yolov8\\images\\train\\akhand_b43_108.jpg: 8 duplicate labels removed\n",
      "\u001b[34m\u001b[1mtrain: \u001b[0mWARNING  D:\\Datasets\\riset_infor_dataset\\Car_Damage_Coco_Dataset_Yolov8\\images\\train\\akhand_b43_11.jpg: 16 duplicate labels removed\n",
      "\u001b[34m\u001b[1mtrain: \u001b[0mWARNING  D:\\Datasets\\riset_infor_dataset\\Car_Damage_Coco_Dataset_Yolov8\\images\\train\\akhand_b43_110.jpg: 12 duplicate labels removed\n",
      "\u001b[34m\u001b[1mtrain: \u001b[0mWARNING  D:\\Datasets\\riset_infor_dataset\\Car_Damage_Coco_Dataset_Yolov8\\images\\train\\akhand_b43_111.jpg: 4 duplicate labels removed\n",
      "\u001b[34m\u001b[1mtrain: \u001b[0mWARNING  D:\\Datasets\\riset_infor_dataset\\Car_Damage_Coco_Dataset_Yolov8\\images\\train\\akhand_b43_113.jpg: 4 duplicate labels removed\n",
      "\u001b[34m\u001b[1mtrain: \u001b[0mWARNING  D:\\Datasets\\riset_infor_dataset\\Car_Damage_Coco_Dataset_Yolov8\\images\\train\\akhand_b43_114.jpg: 4 duplicate labels removed\n",
      "\u001b[34m\u001b[1mtrain: \u001b[0mWARNING  D:\\Datasets\\riset_infor_dataset\\Car_Damage_Coco_Dataset_Yolov8\\images\\train\\akhand_b43_115.jpg: 8 duplicate labels removed\n",
      "\u001b[34m\u001b[1mtrain: \u001b[0mWARNING  D:\\Datasets\\riset_infor_dataset\\Car_Damage_Coco_Dataset_Yolov8\\images\\train\\akhand_b43_116.jpg: 4 duplicate labels removed\n",
      "\u001b[34m\u001b[1mtrain: \u001b[0mWARNING  D:\\Datasets\\riset_infor_dataset\\Car_Damage_Coco_Dataset_Yolov8\\images\\train\\akhand_b43_117.jpg: 4 duplicate labels removed\n",
      "\u001b[34m\u001b[1mtrain: \u001b[0mWARNING  D:\\Datasets\\riset_infor_dataset\\Car_Damage_Coco_Dataset_Yolov8\\images\\train\\akhand_b43_118.jpg: 4 duplicate labels removed\n",
      "\u001b[34m\u001b[1mtrain: \u001b[0mWARNING  D:\\Datasets\\riset_infor_dataset\\Car_Damage_Coco_Dataset_Yolov8\\images\\train\\akhand_b43_119.jpg: 4 duplicate labels removed\n",
      "\u001b[34m\u001b[1mtrain: \u001b[0mWARNING  D:\\Datasets\\riset_infor_dataset\\Car_Damage_Coco_Dataset_Yolov8\\images\\train\\akhand_b43_121.jpg: 4 duplicate labels removed\n",
      "\u001b[34m\u001b[1mtrain: \u001b[0mWARNING  D:\\Datasets\\riset_infor_dataset\\Car_Damage_Coco_Dataset_Yolov8\\images\\train\\akhand_b43_122.jpg: 12 duplicate labels removed\n",
      "\u001b[34m\u001b[1mtrain: \u001b[0mWARNING  D:\\Datasets\\riset_infor_dataset\\Car_Damage_Coco_Dataset_Yolov8\\images\\train\\akhand_b43_123.jpg: 8 duplicate labels removed\n",
      "\u001b[34m\u001b[1mtrain: \u001b[0mWARNING  D:\\Datasets\\riset_infor_dataset\\Car_Damage_Coco_Dataset_Yolov8\\images\\train\\akhand_b43_125.jpg: 4 duplicate labels removed\n",
      "\u001b[34m\u001b[1mtrain: \u001b[0mWARNING  D:\\Datasets\\riset_infor_dataset\\Car_Damage_Coco_Dataset_Yolov8\\images\\train\\akhand_b43_126.jpg: 4 duplicate labels removed\n",
      "\u001b[34m\u001b[1mtrain: \u001b[0mWARNING  D:\\Datasets\\riset_infor_dataset\\Car_Damage_Coco_Dataset_Yolov8\\images\\train\\akhand_b43_127.jpg: 4 duplicate labels removed\n",
      "\u001b[34m\u001b[1mtrain: \u001b[0mWARNING  D:\\Datasets\\riset_infor_dataset\\Car_Damage_Coco_Dataset_Yolov8\\images\\train\\akhand_b43_13.jpg: 4 duplicate labels removed\n",
      "\u001b[34m\u001b[1mtrain: \u001b[0mWARNING  D:\\Datasets\\riset_infor_dataset\\Car_Damage_Coco_Dataset_Yolov8\\images\\train\\akhand_b43_132.jpg: 12 duplicate labels removed\n",
      "\u001b[34m\u001b[1mtrain: \u001b[0mWARNING  D:\\Datasets\\riset_infor_dataset\\Car_Damage_Coco_Dataset_Yolov8\\images\\train\\akhand_b43_133.jpg: 4 duplicate labels removed\n",
      "\u001b[34m\u001b[1mtrain: \u001b[0mWARNING  D:\\Datasets\\riset_infor_dataset\\Car_Damage_Coco_Dataset_Yolov8\\images\\train\\akhand_b43_134.jpg: 4 duplicate labels removed\n",
      "\u001b[34m\u001b[1mtrain: \u001b[0mWARNING  D:\\Datasets\\riset_infor_dataset\\Car_Damage_Coco_Dataset_Yolov8\\images\\train\\akhand_b43_135.jpg: 4 duplicate labels removed\n",
      "\u001b[34m\u001b[1mtrain: \u001b[0mWARNING  D:\\Datasets\\riset_infor_dataset\\Car_Damage_Coco_Dataset_Yolov8\\images\\train\\akhand_b43_138.jpg: 4 duplicate labels removed\n",
      "\u001b[34m\u001b[1mtrain: \u001b[0mWARNING  D:\\Datasets\\riset_infor_dataset\\Car_Damage_Coco_Dataset_Yolov8\\images\\train\\akhand_b43_139.jpg: 4 duplicate labels removed\n",
      "\u001b[34m\u001b[1mtrain: \u001b[0mWARNING  D:\\Datasets\\riset_infor_dataset\\Car_Damage_Coco_Dataset_Yolov8\\images\\train\\akhand_b43_140.jpg: 4 duplicate labels removed\n",
      "\u001b[34m\u001b[1mtrain: \u001b[0mWARNING  D:\\Datasets\\riset_infor_dataset\\Car_Damage_Coco_Dataset_Yolov8\\images\\train\\akhand_b43_141.jpg: 8 duplicate labels removed\n",
      "\u001b[34m\u001b[1mtrain: \u001b[0mWARNING  D:\\Datasets\\riset_infor_dataset\\Car_Damage_Coco_Dataset_Yolov8\\images\\train\\akhand_b43_142.jpg: 4 duplicate labels removed\n",
      "\u001b[34m\u001b[1mtrain: \u001b[0mWARNING  D:\\Datasets\\riset_infor_dataset\\Car_Damage_Coco_Dataset_Yolov8\\images\\train\\akhand_b43_144.jpg: 8 duplicate labels removed\n",
      "\u001b[34m\u001b[1mtrain: \u001b[0mWARNING  D:\\Datasets\\riset_infor_dataset\\Car_Damage_Coco_Dataset_Yolov8\\images\\train\\akhand_b43_146.jpg: 20 duplicate labels removed\n",
      "\u001b[34m\u001b[1mtrain: \u001b[0mWARNING  D:\\Datasets\\riset_infor_dataset\\Car_Damage_Coco_Dataset_Yolov8\\images\\train\\akhand_b43_147.jpg: 12 duplicate labels removed\n",
      "\u001b[34m\u001b[1mtrain: \u001b[0mWARNING  D:\\Datasets\\riset_infor_dataset\\Car_Damage_Coco_Dataset_Yolov8\\images\\train\\akhand_b43_148.jpg: 4 duplicate labels removed\n",
      "\u001b[34m\u001b[1mtrain: \u001b[0mWARNING  D:\\Datasets\\riset_infor_dataset\\Car_Damage_Coco_Dataset_Yolov8\\images\\train\\akhand_b43_149.jpg: 4 duplicate labels removed\n",
      "\u001b[34m\u001b[1mtrain: \u001b[0mWARNING  D:\\Datasets\\riset_infor_dataset\\Car_Damage_Coco_Dataset_Yolov8\\images\\train\\akhand_b43_150.jpg: 4 duplicate labels removed\n",
      "\u001b[34m\u001b[1mtrain: \u001b[0mWARNING  D:\\Datasets\\riset_infor_dataset\\Car_Damage_Coco_Dataset_Yolov8\\images\\train\\akhand_b43_153.jpg: 4 duplicate labels removed\n",
      "\u001b[34m\u001b[1mtrain: \u001b[0mWARNING  D:\\Datasets\\riset_infor_dataset\\Car_Damage_Coco_Dataset_Yolov8\\images\\train\\akhand_b43_155.jpg: 4 duplicate labels removed\n",
      "\u001b[34m\u001b[1mtrain: \u001b[0mWARNING  D:\\Datasets\\riset_infor_dataset\\Car_Damage_Coco_Dataset_Yolov8\\images\\train\\akhand_b43_156.jpg: 12 duplicate labels removed\n",
      "\u001b[34m\u001b[1mtrain: \u001b[0mWARNING  D:\\Datasets\\riset_infor_dataset\\Car_Damage_Coco_Dataset_Yolov8\\images\\train\\akhand_b43_159.jpg: 8 duplicate labels removed\n",
      "\u001b[34m\u001b[1mtrain: \u001b[0mWARNING  D:\\Datasets\\riset_infor_dataset\\Car_Damage_Coco_Dataset_Yolov8\\images\\train\\akhand_b43_16.jpg: 8 duplicate labels removed\n",
      "\u001b[34m\u001b[1mtrain: \u001b[0mWARNING  D:\\Datasets\\riset_infor_dataset\\Car_Damage_Coco_Dataset_Yolov8\\images\\train\\akhand_b43_160.jpg: 4 duplicate labels removed\n",
      "\u001b[34m\u001b[1mtrain: \u001b[0mWARNING  D:\\Datasets\\riset_infor_dataset\\Car_Damage_Coco_Dataset_Yolov8\\images\\train\\akhand_b43_161.jpg: 12 duplicate labels removed\n",
      "\u001b[34m\u001b[1mtrain: \u001b[0mWARNING  D:\\Datasets\\riset_infor_dataset\\Car_Damage_Coco_Dataset_Yolov8\\images\\train\\akhand_b43_162.jpg: 12 duplicate labels removed\n",
      "\u001b[34m\u001b[1mtrain: \u001b[0mWARNING  D:\\Datasets\\riset_infor_dataset\\Car_Damage_Coco_Dataset_Yolov8\\images\\train\\akhand_b43_163.jpg: 12 duplicate labels removed\n",
      "\u001b[34m\u001b[1mtrain: \u001b[0mWARNING  D:\\Datasets\\riset_infor_dataset\\Car_Damage_Coco_Dataset_Yolov8\\images\\train\\akhand_b43_164.jpg: 16 duplicate labels removed\n",
      "\u001b[34m\u001b[1mtrain: \u001b[0mWARNING  D:\\Datasets\\riset_infor_dataset\\Car_Damage_Coco_Dataset_Yolov8\\images\\train\\akhand_b43_165.jpg: ignoring corrupt image/label: non-normalized or out of bounds coordinates [     1.0219      1.1263      1.0219      1.1263      1.0219      1.1263      1.0219      1.1263      1.0219      1.1263]\n",
      "\u001b[34m\u001b[1mtrain: \u001b[0mWARNING  D:\\Datasets\\riset_infor_dataset\\Car_Damage_Coco_Dataset_Yolov8\\images\\train\\akhand_b43_166.jpg: 16 duplicate labels removed\n",
      "\u001b[34m\u001b[1mtrain: \u001b[0mWARNING  D:\\Datasets\\riset_infor_dataset\\Car_Damage_Coco_Dataset_Yolov8\\images\\train\\akhand_b43_167.jpg: 4 duplicate labels removed\n",
      "\u001b[34m\u001b[1mtrain: \u001b[0mWARNING  D:\\Datasets\\riset_infor_dataset\\Car_Damage_Coco_Dataset_Yolov8\\images\\train\\akhand_b43_168.jpg: 8 duplicate labels removed\n",
      "\u001b[34m\u001b[1mtrain: \u001b[0mWARNING  D:\\Datasets\\riset_infor_dataset\\Car_Damage_Coco_Dataset_Yolov8\\images\\train\\akhand_b43_169.jpg: 4 duplicate labels removed\n",
      "\u001b[34m\u001b[1mtrain: \u001b[0mWARNING  D:\\Datasets\\riset_infor_dataset\\Car_Damage_Coco_Dataset_Yolov8\\images\\train\\akhand_b43_171.jpg: 8 duplicate labels removed\n",
      "\u001b[34m\u001b[1mtrain: \u001b[0mWARNING  D:\\Datasets\\riset_infor_dataset\\Car_Damage_Coco_Dataset_Yolov8\\images\\train\\akhand_b43_172.jpg: 8 duplicate labels removed\n",
      "\u001b[34m\u001b[1mtrain: \u001b[0mWARNING  D:\\Datasets\\riset_infor_dataset\\Car_Damage_Coco_Dataset_Yolov8\\images\\train\\akhand_b43_173.jpg: 8 duplicate labels removed\n",
      "\u001b[34m\u001b[1mtrain: \u001b[0mWARNING  D:\\Datasets\\riset_infor_dataset\\Car_Damage_Coco_Dataset_Yolov8\\images\\train\\akhand_b43_174.jpg: 8 duplicate labels removed\n",
      "\u001b[34m\u001b[1mtrain: \u001b[0mWARNING  D:\\Datasets\\riset_infor_dataset\\Car_Damage_Coco_Dataset_Yolov8\\images\\train\\akhand_b43_176.jpg: 4 duplicate labels removed\n",
      "\u001b[34m\u001b[1mtrain: \u001b[0mWARNING  D:\\Datasets\\riset_infor_dataset\\Car_Damage_Coco_Dataset_Yolov8\\images\\train\\akhand_b43_177.jpg: 4 duplicate labels removed\n",
      "\u001b[34m\u001b[1mtrain: \u001b[0mWARNING  D:\\Datasets\\riset_infor_dataset\\Car_Damage_Coco_Dataset_Yolov8\\images\\train\\akhand_b43_178.jpg: 4 duplicate labels removed\n",
      "\u001b[34m\u001b[1mtrain: \u001b[0mWARNING  D:\\Datasets\\riset_infor_dataset\\Car_Damage_Coco_Dataset_Yolov8\\images\\train\\akhand_b43_179.jpg: 4 duplicate labels removed\n",
      "\u001b[34m\u001b[1mtrain: \u001b[0mWARNING  D:\\Datasets\\riset_infor_dataset\\Car_Damage_Coco_Dataset_Yolov8\\images\\train\\akhand_b43_180.jpg: 4 duplicate labels removed\n",
      "\u001b[34m\u001b[1mtrain: \u001b[0mWARNING  D:\\Datasets\\riset_infor_dataset\\Car_Damage_Coco_Dataset_Yolov8\\images\\train\\akhand_b43_181.jpg: 4 duplicate labels removed\n",
      "\u001b[34m\u001b[1mtrain: \u001b[0mWARNING  D:\\Datasets\\riset_infor_dataset\\Car_Damage_Coco_Dataset_Yolov8\\images\\train\\akhand_b43_183.jpg: 4 duplicate labels removed\n",
      "\u001b[34m\u001b[1mtrain: \u001b[0mWARNING  D:\\Datasets\\riset_infor_dataset\\Car_Damage_Coco_Dataset_Yolov8\\images\\train\\akhand_b43_184.jpg: 4 duplicate labels removed\n",
      "\u001b[34m\u001b[1mtrain: \u001b[0mWARNING  D:\\Datasets\\riset_infor_dataset\\Car_Damage_Coco_Dataset_Yolov8\\images\\train\\akhand_b43_186.jpg: 8 duplicate labels removed\n",
      "\u001b[34m\u001b[1mtrain: \u001b[0mWARNING  D:\\Datasets\\riset_infor_dataset\\Car_Damage_Coco_Dataset_Yolov8\\images\\train\\akhand_b43_187.jpg: 12 duplicate labels removed\n",
      "\u001b[34m\u001b[1mtrain: \u001b[0mWARNING  D:\\Datasets\\riset_infor_dataset\\Car_Damage_Coco_Dataset_Yolov8\\images\\train\\akhand_b43_19.jpg: 16 duplicate labels removed\n",
      "\u001b[34m\u001b[1mtrain: \u001b[0mWARNING  D:\\Datasets\\riset_infor_dataset\\Car_Damage_Coco_Dataset_Yolov8\\images\\train\\akhand_b43_191.jpg: 4 duplicate labels removed\n",
      "\u001b[34m\u001b[1mtrain: \u001b[0mWARNING  D:\\Datasets\\riset_infor_dataset\\Car_Damage_Coco_Dataset_Yolov8\\images\\train\\akhand_b43_194.jpg: 16 duplicate labels removed\n",
      "\u001b[34m\u001b[1mtrain: \u001b[0mWARNING  D:\\Datasets\\riset_infor_dataset\\Car_Damage_Coco_Dataset_Yolov8\\images\\train\\akhand_b43_195.jpg: 4 duplicate labels removed\n",
      "\u001b[34m\u001b[1mtrain: \u001b[0mWARNING  D:\\Datasets\\riset_infor_dataset\\Car_Damage_Coco_Dataset_Yolov8\\images\\train\\akhand_b43_196.jpg: 4 duplicate labels removed\n",
      "\u001b[34m\u001b[1mtrain: \u001b[0mWARNING  D:\\Datasets\\riset_infor_dataset\\Car_Damage_Coco_Dataset_Yolov8\\images\\train\\akhand_b43_197.jpg: 4 duplicate labels removed\n",
      "\u001b[34m\u001b[1mtrain: \u001b[0mWARNING  D:\\Datasets\\riset_infor_dataset\\Car_Damage_Coco_Dataset_Yolov8\\images\\train\\akhand_b43_198.jpg: 4 duplicate labels removed\n",
      "\u001b[34m\u001b[1mtrain: \u001b[0mWARNING  D:\\Datasets\\riset_infor_dataset\\Car_Damage_Coco_Dataset_Yolov8\\images\\train\\akhand_b43_199.jpg: 4 duplicate labels removed\n",
      "\u001b[34m\u001b[1mtrain: \u001b[0mWARNING  D:\\Datasets\\riset_infor_dataset\\Car_Damage_Coco_Dataset_Yolov8\\images\\train\\akhand_b43_2.jpg: 8 duplicate labels removed\n",
      "\u001b[34m\u001b[1mtrain: \u001b[0mWARNING  D:\\Datasets\\riset_infor_dataset\\Car_Damage_Coco_Dataset_Yolov8\\images\\train\\akhand_b43_20.jpg: 4 duplicate labels removed\n",
      "\u001b[34m\u001b[1mtrain: \u001b[0mWARNING  D:\\Datasets\\riset_infor_dataset\\Car_Damage_Coco_Dataset_Yolov8\\images\\train\\akhand_b43_200.jpg: 4 duplicate labels removed\n",
      "\u001b[34m\u001b[1mtrain: \u001b[0mWARNING  D:\\Datasets\\riset_infor_dataset\\Car_Damage_Coco_Dataset_Yolov8\\images\\train\\akhand_b43_203.jpg: 4 duplicate labels removed\n",
      "\u001b[34m\u001b[1mtrain: \u001b[0mWARNING  D:\\Datasets\\riset_infor_dataset\\Car_Damage_Coco_Dataset_Yolov8\\images\\train\\akhand_b43_205.jpg: 8 duplicate labels removed\n",
      "\u001b[34m\u001b[1mtrain: \u001b[0mWARNING  D:\\Datasets\\riset_infor_dataset\\Car_Damage_Coco_Dataset_Yolov8\\images\\train\\akhand_b43_207.jpg: 4 duplicate labels removed\n",
      "\u001b[34m\u001b[1mtrain: \u001b[0mWARNING  D:\\Datasets\\riset_infor_dataset\\Car_Damage_Coco_Dataset_Yolov8\\images\\train\\akhand_b43_213.jpg: 4 duplicate labels removed\n",
      "\u001b[34m\u001b[1mtrain: \u001b[0mWARNING  D:\\Datasets\\riset_infor_dataset\\Car_Damage_Coco_Dataset_Yolov8\\images\\train\\akhand_b43_214.jpg: 4 duplicate labels removed\n",
      "\u001b[34m\u001b[1mtrain: \u001b[0mWARNING  D:\\Datasets\\riset_infor_dataset\\Car_Damage_Coco_Dataset_Yolov8\\images\\train\\akhand_b43_215.jpg: 8 duplicate labels removed\n",
      "\u001b[34m\u001b[1mtrain: \u001b[0mWARNING  D:\\Datasets\\riset_infor_dataset\\Car_Damage_Coco_Dataset_Yolov8\\images\\train\\akhand_b43_216.jpg: 8 duplicate labels removed\n",
      "\u001b[34m\u001b[1mtrain: \u001b[0mWARNING  D:\\Datasets\\riset_infor_dataset\\Car_Damage_Coco_Dataset_Yolov8\\images\\train\\akhand_b43_217.jpg: 4 duplicate labels removed\n",
      "\u001b[34m\u001b[1mtrain: \u001b[0mWARNING  D:\\Datasets\\riset_infor_dataset\\Car_Damage_Coco_Dataset_Yolov8\\images\\train\\akhand_b43_219.jpg: 8 duplicate labels removed\n",
      "\u001b[34m\u001b[1mtrain: \u001b[0mWARNING  D:\\Datasets\\riset_infor_dataset\\Car_Damage_Coco_Dataset_Yolov8\\images\\train\\akhand_b43_221.jpg: 4 duplicate labels removed\n",
      "\u001b[34m\u001b[1mtrain: \u001b[0mWARNING  D:\\Datasets\\riset_infor_dataset\\Car_Damage_Coco_Dataset_Yolov8\\images\\train\\akhand_b43_222.jpg: 28 duplicate labels removed\n",
      "\u001b[34m\u001b[1mtrain: \u001b[0mWARNING  D:\\Datasets\\riset_infor_dataset\\Car_Damage_Coco_Dataset_Yolov8\\images\\train\\akhand_b43_223.jpg: 4 duplicate labels removed\n",
      "\u001b[34m\u001b[1mtrain: \u001b[0mWARNING  D:\\Datasets\\riset_infor_dataset\\Car_Damage_Coco_Dataset_Yolov8\\images\\train\\akhand_b43_224.jpg: 16 duplicate labels removed\n",
      "\u001b[34m\u001b[1mtrain: \u001b[0mWARNING  D:\\Datasets\\riset_infor_dataset\\Car_Damage_Coco_Dataset_Yolov8\\images\\train\\akhand_b43_225.jpg: 4 duplicate labels removed\n",
      "\u001b[34m\u001b[1mtrain: \u001b[0mWARNING  D:\\Datasets\\riset_infor_dataset\\Car_Damage_Coco_Dataset_Yolov8\\images\\train\\akhand_b43_226.jpg: 12 duplicate labels removed\n",
      "\u001b[34m\u001b[1mtrain: \u001b[0mWARNING  D:\\Datasets\\riset_infor_dataset\\Car_Damage_Coco_Dataset_Yolov8\\images\\train\\akhand_b43_227.jpg: 4 duplicate labels removed\n",
      "\u001b[34m\u001b[1mtrain: \u001b[0mWARNING  D:\\Datasets\\riset_infor_dataset\\Car_Damage_Coco_Dataset_Yolov8\\images\\train\\akhand_b43_228.jpg: 4 duplicate labels removed\n",
      "\u001b[34m\u001b[1mtrain: \u001b[0mWARNING  D:\\Datasets\\riset_infor_dataset\\Car_Damage_Coco_Dataset_Yolov8\\images\\train\\akhand_b43_229.jpg: 4 duplicate labels removed\n",
      "\u001b[34m\u001b[1mtrain: \u001b[0mWARNING  D:\\Datasets\\riset_infor_dataset\\Car_Damage_Coco_Dataset_Yolov8\\images\\train\\akhand_b43_231.jpg: 4 duplicate labels removed\n",
      "\u001b[34m\u001b[1mtrain: \u001b[0mWARNING  D:\\Datasets\\riset_infor_dataset\\Car_Damage_Coco_Dataset_Yolov8\\images\\train\\akhand_b43_232.jpg: 4 duplicate labels removed\n",
      "\u001b[34m\u001b[1mtrain: \u001b[0mWARNING  D:\\Datasets\\riset_infor_dataset\\Car_Damage_Coco_Dataset_Yolov8\\images\\train\\akhand_b43_233.jpg: 12 duplicate labels removed\n",
      "\u001b[34m\u001b[1mtrain: \u001b[0mWARNING  D:\\Datasets\\riset_infor_dataset\\Car_Damage_Coco_Dataset_Yolov8\\images\\train\\akhand_b43_234.jpg: 8 duplicate labels removed\n",
      "\u001b[34m\u001b[1mtrain: \u001b[0mWARNING  D:\\Datasets\\riset_infor_dataset\\Car_Damage_Coco_Dataset_Yolov8\\images\\train\\akhand_b43_235.jpg: 4 duplicate labels removed\n",
      "\u001b[34m\u001b[1mtrain: \u001b[0mWARNING  D:\\Datasets\\riset_infor_dataset\\Car_Damage_Coco_Dataset_Yolov8\\images\\train\\akhand_b43_236.jpg: 4 duplicate labels removed\n",
      "\u001b[34m\u001b[1mtrain: \u001b[0mWARNING  D:\\Datasets\\riset_infor_dataset\\Car_Damage_Coco_Dataset_Yolov8\\images\\train\\akhand_b43_238.jpg: 4 duplicate labels removed\n",
      "\u001b[34m\u001b[1mtrain: \u001b[0mWARNING  D:\\Datasets\\riset_infor_dataset\\Car_Damage_Coco_Dataset_Yolov8\\images\\train\\akhand_b43_240.jpg: 12 duplicate labels removed\n",
      "\u001b[34m\u001b[1mtrain: \u001b[0mWARNING  D:\\Datasets\\riset_infor_dataset\\Car_Damage_Coco_Dataset_Yolov8\\images\\train\\akhand_b43_242.jpg: 4 duplicate labels removed\n",
      "\u001b[34m\u001b[1mtrain: \u001b[0mWARNING  D:\\Datasets\\riset_infor_dataset\\Car_Damage_Coco_Dataset_Yolov8\\images\\train\\akhand_b43_243.jpg: 4 duplicate labels removed\n",
      "\u001b[34m\u001b[1mtrain: \u001b[0mWARNING  D:\\Datasets\\riset_infor_dataset\\Car_Damage_Coco_Dataset_Yolov8\\images\\train\\akhand_b43_244.jpg: 4 duplicate labels removed\n",
      "\u001b[34m\u001b[1mtrain: \u001b[0mWARNING  D:\\Datasets\\riset_infor_dataset\\Car_Damage_Coco_Dataset_Yolov8\\images\\train\\akhand_b43_245.jpg: 4 duplicate labels removed\n",
      "\u001b[34m\u001b[1mtrain: \u001b[0mWARNING  D:\\Datasets\\riset_infor_dataset\\Car_Damage_Coco_Dataset_Yolov8\\images\\train\\akhand_b43_246.jpg: 4 duplicate labels removed\n",
      "\u001b[34m\u001b[1mtrain: \u001b[0mWARNING  D:\\Datasets\\riset_infor_dataset\\Car_Damage_Coco_Dataset_Yolov8\\images\\train\\akhand_b43_248.jpg: 4 duplicate labels removed\n",
      "\u001b[34m\u001b[1mtrain: \u001b[0mWARNING  D:\\Datasets\\riset_infor_dataset\\Car_Damage_Coco_Dataset_Yolov8\\images\\train\\akhand_b43_249.jpg: 4 duplicate labels removed\n",
      "\u001b[34m\u001b[1mtrain: \u001b[0mWARNING  D:\\Datasets\\riset_infor_dataset\\Car_Damage_Coco_Dataset_Yolov8\\images\\train\\akhand_b43_25.jpg: 4 duplicate labels removed\n",
      "\u001b[34m\u001b[1mtrain: \u001b[0mWARNING  D:\\Datasets\\riset_infor_dataset\\Car_Damage_Coco_Dataset_Yolov8\\images\\train\\akhand_b43_250.jpg: 4 duplicate labels removed\n",
      "\u001b[34m\u001b[1mtrain: \u001b[0mWARNING  D:\\Datasets\\riset_infor_dataset\\Car_Damage_Coco_Dataset_Yolov8\\images\\train\\akhand_b43_254.jpg: 24 duplicate labels removed\n",
      "\u001b[34m\u001b[1mtrain: \u001b[0mWARNING  D:\\Datasets\\riset_infor_dataset\\Car_Damage_Coco_Dataset_Yolov8\\images\\train\\akhand_b43_255.jpg: 20 duplicate labels removed\n",
      "\u001b[34m\u001b[1mtrain: \u001b[0mWARNING  D:\\Datasets\\riset_infor_dataset\\Car_Damage_Coco_Dataset_Yolov8\\images\\train\\akhand_b43_257.jpg: 8 duplicate labels removed\n",
      "\u001b[34m\u001b[1mtrain: \u001b[0mWARNING  D:\\Datasets\\riset_infor_dataset\\Car_Damage_Coco_Dataset_Yolov8\\images\\train\\akhand_b43_258.jpg: 4 duplicate labels removed\n",
      "\u001b[34m\u001b[1mtrain: \u001b[0mWARNING  D:\\Datasets\\riset_infor_dataset\\Car_Damage_Coco_Dataset_Yolov8\\images\\train\\akhand_b43_26.jpg: 4 duplicate labels removed\n",
      "\u001b[34m\u001b[1mtrain: \u001b[0mWARNING  D:\\Datasets\\riset_infor_dataset\\Car_Damage_Coco_Dataset_Yolov8\\images\\train\\akhand_b43_262.jpg: 4 duplicate labels removed\n",
      "\u001b[34m\u001b[1mtrain: \u001b[0mWARNING  D:\\Datasets\\riset_infor_dataset\\Car_Damage_Coco_Dataset_Yolov8\\images\\train\\akhand_b43_263.jpg: 4 duplicate labels removed\n",
      "\u001b[34m\u001b[1mtrain: \u001b[0mWARNING  D:\\Datasets\\riset_infor_dataset\\Car_Damage_Coco_Dataset_Yolov8\\images\\train\\akhand_b43_264.jpg: 4 duplicate labels removed\n",
      "\u001b[34m\u001b[1mtrain: \u001b[0mWARNING  D:\\Datasets\\riset_infor_dataset\\Car_Damage_Coco_Dataset_Yolov8\\images\\train\\akhand_b43_267.jpg: 8 duplicate labels removed\n",
      "\u001b[34m\u001b[1mtrain: \u001b[0mWARNING  D:\\Datasets\\riset_infor_dataset\\Car_Damage_Coco_Dataset_Yolov8\\images\\train\\akhand_b43_268.jpg: 8 duplicate labels removed\n",
      "\u001b[34m\u001b[1mtrain: \u001b[0mWARNING  D:\\Datasets\\riset_infor_dataset\\Car_Damage_Coco_Dataset_Yolov8\\images\\train\\akhand_b43_269.jpg: 12 duplicate labels removed\n",
      "\u001b[34m\u001b[1mtrain: \u001b[0mWARNING  D:\\Datasets\\riset_infor_dataset\\Car_Damage_Coco_Dataset_Yolov8\\images\\train\\akhand_b43_27.jpg: 16 duplicate labels removed\n",
      "\u001b[34m\u001b[1mtrain: \u001b[0mWARNING  D:\\Datasets\\riset_infor_dataset\\Car_Damage_Coco_Dataset_Yolov8\\images\\train\\akhand_b43_273.jpg: 4 duplicate labels removed\n",
      "\u001b[34m\u001b[1mtrain: \u001b[0mWARNING  D:\\Datasets\\riset_infor_dataset\\Car_Damage_Coco_Dataset_Yolov8\\images\\train\\akhand_b43_275.jpg: 4 duplicate labels removed\n",
      "\u001b[34m\u001b[1mtrain: \u001b[0mWARNING  D:\\Datasets\\riset_infor_dataset\\Car_Damage_Coco_Dataset_Yolov8\\images\\train\\akhand_b43_276.jpg: 4 duplicate labels removed\n",
      "\u001b[34m\u001b[1mtrain: \u001b[0mWARNING  D:\\Datasets\\riset_infor_dataset\\Car_Damage_Coco_Dataset_Yolov8\\images\\train\\akhand_b43_277.jpg: 8 duplicate labels removed\n",
      "\u001b[34m\u001b[1mtrain: \u001b[0mWARNING  D:\\Datasets\\riset_infor_dataset\\Car_Damage_Coco_Dataset_Yolov8\\images\\train\\akhand_b43_278.jpg: 12 duplicate labels removed\n",
      "\u001b[34m\u001b[1mtrain: \u001b[0mWARNING  D:\\Datasets\\riset_infor_dataset\\Car_Damage_Coco_Dataset_Yolov8\\images\\train\\akhand_b43_279.jpg: 4 duplicate labels removed\n",
      "\u001b[34m\u001b[1mtrain: \u001b[0mWARNING  D:\\Datasets\\riset_infor_dataset\\Car_Damage_Coco_Dataset_Yolov8\\images\\train\\akhand_b43_280.jpg: 4 duplicate labels removed\n",
      "\u001b[34m\u001b[1mtrain: \u001b[0mWARNING  D:\\Datasets\\riset_infor_dataset\\Car_Damage_Coco_Dataset_Yolov8\\images\\train\\akhand_b43_283.jpg: 12 duplicate labels removed\n",
      "\u001b[34m\u001b[1mtrain: \u001b[0mWARNING  D:\\Datasets\\riset_infor_dataset\\Car_Damage_Coco_Dataset_Yolov8\\images\\train\\akhand_b43_284.jpg: 4 duplicate labels removed\n",
      "\u001b[34m\u001b[1mtrain: \u001b[0mWARNING  D:\\Datasets\\riset_infor_dataset\\Car_Damage_Coco_Dataset_Yolov8\\images\\train\\akhand_b43_285.jpg: 4 duplicate labels removed\n",
      "\u001b[34m\u001b[1mtrain: \u001b[0mWARNING  D:\\Datasets\\riset_infor_dataset\\Car_Damage_Coco_Dataset_Yolov8\\images\\train\\akhand_b43_286.jpg: 4 duplicate labels removed\n",
      "\u001b[34m\u001b[1mtrain: \u001b[0mWARNING  D:\\Datasets\\riset_infor_dataset\\Car_Damage_Coco_Dataset_Yolov8\\images\\train\\akhand_b43_287.jpg: 4 duplicate labels removed\n",
      "\u001b[34m\u001b[1mtrain: \u001b[0mWARNING  D:\\Datasets\\riset_infor_dataset\\Car_Damage_Coco_Dataset_Yolov8\\images\\train\\akhand_b43_289.jpg: 4 duplicate labels removed\n",
      "\u001b[34m\u001b[1mtrain: \u001b[0mWARNING  D:\\Datasets\\riset_infor_dataset\\Car_Damage_Coco_Dataset_Yolov8\\images\\train\\akhand_b43_29.jpg: 8 duplicate labels removed\n",
      "\u001b[34m\u001b[1mtrain: \u001b[0mWARNING  D:\\Datasets\\riset_infor_dataset\\Car_Damage_Coco_Dataset_Yolov8\\images\\train\\akhand_b43_290.jpg: 4 duplicate labels removed\n",
      "\u001b[34m\u001b[1mtrain: \u001b[0mWARNING  D:\\Datasets\\riset_infor_dataset\\Car_Damage_Coco_Dataset_Yolov8\\images\\train\\akhand_b43_291.jpg: 4 duplicate labels removed\n",
      "\u001b[34m\u001b[1mtrain: \u001b[0mWARNING  D:\\Datasets\\riset_infor_dataset\\Car_Damage_Coco_Dataset_Yolov8\\images\\train\\akhand_b43_292.jpg: 36 duplicate labels removed\n",
      "\u001b[34m\u001b[1mtrain: \u001b[0mWARNING  D:\\Datasets\\riset_infor_dataset\\Car_Damage_Coco_Dataset_Yolov8\\images\\train\\akhand_b43_295.jpg: 8 duplicate labels removed\n",
      "\u001b[34m\u001b[1mtrain: \u001b[0mWARNING  D:\\Datasets\\riset_infor_dataset\\Car_Damage_Coco_Dataset_Yolov8\\images\\train\\akhand_b43_296.jpg: 4 duplicate labels removed\n",
      "\u001b[34m\u001b[1mtrain: \u001b[0mWARNING  D:\\Datasets\\riset_infor_dataset\\Car_Damage_Coco_Dataset_Yolov8\\images\\train\\akhand_b43_298.jpg: 4 duplicate labels removed\n",
      "\u001b[34m\u001b[1mtrain: \u001b[0mWARNING  D:\\Datasets\\riset_infor_dataset\\Car_Damage_Coco_Dataset_Yolov8\\images\\train\\akhand_b43_299.jpg: 8 duplicate labels removed\n",
      "\u001b[34m\u001b[1mtrain: \u001b[0mWARNING  D:\\Datasets\\riset_infor_dataset\\Car_Damage_Coco_Dataset_Yolov8\\images\\train\\akhand_b43_30.jpg: 8 duplicate labels removed\n",
      "\u001b[34m\u001b[1mtrain: \u001b[0mWARNING  D:\\Datasets\\riset_infor_dataset\\Car_Damage_Coco_Dataset_Yolov8\\images\\train\\akhand_b43_300.jpg: 12 duplicate labels removed\n",
      "\u001b[34m\u001b[1mtrain: \u001b[0mWARNING  D:\\Datasets\\riset_infor_dataset\\Car_Damage_Coco_Dataset_Yolov8\\images\\train\\akhand_b43_303.jpg: 4 duplicate labels removed\n",
      "\u001b[34m\u001b[1mtrain: \u001b[0mWARNING  D:\\Datasets\\riset_infor_dataset\\Car_Damage_Coco_Dataset_Yolov8\\images\\train\\akhand_b43_304.jpg: 4 duplicate labels removed\n",
      "\u001b[34m\u001b[1mtrain: \u001b[0mWARNING  D:\\Datasets\\riset_infor_dataset\\Car_Damage_Coco_Dataset_Yolov8\\images\\train\\akhand_b43_305.jpg: 4 duplicate labels removed\n",
      "\u001b[34m\u001b[1mtrain: \u001b[0mWARNING  D:\\Datasets\\riset_infor_dataset\\Car_Damage_Coco_Dataset_Yolov8\\images\\train\\akhand_b43_306.jpg: 4 duplicate labels removed\n",
      "\u001b[34m\u001b[1mtrain: \u001b[0mWARNING  D:\\Datasets\\riset_infor_dataset\\Car_Damage_Coco_Dataset_Yolov8\\images\\train\\akhand_b43_307.jpg: 16 duplicate labels removed\n",
      "\u001b[34m\u001b[1mtrain: \u001b[0mWARNING  D:\\Datasets\\riset_infor_dataset\\Car_Damage_Coco_Dataset_Yolov8\\images\\train\\akhand_b43_308.jpg: 12 duplicate labels removed\n",
      "\u001b[34m\u001b[1mtrain: \u001b[0mWARNING  D:\\Datasets\\riset_infor_dataset\\Car_Damage_Coco_Dataset_Yolov8\\images\\train\\akhand_b43_309.jpg: 4 duplicate labels removed\n",
      "\u001b[34m\u001b[1mtrain: \u001b[0mWARNING  D:\\Datasets\\riset_infor_dataset\\Car_Damage_Coco_Dataset_Yolov8\\images\\train\\akhand_b43_31.jpg: 12 duplicate labels removed\n",
      "\u001b[34m\u001b[1mtrain: \u001b[0mWARNING  D:\\Datasets\\riset_infor_dataset\\Car_Damage_Coco_Dataset_Yolov8\\images\\train\\akhand_b43_311.jpg: 4 duplicate labels removed\n",
      "\u001b[34m\u001b[1mtrain: \u001b[0mWARNING  D:\\Datasets\\riset_infor_dataset\\Car_Damage_Coco_Dataset_Yolov8\\images\\train\\akhand_b43_312.jpg: 8 duplicate labels removed\n",
      "\u001b[34m\u001b[1mtrain: \u001b[0mWARNING  D:\\Datasets\\riset_infor_dataset\\Car_Damage_Coco_Dataset_Yolov8\\images\\train\\akhand_b43_313.jpg: 4 duplicate labels removed\n",
      "\u001b[34m\u001b[1mtrain: \u001b[0mWARNING  D:\\Datasets\\riset_infor_dataset\\Car_Damage_Coco_Dataset_Yolov8\\images\\train\\akhand_b43_314.jpg: 8 duplicate labels removed\n",
      "\u001b[34m\u001b[1mtrain: \u001b[0mWARNING  D:\\Datasets\\riset_infor_dataset\\Car_Damage_Coco_Dataset_Yolov8\\images\\train\\akhand_b43_319.jpg: 4 duplicate labels removed\n",
      "\u001b[34m\u001b[1mtrain: \u001b[0mWARNING  D:\\Datasets\\riset_infor_dataset\\Car_Damage_Coco_Dataset_Yolov8\\images\\train\\akhand_b43_320.jpg: 4 duplicate labels removed\n",
      "\u001b[34m\u001b[1mtrain: \u001b[0mWARNING  D:\\Datasets\\riset_infor_dataset\\Car_Damage_Coco_Dataset_Yolov8\\images\\train\\akhand_b43_321.jpg: 4 duplicate labels removed\n",
      "\u001b[34m\u001b[1mtrain: \u001b[0mWARNING  D:\\Datasets\\riset_infor_dataset\\Car_Damage_Coco_Dataset_Yolov8\\images\\train\\akhand_b43_322.jpg: 12 duplicate labels removed\n",
      "\u001b[34m\u001b[1mtrain: \u001b[0mWARNING  D:\\Datasets\\riset_infor_dataset\\Car_Damage_Coco_Dataset_Yolov8\\images\\train\\akhand_b43_323.jpg: 4 duplicate labels removed\n",
      "\u001b[34m\u001b[1mtrain: \u001b[0mWARNING  D:\\Datasets\\riset_infor_dataset\\Car_Damage_Coco_Dataset_Yolov8\\images\\train\\akhand_b43_325.jpg: 4 duplicate labels removed\n",
      "\u001b[34m\u001b[1mtrain: \u001b[0mWARNING  D:\\Datasets\\riset_infor_dataset\\Car_Damage_Coco_Dataset_Yolov8\\images\\train\\akhand_b43_327.jpg: 12 duplicate labels removed\n",
      "\u001b[34m\u001b[1mtrain: \u001b[0mWARNING  D:\\Datasets\\riset_infor_dataset\\Car_Damage_Coco_Dataset_Yolov8\\images\\train\\akhand_b43_328.jpg: 8 duplicate labels removed\n",
      "\u001b[34m\u001b[1mtrain: \u001b[0mWARNING  D:\\Datasets\\riset_infor_dataset\\Car_Damage_Coco_Dataset_Yolov8\\images\\train\\akhand_b43_329.jpg: 12 duplicate labels removed\n",
      "\u001b[34m\u001b[1mtrain: \u001b[0mWARNING  D:\\Datasets\\riset_infor_dataset\\Car_Damage_Coco_Dataset_Yolov8\\images\\train\\akhand_b43_33.jpg: 8 duplicate labels removed\n",
      "\u001b[34m\u001b[1mtrain: \u001b[0mWARNING  D:\\Datasets\\riset_infor_dataset\\Car_Damage_Coco_Dataset_Yolov8\\images\\train\\akhand_b43_331.jpg: 4 duplicate labels removed\n",
      "\u001b[34m\u001b[1mtrain: \u001b[0mWARNING  D:\\Datasets\\riset_infor_dataset\\Car_Damage_Coco_Dataset_Yolov8\\images\\train\\akhand_b43_332.jpg: 16 duplicate labels removed\n",
      "\u001b[34m\u001b[1mtrain: \u001b[0mWARNING  D:\\Datasets\\riset_infor_dataset\\Car_Damage_Coco_Dataset_Yolov8\\images\\train\\akhand_b43_333.jpg: 16 duplicate labels removed\n",
      "\u001b[34m\u001b[1mtrain: \u001b[0mWARNING  D:\\Datasets\\riset_infor_dataset\\Car_Damage_Coco_Dataset_Yolov8\\images\\train\\akhand_b43_334.jpg: 12 duplicate labels removed\n",
      "\u001b[34m\u001b[1mtrain: \u001b[0mWARNING  D:\\Datasets\\riset_infor_dataset\\Car_Damage_Coco_Dataset_Yolov8\\images\\train\\akhand_b43_335.jpg: 4 duplicate labels removed\n",
      "\u001b[34m\u001b[1mtrain: \u001b[0mWARNING  D:\\Datasets\\riset_infor_dataset\\Car_Damage_Coco_Dataset_Yolov8\\images\\train\\akhand_b43_337.jpg: 12 duplicate labels removed\n",
      "\u001b[34m\u001b[1mtrain: \u001b[0mWARNING  D:\\Datasets\\riset_infor_dataset\\Car_Damage_Coco_Dataset_Yolov8\\images\\train\\akhand_b43_338.jpg: 8 duplicate labels removed\n",
      "\u001b[34m\u001b[1mtrain: \u001b[0mWARNING  D:\\Datasets\\riset_infor_dataset\\Car_Damage_Coco_Dataset_Yolov8\\images\\train\\akhand_b43_34.jpg: 24 duplicate labels removed\n",
      "\u001b[34m\u001b[1mtrain: \u001b[0mWARNING  D:\\Datasets\\riset_infor_dataset\\Car_Damage_Coco_Dataset_Yolov8\\images\\train\\akhand_b43_340.jpg: 4 duplicate labels removed\n",
      "\u001b[34m\u001b[1mtrain: \u001b[0mWARNING  D:\\Datasets\\riset_infor_dataset\\Car_Damage_Coco_Dataset_Yolov8\\images\\train\\akhand_b43_342.jpg: 12 duplicate labels removed\n",
      "\u001b[34m\u001b[1mtrain: \u001b[0mWARNING  D:\\Datasets\\riset_infor_dataset\\Car_Damage_Coco_Dataset_Yolov8\\images\\train\\akhand_b43_343.jpg: 4 duplicate labels removed\n",
      "\u001b[34m\u001b[1mtrain: \u001b[0mWARNING  D:\\Datasets\\riset_infor_dataset\\Car_Damage_Coco_Dataset_Yolov8\\images\\train\\akhand_b43_345.jpg: 4 duplicate labels removed\n",
      "\u001b[34m\u001b[1mtrain: \u001b[0mWARNING  D:\\Datasets\\riset_infor_dataset\\Car_Damage_Coco_Dataset_Yolov8\\images\\train\\akhand_b43_348.jpg: 4 duplicate labels removed\n",
      "\u001b[34m\u001b[1mtrain: \u001b[0mWARNING  D:\\Datasets\\riset_infor_dataset\\Car_Damage_Coco_Dataset_Yolov8\\images\\train\\akhand_b43_349.jpg: 4 duplicate labels removed\n",
      "\u001b[34m\u001b[1mtrain: \u001b[0mWARNING  D:\\Datasets\\riset_infor_dataset\\Car_Damage_Coco_Dataset_Yolov8\\images\\train\\akhand_b43_35.jpg: 12 duplicate labels removed\n",
      "\u001b[34m\u001b[1mtrain: \u001b[0mWARNING  D:\\Datasets\\riset_infor_dataset\\Car_Damage_Coco_Dataset_Yolov8\\images\\train\\akhand_b43_351.jpg: 4 duplicate labels removed\n",
      "\u001b[34m\u001b[1mtrain: \u001b[0mWARNING  D:\\Datasets\\riset_infor_dataset\\Car_Damage_Coco_Dataset_Yolov8\\images\\train\\akhand_b43_352.jpg: 4 duplicate labels removed\n",
      "\u001b[34m\u001b[1mtrain: \u001b[0mWARNING  D:\\Datasets\\riset_infor_dataset\\Car_Damage_Coco_Dataset_Yolov8\\images\\train\\akhand_b43_353.jpg: 8 duplicate labels removed\n",
      "\u001b[34m\u001b[1mtrain: \u001b[0mWARNING  D:\\Datasets\\riset_infor_dataset\\Car_Damage_Coco_Dataset_Yolov8\\images\\train\\akhand_b43_354.jpg: 8 duplicate labels removed\n",
      "\u001b[34m\u001b[1mtrain: \u001b[0mWARNING  D:\\Datasets\\riset_infor_dataset\\Car_Damage_Coco_Dataset_Yolov8\\images\\train\\akhand_b43_355.jpg: 12 duplicate labels removed\n",
      "\u001b[34m\u001b[1mtrain: \u001b[0mWARNING  D:\\Datasets\\riset_infor_dataset\\Car_Damage_Coco_Dataset_Yolov8\\images\\train\\akhand_b43_356.jpg: 4 duplicate labels removed\n",
      "\u001b[34m\u001b[1mtrain: \u001b[0mWARNING  D:\\Datasets\\riset_infor_dataset\\Car_Damage_Coco_Dataset_Yolov8\\images\\train\\akhand_b43_357.jpg: 8 duplicate labels removed\n",
      "\u001b[34m\u001b[1mtrain: \u001b[0mWARNING  D:\\Datasets\\riset_infor_dataset\\Car_Damage_Coco_Dataset_Yolov8\\images\\train\\akhand_b43_358.jpg: 4 duplicate labels removed\n",
      "\u001b[34m\u001b[1mtrain: \u001b[0mWARNING  D:\\Datasets\\riset_infor_dataset\\Car_Damage_Coco_Dataset_Yolov8\\images\\train\\akhand_b43_359.jpg: 16 duplicate labels removed\n",
      "\u001b[34m\u001b[1mtrain: \u001b[0mWARNING  D:\\Datasets\\riset_infor_dataset\\Car_Damage_Coco_Dataset_Yolov8\\images\\train\\akhand_b43_36.jpg: 4 duplicate labels removed\n",
      "\u001b[34m\u001b[1mtrain: \u001b[0mWARNING  D:\\Datasets\\riset_infor_dataset\\Car_Damage_Coco_Dataset_Yolov8\\images\\train\\akhand_b43_360.jpg: 8 duplicate labels removed\n",
      "\u001b[34m\u001b[1mtrain: \u001b[0mWARNING  D:\\Datasets\\riset_infor_dataset\\Car_Damage_Coco_Dataset_Yolov8\\images\\train\\akhand_b43_361.jpg: 4 duplicate labels removed\n",
      "\u001b[34m\u001b[1mtrain: \u001b[0mWARNING  D:\\Datasets\\riset_infor_dataset\\Car_Damage_Coco_Dataset_Yolov8\\images\\train\\akhand_b43_363.jpg: 12 duplicate labels removed\n",
      "\u001b[34m\u001b[1mtrain: \u001b[0mWARNING  D:\\Datasets\\riset_infor_dataset\\Car_Damage_Coco_Dataset_Yolov8\\images\\train\\akhand_b43_364.jpg: 20 duplicate labels removed\n",
      "\u001b[34m\u001b[1mtrain: \u001b[0mWARNING  D:\\Datasets\\riset_infor_dataset\\Car_Damage_Coco_Dataset_Yolov8\\images\\train\\akhand_b43_366.jpg: 8 duplicate labels removed\n",
      "\u001b[34m\u001b[1mtrain: \u001b[0mWARNING  D:\\Datasets\\riset_infor_dataset\\Car_Damage_Coco_Dataset_Yolov8\\images\\train\\akhand_b43_368.jpg: 8 duplicate labels removed\n",
      "\u001b[34m\u001b[1mtrain: \u001b[0mWARNING  D:\\Datasets\\riset_infor_dataset\\Car_Damage_Coco_Dataset_Yolov8\\images\\train\\akhand_b43_370.jpg: 8 duplicate labels removed\n",
      "\u001b[34m\u001b[1mtrain: \u001b[0mWARNING  D:\\Datasets\\riset_infor_dataset\\Car_Damage_Coco_Dataset_Yolov8\\images\\train\\akhand_b43_371.jpg: 4 duplicate labels removed\n",
      "\u001b[34m\u001b[1mtrain: \u001b[0mWARNING  D:\\Datasets\\riset_infor_dataset\\Car_Damage_Coco_Dataset_Yolov8\\images\\train\\akhand_b43_372.jpg: 12 duplicate labels removed\n",
      "\u001b[34m\u001b[1mtrain: \u001b[0mWARNING  D:\\Datasets\\riset_infor_dataset\\Car_Damage_Coco_Dataset_Yolov8\\images\\train\\akhand_b43_375.jpg: 4 duplicate labels removed\n",
      "\u001b[34m\u001b[1mtrain: \u001b[0mWARNING  D:\\Datasets\\riset_infor_dataset\\Car_Damage_Coco_Dataset_Yolov8\\images\\train\\akhand_b43_377.jpg: 4 duplicate labels removed\n",
      "\u001b[34m\u001b[1mtrain: \u001b[0mWARNING  D:\\Datasets\\riset_infor_dataset\\Car_Damage_Coco_Dataset_Yolov8\\images\\train\\akhand_b43_378.jpg: 4 duplicate labels removed\n",
      "\u001b[34m\u001b[1mtrain: \u001b[0mWARNING  D:\\Datasets\\riset_infor_dataset\\Car_Damage_Coco_Dataset_Yolov8\\images\\train\\akhand_b43_379.jpg: 4 duplicate labels removed\n",
      "\u001b[34m\u001b[1mtrain: \u001b[0mWARNING  D:\\Datasets\\riset_infor_dataset\\Car_Damage_Coco_Dataset_Yolov8\\images\\train\\akhand_b43_38.jpg: 4 duplicate labels removed\n",
      "\u001b[34m\u001b[1mtrain: \u001b[0mWARNING  D:\\Datasets\\riset_infor_dataset\\Car_Damage_Coco_Dataset_Yolov8\\images\\train\\akhand_b43_381.jpg: 8 duplicate labels removed\n",
      "\u001b[34m\u001b[1mtrain: \u001b[0mWARNING  D:\\Datasets\\riset_infor_dataset\\Car_Damage_Coco_Dataset_Yolov8\\images\\train\\akhand_b43_383.jpg: 4 duplicate labels removed\n",
      "\u001b[34m\u001b[1mtrain: \u001b[0mWARNING  D:\\Datasets\\riset_infor_dataset\\Car_Damage_Coco_Dataset_Yolov8\\images\\train\\akhand_b43_390.jpg: 8 duplicate labels removed\n",
      "\u001b[34m\u001b[1mtrain: \u001b[0mWARNING  D:\\Datasets\\riset_infor_dataset\\Car_Damage_Coco_Dataset_Yolov8\\images\\train\\akhand_b43_392.jpg: 4 duplicate labels removed\n",
      "\u001b[34m\u001b[1mtrain: \u001b[0mWARNING  D:\\Datasets\\riset_infor_dataset\\Car_Damage_Coco_Dataset_Yolov8\\images\\train\\akhand_b43_395.jpg: 4 duplicate labels removed\n",
      "\u001b[34m\u001b[1mtrain: \u001b[0mWARNING  D:\\Datasets\\riset_infor_dataset\\Car_Damage_Coco_Dataset_Yolov8\\images\\train\\akhand_b43_396.jpg: 4 duplicate labels removed\n",
      "\u001b[34m\u001b[1mtrain: \u001b[0mWARNING  D:\\Datasets\\riset_infor_dataset\\Car_Damage_Coco_Dataset_Yolov8\\images\\train\\akhand_b43_397.jpg: 4 duplicate labels removed\n",
      "\u001b[34m\u001b[1mtrain: \u001b[0mWARNING  D:\\Datasets\\riset_infor_dataset\\Car_Damage_Coco_Dataset_Yolov8\\images\\train\\akhand_b43_398.jpg: 4 duplicate labels removed\n",
      "\u001b[34m\u001b[1mtrain: \u001b[0mWARNING  D:\\Datasets\\riset_infor_dataset\\Car_Damage_Coco_Dataset_Yolov8\\images\\train\\akhand_b43_4.jpg: 4 duplicate labels removed\n",
      "\u001b[34m\u001b[1mtrain: \u001b[0mWARNING  D:\\Datasets\\riset_infor_dataset\\Car_Damage_Coco_Dataset_Yolov8\\images\\train\\akhand_b43_40.jpg: 4 duplicate labels removed\n",
      "\u001b[34m\u001b[1mtrain: \u001b[0mWARNING  D:\\Datasets\\riset_infor_dataset\\Car_Damage_Coco_Dataset_Yolov8\\images\\train\\akhand_b43_401.jpg: 8 duplicate labels removed\n",
      "\u001b[34m\u001b[1mtrain: \u001b[0mWARNING  D:\\Datasets\\riset_infor_dataset\\Car_Damage_Coco_Dataset_Yolov8\\images\\train\\akhand_b43_403.jpg: 4 duplicate labels removed\n",
      "\u001b[34m\u001b[1mtrain: \u001b[0mWARNING  D:\\Datasets\\riset_infor_dataset\\Car_Damage_Coco_Dataset_Yolov8\\images\\train\\akhand_b43_404.jpg: 4 duplicate labels removed\n",
      "\u001b[34m\u001b[1mtrain: \u001b[0mWARNING  D:\\Datasets\\riset_infor_dataset\\Car_Damage_Coco_Dataset_Yolov8\\images\\train\\akhand_b43_406.jpg: 8 duplicate labels removed\n",
      "\u001b[34m\u001b[1mtrain: \u001b[0mWARNING  D:\\Datasets\\riset_infor_dataset\\Car_Damage_Coco_Dataset_Yolov8\\images\\train\\akhand_b43_411.jpg: 4 duplicate labels removed\n",
      "\u001b[34m\u001b[1mtrain: \u001b[0mWARNING  D:\\Datasets\\riset_infor_dataset\\Car_Damage_Coco_Dataset_Yolov8\\images\\train\\akhand_b43_412.jpg: 4 duplicate labels removed\n",
      "\u001b[34m\u001b[1mtrain: \u001b[0mWARNING  D:\\Datasets\\riset_infor_dataset\\Car_Damage_Coco_Dataset_Yolov8\\images\\train\\akhand_b43_413.jpg: 4 duplicate labels removed\n",
      "\u001b[34m\u001b[1mtrain: \u001b[0mWARNING  D:\\Datasets\\riset_infor_dataset\\Car_Damage_Coco_Dataset_Yolov8\\images\\train\\akhand_b43_414.jpg: 4 duplicate labels removed\n",
      "\u001b[34m\u001b[1mtrain: \u001b[0mWARNING  D:\\Datasets\\riset_infor_dataset\\Car_Damage_Coco_Dataset_Yolov8\\images\\train\\akhand_b43_415.jpg: 8 duplicate labels removed\n",
      "\u001b[34m\u001b[1mtrain: \u001b[0mWARNING  D:\\Datasets\\riset_infor_dataset\\Car_Damage_Coco_Dataset_Yolov8\\images\\train\\akhand_b43_416.jpg: 4 duplicate labels removed\n",
      "\u001b[34m\u001b[1mtrain: \u001b[0mWARNING  D:\\Datasets\\riset_infor_dataset\\Car_Damage_Coco_Dataset_Yolov8\\images\\train\\akhand_b43_417.jpg: 16 duplicate labels removed\n",
      "\u001b[34m\u001b[1mtrain: \u001b[0mWARNING  D:\\Datasets\\riset_infor_dataset\\Car_Damage_Coco_Dataset_Yolov8\\images\\train\\akhand_b43_418.jpg: 16 duplicate labels removed\n",
      "\u001b[34m\u001b[1mtrain: \u001b[0mWARNING  D:\\Datasets\\riset_infor_dataset\\Car_Damage_Coco_Dataset_Yolov8\\images\\train\\akhand_b43_419.jpg: 4 duplicate labels removed\n",
      "\u001b[34m\u001b[1mtrain: \u001b[0mWARNING  D:\\Datasets\\riset_infor_dataset\\Car_Damage_Coco_Dataset_Yolov8\\images\\train\\akhand_b43_42.jpg: 4 duplicate labels removed\n",
      "\u001b[34m\u001b[1mtrain: \u001b[0mWARNING  D:\\Datasets\\riset_infor_dataset\\Car_Damage_Coco_Dataset_Yolov8\\images\\train\\akhand_b43_420.jpg: 8 duplicate labels removed\n",
      "\u001b[34m\u001b[1mtrain: \u001b[0mWARNING  D:\\Datasets\\riset_infor_dataset\\Car_Damage_Coco_Dataset_Yolov8\\images\\train\\akhand_b43_421.jpg: 12 duplicate labels removed\n",
      "\u001b[34m\u001b[1mtrain: \u001b[0mWARNING  D:\\Datasets\\riset_infor_dataset\\Car_Damage_Coco_Dataset_Yolov8\\images\\train\\akhand_b43_426.jpg: 8 duplicate labels removed\n",
      "\u001b[34m\u001b[1mtrain: \u001b[0mWARNING  D:\\Datasets\\riset_infor_dataset\\Car_Damage_Coco_Dataset_Yolov8\\images\\train\\akhand_b43_427.jpg: 4 duplicate labels removed\n",
      "\u001b[34m\u001b[1mtrain: \u001b[0mWARNING  D:\\Datasets\\riset_infor_dataset\\Car_Damage_Coco_Dataset_Yolov8\\images\\train\\akhand_b43_432.jpg: 4 duplicate labels removed\n",
      "\u001b[34m\u001b[1mtrain: \u001b[0mWARNING  D:\\Datasets\\riset_infor_dataset\\Car_Damage_Coco_Dataset_Yolov8\\images\\train\\akhand_b43_434.jpg: 4 duplicate labels removed\n",
      "\u001b[34m\u001b[1mtrain: \u001b[0mWARNING  D:\\Datasets\\riset_infor_dataset\\Car_Damage_Coco_Dataset_Yolov8\\images\\train\\akhand_b43_437.jpg: 4 duplicate labels removed\n",
      "\u001b[34m\u001b[1mtrain: \u001b[0mWARNING  D:\\Datasets\\riset_infor_dataset\\Car_Damage_Coco_Dataset_Yolov8\\images\\train\\akhand_b43_438.jpg: 8 duplicate labels removed\n",
      "\u001b[34m\u001b[1mtrain: \u001b[0mWARNING  D:\\Datasets\\riset_infor_dataset\\Car_Damage_Coco_Dataset_Yolov8\\images\\train\\akhand_b43_44.jpg: 4 duplicate labels removed\n",
      "\u001b[34m\u001b[1mtrain: \u001b[0mWARNING  D:\\Datasets\\riset_infor_dataset\\Car_Damage_Coco_Dataset_Yolov8\\images\\train\\akhand_b43_440.jpg: 4 duplicate labels removed\n",
      "\u001b[34m\u001b[1mtrain: \u001b[0mWARNING  D:\\Datasets\\riset_infor_dataset\\Car_Damage_Coco_Dataset_Yolov8\\images\\train\\akhand_b43_441.jpg: 4 duplicate labels removed\n",
      "\u001b[34m\u001b[1mtrain: \u001b[0mWARNING  D:\\Datasets\\riset_infor_dataset\\Car_Damage_Coco_Dataset_Yolov8\\images\\train\\akhand_b43_444.jpg: 4 duplicate labels removed\n",
      "\u001b[34m\u001b[1mtrain: \u001b[0mWARNING  D:\\Datasets\\riset_infor_dataset\\Car_Damage_Coco_Dataset_Yolov8\\images\\train\\akhand_b43_445.jpg: 8 duplicate labels removed\n",
      "\u001b[34m\u001b[1mtrain: \u001b[0mWARNING  D:\\Datasets\\riset_infor_dataset\\Car_Damage_Coco_Dataset_Yolov8\\images\\train\\akhand_b43_446.jpg: 4 duplicate labels removed\n",
      "\u001b[34m\u001b[1mtrain: \u001b[0mWARNING  D:\\Datasets\\riset_infor_dataset\\Car_Damage_Coco_Dataset_Yolov8\\images\\train\\akhand_b43_447.jpg: 4 duplicate labels removed\n",
      "\u001b[34m\u001b[1mtrain: \u001b[0mWARNING  D:\\Datasets\\riset_infor_dataset\\Car_Damage_Coco_Dataset_Yolov8\\images\\train\\akhand_b43_448.jpg: 4 duplicate labels removed\n",
      "\u001b[34m\u001b[1mtrain: \u001b[0mWARNING  D:\\Datasets\\riset_infor_dataset\\Car_Damage_Coco_Dataset_Yolov8\\images\\train\\akhand_b43_449.jpg: 4 duplicate labels removed\n",
      "\u001b[34m\u001b[1mtrain: \u001b[0mWARNING  D:\\Datasets\\riset_infor_dataset\\Car_Damage_Coco_Dataset_Yolov8\\images\\train\\akhand_b43_45.jpg: 4 duplicate labels removed\n",
      "\u001b[34m\u001b[1mtrain: \u001b[0mWARNING  D:\\Datasets\\riset_infor_dataset\\Car_Damage_Coco_Dataset_Yolov8\\images\\train\\akhand_b43_451.jpg: 16 duplicate labels removed\n",
      "\u001b[34m\u001b[1mtrain: \u001b[0mWARNING  D:\\Datasets\\riset_infor_dataset\\Car_Damage_Coco_Dataset_Yolov8\\images\\train\\akhand_b43_453.jpg: 4 duplicate labels removed\n",
      "\u001b[34m\u001b[1mtrain: \u001b[0mWARNING  D:\\Datasets\\riset_infor_dataset\\Car_Damage_Coco_Dataset_Yolov8\\images\\train\\akhand_b43_454.jpg: 4 duplicate labels removed\n",
      "\u001b[34m\u001b[1mtrain: \u001b[0mWARNING  D:\\Datasets\\riset_infor_dataset\\Car_Damage_Coco_Dataset_Yolov8\\images\\train\\akhand_b43_455.jpg: 4 duplicate labels removed\n",
      "\u001b[34m\u001b[1mtrain: \u001b[0mWARNING  D:\\Datasets\\riset_infor_dataset\\Car_Damage_Coco_Dataset_Yolov8\\images\\train\\akhand_b43_456.jpg: 4 duplicate labels removed\n",
      "\u001b[34m\u001b[1mtrain: \u001b[0mWARNING  D:\\Datasets\\riset_infor_dataset\\Car_Damage_Coco_Dataset_Yolov8\\images\\train\\akhand_b43_457.jpg: 4 duplicate labels removed\n",
      "\u001b[34m\u001b[1mtrain: \u001b[0mWARNING  D:\\Datasets\\riset_infor_dataset\\Car_Damage_Coco_Dataset_Yolov8\\images\\train\\akhand_b43_46.jpg: 4 duplicate labels removed\n",
      "\u001b[34m\u001b[1mtrain: \u001b[0mWARNING  D:\\Datasets\\riset_infor_dataset\\Car_Damage_Coco_Dataset_Yolov8\\images\\train\\akhand_b43_463.jpg: 4 duplicate labels removed\n",
      "\u001b[34m\u001b[1mtrain: \u001b[0mWARNING  D:\\Datasets\\riset_infor_dataset\\Car_Damage_Coco_Dataset_Yolov8\\images\\train\\akhand_b43_464.jpg: 4 duplicate labels removed\n",
      "\u001b[34m\u001b[1mtrain: \u001b[0mWARNING  D:\\Datasets\\riset_infor_dataset\\Car_Damage_Coco_Dataset_Yolov8\\images\\train\\akhand_b43_465.jpg: 4 duplicate labels removed\n",
      "\u001b[34m\u001b[1mtrain: \u001b[0mWARNING  D:\\Datasets\\riset_infor_dataset\\Car_Damage_Coco_Dataset_Yolov8\\images\\train\\akhand_b43_466.jpg: 8 duplicate labels removed\n",
      "\u001b[34m\u001b[1mtrain: \u001b[0mWARNING  D:\\Datasets\\riset_infor_dataset\\Car_Damage_Coco_Dataset_Yolov8\\images\\train\\akhand_b43_467.jpg: 12 duplicate labels removed\n",
      "\u001b[34m\u001b[1mtrain: \u001b[0mWARNING  D:\\Datasets\\riset_infor_dataset\\Car_Damage_Coco_Dataset_Yolov8\\images\\train\\akhand_b43_468.jpg: 4 duplicate labels removed\n",
      "\u001b[34m\u001b[1mtrain: \u001b[0mWARNING  D:\\Datasets\\riset_infor_dataset\\Car_Damage_Coco_Dataset_Yolov8\\images\\train\\akhand_b43_469.jpg: 4 duplicate labels removed\n",
      "\u001b[34m\u001b[1mtrain: \u001b[0mWARNING  D:\\Datasets\\riset_infor_dataset\\Car_Damage_Coco_Dataset_Yolov8\\images\\train\\akhand_b43_47.jpg: 12 duplicate labels removed\n",
      "\u001b[34m\u001b[1mtrain: \u001b[0mWARNING  D:\\Datasets\\riset_infor_dataset\\Car_Damage_Coco_Dataset_Yolov8\\images\\train\\akhand_b43_470.jpg: 4 duplicate labels removed\n",
      "\u001b[34m\u001b[1mtrain: \u001b[0mWARNING  D:\\Datasets\\riset_infor_dataset\\Car_Damage_Coco_Dataset_Yolov8\\images\\train\\akhand_b43_473.jpg: 8 duplicate labels removed\n",
      "\u001b[34m\u001b[1mtrain: \u001b[0mWARNING  D:\\Datasets\\riset_infor_dataset\\Car_Damage_Coco_Dataset_Yolov8\\images\\train\\akhand_b43_475.jpg: 4 duplicate labels removed\n",
      "\u001b[34m\u001b[1mtrain: \u001b[0mWARNING  D:\\Datasets\\riset_infor_dataset\\Car_Damage_Coco_Dataset_Yolov8\\images\\train\\akhand_b43_476.jpg: 4 duplicate labels removed\n",
      "\u001b[34m\u001b[1mtrain: \u001b[0mWARNING  D:\\Datasets\\riset_infor_dataset\\Car_Damage_Coco_Dataset_Yolov8\\images\\train\\akhand_b43_477.jpg: 4 duplicate labels removed\n",
      "\u001b[34m\u001b[1mtrain: \u001b[0mWARNING  D:\\Datasets\\riset_infor_dataset\\Car_Damage_Coco_Dataset_Yolov8\\images\\train\\akhand_b43_479.jpg: 8 duplicate labels removed\n",
      "\u001b[34m\u001b[1mtrain: \u001b[0mWARNING  D:\\Datasets\\riset_infor_dataset\\Car_Damage_Coco_Dataset_Yolov8\\images\\train\\akhand_b43_48.jpg: 24 duplicate labels removed\n",
      "\u001b[34m\u001b[1mtrain: \u001b[0mWARNING  D:\\Datasets\\riset_infor_dataset\\Car_Damage_Coco_Dataset_Yolov8\\images\\train\\akhand_b43_482.jpg: 4 duplicate labels removed\n",
      "\u001b[34m\u001b[1mtrain: \u001b[0mWARNING  D:\\Datasets\\riset_infor_dataset\\Car_Damage_Coco_Dataset_Yolov8\\images\\train\\akhand_b43_484.jpg: 12 duplicate labels removed\n",
      "\u001b[34m\u001b[1mtrain: \u001b[0mWARNING  D:\\Datasets\\riset_infor_dataset\\Car_Damage_Coco_Dataset_Yolov8\\images\\train\\akhand_b43_485.jpg: 4 duplicate labels removed\n",
      "\u001b[34m\u001b[1mtrain: \u001b[0mWARNING  D:\\Datasets\\riset_infor_dataset\\Car_Damage_Coco_Dataset_Yolov8\\images\\train\\akhand_b43_486.jpg: 4 duplicate labels removed\n",
      "\u001b[34m\u001b[1mtrain: \u001b[0mWARNING  D:\\Datasets\\riset_infor_dataset\\Car_Damage_Coco_Dataset_Yolov8\\images\\train\\akhand_b43_487.jpg: 4 duplicate labels removed\n",
      "\u001b[34m\u001b[1mtrain: \u001b[0mWARNING  D:\\Datasets\\riset_infor_dataset\\Car_Damage_Coco_Dataset_Yolov8\\images\\train\\akhand_b43_488.jpg: 12 duplicate labels removed\n",
      "\u001b[34m\u001b[1mtrain: \u001b[0mWARNING  D:\\Datasets\\riset_infor_dataset\\Car_Damage_Coco_Dataset_Yolov8\\images\\train\\akhand_b43_489.jpg: 4 duplicate labels removed\n",
      "\u001b[34m\u001b[1mtrain: \u001b[0mWARNING  D:\\Datasets\\riset_infor_dataset\\Car_Damage_Coco_Dataset_Yolov8\\images\\train\\akhand_b43_49.jpg: 4 duplicate labels removed\n",
      "\u001b[34m\u001b[1mtrain: \u001b[0mWARNING  D:\\Datasets\\riset_infor_dataset\\Car_Damage_Coco_Dataset_Yolov8\\images\\train\\akhand_b43_490.jpg: 12 duplicate labels removed\n",
      "\u001b[34m\u001b[1mtrain: \u001b[0mWARNING  D:\\Datasets\\riset_infor_dataset\\Car_Damage_Coco_Dataset_Yolov8\\images\\train\\akhand_b43_491.jpg: 4 duplicate labels removed\n",
      "\u001b[34m\u001b[1mtrain: \u001b[0mWARNING  D:\\Datasets\\riset_infor_dataset\\Car_Damage_Coco_Dataset_Yolov8\\images\\train\\akhand_b43_493.jpg: 12 duplicate labels removed\n",
      "\u001b[34m\u001b[1mtrain: \u001b[0mWARNING  D:\\Datasets\\riset_infor_dataset\\Car_Damage_Coco_Dataset_Yolov8\\images\\train\\akhand_b43_496.jpg: 8 duplicate labels removed\n",
      "\u001b[34m\u001b[1mtrain: \u001b[0mWARNING  D:\\Datasets\\riset_infor_dataset\\Car_Damage_Coco_Dataset_Yolov8\\images\\train\\akhand_b43_498.jpg: 4 duplicate labels removed\n",
      "\u001b[34m\u001b[1mtrain: \u001b[0mWARNING  D:\\Datasets\\riset_infor_dataset\\Car_Damage_Coco_Dataset_Yolov8\\images\\train\\akhand_b43_499.jpg: 4 duplicate labels removed\n",
      "\u001b[34m\u001b[1mtrain: \u001b[0mWARNING  D:\\Datasets\\riset_infor_dataset\\Car_Damage_Coco_Dataset_Yolov8\\images\\train\\akhand_b43_5.jpg: 4 duplicate labels removed\n",
      "\u001b[34m\u001b[1mtrain: \u001b[0mWARNING  D:\\Datasets\\riset_infor_dataset\\Car_Damage_Coco_Dataset_Yolov8\\images\\train\\akhand_b43_50.jpg: 12 duplicate labels removed\n",
      "\u001b[34m\u001b[1mtrain: \u001b[0mWARNING  D:\\Datasets\\riset_infor_dataset\\Car_Damage_Coco_Dataset_Yolov8\\images\\train\\akhand_b43_502.jpg: 4 duplicate labels removed\n",
      "\u001b[34m\u001b[1mtrain: \u001b[0mWARNING  D:\\Datasets\\riset_infor_dataset\\Car_Damage_Coco_Dataset_Yolov8\\images\\train\\akhand_b43_503.jpg: 4 duplicate labels removed\n",
      "\u001b[34m\u001b[1mtrain: \u001b[0mWARNING  D:\\Datasets\\riset_infor_dataset\\Car_Damage_Coco_Dataset_Yolov8\\images\\train\\akhand_b43_504.jpg: 4 duplicate labels removed\n",
      "\u001b[34m\u001b[1mtrain: \u001b[0mWARNING  D:\\Datasets\\riset_infor_dataset\\Car_Damage_Coco_Dataset_Yolov8\\images\\train\\akhand_b43_506.jpg: 4 duplicate labels removed\n",
      "\u001b[34m\u001b[1mtrain: \u001b[0mWARNING  D:\\Datasets\\riset_infor_dataset\\Car_Damage_Coco_Dataset_Yolov8\\images\\train\\akhand_b43_508.jpg: 4 duplicate labels removed\n",
      "\u001b[34m\u001b[1mtrain: \u001b[0mWARNING  D:\\Datasets\\riset_infor_dataset\\Car_Damage_Coco_Dataset_Yolov8\\images\\train\\akhand_b43_509.jpg: 4 duplicate labels removed\n",
      "\u001b[34m\u001b[1mtrain: \u001b[0mWARNING  D:\\Datasets\\riset_infor_dataset\\Car_Damage_Coco_Dataset_Yolov8\\images\\train\\akhand_b43_51.jpg: 4 duplicate labels removed\n",
      "\u001b[34m\u001b[1mtrain: \u001b[0mWARNING  D:\\Datasets\\riset_infor_dataset\\Car_Damage_Coco_Dataset_Yolov8\\images\\train\\akhand_b43_512.jpg: 4 duplicate labels removed\n",
      "\u001b[34m\u001b[1mtrain: \u001b[0mWARNING  D:\\Datasets\\riset_infor_dataset\\Car_Damage_Coco_Dataset_Yolov8\\images\\train\\akhand_b43_513.jpg: 4 duplicate labels removed\n",
      "\u001b[34m\u001b[1mtrain: \u001b[0mWARNING  D:\\Datasets\\riset_infor_dataset\\Car_Damage_Coco_Dataset_Yolov8\\images\\train\\akhand_b43_514.jpg: 4 duplicate labels removed\n",
      "\u001b[34m\u001b[1mtrain: \u001b[0mWARNING  D:\\Datasets\\riset_infor_dataset\\Car_Damage_Coco_Dataset_Yolov8\\images\\train\\akhand_b43_518.jpg: 12 duplicate labels removed\n",
      "\u001b[34m\u001b[1mtrain: \u001b[0mWARNING  D:\\Datasets\\riset_infor_dataset\\Car_Damage_Coco_Dataset_Yolov8\\images\\train\\akhand_b43_519.jpg: 8 duplicate labels removed\n",
      "\u001b[34m\u001b[1mtrain: \u001b[0mWARNING  D:\\Datasets\\riset_infor_dataset\\Car_Damage_Coco_Dataset_Yolov8\\images\\train\\akhand_b43_52.jpg: 8 duplicate labels removed\n",
      "\u001b[34m\u001b[1mtrain: \u001b[0mWARNING  D:\\Datasets\\riset_infor_dataset\\Car_Damage_Coco_Dataset_Yolov8\\images\\train\\akhand_b43_520.jpg: 4 duplicate labels removed\n",
      "\u001b[34m\u001b[1mtrain: \u001b[0mWARNING  D:\\Datasets\\riset_infor_dataset\\Car_Damage_Coco_Dataset_Yolov8\\images\\train\\akhand_b43_522.jpg: 8 duplicate labels removed\n",
      "\u001b[34m\u001b[1mtrain: \u001b[0mWARNING  D:\\Datasets\\riset_infor_dataset\\Car_Damage_Coco_Dataset_Yolov8\\images\\train\\akhand_b43_523.jpg: 8 duplicate labels removed\n",
      "\u001b[34m\u001b[1mtrain: \u001b[0mWARNING  D:\\Datasets\\riset_infor_dataset\\Car_Damage_Coco_Dataset_Yolov8\\images\\train\\akhand_b43_524.jpg: 12 duplicate labels removed\n",
      "\u001b[34m\u001b[1mtrain: \u001b[0mWARNING  D:\\Datasets\\riset_infor_dataset\\Car_Damage_Coco_Dataset_Yolov8\\images\\train\\akhand_b43_525.jpg: 4 duplicate labels removed\n",
      "\u001b[34m\u001b[1mtrain: \u001b[0mWARNING  D:\\Datasets\\riset_infor_dataset\\Car_Damage_Coco_Dataset_Yolov8\\images\\train\\akhand_b43_526.jpg: 16 duplicate labels removed\n",
      "\u001b[34m\u001b[1mtrain: \u001b[0mWARNING  D:\\Datasets\\riset_infor_dataset\\Car_Damage_Coco_Dataset_Yolov8\\images\\train\\akhand_b43_527.jpg: 8 duplicate labels removed\n",
      "\u001b[34m\u001b[1mtrain: \u001b[0mWARNING  D:\\Datasets\\riset_infor_dataset\\Car_Damage_Coco_Dataset_Yolov8\\images\\train\\akhand_b43_528.jpg: 4 duplicate labels removed\n",
      "\u001b[34m\u001b[1mtrain: \u001b[0mWARNING  D:\\Datasets\\riset_infor_dataset\\Car_Damage_Coco_Dataset_Yolov8\\images\\train\\akhand_b43_529.jpg: 4 duplicate labels removed\n",
      "\u001b[34m\u001b[1mtrain: \u001b[0mWARNING  D:\\Datasets\\riset_infor_dataset\\Car_Damage_Coco_Dataset_Yolov8\\images\\train\\akhand_b43_530.jpg: 4 duplicate labels removed\n",
      "\u001b[34m\u001b[1mtrain: \u001b[0mWARNING  D:\\Datasets\\riset_infor_dataset\\Car_Damage_Coco_Dataset_Yolov8\\images\\train\\akhand_b43_532.jpg: 8 duplicate labels removed\n",
      "\u001b[34m\u001b[1mtrain: \u001b[0mWARNING  D:\\Datasets\\riset_infor_dataset\\Car_Damage_Coco_Dataset_Yolov8\\images\\train\\akhand_b43_534.jpg: 4 duplicate labels removed\n",
      "\u001b[34m\u001b[1mtrain: \u001b[0mWARNING  D:\\Datasets\\riset_infor_dataset\\Car_Damage_Coco_Dataset_Yolov8\\images\\train\\akhand_b43_535.jpg: 4 duplicate labels removed\n",
      "\u001b[34m\u001b[1mtrain: \u001b[0mWARNING  D:\\Datasets\\riset_infor_dataset\\Car_Damage_Coco_Dataset_Yolov8\\images\\train\\akhand_b43_536.jpg: 4 duplicate labels removed\n",
      "\u001b[34m\u001b[1mtrain: \u001b[0mWARNING  D:\\Datasets\\riset_infor_dataset\\Car_Damage_Coco_Dataset_Yolov8\\images\\train\\akhand_b43_537.jpg: 8 duplicate labels removed\n",
      "\u001b[34m\u001b[1mtrain: \u001b[0mWARNING  D:\\Datasets\\riset_infor_dataset\\Car_Damage_Coco_Dataset_Yolov8\\images\\train\\akhand_b43_538.jpg: 8 duplicate labels removed\n",
      "\u001b[34m\u001b[1mtrain: \u001b[0mWARNING  D:\\Datasets\\riset_infor_dataset\\Car_Damage_Coco_Dataset_Yolov8\\images\\train\\akhand_b43_54.jpg: 4 duplicate labels removed\n",
      "\u001b[34m\u001b[1mtrain: \u001b[0mWARNING  D:\\Datasets\\riset_infor_dataset\\Car_Damage_Coco_Dataset_Yolov8\\images\\train\\akhand_b43_540.jpg: 12 duplicate labels removed\n",
      "\u001b[34m\u001b[1mtrain: \u001b[0mWARNING  D:\\Datasets\\riset_infor_dataset\\Car_Damage_Coco_Dataset_Yolov8\\images\\train\\akhand_b43_541.jpg: 4 duplicate labels removed\n",
      "\u001b[34m\u001b[1mtrain: \u001b[0mWARNING  D:\\Datasets\\riset_infor_dataset\\Car_Damage_Coco_Dataset_Yolov8\\images\\train\\akhand_b43_542.jpg: 12 duplicate labels removed\n",
      "\u001b[34m\u001b[1mtrain: \u001b[0mWARNING  D:\\Datasets\\riset_infor_dataset\\Car_Damage_Coco_Dataset_Yolov8\\images\\train\\akhand_b43_544.jpg: 8 duplicate labels removed\n",
      "\u001b[34m\u001b[1mtrain: \u001b[0mWARNING  D:\\Datasets\\riset_infor_dataset\\Car_Damage_Coco_Dataset_Yolov8\\images\\train\\akhand_b43_545.jpg: 4 duplicate labels removed\n",
      "\u001b[34m\u001b[1mtrain: \u001b[0mWARNING  D:\\Datasets\\riset_infor_dataset\\Car_Damage_Coco_Dataset_Yolov8\\images\\train\\akhand_b43_547.jpg: 4 duplicate labels removed\n",
      "\u001b[34m\u001b[1mtrain: \u001b[0mWARNING  D:\\Datasets\\riset_infor_dataset\\Car_Damage_Coco_Dataset_Yolov8\\images\\train\\akhand_b43_548.jpg: 4 duplicate labels removed\n",
      "\u001b[34m\u001b[1mtrain: \u001b[0mWARNING  D:\\Datasets\\riset_infor_dataset\\Car_Damage_Coco_Dataset_Yolov8\\images\\train\\akhand_b43_549.jpg: 4 duplicate labels removed\n",
      "\u001b[34m\u001b[1mtrain: \u001b[0mWARNING  D:\\Datasets\\riset_infor_dataset\\Car_Damage_Coco_Dataset_Yolov8\\images\\train\\akhand_b43_55.jpg: 4 duplicate labels removed\n",
      "\u001b[34m\u001b[1mtrain: \u001b[0mWARNING  D:\\Datasets\\riset_infor_dataset\\Car_Damage_Coco_Dataset_Yolov8\\images\\train\\akhand_b43_551.jpg: 4 duplicate labels removed\n",
      "\u001b[34m\u001b[1mtrain: \u001b[0mWARNING  D:\\Datasets\\riset_infor_dataset\\Car_Damage_Coco_Dataset_Yolov8\\images\\train\\akhand_b43_554.jpg: 8 duplicate labels removed\n",
      "\u001b[34m\u001b[1mtrain: \u001b[0mWARNING  D:\\Datasets\\riset_infor_dataset\\Car_Damage_Coco_Dataset_Yolov8\\images\\train\\akhand_b43_555.jpg: 8 duplicate labels removed\n",
      "\u001b[34m\u001b[1mtrain: \u001b[0mWARNING  D:\\Datasets\\riset_infor_dataset\\Car_Damage_Coco_Dataset_Yolov8\\images\\train\\akhand_b43_556.jpg: 4 duplicate labels removed\n",
      "\u001b[34m\u001b[1mtrain: \u001b[0mWARNING  D:\\Datasets\\riset_infor_dataset\\Car_Damage_Coco_Dataset_Yolov8\\images\\train\\akhand_b43_557.jpg: 4 duplicate labels removed\n",
      "\u001b[34m\u001b[1mtrain: \u001b[0mWARNING  D:\\Datasets\\riset_infor_dataset\\Car_Damage_Coco_Dataset_Yolov8\\images\\train\\akhand_b43_56.jpg: 8 duplicate labels removed\n",
      "\u001b[34m\u001b[1mtrain: \u001b[0mWARNING  D:\\Datasets\\riset_infor_dataset\\Car_Damage_Coco_Dataset_Yolov8\\images\\train\\akhand_b43_560.jpg: 8 duplicate labels removed\n",
      "\u001b[34m\u001b[1mtrain: \u001b[0mWARNING  D:\\Datasets\\riset_infor_dataset\\Car_Damage_Coco_Dataset_Yolov8\\images\\train\\akhand_b43_561.jpg: 4 duplicate labels removed\n",
      "\u001b[34m\u001b[1mtrain: \u001b[0mWARNING  D:\\Datasets\\riset_infor_dataset\\Car_Damage_Coco_Dataset_Yolov8\\images\\train\\akhand_b43_562.jpg: 8 duplicate labels removed\n",
      "\u001b[34m\u001b[1mtrain: \u001b[0mWARNING  D:\\Datasets\\riset_infor_dataset\\Car_Damage_Coco_Dataset_Yolov8\\images\\train\\akhand_b43_563.jpg: 4 duplicate labels removed\n",
      "\u001b[34m\u001b[1mtrain: \u001b[0mWARNING  D:\\Datasets\\riset_infor_dataset\\Car_Damage_Coco_Dataset_Yolov8\\images\\train\\akhand_b43_564.jpg: 4 duplicate labels removed\n",
      "\u001b[34m\u001b[1mtrain: \u001b[0mWARNING  D:\\Datasets\\riset_infor_dataset\\Car_Damage_Coco_Dataset_Yolov8\\images\\train\\akhand_b43_565.jpg: 4 duplicate labels removed\n",
      "\u001b[34m\u001b[1mtrain: \u001b[0mWARNING  D:\\Datasets\\riset_infor_dataset\\Car_Damage_Coco_Dataset_Yolov8\\images\\train\\akhand_b43_566.jpg: 4 duplicate labels removed\n",
      "\u001b[34m\u001b[1mtrain: \u001b[0mWARNING  D:\\Datasets\\riset_infor_dataset\\Car_Damage_Coco_Dataset_Yolov8\\images\\train\\akhand_b43_567.jpg: 4 duplicate labels removed\n",
      "\u001b[34m\u001b[1mtrain: \u001b[0mWARNING  D:\\Datasets\\riset_infor_dataset\\Car_Damage_Coco_Dataset_Yolov8\\images\\train\\akhand_b43_568.jpg: 4 duplicate labels removed\n",
      "\u001b[34m\u001b[1mtrain: \u001b[0mWARNING  D:\\Datasets\\riset_infor_dataset\\Car_Damage_Coco_Dataset_Yolov8\\images\\train\\akhand_b43_569.jpg: 4 duplicate labels removed\n",
      "\u001b[34m\u001b[1mtrain: \u001b[0mWARNING  D:\\Datasets\\riset_infor_dataset\\Car_Damage_Coco_Dataset_Yolov8\\images\\train\\akhand_b43_57.jpg: 8 duplicate labels removed\n",
      "\u001b[34m\u001b[1mtrain: \u001b[0mWARNING  D:\\Datasets\\riset_infor_dataset\\Car_Damage_Coco_Dataset_Yolov8\\images\\train\\akhand_b43_570.jpg: 4 duplicate labels removed\n",
      "\u001b[34m\u001b[1mtrain: \u001b[0mWARNING  D:\\Datasets\\riset_infor_dataset\\Car_Damage_Coco_Dataset_Yolov8\\images\\train\\akhand_b43_571.jpg: 4 duplicate labels removed\n",
      "\u001b[34m\u001b[1mtrain: \u001b[0mWARNING  D:\\Datasets\\riset_infor_dataset\\Car_Damage_Coco_Dataset_Yolov8\\images\\train\\akhand_b43_574.jpg: 8 duplicate labels removed\n",
      "\u001b[34m\u001b[1mtrain: \u001b[0mWARNING  D:\\Datasets\\riset_infor_dataset\\Car_Damage_Coco_Dataset_Yolov8\\images\\train\\akhand_b43_577.jpg: 8 duplicate labels removed\n",
      "\u001b[34m\u001b[1mtrain: \u001b[0mWARNING  D:\\Datasets\\riset_infor_dataset\\Car_Damage_Coco_Dataset_Yolov8\\images\\train\\akhand_b43_578.jpg: 4 duplicate labels removed\n",
      "\u001b[34m\u001b[1mtrain: \u001b[0mWARNING  D:\\Datasets\\riset_infor_dataset\\Car_Damage_Coco_Dataset_Yolov8\\images\\train\\akhand_b43_582.jpg: 4 duplicate labels removed\n",
      "\u001b[34m\u001b[1mtrain: \u001b[0mWARNING  D:\\Datasets\\riset_infor_dataset\\Car_Damage_Coco_Dataset_Yolov8\\images\\train\\akhand_b43_585.jpg: 4 duplicate labels removed\n",
      "\u001b[34m\u001b[1mtrain: \u001b[0mWARNING  D:\\Datasets\\riset_infor_dataset\\Car_Damage_Coco_Dataset_Yolov8\\images\\train\\akhand_b43_586.jpg: 4 duplicate labels removed\n",
      "\u001b[34m\u001b[1mtrain: \u001b[0mWARNING  D:\\Datasets\\riset_infor_dataset\\Car_Damage_Coco_Dataset_Yolov8\\images\\train\\akhand_b43_587.jpg: 8 duplicate labels removed\n",
      "\u001b[34m\u001b[1mtrain: \u001b[0mWARNING  D:\\Datasets\\riset_infor_dataset\\Car_Damage_Coco_Dataset_Yolov8\\images\\train\\akhand_b43_589.jpg: 4 duplicate labels removed\n",
      "\u001b[34m\u001b[1mtrain: \u001b[0mWARNING  D:\\Datasets\\riset_infor_dataset\\Car_Damage_Coco_Dataset_Yolov8\\images\\train\\akhand_b43_593.jpg: 8 duplicate labels removed\n",
      "\u001b[34m\u001b[1mtrain: \u001b[0mWARNING  D:\\Datasets\\riset_infor_dataset\\Car_Damage_Coco_Dataset_Yolov8\\images\\train\\akhand_b43_595.jpg: 8 duplicate labels removed\n",
      "\u001b[34m\u001b[1mtrain: \u001b[0mWARNING  D:\\Datasets\\riset_infor_dataset\\Car_Damage_Coco_Dataset_Yolov8\\images\\train\\akhand_b43_596.jpg: 4 duplicate labels removed\n",
      "\u001b[34m\u001b[1mtrain: \u001b[0mWARNING  D:\\Datasets\\riset_infor_dataset\\Car_Damage_Coco_Dataset_Yolov8\\images\\train\\akhand_b43_597.jpg: 4 duplicate labels removed\n",
      "\u001b[34m\u001b[1mtrain: \u001b[0mWARNING  D:\\Datasets\\riset_infor_dataset\\Car_Damage_Coco_Dataset_Yolov8\\images\\train\\akhand_b43_599.jpg: 8 duplicate labels removed\n",
      "\u001b[34m\u001b[1mtrain: \u001b[0mWARNING  D:\\Datasets\\riset_infor_dataset\\Car_Damage_Coco_Dataset_Yolov8\\images\\train\\akhand_b43_6.jpg: 4 duplicate labels removed\n",
      "\u001b[34m\u001b[1mtrain: \u001b[0mWARNING  D:\\Datasets\\riset_infor_dataset\\Car_Damage_Coco_Dataset_Yolov8\\images\\train\\akhand_b43_60.jpg: 20 duplicate labels removed\n",
      "\u001b[34m\u001b[1mtrain: \u001b[0mWARNING  D:\\Datasets\\riset_infor_dataset\\Car_Damage_Coco_Dataset_Yolov8\\images\\train\\akhand_b43_600.jpg: 8 duplicate labels removed\n",
      "\u001b[34m\u001b[1mtrain: \u001b[0mWARNING  D:\\Datasets\\riset_infor_dataset\\Car_Damage_Coco_Dataset_Yolov8\\images\\train\\akhand_b43_61.jpg: 4 duplicate labels removed\n",
      "\u001b[34m\u001b[1mtrain: \u001b[0mWARNING  D:\\Datasets\\riset_infor_dataset\\Car_Damage_Coco_Dataset_Yolov8\\images\\train\\akhand_b43_62.jpg: 16 duplicate labels removed\n",
      "\u001b[34m\u001b[1mtrain: \u001b[0mWARNING  D:\\Datasets\\riset_infor_dataset\\Car_Damage_Coco_Dataset_Yolov8\\images\\train\\akhand_b43_64.jpg: 4 duplicate labels removed\n",
      "\u001b[34m\u001b[1mtrain: \u001b[0mWARNING  D:\\Datasets\\riset_infor_dataset\\Car_Damage_Coco_Dataset_Yolov8\\images\\train\\akhand_b43_7.jpg: 4 duplicate labels removed\n",
      "\u001b[34m\u001b[1mtrain: \u001b[0mWARNING  D:\\Datasets\\riset_infor_dataset\\Car_Damage_Coco_Dataset_Yolov8\\images\\train\\akhand_b43_70.jpg: 8 duplicate labels removed\n",
      "\u001b[34m\u001b[1mtrain: \u001b[0mWARNING  D:\\Datasets\\riset_infor_dataset\\Car_Damage_Coco_Dataset_Yolov8\\images\\train\\akhand_b43_73.jpg: 12 duplicate labels removed\n",
      "\u001b[34m\u001b[1mtrain: \u001b[0mWARNING  D:\\Datasets\\riset_infor_dataset\\Car_Damage_Coco_Dataset_Yolov8\\images\\train\\akhand_b43_76.jpg: 8 duplicate labels removed\n",
      "\u001b[34m\u001b[1mtrain: \u001b[0mWARNING  D:\\Datasets\\riset_infor_dataset\\Car_Damage_Coco_Dataset_Yolov8\\images\\train\\akhand_b43_77.jpg: 4 duplicate labels removed\n",
      "\u001b[34m\u001b[1mtrain: \u001b[0mWARNING  D:\\Datasets\\riset_infor_dataset\\Car_Damage_Coco_Dataset_Yolov8\\images\\train\\akhand_b43_78.jpg: 4 duplicate labels removed\n",
      "\u001b[34m\u001b[1mtrain: \u001b[0mWARNING  D:\\Datasets\\riset_infor_dataset\\Car_Damage_Coco_Dataset_Yolov8\\images\\train\\akhand_b43_79.jpg: 4 duplicate labels removed\n",
      "\u001b[34m\u001b[1mtrain: \u001b[0mWARNING  D:\\Datasets\\riset_infor_dataset\\Car_Damage_Coco_Dataset_Yolov8\\images\\train\\akhand_b43_8.jpg: 4 duplicate labels removed\n",
      "\u001b[34m\u001b[1mtrain: \u001b[0mWARNING  D:\\Datasets\\riset_infor_dataset\\Car_Damage_Coco_Dataset_Yolov8\\images\\train\\akhand_b43_80.jpg: 8 duplicate labels removed\n",
      "\u001b[34m\u001b[1mtrain: \u001b[0mWARNING  D:\\Datasets\\riset_infor_dataset\\Car_Damage_Coco_Dataset_Yolov8\\images\\train\\akhand_b43_81.jpg: 8 duplicate labels removed\n",
      "\u001b[34m\u001b[1mtrain: \u001b[0mWARNING  D:\\Datasets\\riset_infor_dataset\\Car_Damage_Coco_Dataset_Yolov8\\images\\train\\akhand_b43_82.jpg: 8 duplicate labels removed\n",
      "\u001b[34m\u001b[1mtrain: \u001b[0mWARNING  D:\\Datasets\\riset_infor_dataset\\Car_Damage_Coco_Dataset_Yolov8\\images\\train\\akhand_b43_83.jpg: 4 duplicate labels removed\n",
      "\u001b[34m\u001b[1mtrain: \u001b[0mWARNING  D:\\Datasets\\riset_infor_dataset\\Car_Damage_Coco_Dataset_Yolov8\\images\\train\\akhand_b43_85.jpg: 4 duplicate labels removed\n",
      "\u001b[34m\u001b[1mtrain: \u001b[0mWARNING  D:\\Datasets\\riset_infor_dataset\\Car_Damage_Coco_Dataset_Yolov8\\images\\train\\akhand_b43_86.jpg: 4 duplicate labels removed\n",
      "\u001b[34m\u001b[1mtrain: \u001b[0mWARNING  D:\\Datasets\\riset_infor_dataset\\Car_Damage_Coco_Dataset_Yolov8\\images\\train\\akhand_b43_88.jpg: 4 duplicate labels removed\n",
      "\u001b[34m\u001b[1mtrain: \u001b[0mWARNING  D:\\Datasets\\riset_infor_dataset\\Car_Damage_Coco_Dataset_Yolov8\\images\\train\\akhand_b43_9.jpg: 4 duplicate labels removed\n",
      "\u001b[34m\u001b[1mtrain: \u001b[0mWARNING  D:\\Datasets\\riset_infor_dataset\\Car_Damage_Coco_Dataset_Yolov8\\images\\train\\akhand_b43_90.jpg: 4 duplicate labels removed\n",
      "\u001b[34m\u001b[1mtrain: \u001b[0mWARNING  D:\\Datasets\\riset_infor_dataset\\Car_Damage_Coco_Dataset_Yolov8\\images\\train\\akhand_b43_91.jpg: 4 duplicate labels removed\n",
      "\u001b[34m\u001b[1mtrain: \u001b[0mWARNING  D:\\Datasets\\riset_infor_dataset\\Car_Damage_Coco_Dataset_Yolov8\\images\\train\\akhand_b43_93.jpg: 12 duplicate labels removed\n",
      "\u001b[34m\u001b[1mtrain: \u001b[0mWARNING  D:\\Datasets\\riset_infor_dataset\\Car_Damage_Coco_Dataset_Yolov8\\images\\train\\akhand_b43_94.jpg: 4 duplicate labels removed\n",
      "\u001b[34m\u001b[1mtrain: \u001b[0mWARNING  D:\\Datasets\\riset_infor_dataset\\Car_Damage_Coco_Dataset_Yolov8\\images\\train\\akhand_b43_97.jpg: 4 duplicate labels removed\n",
      "\u001b[34m\u001b[1mtrain: \u001b[0mWARNING  D:\\Datasets\\riset_infor_dataset\\Car_Damage_Coco_Dataset_Yolov8\\images\\train\\akhand_b43_98.jpg: 8 duplicate labels removed\n",
      "\u001b[34m\u001b[1mtrain: \u001b[0mWARNING  D:\\Datasets\\riset_infor_dataset\\Car_Damage_Coco_Dataset_Yolov8\\images\\train\\akhand_b43_99.jpg: 12 duplicate labels removed\n",
      "\u001b[34m\u001b[1mtrain: \u001b[0mWARNING  D:\\Datasets\\riset_infor_dataset\\Car_Damage_Coco_Dataset_Yolov8\\images\\train\\coco10.jpg: 40 duplicate labels removed\n",
      "\u001b[34m\u001b[1mtrain: \u001b[0mWARNING  D:\\Datasets\\riset_infor_dataset\\Car_Damage_Coco_Dataset_Yolov8\\images\\train\\coco13.jpg: 4 duplicate labels removed\n",
      "\u001b[34m\u001b[1mtrain: \u001b[0mWARNING  D:\\Datasets\\riset_infor_dataset\\Car_Damage_Coco_Dataset_Yolov8\\images\\train\\coco14.jpg: 4 duplicate labels removed\n",
      "\u001b[34m\u001b[1mtrain: \u001b[0mWARNING  D:\\Datasets\\riset_infor_dataset\\Car_Damage_Coco_Dataset_Yolov8\\images\\train\\coco15.jpg: 4 duplicate labels removed\n",
      "\u001b[34m\u001b[1mtrain: \u001b[0mWARNING  D:\\Datasets\\riset_infor_dataset\\Car_Damage_Coco_Dataset_Yolov8\\images\\train\\coco16.jpg: 8 duplicate labels removed\n",
      "\u001b[34m\u001b[1mtrain: \u001b[0mWARNING  D:\\Datasets\\riset_infor_dataset\\Car_Damage_Coco_Dataset_Yolov8\\images\\train\\coco17.jpg: 8 duplicate labels removed\n",
      "\u001b[34m\u001b[1mtrain: \u001b[0mWARNING  D:\\Datasets\\riset_infor_dataset\\Car_Damage_Coco_Dataset_Yolov8\\images\\train\\coco18.jpg: 40 duplicate labels removed\n",
      "\u001b[34m\u001b[1mtrain: \u001b[0mWARNING  D:\\Datasets\\riset_infor_dataset\\Car_Damage_Coco_Dataset_Yolov8\\images\\train\\coco19.jpg: 8 duplicate labels removed\n",
      "\u001b[34m\u001b[1mtrain: \u001b[0mWARNING  D:\\Datasets\\riset_infor_dataset\\Car_Damage_Coco_Dataset_Yolov8\\images\\train\\coco2.jpg: 8 duplicate labels removed\n",
      "\u001b[34m\u001b[1mtrain: \u001b[0mWARNING  D:\\Datasets\\riset_infor_dataset\\Car_Damage_Coco_Dataset_Yolov8\\images\\train\\coco20.jpg: 12 duplicate labels removed\n",
      "\u001b[34m\u001b[1mtrain: \u001b[0mWARNING  D:\\Datasets\\riset_infor_dataset\\Car_Damage_Coco_Dataset_Yolov8\\images\\train\\coco21.jpg: 4 duplicate labels removed\n",
      "\u001b[34m\u001b[1mtrain: \u001b[0mWARNING  D:\\Datasets\\riset_infor_dataset\\Car_Damage_Coco_Dataset_Yolov8\\images\\train\\coco23.jpg: 4 duplicate labels removed\n",
      "\u001b[34m\u001b[1mtrain: \u001b[0mWARNING  D:\\Datasets\\riset_infor_dataset\\Car_Damage_Coco_Dataset_Yolov8\\images\\train\\coco25.jpg: 20 duplicate labels removed\n",
      "\u001b[34m\u001b[1mtrain: \u001b[0mWARNING  D:\\Datasets\\riset_infor_dataset\\Car_Damage_Coco_Dataset_Yolov8\\images\\train\\coco26.jpg: 12 duplicate labels removed\n",
      "\u001b[34m\u001b[1mtrain: \u001b[0mWARNING  D:\\Datasets\\riset_infor_dataset\\Car_Damage_Coco_Dataset_Yolov8\\images\\train\\coco27.jpg: 8 duplicate labels removed\n",
      "\u001b[34m\u001b[1mtrain: \u001b[0mWARNING  D:\\Datasets\\riset_infor_dataset\\Car_Damage_Coco_Dataset_Yolov8\\images\\train\\coco29.jpg: 8 duplicate labels removed\n",
      "\u001b[34m\u001b[1mtrain: \u001b[0mWARNING  D:\\Datasets\\riset_infor_dataset\\Car_Damage_Coco_Dataset_Yolov8\\images\\train\\coco30.jpg: 12 duplicate labels removed\n",
      "\u001b[34m\u001b[1mtrain: \u001b[0mWARNING  D:\\Datasets\\riset_infor_dataset\\Car_Damage_Coco_Dataset_Yolov8\\images\\train\\coco31.jpg: 4 duplicate labels removed\n",
      "\u001b[34m\u001b[1mtrain: \u001b[0mWARNING  D:\\Datasets\\riset_infor_dataset\\Car_Damage_Coco_Dataset_Yolov8\\images\\train\\coco33.jpg: 8 duplicate labels removed\n",
      "\u001b[34m\u001b[1mtrain: \u001b[0mWARNING  D:\\Datasets\\riset_infor_dataset\\Car_Damage_Coco_Dataset_Yolov8\\images\\train\\coco34.jpg: 4 duplicate labels removed\n",
      "\u001b[34m\u001b[1mtrain: \u001b[0mWARNING  D:\\Datasets\\riset_infor_dataset\\Car_Damage_Coco_Dataset_Yolov8\\images\\train\\coco36.jpg: 24 duplicate labels removed\n",
      "\u001b[34m\u001b[1mtrain: \u001b[0mWARNING  D:\\Datasets\\riset_infor_dataset\\Car_Damage_Coco_Dataset_Yolov8\\images\\train\\coco37.jpg: 4 duplicate labels removed\n",
      "\u001b[34m\u001b[1mtrain: \u001b[0mWARNING  D:\\Datasets\\riset_infor_dataset\\Car_Damage_Coco_Dataset_Yolov8\\images\\train\\coco38.jpg: 8 duplicate labels removed\n",
      "\u001b[34m\u001b[1mtrain: \u001b[0mWARNING  D:\\Datasets\\riset_infor_dataset\\Car_Damage_Coco_Dataset_Yolov8\\images\\train\\coco39.jpg: 12 duplicate labels removed\n",
      "\u001b[34m\u001b[1mtrain: \u001b[0mWARNING  D:\\Datasets\\riset_infor_dataset\\Car_Damage_Coco_Dataset_Yolov8\\images\\train\\coco4.jpg: 4 duplicate labels removed\n",
      "\u001b[34m\u001b[1mtrain: \u001b[0mWARNING  D:\\Datasets\\riset_infor_dataset\\Car_Damage_Coco_Dataset_Yolov8\\images\\train\\coco40.jpg: 8 duplicate labels removed\n",
      "\u001b[34m\u001b[1mtrain: \u001b[0mWARNING  D:\\Datasets\\riset_infor_dataset\\Car_Damage_Coco_Dataset_Yolov8\\images\\train\\coco41.jpg: 4 duplicate labels removed\n",
      "\u001b[34m\u001b[1mtrain: \u001b[0mWARNING  D:\\Datasets\\riset_infor_dataset\\Car_Damage_Coco_Dataset_Yolov8\\images\\train\\coco43.jpg: 8 duplicate labels removed\n",
      "\u001b[34m\u001b[1mtrain: \u001b[0mWARNING  D:\\Datasets\\riset_infor_dataset\\Car_Damage_Coco_Dataset_Yolov8\\images\\train\\coco44.jpg: 8 duplicate labels removed\n",
      "\u001b[34m\u001b[1mtrain: \u001b[0mWARNING  D:\\Datasets\\riset_infor_dataset\\Car_Damage_Coco_Dataset_Yolov8\\images\\train\\coco46.jpg: 12 duplicate labels removed\n",
      "\u001b[34m\u001b[1mtrain: \u001b[0mWARNING  D:\\Datasets\\riset_infor_dataset\\Car_Damage_Coco_Dataset_Yolov8\\images\\train\\coco47.jpg: 4 duplicate labels removed\n",
      "\u001b[34m\u001b[1mtrain: \u001b[0mWARNING  D:\\Datasets\\riset_infor_dataset\\Car_Damage_Coco_Dataset_Yolov8\\images\\train\\coco48.jpg: 8 duplicate labels removed\n",
      "\u001b[34m\u001b[1mtrain: \u001b[0mWARNING  D:\\Datasets\\riset_infor_dataset\\Car_Damage_Coco_Dataset_Yolov8\\images\\train\\coco49.jpg: 4 duplicate labels removed\n",
      "\u001b[34m\u001b[1mtrain: \u001b[0mWARNING  D:\\Datasets\\riset_infor_dataset\\Car_Damage_Coco_Dataset_Yolov8\\images\\train\\coco5.jpg: 28 duplicate labels removed\n",
      "\u001b[34m\u001b[1mtrain: \u001b[0mWARNING  D:\\Datasets\\riset_infor_dataset\\Car_Damage_Coco_Dataset_Yolov8\\images\\train\\coco50.jpg: 8 duplicate labels removed\n",
      "\u001b[34m\u001b[1mtrain: \u001b[0mWARNING  D:\\Datasets\\riset_infor_dataset\\Car_Damage_Coco_Dataset_Yolov8\\images\\train\\coco51.jpg: 4 duplicate labels removed\n",
      "\u001b[34m\u001b[1mtrain: \u001b[0mWARNING  D:\\Datasets\\riset_infor_dataset\\Car_Damage_Coco_Dataset_Yolov8\\images\\train\\coco52.jpg: 12 duplicate labels removed\n",
      "\u001b[34m\u001b[1mtrain: \u001b[0mWARNING  D:\\Datasets\\riset_infor_dataset\\Car_Damage_Coco_Dataset_Yolov8\\images\\train\\coco53.jpg: 8 duplicate labels removed\n",
      "\u001b[34m\u001b[1mtrain: \u001b[0mWARNING  D:\\Datasets\\riset_infor_dataset\\Car_Damage_Coco_Dataset_Yolov8\\images\\train\\coco54.jpg: 4 duplicate labels removed\n",
      "\u001b[34m\u001b[1mtrain: \u001b[0mWARNING  D:\\Datasets\\riset_infor_dataset\\Car_Damage_Coco_Dataset_Yolov8\\images\\train\\coco55.jpg: 4 duplicate labels removed\n",
      "\u001b[34m\u001b[1mtrain: \u001b[0mWARNING  D:\\Datasets\\riset_infor_dataset\\Car_Damage_Coco_Dataset_Yolov8\\images\\train\\coco56.jpg: 4 duplicate labels removed\n",
      "\u001b[34m\u001b[1mtrain: \u001b[0mWARNING  D:\\Datasets\\riset_infor_dataset\\Car_Damage_Coco_Dataset_Yolov8\\images\\train\\coco57.jpg: 4 duplicate labels removed\n",
      "\u001b[34m\u001b[1mtrain: \u001b[0mWARNING  D:\\Datasets\\riset_infor_dataset\\Car_Damage_Coco_Dataset_Yolov8\\images\\train\\coco58.jpg: 12 duplicate labels removed\n",
      "\u001b[34m\u001b[1mtrain: \u001b[0mWARNING  D:\\Datasets\\riset_infor_dataset\\Car_Damage_Coco_Dataset_Yolov8\\images\\train\\coco59.jpg: 12 duplicate labels removed\n",
      "\u001b[34m\u001b[1mtrain: \u001b[0mWARNING  D:\\Datasets\\riset_infor_dataset\\Car_Damage_Coco_Dataset_Yolov8\\images\\train\\coco6.jpg: 24 duplicate labels removed\n",
      "\u001b[34m\u001b[1mtrain: \u001b[0mWARNING  D:\\Datasets\\riset_infor_dataset\\Car_Damage_Coco_Dataset_Yolov8\\images\\train\\coco61.jpg: 4 duplicate labels removed\n",
      "\u001b[34m\u001b[1mtrain: \u001b[0mWARNING  D:\\Datasets\\riset_infor_dataset\\Car_Damage_Coco_Dataset_Yolov8\\images\\train\\coco63.jpg: 4 duplicate labels removed\n",
      "\u001b[34m\u001b[1mtrain: \u001b[0mWARNING  D:\\Datasets\\riset_infor_dataset\\Car_Damage_Coco_Dataset_Yolov8\\images\\train\\coco64.jpg: 4 duplicate labels removed\n",
      "\u001b[34m\u001b[1mtrain: \u001b[0mWARNING  D:\\Datasets\\riset_infor_dataset\\Car_Damage_Coco_Dataset_Yolov8\\images\\train\\coco68.jpg: 4 duplicate labels removed\n",
      "\u001b[34m\u001b[1mtrain: \u001b[0mWARNING  D:\\Datasets\\riset_infor_dataset\\Car_Damage_Coco_Dataset_Yolov8\\images\\train\\coco69.jpg: 4 duplicate labels removed\n",
      "\u001b[34m\u001b[1mtrain: \u001b[0mWARNING  D:\\Datasets\\riset_infor_dataset\\Car_Damage_Coco_Dataset_Yolov8\\images\\train\\coco7.jpg: 20 duplicate labels removed\n",
      "\u001b[34m\u001b[1mtrain: \u001b[0mWARNING  D:\\Datasets\\riset_infor_dataset\\Car_Damage_Coco_Dataset_Yolov8\\images\\train\\coco70.jpg: 4 duplicate labels removed\n",
      "\u001b[34m\u001b[1mtrain: \u001b[0mWARNING  D:\\Datasets\\riset_infor_dataset\\Car_Damage_Coco_Dataset_Yolov8\\images\\train\\coco71.jpg: 16 duplicate labels removed\n",
      "\u001b[34m\u001b[1mtrain: \u001b[0mWARNING  D:\\Datasets\\riset_infor_dataset\\Car_Damage_Coco_Dataset_Yolov8\\images\\train\\coco73.jpg: 8 duplicate labels removed\n",
      "\u001b[34m\u001b[1mtrain: \u001b[0mWARNING  D:\\Datasets\\riset_infor_dataset\\Car_Damage_Coco_Dataset_Yolov8\\images\\train\\coco75.jpg: 4 duplicate labels removed\n",
      "\u001b[34m\u001b[1mtrain: \u001b[0mWARNING  D:\\Datasets\\riset_infor_dataset\\Car_Damage_Coco_Dataset_Yolov8\\images\\train\\coco76.jpg: 16 duplicate labels removed\n",
      "\u001b[34m\u001b[1mtrain: \u001b[0mWARNING  D:\\Datasets\\riset_infor_dataset\\Car_Damage_Coco_Dataset_Yolov8\\images\\train\\coco77.jpg: 4 duplicate labels removed\n",
      "\u001b[34m\u001b[1mtrain: \u001b[0mWARNING  D:\\Datasets\\riset_infor_dataset\\Car_Damage_Coco_Dataset_Yolov8\\images\\train\\coco79.jpg: 12 duplicate labels removed\n",
      "\u001b[34m\u001b[1mtrain: \u001b[0mWARNING  D:\\Datasets\\riset_infor_dataset\\Car_Damage_Coco_Dataset_Yolov8\\images\\train\\coco80.jpg: 4 duplicate labels removed\n",
      "\u001b[34m\u001b[1mtrain: \u001b[0mNew cache created: D:\\Datasets\\riset_infor_dataset\\Car_Damage_Coco_Dataset_Yolov8\\labels\\train.cache\n"
     ]
    },
    {
     "name": "stderr",
     "output_type": "stream",
     "text": [
      "\n",
      "\u001b[34m\u001b[1mval: \u001b[0mScanning D:\\Datasets\\riset_infor_dataset\\Car_Damage_Coco_Dataset_Yolov8\\labels\\val... 196 images, 12 backgrounds, 0 corrupt: 100%|██████████| 208/208 [00:00<00:00, 882.85it/s]"
     ]
    },
    {
     "name": "stdout",
     "output_type": "stream",
     "text": [
      "\u001b[34m\u001b[1mval: \u001b[0mWARNING  D:\\Datasets\\riset_infor_dataset\\Car_Damage_Coco_Dataset_Yolov8\\images\\val\\114_jpg.rf.cfabf01d2e3f751396eaa9660070fd48.jpg: 4 duplicate labels removed\n",
      "\u001b[34m\u001b[1mval: \u001b[0mWARNING  D:\\Datasets\\riset_infor_dataset\\Car_Damage_Coco_Dataset_Yolov8\\images\\val\\123_jpg.rf.bdecf2e72e09ddfc9ff20d5334144e23.jpg: 8 duplicate labels removed\n",
      "\u001b[34m\u001b[1mval: \u001b[0mWARNING  D:\\Datasets\\riset_infor_dataset\\Car_Damage_Coco_Dataset_Yolov8\\images\\val\\132_jpg.rf.0117b03b1bb88f7edf293a704383350f.jpg: 4 duplicate labels removed\n",
      "\u001b[34m\u001b[1mval: \u001b[0mWARNING  D:\\Datasets\\riset_infor_dataset\\Car_Damage_Coco_Dataset_Yolov8\\images\\val\\14_jpg.rf.17d0950f1a5740f28968b97288aa9285.jpg: 4 duplicate labels removed\n",
      "\u001b[34m\u001b[1mval: \u001b[0mWARNING  D:\\Datasets\\riset_infor_dataset\\Car_Damage_Coco_Dataset_Yolov8\\images\\val\\15_jpg.rf.34119d478a347be72f231a096f078449.jpg: 4 duplicate labels removed\n",
      "\u001b[34m\u001b[1mval: \u001b[0mWARNING  D:\\Datasets\\riset_infor_dataset\\Car_Damage_Coco_Dataset_Yolov8\\images\\val\\160_jpg.rf.697c4d606e9f15b7ac8506e27077e541.jpg: 4 duplicate labels removed\n",
      "\u001b[34m\u001b[1mval: \u001b[0mWARNING  D:\\Datasets\\riset_infor_dataset\\Car_Damage_Coco_Dataset_Yolov8\\images\\val\\24_jpg.rf.0da478ebe1922a59d65dddd8c6cd5cd5.jpg: 4 duplicate labels removed\n",
      "\u001b[34m\u001b[1mval: \u001b[0mWARNING  D:\\Datasets\\riset_infor_dataset\\Car_Damage_Coco_Dataset_Yolov8\\images\\val\\35_jpg.rf.9502e322686b2e0c8e44d68a8174a273.jpg: 4 duplicate labels removed\n",
      "\u001b[34m\u001b[1mval: \u001b[0mWARNING  D:\\Datasets\\riset_infor_dataset\\Car_Damage_Coco_Dataset_Yolov8\\images\\val\\38_jpg.rf.692a2c0bd4a2b0211cdf1e1557116e2b.jpg: 4 duplicate labels removed\n",
      "\u001b[34m\u001b[1mval: \u001b[0mWARNING  D:\\Datasets\\riset_infor_dataset\\Car_Damage_Coco_Dataset_Yolov8\\images\\val\\40_jpg.rf.beb512169c2f7661a002f1ba87daaa54.jpg: 4 duplicate labels removed\n",
      "\u001b[34m\u001b[1mval: \u001b[0mWARNING  D:\\Datasets\\riset_infor_dataset\\Car_Damage_Coco_Dataset_Yolov8\\images\\val\\51_jpg.rf.1f88980c7d3f7bdcb903e994c9f80373.jpg: 4 duplicate labels removed\n",
      "\u001b[34m\u001b[1mval: \u001b[0mWARNING  D:\\Datasets\\riset_infor_dataset\\Car_Damage_Coco_Dataset_Yolov8\\images\\val\\59_jpg.rf.87021c408ca5142a18a402235ab2d818.jpg: 8 duplicate labels removed\n",
      "\u001b[34m\u001b[1mval: \u001b[0mWARNING  D:\\Datasets\\riset_infor_dataset\\Car_Damage_Coco_Dataset_Yolov8\\images\\val\\69_jpg.rf.7abf8e116e0abfaca60a3c1f40f0306c.jpg: 8 duplicate labels removed\n",
      "\u001b[34m\u001b[1mval: \u001b[0mWARNING  D:\\Datasets\\riset_infor_dataset\\Car_Damage_Coco_Dataset_Yolov8\\images\\val\\70_jpg.rf.9611cffdf806e6e54453ffab66edacae.jpg: 8 duplicate labels removed\n",
      "\u001b[34m\u001b[1mval: \u001b[0mWARNING  D:\\Datasets\\riset_infor_dataset\\Car_Damage_Coco_Dataset_Yolov8\\images\\val\\7_jpg.rf.c10b1499e8334291cc4611231e6705b7.jpg: 8 duplicate labels removed\n",
      "\u001b[34m\u001b[1mval: \u001b[0mWARNING  D:\\Datasets\\riset_infor_dataset\\Car_Damage_Coco_Dataset_Yolov8\\images\\val\\81_jpg.rf.5ea9446b9cae3e0c259575f5fbdbece4.jpg: 8 duplicate labels removed\n",
      "\u001b[34m\u001b[1mval: \u001b[0mWARNING  D:\\Datasets\\riset_infor_dataset\\Car_Damage_Coco_Dataset_Yolov8\\images\\val\\akhand_b43_100.jpg: 8 duplicate labels removed\n",
      "\u001b[34m\u001b[1mval: \u001b[0mWARNING  D:\\Datasets\\riset_infor_dataset\\Car_Damage_Coco_Dataset_Yolov8\\images\\val\\akhand_b43_102.jpg: 4 duplicate labels removed\n",
      "\u001b[34m\u001b[1mval: \u001b[0mWARNING  D:\\Datasets\\riset_infor_dataset\\Car_Damage_Coco_Dataset_Yolov8\\images\\val\\akhand_b43_105.jpg: 4 duplicate labels removed\n",
      "\u001b[34m\u001b[1mval: \u001b[0mWARNING  D:\\Datasets\\riset_infor_dataset\\Car_Damage_Coco_Dataset_Yolov8\\images\\val\\akhand_b43_106.jpg: 20 duplicate labels removed\n",
      "\u001b[34m\u001b[1mval: \u001b[0mWARNING  D:\\Datasets\\riset_infor_dataset\\Car_Damage_Coco_Dataset_Yolov8\\images\\val\\akhand_b43_109.jpg: 4 duplicate labels removed\n",
      "\u001b[34m\u001b[1mval: \u001b[0mWARNING  D:\\Datasets\\riset_infor_dataset\\Car_Damage_Coco_Dataset_Yolov8\\images\\val\\akhand_b43_112.jpg: 4 duplicate labels removed\n",
      "\u001b[34m\u001b[1mval: \u001b[0mWARNING  D:\\Datasets\\riset_infor_dataset\\Car_Damage_Coco_Dataset_Yolov8\\images\\val\\akhand_b43_12.jpg: 4 duplicate labels removed\n",
      "\u001b[34m\u001b[1mval: \u001b[0mWARNING  D:\\Datasets\\riset_infor_dataset\\Car_Damage_Coco_Dataset_Yolov8\\images\\val\\akhand_b43_120.jpg: 8 duplicate labels removed\n",
      "\u001b[34m\u001b[1mval: \u001b[0mWARNING  D:\\Datasets\\riset_infor_dataset\\Car_Damage_Coco_Dataset_Yolov8\\images\\val\\akhand_b43_124.jpg: 4 duplicate labels removed\n",
      "\u001b[34m\u001b[1mval: \u001b[0mWARNING  D:\\Datasets\\riset_infor_dataset\\Car_Damage_Coco_Dataset_Yolov8\\images\\val\\akhand_b43_128.jpg: 4 duplicate labels removed\n",
      "\u001b[34m\u001b[1mval: \u001b[0mWARNING  D:\\Datasets\\riset_infor_dataset\\Car_Damage_Coco_Dataset_Yolov8\\images\\val\\akhand_b43_129.jpg: 12 duplicate labels removed\n",
      "\u001b[34m\u001b[1mval: \u001b[0mWARNING  D:\\Datasets\\riset_infor_dataset\\Car_Damage_Coco_Dataset_Yolov8\\images\\val\\akhand_b43_136.jpg: 8 duplicate labels removed\n",
      "\u001b[34m\u001b[1mval: \u001b[0mWARNING  D:\\Datasets\\riset_infor_dataset\\Car_Damage_Coco_Dataset_Yolov8\\images\\val\\akhand_b43_137.jpg: 4 duplicate labels removed\n",
      "\u001b[34m\u001b[1mval: \u001b[0mWARNING  D:\\Datasets\\riset_infor_dataset\\Car_Damage_Coco_Dataset_Yolov8\\images\\val\\akhand_b43_143.jpg: 4 duplicate labels removed\n",
      "\u001b[34m\u001b[1mval: \u001b[0mWARNING  D:\\Datasets\\riset_infor_dataset\\Car_Damage_Coco_Dataset_Yolov8\\images\\val\\akhand_b43_145.jpg: 4 duplicate labels removed\n",
      "\u001b[34m\u001b[1mval: \u001b[0mWARNING  D:\\Datasets\\riset_infor_dataset\\Car_Damage_Coco_Dataset_Yolov8\\images\\val\\akhand_b43_151.jpg: 20 duplicate labels removed\n",
      "\u001b[34m\u001b[1mval: \u001b[0mWARNING  D:\\Datasets\\riset_infor_dataset\\Car_Damage_Coco_Dataset_Yolov8\\images\\val\\akhand_b43_152.jpg: 16 duplicate labels removed\n",
      "\u001b[34m\u001b[1mval: \u001b[0mWARNING  D:\\Datasets\\riset_infor_dataset\\Car_Damage_Coco_Dataset_Yolov8\\images\\val\\akhand_b43_154.jpg: 4 duplicate labels removed\n",
      "\u001b[34m\u001b[1mval: \u001b[0mWARNING  D:\\Datasets\\riset_infor_dataset\\Car_Damage_Coco_Dataset_Yolov8\\images\\val\\akhand_b43_157.jpg: 8 duplicate labels removed\n",
      "\u001b[34m\u001b[1mval: \u001b[0mWARNING  D:\\Datasets\\riset_infor_dataset\\Car_Damage_Coco_Dataset_Yolov8\\images\\val\\akhand_b43_158.jpg: 4 duplicate labels removed\n",
      "\u001b[34m\u001b[1mval: \u001b[0mWARNING  D:\\Datasets\\riset_infor_dataset\\Car_Damage_Coco_Dataset_Yolov8\\images\\val\\akhand_b43_170.jpg: 4 duplicate labels removed\n",
      "\u001b[34m\u001b[1mval: \u001b[0mWARNING  D:\\Datasets\\riset_infor_dataset\\Car_Damage_Coco_Dataset_Yolov8\\images\\val\\akhand_b43_175.jpg: 4 duplicate labels removed\n",
      "\u001b[34m\u001b[1mval: \u001b[0mWARNING  D:\\Datasets\\riset_infor_dataset\\Car_Damage_Coco_Dataset_Yolov8\\images\\val\\akhand_b43_182.jpg: 4 duplicate labels removed\n",
      "\u001b[34m\u001b[1mval: \u001b[0mWARNING  D:\\Datasets\\riset_infor_dataset\\Car_Damage_Coco_Dataset_Yolov8\\images\\val\\akhand_b43_185.jpg: 4 duplicate labels removed\n",
      "\u001b[34m\u001b[1mval: \u001b[0mWARNING  D:\\Datasets\\riset_infor_dataset\\Car_Damage_Coco_Dataset_Yolov8\\images\\val\\akhand_b43_190.jpg: 4 duplicate labels removed\n",
      "\u001b[34m\u001b[1mval: \u001b[0mWARNING  D:\\Datasets\\riset_infor_dataset\\Car_Damage_Coco_Dataset_Yolov8\\images\\val\\akhand_b43_201.jpg: 4 duplicate labels removed\n",
      "\u001b[34m\u001b[1mval: \u001b[0mWARNING  D:\\Datasets\\riset_infor_dataset\\Car_Damage_Coco_Dataset_Yolov8\\images\\val\\akhand_b43_202.jpg: 4 duplicate labels removed\n",
      "\u001b[34m\u001b[1mval: \u001b[0mWARNING  D:\\Datasets\\riset_infor_dataset\\Car_Damage_Coco_Dataset_Yolov8\\images\\val\\akhand_b43_204.jpg: 4 duplicate labels removed\n",
      "\u001b[34m\u001b[1mval: \u001b[0mWARNING  D:\\Datasets\\riset_infor_dataset\\Car_Damage_Coco_Dataset_Yolov8\\images\\val\\akhand_b43_206.jpg: 4 duplicate labels removed\n",
      "\u001b[34m\u001b[1mval: \u001b[0mWARNING  D:\\Datasets\\riset_infor_dataset\\Car_Damage_Coco_Dataset_Yolov8\\images\\val\\akhand_b43_208.jpg: 8 duplicate labels removed\n",
      "\u001b[34m\u001b[1mval: \u001b[0mWARNING  D:\\Datasets\\riset_infor_dataset\\Car_Damage_Coco_Dataset_Yolov8\\images\\val\\akhand_b43_209.jpg: 8 duplicate labels removed\n",
      "\u001b[34m\u001b[1mval: \u001b[0mWARNING  D:\\Datasets\\riset_infor_dataset\\Car_Damage_Coco_Dataset_Yolov8\\images\\val\\akhand_b43_210.jpg: 4 duplicate labels removed\n",
      "\u001b[34m\u001b[1mval: \u001b[0mWARNING  D:\\Datasets\\riset_infor_dataset\\Car_Damage_Coco_Dataset_Yolov8\\images\\val\\akhand_b43_211.jpg: 4 duplicate labels removed\n",
      "\u001b[34m\u001b[1mval: \u001b[0mWARNING  D:\\Datasets\\riset_infor_dataset\\Car_Damage_Coco_Dataset_Yolov8\\images\\val\\akhand_b43_212.jpg: 4 duplicate labels removed\n",
      "\u001b[34m\u001b[1mval: \u001b[0mWARNING  D:\\Datasets\\riset_infor_dataset\\Car_Damage_Coco_Dataset_Yolov8\\images\\val\\akhand_b43_218.jpg: 8 duplicate labels removed\n",
      "\u001b[34m\u001b[1mval: \u001b[0mWARNING  D:\\Datasets\\riset_infor_dataset\\Car_Damage_Coco_Dataset_Yolov8\\images\\val\\akhand_b43_220.jpg: 4 duplicate labels removed\n",
      "\u001b[34m\u001b[1mval: \u001b[0mWARNING  D:\\Datasets\\riset_infor_dataset\\Car_Damage_Coco_Dataset_Yolov8\\images\\val\\akhand_b43_230.jpg: 8 duplicate labels removed\n",
      "\u001b[34m\u001b[1mval: \u001b[0mWARNING  D:\\Datasets\\riset_infor_dataset\\Car_Damage_Coco_Dataset_Yolov8\\images\\val\\akhand_b43_237.jpg: 4 duplicate labels removed\n",
      "\u001b[34m\u001b[1mval: \u001b[0mWARNING  D:\\Datasets\\riset_infor_dataset\\Car_Damage_Coco_Dataset_Yolov8\\images\\val\\akhand_b43_239.jpg: 4 duplicate labels removed\n",
      "\u001b[34m\u001b[1mval: \u001b[0mWARNING  D:\\Datasets\\riset_infor_dataset\\Car_Damage_Coco_Dataset_Yolov8\\images\\val\\akhand_b43_24.jpg: 4 duplicate labels removed\n",
      "\u001b[34m\u001b[1mval: \u001b[0mWARNING  D:\\Datasets\\riset_infor_dataset\\Car_Damage_Coco_Dataset_Yolov8\\images\\val\\akhand_b43_241.jpg: 4 duplicate labels removed\n",
      "\u001b[34m\u001b[1mval: \u001b[0mWARNING  D:\\Datasets\\riset_infor_dataset\\Car_Damage_Coco_Dataset_Yolov8\\images\\val\\akhand_b43_247.jpg: 4 duplicate labels removed\n",
      "\u001b[34m\u001b[1mval: \u001b[0mWARNING  D:\\Datasets\\riset_infor_dataset\\Car_Damage_Coco_Dataset_Yolov8\\images\\val\\akhand_b43_251.jpg: 8 duplicate labels removed\n",
      "\u001b[34m\u001b[1mval: \u001b[0mWARNING  D:\\Datasets\\riset_infor_dataset\\Car_Damage_Coco_Dataset_Yolov8\\images\\val\\akhand_b43_252.jpg: 8 duplicate labels removed\n",
      "\u001b[34m\u001b[1mval: \u001b[0mWARNING  D:\\Datasets\\riset_infor_dataset\\Car_Damage_Coco_Dataset_Yolov8\\images\\val\\akhand_b43_253.jpg: 28 duplicate labels removed\n",
      "\u001b[34m\u001b[1mval: \u001b[0mWARNING  D:\\Datasets\\riset_infor_dataset\\Car_Damage_Coco_Dataset_Yolov8\\images\\val\\akhand_b43_256.jpg: 16 duplicate labels removed\n",
      "\u001b[34m\u001b[1mval: \u001b[0mWARNING  D:\\Datasets\\riset_infor_dataset\\Car_Damage_Coco_Dataset_Yolov8\\images\\val\\akhand_b43_259.jpg: 8 duplicate labels removed\n",
      "\u001b[34m\u001b[1mval: \u001b[0mWARNING  D:\\Datasets\\riset_infor_dataset\\Car_Damage_Coco_Dataset_Yolov8\\images\\val\\akhand_b43_260.jpg: 8 duplicate labels removed\n",
      "\u001b[34m\u001b[1mval: \u001b[0mWARNING  D:\\Datasets\\riset_infor_dataset\\Car_Damage_Coco_Dataset_Yolov8\\images\\val\\akhand_b43_261.jpg: 4 duplicate labels removed\n",
      "\u001b[34m\u001b[1mval: \u001b[0mWARNING  D:\\Datasets\\riset_infor_dataset\\Car_Damage_Coco_Dataset_Yolov8\\images\\val\\akhand_b43_265.jpg: 12 duplicate labels removed\n",
      "\u001b[34m\u001b[1mval: \u001b[0mWARNING  D:\\Datasets\\riset_infor_dataset\\Car_Damage_Coco_Dataset_Yolov8\\images\\val\\akhand_b43_270.jpg: 8 duplicate labels removed\n",
      "\u001b[34m\u001b[1mval: \u001b[0mWARNING  D:\\Datasets\\riset_infor_dataset\\Car_Damage_Coco_Dataset_Yolov8\\images\\val\\akhand_b43_271.jpg: 4 duplicate labels removed\n",
      "\u001b[34m\u001b[1mval: \u001b[0mWARNING  D:\\Datasets\\riset_infor_dataset\\Car_Damage_Coco_Dataset_Yolov8\\images\\val\\akhand_b43_272.jpg: 12 duplicate labels removed\n",
      "\u001b[34m\u001b[1mval: \u001b[0mWARNING  D:\\Datasets\\riset_infor_dataset\\Car_Damage_Coco_Dataset_Yolov8\\images\\val\\akhand_b43_274.jpg: 4 duplicate labels removed\n",
      "\u001b[34m\u001b[1mval: \u001b[0mWARNING  D:\\Datasets\\riset_infor_dataset\\Car_Damage_Coco_Dataset_Yolov8\\images\\val\\akhand_b43_28.jpg: 4 duplicate labels removed\n",
      "\u001b[34m\u001b[1mval: \u001b[0mWARNING  D:\\Datasets\\riset_infor_dataset\\Car_Damage_Coco_Dataset_Yolov8\\images\\val\\akhand_b43_281.jpg: 4 duplicate labels removed\n",
      "\u001b[34m\u001b[1mval: \u001b[0mWARNING  D:\\Datasets\\riset_infor_dataset\\Car_Damage_Coco_Dataset_Yolov8\\images\\val\\akhand_b43_282.jpg: 4 duplicate labels removed\n",
      "\u001b[34m\u001b[1mval: \u001b[0mWARNING  D:\\Datasets\\riset_infor_dataset\\Car_Damage_Coco_Dataset_Yolov8\\images\\val\\akhand_b43_288.jpg: 4 duplicate labels removed\n",
      "\u001b[34m\u001b[1mval: \u001b[0mWARNING  D:\\Datasets\\riset_infor_dataset\\Car_Damage_Coco_Dataset_Yolov8\\images\\val\\akhand_b43_293.jpg: 4 duplicate labels removed\n",
      "\u001b[34m\u001b[1mval: \u001b[0mWARNING  D:\\Datasets\\riset_infor_dataset\\Car_Damage_Coco_Dataset_Yolov8\\images\\val\\akhand_b43_294.jpg: 16 duplicate labels removed\n",
      "\u001b[34m\u001b[1mval: \u001b[0mWARNING  D:\\Datasets\\riset_infor_dataset\\Car_Damage_Coco_Dataset_Yolov8\\images\\val\\akhand_b43_297.jpg: 4 duplicate labels removed\n",
      "\u001b[34m\u001b[1mval: \u001b[0mWARNING  D:\\Datasets\\riset_infor_dataset\\Car_Damage_Coco_Dataset_Yolov8\\images\\val\\akhand_b43_301.jpg: 4 duplicate labels removed\n",
      "\u001b[34m\u001b[1mval: \u001b[0mWARNING  D:\\Datasets\\riset_infor_dataset\\Car_Damage_Coco_Dataset_Yolov8\\images\\val\\akhand_b43_302.jpg: 4 duplicate labels removed\n",
      "\u001b[34m\u001b[1mval: \u001b[0mWARNING  D:\\Datasets\\riset_infor_dataset\\Car_Damage_Coco_Dataset_Yolov8\\images\\val\\akhand_b43_310.jpg: 4 duplicate labels removed\n",
      "\u001b[34m\u001b[1mval: \u001b[0mWARNING  D:\\Datasets\\riset_infor_dataset\\Car_Damage_Coco_Dataset_Yolov8\\images\\val\\akhand_b43_315.jpg: 8 duplicate labels removed\n",
      "\u001b[34m\u001b[1mval: \u001b[0mWARNING  D:\\Datasets\\riset_infor_dataset\\Car_Damage_Coco_Dataset_Yolov8\\images\\val\\akhand_b43_316.jpg: 4 duplicate labels removed\n",
      "\u001b[34m\u001b[1mval: \u001b[0mWARNING  D:\\Datasets\\riset_infor_dataset\\Car_Damage_Coco_Dataset_Yolov8\\images\\val\\akhand_b43_317.jpg: 4 duplicate labels removed\n",
      "\u001b[34m\u001b[1mval: \u001b[0mWARNING  D:\\Datasets\\riset_infor_dataset\\Car_Damage_Coco_Dataset_Yolov8\\images\\val\\akhand_b43_318.jpg: 8 duplicate labels removed\n",
      "\u001b[34m\u001b[1mval: \u001b[0mWARNING  D:\\Datasets\\riset_infor_dataset\\Car_Damage_Coco_Dataset_Yolov8\\images\\val\\akhand_b43_32.jpg: 12 duplicate labels removed\n",
      "\u001b[34m\u001b[1mval: \u001b[0mWARNING  D:\\Datasets\\riset_infor_dataset\\Car_Damage_Coco_Dataset_Yolov8\\images\\val\\akhand_b43_324.jpg: 4 duplicate labels removed\n",
      "\u001b[34m\u001b[1mval: \u001b[0mWARNING  D:\\Datasets\\riset_infor_dataset\\Car_Damage_Coco_Dataset_Yolov8\\images\\val\\akhand_b43_326.jpg: 4 duplicate labels removed\n",
      "\u001b[34m\u001b[1mval: \u001b[0mWARNING  D:\\Datasets\\riset_infor_dataset\\Car_Damage_Coco_Dataset_Yolov8\\images\\val\\akhand_b43_330.jpg: 12 duplicate labels removed\n",
      "\u001b[34m\u001b[1mval: \u001b[0mWARNING  D:\\Datasets\\riset_infor_dataset\\Car_Damage_Coco_Dataset_Yolov8\\images\\val\\akhand_b43_336.jpg: 24 duplicate labels removed\n",
      "\u001b[34m\u001b[1mval: \u001b[0mWARNING  D:\\Datasets\\riset_infor_dataset\\Car_Damage_Coco_Dataset_Yolov8\\images\\val\\akhand_b43_339.jpg: 4 duplicate labels removed\n",
      "\u001b[34m\u001b[1mval: \u001b[0mWARNING  D:\\Datasets\\riset_infor_dataset\\Car_Damage_Coco_Dataset_Yolov8\\images\\val\\akhand_b43_341.jpg: 8 duplicate labels removed\n",
      "\u001b[34m\u001b[1mval: \u001b[0mWARNING  D:\\Datasets\\riset_infor_dataset\\Car_Damage_Coco_Dataset_Yolov8\\images\\val\\akhand_b43_344.jpg: 8 duplicate labels removed\n",
      "\u001b[34m\u001b[1mval: \u001b[0mWARNING  D:\\Datasets\\riset_infor_dataset\\Car_Damage_Coco_Dataset_Yolov8\\images\\val\\akhand_b43_346.jpg: 4 duplicate labels removed\n",
      "\u001b[34m\u001b[1mval: \u001b[0mWARNING  D:\\Datasets\\riset_infor_dataset\\Car_Damage_Coco_Dataset_Yolov8\\images\\val\\akhand_b43_347.jpg: 4 duplicate labels removed\n",
      "\u001b[34m\u001b[1mval: \u001b[0mWARNING  D:\\Datasets\\riset_infor_dataset\\Car_Damage_Coco_Dataset_Yolov8\\images\\val\\akhand_b43_350.jpg: 4 duplicate labels removed\n",
      "\u001b[34m\u001b[1mval: \u001b[0mWARNING  D:\\Datasets\\riset_infor_dataset\\Car_Damage_Coco_Dataset_Yolov8\\images\\val\\akhand_b43_362.jpg: 4 duplicate labels removed\n",
      "\u001b[34m\u001b[1mval: \u001b[0mWARNING  D:\\Datasets\\riset_infor_dataset\\Car_Damage_Coco_Dataset_Yolov8\\images\\val\\akhand_b43_365.jpg: 4 duplicate labels removed\n",
      "\u001b[34m\u001b[1mval: \u001b[0mWARNING  D:\\Datasets\\riset_infor_dataset\\Car_Damage_Coco_Dataset_Yolov8\\images\\val\\akhand_b43_367.jpg: 4 duplicate labels removed\n",
      "\u001b[34m\u001b[1mval: \u001b[0mWARNING  D:\\Datasets\\riset_infor_dataset\\Car_Damage_Coco_Dataset_Yolov8\\images\\val\\akhand_b43_369.jpg: 4 duplicate labels removed\n",
      "\u001b[34m\u001b[1mval: \u001b[0mWARNING  D:\\Datasets\\riset_infor_dataset\\Car_Damage_Coco_Dataset_Yolov8\\images\\val\\akhand_b43_37.jpg: 12 duplicate labels removed\n",
      "\u001b[34m\u001b[1mval: \u001b[0mWARNING  D:\\Datasets\\riset_infor_dataset\\Car_Damage_Coco_Dataset_Yolov8\\images\\val\\akhand_b43_373.jpg: 4 duplicate labels removed\n",
      "\u001b[34m\u001b[1mval: \u001b[0mWARNING  D:\\Datasets\\riset_infor_dataset\\Car_Damage_Coco_Dataset_Yolov8\\images\\val\\akhand_b43_374.jpg: 16 duplicate labels removed\n",
      "\u001b[34m\u001b[1mval: \u001b[0mWARNING  D:\\Datasets\\riset_infor_dataset\\Car_Damage_Coco_Dataset_Yolov8\\images\\val\\akhand_b43_376.jpg: 8 duplicate labels removed\n",
      "\u001b[34m\u001b[1mval: \u001b[0mWARNING  D:\\Datasets\\riset_infor_dataset\\Car_Damage_Coco_Dataset_Yolov8\\images\\val\\akhand_b43_382.jpg: 8 duplicate labels removed\n",
      "\u001b[34m\u001b[1mval: \u001b[0mWARNING  D:\\Datasets\\riset_infor_dataset\\Car_Damage_Coco_Dataset_Yolov8\\images\\val\\akhand_b43_387.jpg: 8 duplicate labels removed\n",
      "\u001b[34m\u001b[1mval: \u001b[0mWARNING  D:\\Datasets\\riset_infor_dataset\\Car_Damage_Coco_Dataset_Yolov8\\images\\val\\akhand_b43_388.jpg: 4 duplicate labels removed\n",
      "\u001b[34m\u001b[1mval: \u001b[0mWARNING  D:\\Datasets\\riset_infor_dataset\\Car_Damage_Coco_Dataset_Yolov8\\images\\val\\akhand_b43_389.jpg: 4 duplicate labels removed\n",
      "\u001b[34m\u001b[1mval: \u001b[0mWARNING  D:\\Datasets\\riset_infor_dataset\\Car_Damage_Coco_Dataset_Yolov8\\images\\val\\akhand_b43_39.jpg: 4 duplicate labels removed\n",
      "\u001b[34m\u001b[1mval: \u001b[0mWARNING  D:\\Datasets\\riset_infor_dataset\\Car_Damage_Coco_Dataset_Yolov8\\images\\val\\akhand_b43_391.jpg: 8 duplicate labels removed\n",
      "\u001b[34m\u001b[1mval: \u001b[0mWARNING  D:\\Datasets\\riset_infor_dataset\\Car_Damage_Coco_Dataset_Yolov8\\images\\val\\akhand_b43_393.jpg: 4 duplicate labels removed\n",
      "\u001b[34m\u001b[1mval: \u001b[0mWARNING  D:\\Datasets\\riset_infor_dataset\\Car_Damage_Coco_Dataset_Yolov8\\images\\val\\akhand_b43_394.jpg: 4 duplicate labels removed\n",
      "\u001b[34m\u001b[1mval: \u001b[0mWARNING  D:\\Datasets\\riset_infor_dataset\\Car_Damage_Coco_Dataset_Yolov8\\images\\val\\akhand_b43_399.jpg: 4 duplicate labels removed\n",
      "\u001b[34m\u001b[1mval: \u001b[0mWARNING  D:\\Datasets\\riset_infor_dataset\\Car_Damage_Coco_Dataset_Yolov8\\images\\val\\akhand_b43_400.jpg: 4 duplicate labels removed\n",
      "\u001b[34m\u001b[1mval: \u001b[0mWARNING  D:\\Datasets\\riset_infor_dataset\\Car_Damage_Coco_Dataset_Yolov8\\images\\val\\akhand_b43_402.jpg: 8 duplicate labels removed\n",
      "\u001b[34m\u001b[1mval: \u001b[0mWARNING  D:\\Datasets\\riset_infor_dataset\\Car_Damage_Coco_Dataset_Yolov8\\images\\val\\akhand_b43_407.jpg: 4 duplicate labels removed\n",
      "\u001b[34m\u001b[1mval: \u001b[0mWARNING  D:\\Datasets\\riset_infor_dataset\\Car_Damage_Coco_Dataset_Yolov8\\images\\val\\akhand_b43_41.jpg: 4 duplicate labels removed\n",
      "\u001b[34m\u001b[1mval: \u001b[0mWARNING  D:\\Datasets\\riset_infor_dataset\\Car_Damage_Coco_Dataset_Yolov8\\images\\val\\akhand_b43_410.jpg: 4 duplicate labels removed\n",
      "\u001b[34m\u001b[1mval: \u001b[0mWARNING  D:\\Datasets\\riset_infor_dataset\\Car_Damage_Coco_Dataset_Yolov8\\images\\val\\akhand_b43_425.jpg: 12 duplicate labels removed\n",
      "\u001b[34m\u001b[1mval: \u001b[0mWARNING  D:\\Datasets\\riset_infor_dataset\\Car_Damage_Coco_Dataset_Yolov8\\images\\val\\akhand_b43_43.jpg: 12 duplicate labels removed\n",
      "\u001b[34m\u001b[1mval: \u001b[0mWARNING  D:\\Datasets\\riset_infor_dataset\\Car_Damage_Coco_Dataset_Yolov8\\images\\val\\akhand_b43_430.jpg: 8 duplicate labels removed\n",
      "\u001b[34m\u001b[1mval: \u001b[0mWARNING  D:\\Datasets\\riset_infor_dataset\\Car_Damage_Coco_Dataset_Yolov8\\images\\val\\akhand_b43_433.jpg: 4 duplicate labels removed\n",
      "\u001b[34m\u001b[1mval: \u001b[0mWARNING  D:\\Datasets\\riset_infor_dataset\\Car_Damage_Coco_Dataset_Yolov8\\images\\val\\akhand_b43_435.jpg: 4 duplicate labels removed\n",
      "\u001b[34m\u001b[1mval: \u001b[0mWARNING  D:\\Datasets\\riset_infor_dataset\\Car_Damage_Coco_Dataset_Yolov8\\images\\val\\akhand_b43_436.jpg: 4 duplicate labels removed\n",
      "\u001b[34m\u001b[1mval: \u001b[0mWARNING  D:\\Datasets\\riset_infor_dataset\\Car_Damage_Coco_Dataset_Yolov8\\images\\val\\akhand_b43_439.jpg: 4 duplicate labels removed\n",
      "\u001b[34m\u001b[1mval: \u001b[0mWARNING  D:\\Datasets\\riset_infor_dataset\\Car_Damage_Coco_Dataset_Yolov8\\images\\val\\akhand_b43_442.jpg: 12 duplicate labels removed\n",
      "\u001b[34m\u001b[1mval: \u001b[0mWARNING  D:\\Datasets\\riset_infor_dataset\\Car_Damage_Coco_Dataset_Yolov8\\images\\val\\akhand_b43_443.jpg: 12 duplicate labels removed\n",
      "\u001b[34m\u001b[1mval: \u001b[0mWARNING  D:\\Datasets\\riset_infor_dataset\\Car_Damage_Coco_Dataset_Yolov8\\images\\val\\akhand_b43_450.jpg: 4 duplicate labels removed\n",
      "\u001b[34m\u001b[1mval: \u001b[0mWARNING  D:\\Datasets\\riset_infor_dataset\\Car_Damage_Coco_Dataset_Yolov8\\images\\val\\akhand_b43_452.jpg: 4 duplicate labels removed\n",
      "\u001b[34m\u001b[1mval: \u001b[0mWARNING  D:\\Datasets\\riset_infor_dataset\\Car_Damage_Coco_Dataset_Yolov8\\images\\val\\akhand_b43_458.jpg: 4 duplicate labels removed\n",
      "\u001b[34m\u001b[1mval: \u001b[0mWARNING  D:\\Datasets\\riset_infor_dataset\\Car_Damage_Coco_Dataset_Yolov8\\images\\val\\akhand_b43_461.jpg: 4 duplicate labels removed\n",
      "\u001b[34m\u001b[1mval: \u001b[0mWARNING  D:\\Datasets\\riset_infor_dataset\\Car_Damage_Coco_Dataset_Yolov8\\images\\val\\akhand_b43_471.jpg: 12 duplicate labels removed\n",
      "\u001b[34m\u001b[1mval: \u001b[0mWARNING  D:\\Datasets\\riset_infor_dataset\\Car_Damage_Coco_Dataset_Yolov8\\images\\val\\akhand_b43_472.jpg: 16 duplicate labels removed\n",
      "\u001b[34m\u001b[1mval: \u001b[0mWARNING  D:\\Datasets\\riset_infor_dataset\\Car_Damage_Coco_Dataset_Yolov8\\images\\val\\akhand_b43_478.jpg: 8 duplicate labels removed\n",
      "\u001b[34m\u001b[1mval: \u001b[0mWARNING  D:\\Datasets\\riset_infor_dataset\\Car_Damage_Coco_Dataset_Yolov8\\images\\val\\akhand_b43_480.jpg: 4 duplicate labels removed\n",
      "\u001b[34m\u001b[1mval: \u001b[0mWARNING  D:\\Datasets\\riset_infor_dataset\\Car_Damage_Coco_Dataset_Yolov8\\images\\val\\akhand_b43_481.jpg: 4 duplicate labels removed\n",
      "\u001b[34m\u001b[1mval: \u001b[0mWARNING  D:\\Datasets\\riset_infor_dataset\\Car_Damage_Coco_Dataset_Yolov8\\images\\val\\akhand_b43_483.jpg: 4 duplicate labels removed\n",
      "\u001b[34m\u001b[1mval: \u001b[0mWARNING  D:\\Datasets\\riset_infor_dataset\\Car_Damage_Coco_Dataset_Yolov8\\images\\val\\akhand_b43_492.jpg: 4 duplicate labels removed\n",
      "\u001b[34m\u001b[1mval: \u001b[0mWARNING  D:\\Datasets\\riset_infor_dataset\\Car_Damage_Coco_Dataset_Yolov8\\images\\val\\akhand_b43_494.jpg: 20 duplicate labels removed\n",
      "\u001b[34m\u001b[1mval: \u001b[0mWARNING  D:\\Datasets\\riset_infor_dataset\\Car_Damage_Coco_Dataset_Yolov8\\images\\val\\akhand_b43_495.jpg: 4 duplicate labels removed\n",
      "\u001b[34m\u001b[1mval: \u001b[0mWARNING  D:\\Datasets\\riset_infor_dataset\\Car_Damage_Coco_Dataset_Yolov8\\images\\val\\akhand_b43_497.jpg: 4 duplicate labels removed\n",
      "\u001b[34m\u001b[1mval: \u001b[0mWARNING  D:\\Datasets\\riset_infor_dataset\\Car_Damage_Coco_Dataset_Yolov8\\images\\val\\akhand_b43_500.jpg: 4 duplicate labels removed\n",
      "\u001b[34m\u001b[1mval: \u001b[0mWARNING  D:\\Datasets\\riset_infor_dataset\\Car_Damage_Coco_Dataset_Yolov8\\images\\val\\akhand_b43_501.jpg: 4 duplicate labels removed\n",
      "\u001b[34m\u001b[1mval: \u001b[0mWARNING  D:\\Datasets\\riset_infor_dataset\\Car_Damage_Coco_Dataset_Yolov8\\images\\val\\akhand_b43_505.jpg: 8 duplicate labels removed\n",
      "\u001b[34m\u001b[1mval: \u001b[0mWARNING  D:\\Datasets\\riset_infor_dataset\\Car_Damage_Coco_Dataset_Yolov8\\images\\val\\akhand_b43_507.jpg: 8 duplicate labels removed\n",
      "\u001b[34m\u001b[1mval: \u001b[0mWARNING  D:\\Datasets\\riset_infor_dataset\\Car_Damage_Coco_Dataset_Yolov8\\images\\val\\akhand_b43_510.jpg: 4 duplicate labels removed\n",
      "\u001b[34m\u001b[1mval: \u001b[0mWARNING  D:\\Datasets\\riset_infor_dataset\\Car_Damage_Coco_Dataset_Yolov8\\images\\val\\akhand_b43_515.jpg: 4 duplicate labels removed\n",
      "\u001b[34m\u001b[1mval: \u001b[0mWARNING  D:\\Datasets\\riset_infor_dataset\\Car_Damage_Coco_Dataset_Yolov8\\images\\val\\akhand_b43_516.jpg: 24 duplicate labels removed\n",
      "\u001b[34m\u001b[1mval: \u001b[0mWARNING  D:\\Datasets\\riset_infor_dataset\\Car_Damage_Coco_Dataset_Yolov8\\images\\val\\akhand_b43_517.jpg: 4 duplicate labels removed\n",
      "\u001b[34m\u001b[1mval: \u001b[0mWARNING  D:\\Datasets\\riset_infor_dataset\\Car_Damage_Coco_Dataset_Yolov8\\images\\val\\akhand_b43_53.jpg: 4 duplicate labels removed\n",
      "\u001b[34m\u001b[1mval: \u001b[0mWARNING  D:\\Datasets\\riset_infor_dataset\\Car_Damage_Coco_Dataset_Yolov8\\images\\val\\akhand_b43_531.jpg: 4 duplicate labels removed\n",
      "\u001b[34m\u001b[1mval: \u001b[0mWARNING  D:\\Datasets\\riset_infor_dataset\\Car_Damage_Coco_Dataset_Yolov8\\images\\val\\akhand_b43_533.jpg: 4 duplicate labels removed\n",
      "\u001b[34m\u001b[1mval: \u001b[0mWARNING  D:\\Datasets\\riset_infor_dataset\\Car_Damage_Coco_Dataset_Yolov8\\images\\val\\akhand_b43_539.jpg: 4 duplicate labels removed\n",
      "\u001b[34m\u001b[1mval: \u001b[0mWARNING  D:\\Datasets\\riset_infor_dataset\\Car_Damage_Coco_Dataset_Yolov8\\images\\val\\akhand_b43_543.jpg: 8 duplicate labels removed\n",
      "\u001b[34m\u001b[1mval: \u001b[0mWARNING  D:\\Datasets\\riset_infor_dataset\\Car_Damage_Coco_Dataset_Yolov8\\images\\val\\akhand_b43_546.jpg: 8 duplicate labels removed\n",
      "\u001b[34m\u001b[1mval: \u001b[0mWARNING  D:\\Datasets\\riset_infor_dataset\\Car_Damage_Coco_Dataset_Yolov8\\images\\val\\akhand_b43_550.jpg: 8 duplicate labels removed\n",
      "\u001b[34m\u001b[1mval: \u001b[0mWARNING  D:\\Datasets\\riset_infor_dataset\\Car_Damage_Coco_Dataset_Yolov8\\images\\val\\akhand_b43_552.jpg: 8 duplicate labels removed\n",
      "\u001b[34m\u001b[1mval: \u001b[0mWARNING  D:\\Datasets\\riset_infor_dataset\\Car_Damage_Coco_Dataset_Yolov8\\images\\val\\akhand_b43_553.jpg: 4 duplicate labels removed\n",
      "\u001b[34m\u001b[1mval: \u001b[0mWARNING  D:\\Datasets\\riset_infor_dataset\\Car_Damage_Coco_Dataset_Yolov8\\images\\val\\akhand_b43_558.jpg: 8 duplicate labels removed\n",
      "\u001b[34m\u001b[1mval: \u001b[0mWARNING  D:\\Datasets\\riset_infor_dataset\\Car_Damage_Coco_Dataset_Yolov8\\images\\val\\akhand_b43_559.jpg: 4 duplicate labels removed\n",
      "\u001b[34m\u001b[1mval: \u001b[0mWARNING  D:\\Datasets\\riset_infor_dataset\\Car_Damage_Coco_Dataset_Yolov8\\images\\val\\akhand_b43_572.jpg: 12 duplicate labels removed\n",
      "\u001b[34m\u001b[1mval: \u001b[0mWARNING  D:\\Datasets\\riset_infor_dataset\\Car_Damage_Coco_Dataset_Yolov8\\images\\val\\akhand_b43_573.jpg: 4 duplicate labels removed\n",
      "\u001b[34m\u001b[1mval: \u001b[0mWARNING  D:\\Datasets\\riset_infor_dataset\\Car_Damage_Coco_Dataset_Yolov8\\images\\val\\akhand_b43_575.jpg: 4 duplicate labels removed\n",
      "\u001b[34m\u001b[1mval: \u001b[0mWARNING  D:\\Datasets\\riset_infor_dataset\\Car_Damage_Coco_Dataset_Yolov8\\images\\val\\akhand_b43_576.jpg: 4 duplicate labels removed\n",
      "\u001b[34m\u001b[1mval: \u001b[0mWARNING  D:\\Datasets\\riset_infor_dataset\\Car_Damage_Coco_Dataset_Yolov8\\images\\val\\akhand_b43_579.jpg: 16 duplicate labels removed\n",
      "\u001b[34m\u001b[1mval: \u001b[0mWARNING  D:\\Datasets\\riset_infor_dataset\\Car_Damage_Coco_Dataset_Yolov8\\images\\val\\akhand_b43_580.jpg: 12 duplicate labels removed\n",
      "\u001b[34m\u001b[1mval: \u001b[0mWARNING  D:\\Datasets\\riset_infor_dataset\\Car_Damage_Coco_Dataset_Yolov8\\images\\val\\akhand_b43_581.jpg: 20 duplicate labels removed\n",
      "\u001b[34m\u001b[1mval: \u001b[0mWARNING  D:\\Datasets\\riset_infor_dataset\\Car_Damage_Coco_Dataset_Yolov8\\images\\val\\akhand_b43_583.jpg: 20 duplicate labels removed\n",
      "\u001b[34m\u001b[1mval: \u001b[0mWARNING  D:\\Datasets\\riset_infor_dataset\\Car_Damage_Coco_Dataset_Yolov8\\images\\val\\akhand_b43_584.jpg: 24 duplicate labels removed\n",
      "\u001b[34m\u001b[1mval: \u001b[0mWARNING  D:\\Datasets\\riset_infor_dataset\\Car_Damage_Coco_Dataset_Yolov8\\images\\val\\akhand_b43_588.jpg: 4 duplicate labels removed\n",
      "\u001b[34m\u001b[1mval: \u001b[0mWARNING  D:\\Datasets\\riset_infor_dataset\\Car_Damage_Coco_Dataset_Yolov8\\images\\val\\akhand_b43_59.jpg: 8 duplicate labels removed\n",
      "\u001b[34m\u001b[1mval: \u001b[0mWARNING  D:\\Datasets\\riset_infor_dataset\\Car_Damage_Coco_Dataset_Yolov8\\images\\val\\akhand_b43_590.jpg: 16 duplicate labels removed\n",
      "\u001b[34m\u001b[1mval: \u001b[0mWARNING  D:\\Datasets\\riset_infor_dataset\\Car_Damage_Coco_Dataset_Yolov8\\images\\val\\akhand_b43_591.jpg: 4 duplicate labels removed\n",
      "\u001b[34m\u001b[1mval: \u001b[0mWARNING  D:\\Datasets\\riset_infor_dataset\\Car_Damage_Coco_Dataset_Yolov8\\images\\val\\akhand_b43_592.jpg: 4 duplicate labels removed\n",
      "\u001b[34m\u001b[1mval: \u001b[0mWARNING  D:\\Datasets\\riset_infor_dataset\\Car_Damage_Coco_Dataset_Yolov8\\images\\val\\akhand_b43_594.jpg: 4 duplicate labels removed\n",
      "\u001b[34m\u001b[1mval: \u001b[0mWARNING  D:\\Datasets\\riset_infor_dataset\\Car_Damage_Coco_Dataset_Yolov8\\images\\val\\akhand_b43_598.jpg: 4 duplicate labels removed\n",
      "\u001b[34m\u001b[1mval: \u001b[0mWARNING  D:\\Datasets\\riset_infor_dataset\\Car_Damage_Coco_Dataset_Yolov8\\images\\val\\akhand_b43_65.jpg: 4 duplicate labels removed\n",
      "\u001b[34m\u001b[1mval: \u001b[0mWARNING  D:\\Datasets\\riset_infor_dataset\\Car_Damage_Coco_Dataset_Yolov8\\images\\val\\akhand_b43_67.jpg: 4 duplicate labels removed\n",
      "\u001b[34m\u001b[1mval: \u001b[0mWARNING  D:\\Datasets\\riset_infor_dataset\\Car_Damage_Coco_Dataset_Yolov8\\images\\val\\akhand_b43_68.jpg: 4 duplicate labels removed\n",
      "\u001b[34m\u001b[1mval: \u001b[0mWARNING  D:\\Datasets\\riset_infor_dataset\\Car_Damage_Coco_Dataset_Yolov8\\images\\val\\akhand_b43_71.jpg: 4 duplicate labels removed\n",
      "\u001b[34m\u001b[1mval: \u001b[0mWARNING  D:\\Datasets\\riset_infor_dataset\\Car_Damage_Coco_Dataset_Yolov8\\images\\val\\akhand_b43_75.jpg: 4 duplicate labels removed\n",
      "\u001b[34m\u001b[1mval: \u001b[0mWARNING  D:\\Datasets\\riset_infor_dataset\\Car_Damage_Coco_Dataset_Yolov8\\images\\val\\akhand_b43_84.jpg: 8 duplicate labels removed\n",
      "\u001b[34m\u001b[1mval: \u001b[0mWARNING  D:\\Datasets\\riset_infor_dataset\\Car_Damage_Coco_Dataset_Yolov8\\images\\val\\akhand_b43_89.jpg: 12 duplicate labels removed\n",
      "\u001b[34m\u001b[1mval: \u001b[0mWARNING  D:\\Datasets\\riset_infor_dataset\\Car_Damage_Coco_Dataset_Yolov8\\images\\val\\akhand_b43_92.jpg: 8 duplicate labels removed\n",
      "\u001b[34m\u001b[1mval: \u001b[0mWARNING  D:\\Datasets\\riset_infor_dataset\\Car_Damage_Coco_Dataset_Yolov8\\images\\val\\akhand_b43_95.jpg: 8 duplicate labels removed\n",
      "\u001b[34m\u001b[1mval: \u001b[0mWARNING  D:\\Datasets\\riset_infor_dataset\\Car_Damage_Coco_Dataset_Yolov8\\images\\val\\akhand_b43_96.jpg: 8 duplicate labels removed\n",
      "\u001b[34m\u001b[1mval: \u001b[0mWARNING  D:\\Datasets\\riset_infor_dataset\\Car_Damage_Coco_Dataset_Yolov8\\images\\val\\coco1.jpg: 8 duplicate labels removed\n",
      "\u001b[34m\u001b[1mval: \u001b[0mWARNING  D:\\Datasets\\riset_infor_dataset\\Car_Damage_Coco_Dataset_Yolov8\\images\\val\\coco22.jpg: 8 duplicate labels removed\n",
      "\u001b[34m\u001b[1mval: \u001b[0mWARNING  D:\\Datasets\\riset_infor_dataset\\Car_Damage_Coco_Dataset_Yolov8\\images\\val\\coco24.jpg: 8 duplicate labels removed\n",
      "\u001b[34m\u001b[1mval: \u001b[0mWARNING  D:\\Datasets\\riset_infor_dataset\\Car_Damage_Coco_Dataset_Yolov8\\images\\val\\coco3.jpg: 4 duplicate labels removed\n",
      "\u001b[34m\u001b[1mval: \u001b[0mWARNING  D:\\Datasets\\riset_infor_dataset\\Car_Damage_Coco_Dataset_Yolov8\\images\\val\\coco32.jpg: 16 duplicate labels removed\n",
      "\u001b[34m\u001b[1mval: \u001b[0mWARNING  D:\\Datasets\\riset_infor_dataset\\Car_Damage_Coco_Dataset_Yolov8\\images\\val\\coco42.jpg: 4 duplicate labels removed\n",
      "\u001b[34m\u001b[1mval: \u001b[0mWARNING  D:\\Datasets\\riset_infor_dataset\\Car_Damage_Coco_Dataset_Yolov8\\images\\val\\coco62.jpg: 16 duplicate labels removed\n",
      "\u001b[34m\u001b[1mval: \u001b[0mWARNING  D:\\Datasets\\riset_infor_dataset\\Car_Damage_Coco_Dataset_Yolov8\\images\\val\\coco74.jpg: 4 duplicate labels removed\n",
      "\u001b[34m\u001b[1mval: \u001b[0mWARNING  D:\\Datasets\\riset_infor_dataset\\Car_Damage_Coco_Dataset_Yolov8\\images\\val\\coco78.jpg: 8 duplicate labels removed\n",
      "\u001b[34m\u001b[1mval: \u001b[0mWARNING  D:\\Datasets\\riset_infor_dataset\\Car_Damage_Coco_Dataset_Yolov8\\images\\val\\coco8.jpg: 8 duplicate labels removed\n",
      "\u001b[34m\u001b[1mval: \u001b[0mWARNING  D:\\Datasets\\riset_infor_dataset\\Car_Damage_Coco_Dataset_Yolov8\\images\\val\\coco9.jpg: 12 duplicate labels removed\n",
      "\u001b[34m\u001b[1mval: \u001b[0mNew cache created: D:\\Datasets\\riset_infor_dataset\\Car_Damage_Coco_Dataset_Yolov8\\labels\\val.cache\n"
     ]
    },
    {
     "name": "stderr",
     "output_type": "stream",
     "text": [
      "\n"
     ]
    },
    {
     "name": "stdout",
     "output_type": "stream",
     "text": [
      "Plotting labels to runs\\detect\\train26\\labels.jpg... \n",
      "\u001b[34m\u001b[1moptimizer:\u001b[0m 'optimizer=auto' found, ignoring 'lr0=0.01' and 'momentum=0.937' and determining best 'optimizer', 'lr0' and 'momentum' automatically... \n",
      "\u001b[34m\u001b[1moptimizer:\u001b[0m AdamW(lr=0.002, momentum=0.9) with parameter groups 57 weight(decay=0.0), 64 weight(decay=0.0005), 63 bias(decay=0.0)\n",
      "\u001b[34m\u001b[1mTensorBoard: \u001b[0mmodel graph visualization added \n",
      "Image sizes 512 train, 512 val\n",
      "Using 8 dataloader workers\n",
      "Logging results to \u001b[1mruns\\detect\\train26\u001b[0m\n",
      "Starting training for 50 epochs...\n",
      "\n",
      "      Epoch    GPU_mem   box_loss   cls_loss   dfl_loss  Instances       Size\n"
     ]
    },
    {
     "name": "stderr",
     "output_type": "stream",
     "text": [
      "       1/50     0.799G      2.345      3.441       1.98         22        512: 100%|██████████| 78/78 [00:08<00:00,  9.43it/s]\n",
      "                 Class     Images  Instances      Box(P          R      mAP50  mAP50-95): 100%|██████████| 13/13 [00:01<00:00, 10.25it/s]"
     ]
    },
    {
     "name": "stdout",
     "output_type": "stream",
     "text": [
      "                   all        208        341    0.00338      0.619     0.0119    0.00299\n"
     ]
    },
    {
     "name": "stderr",
     "output_type": "stream",
     "text": [
      "\n"
     ]
    },
    {
     "name": "stdout",
     "output_type": "stream",
     "text": [
      "\n",
      "      Epoch    GPU_mem   box_loss   cls_loss   dfl_loss  Instances       Size\n"
     ]
    },
    {
     "name": "stderr",
     "output_type": "stream",
     "text": [
      "       2/50     0.803G      2.414      3.233      2.066         18        512: 100%|██████████| 78/78 [00:06<00:00, 12.30it/s]\n",
      "                 Class     Images  Instances      Box(P          R      mAP50  mAP50-95): 100%|██████████| 13/13 [00:01<00:00, 11.59it/s]"
     ]
    },
    {
     "name": "stdout",
     "output_type": "stream",
     "text": [
      "                   all        208        341      0.119      0.103     0.0369     0.0124\n"
     ]
    },
    {
     "name": "stderr",
     "output_type": "stream",
     "text": [
      "\n"
     ]
    },
    {
     "name": "stdout",
     "output_type": "stream",
     "text": [
      "\n",
      "      Epoch    GPU_mem   box_loss   cls_loss   dfl_loss  Instances       Size\n"
     ]
    },
    {
     "name": "stderr",
     "output_type": "stream",
     "text": [
      "       3/50     0.784G      2.563      3.188      2.045         28        512: 100%|██████████| 78/78 [00:06<00:00, 12.28it/s]\n",
      "                 Class     Images  Instances      Box(P          R      mAP50  mAP50-95): 100%|██████████| 13/13 [00:01<00:00, 11.91it/s]"
     ]
    },
    {
     "name": "stdout",
     "output_type": "stream",
     "text": [
      "                   all        208        341     0.0899     0.0821     0.0293    0.00755\n"
     ]
    },
    {
     "name": "stderr",
     "output_type": "stream",
     "text": [
      "\n"
     ]
    },
    {
     "name": "stdout",
     "output_type": "stream",
     "text": [
      "\n",
      "      Epoch    GPU_mem   box_loss   cls_loss   dfl_loss  Instances       Size\n"
     ]
    },
    {
     "name": "stderr",
     "output_type": "stream",
     "text": [
      "       4/50     0.786G      2.529      3.109      2.096         29        512: 100%|██████████| 78/78 [00:06<00:00, 12.50it/s]\n",
      "                 Class     Images  Instances      Box(P          R      mAP50  mAP50-95): 100%|██████████| 13/13 [00:01<00:00, 12.29it/s]"
     ]
    },
    {
     "name": "stdout",
     "output_type": "stream",
     "text": [
      "                   all        208        341     0.0175     0.0381    0.00482    0.00135\n"
     ]
    },
    {
     "name": "stderr",
     "output_type": "stream",
     "text": [
      "\n"
     ]
    },
    {
     "name": "stdout",
     "output_type": "stream",
     "text": [
      "\n",
      "      Epoch    GPU_mem   box_loss   cls_loss   dfl_loss  Instances       Size\n"
     ]
    },
    {
     "name": "stderr",
     "output_type": "stream",
     "text": [
      "       5/50     0.801G      2.498       2.98      2.064         35        512: 100%|██████████| 78/78 [00:06<00:00, 12.65it/s]\n",
      "                 Class     Images  Instances      Box(P          R      mAP50  mAP50-95): 100%|██████████| 13/13 [00:01<00:00, 11.62it/s]"
     ]
    },
    {
     "name": "stdout",
     "output_type": "stream",
     "text": [
      "                   all        208        341       0.12     0.0762     0.0327      0.011\n"
     ]
    },
    {
     "name": "stderr",
     "output_type": "stream",
     "text": [
      "\n"
     ]
    },
    {
     "name": "stdout",
     "output_type": "stream",
     "text": [
      "\n",
      "      Epoch    GPU_mem   box_loss   cls_loss   dfl_loss  Instances       Size\n"
     ]
    },
    {
     "name": "stderr",
     "output_type": "stream",
     "text": [
      "       6/50     0.786G      2.408      2.953      2.041         18        512: 100%|██████████| 78/78 [00:06<00:00, 12.56it/s]\n",
      "                 Class     Images  Instances      Box(P          R      mAP50  mAP50-95): 100%|██████████| 13/13 [00:01<00:00, 12.14it/s]"
     ]
    },
    {
     "name": "stdout",
     "output_type": "stream",
     "text": [
      "                   all        208        341     0.0734      0.123     0.0324    0.00922\n"
     ]
    },
    {
     "name": "stderr",
     "output_type": "stream",
     "text": [
      "\n"
     ]
    },
    {
     "name": "stdout",
     "output_type": "stream",
     "text": [
      "\n",
      "      Epoch    GPU_mem   box_loss   cls_loss   dfl_loss  Instances       Size\n"
     ]
    },
    {
     "name": "stderr",
     "output_type": "stream",
     "text": [
      "       7/50     0.812G      2.436      2.873      2.038         23        512: 100%|██████████| 78/78 [00:06<00:00, 12.67it/s]\n",
      "                 Class     Images  Instances      Box(P          R      mAP50  mAP50-95): 100%|██████████| 13/13 [00:01<00:00, 11.24it/s]"
     ]
    },
    {
     "name": "stdout",
     "output_type": "stream",
     "text": [
      "                   all        208        341     0.0825      0.158     0.0355     0.0106\n"
     ]
    },
    {
     "name": "stderr",
     "output_type": "stream",
     "text": [
      "\n"
     ]
    },
    {
     "name": "stdout",
     "output_type": "stream",
     "text": [
      "\n",
      "      Epoch    GPU_mem   box_loss   cls_loss   dfl_loss  Instances       Size\n"
     ]
    },
    {
     "name": "stderr",
     "output_type": "stream",
     "text": [
      "       8/50     0.786G      2.433      2.883       2.04         36        512: 100%|██████████| 78/78 [00:06<00:00, 12.46it/s]\n",
      "                 Class     Images  Instances      Box(P          R      mAP50  mAP50-95): 100%|██████████| 13/13 [00:01<00:00, 11.88it/s]"
     ]
    },
    {
     "name": "stdout",
     "output_type": "stream",
     "text": [
      "                   all        208        341      0.111      0.117     0.0541     0.0152\n"
     ]
    },
    {
     "name": "stderr",
     "output_type": "stream",
     "text": [
      "\n"
     ]
    },
    {
     "name": "stdout",
     "output_type": "stream",
     "text": [
      "\n",
      "      Epoch    GPU_mem   box_loss   cls_loss   dfl_loss  Instances       Size\n"
     ]
    },
    {
     "name": "stderr",
     "output_type": "stream",
     "text": [
      "       9/50     0.797G      2.407      2.811      1.993         19        512: 100%|██████████| 78/78 [00:06<00:00, 12.55it/s]\n",
      "                 Class     Images  Instances      Box(P          R      mAP50  mAP50-95): 100%|██████████| 13/13 [00:01<00:00, 11.78it/s]"
     ]
    },
    {
     "name": "stdout",
     "output_type": "stream",
     "text": [
      "                   all        208        341      0.191      0.123     0.0743     0.0267\n"
     ]
    },
    {
     "name": "stderr",
     "output_type": "stream",
     "text": [
      "\n"
     ]
    },
    {
     "name": "stdout",
     "output_type": "stream",
     "text": [
      "\n",
      "      Epoch    GPU_mem   box_loss   cls_loss   dfl_loss  Instances       Size\n"
     ]
    },
    {
     "name": "stderr",
     "output_type": "stream",
     "text": [
      "      10/50     0.786G      2.272      2.656      1.905         38        512: 100%|██████████| 78/78 [00:06<00:00, 12.50it/s]\n",
      "                 Class     Images  Instances      Box(P          R      mAP50  mAP50-95): 100%|██████████| 13/13 [00:01<00:00, 11.82it/s]"
     ]
    },
    {
     "name": "stdout",
     "output_type": "stream",
     "text": [
      "                   all        208        341      0.115      0.149     0.0743     0.0256\n"
     ]
    },
    {
     "name": "stderr",
     "output_type": "stream",
     "text": [
      "\n"
     ]
    },
    {
     "name": "stdout",
     "output_type": "stream",
     "text": [
      "\n",
      "      Epoch    GPU_mem   box_loss   cls_loss   dfl_loss  Instances       Size\n"
     ]
    },
    {
     "name": "stderr",
     "output_type": "stream",
     "text": [
      "      11/50     0.812G      2.337      2.629      1.957         16        512: 100%|██████████| 78/78 [00:06<00:00, 12.21it/s]\n",
      "                 Class     Images  Instances      Box(P          R      mAP50  mAP50-95): 100%|██████████| 13/13 [00:01<00:00, 11.12it/s]"
     ]
    },
    {
     "name": "stdout",
     "output_type": "stream",
     "text": [
      "                   all        208        341      0.177      0.255      0.117     0.0389\n"
     ]
    },
    {
     "name": "stderr",
     "output_type": "stream",
     "text": [
      "\n"
     ]
    },
    {
     "name": "stdout",
     "output_type": "stream",
     "text": [
      "\n",
      "      Epoch    GPU_mem   box_loss   cls_loss   dfl_loss  Instances       Size\n"
     ]
    },
    {
     "name": "stderr",
     "output_type": "stream",
     "text": [
      "      12/50     0.784G      2.211      2.589      1.891         20        512: 100%|██████████| 78/78 [00:06<00:00, 12.46it/s]\n",
      "                 Class     Images  Instances      Box(P          R      mAP50  mAP50-95): 100%|██████████| 13/13 [00:01<00:00, 12.64it/s]"
     ]
    },
    {
     "name": "stdout",
     "output_type": "stream",
     "text": [
      "                   all        208        341      0.216      0.132     0.0963     0.0346\n"
     ]
    },
    {
     "name": "stderr",
     "output_type": "stream",
     "text": [
      "\n"
     ]
    },
    {
     "name": "stdout",
     "output_type": "stream",
     "text": [
      "\n",
      "      Epoch    GPU_mem   box_loss   cls_loss   dfl_loss  Instances       Size\n"
     ]
    },
    {
     "name": "stderr",
     "output_type": "stream",
     "text": [
      "      13/50     0.797G      2.285      2.576      1.922         13        512: 100%|██████████| 78/78 [00:06<00:00, 12.79it/s]\n",
      "                 Class     Images  Instances      Box(P          R      mAP50  mAP50-95): 100%|██████████| 13/13 [00:01<00:00, 11.93it/s]"
     ]
    },
    {
     "name": "stdout",
     "output_type": "stream",
     "text": [
      "                   all        208        341      0.272      0.202      0.129     0.0398\n"
     ]
    },
    {
     "name": "stderr",
     "output_type": "stream",
     "text": [
      "\n"
     ]
    },
    {
     "name": "stdout",
     "output_type": "stream",
     "text": [
      "\n",
      "      Epoch    GPU_mem   box_loss   cls_loss   dfl_loss  Instances       Size\n"
     ]
    },
    {
     "name": "stderr",
     "output_type": "stream",
     "text": [
      "      14/50     0.784G      2.225      2.524      1.895         20        512: 100%|██████████| 78/78 [00:06<00:00, 12.59it/s]\n",
      "                 Class     Images  Instances      Box(P          R      mAP50  mAP50-95): 100%|██████████| 13/13 [00:01<00:00, 12.10it/s]"
     ]
    },
    {
     "name": "stdout",
     "output_type": "stream",
     "text": [
      "                   all        208        341      0.211      0.185      0.111     0.0379\n"
     ]
    },
    {
     "name": "stderr",
     "output_type": "stream",
     "text": [
      "\n"
     ]
    },
    {
     "name": "stdout",
     "output_type": "stream",
     "text": [
      "\n",
      "      Epoch    GPU_mem   box_loss   cls_loss   dfl_loss  Instances       Size\n"
     ]
    },
    {
     "name": "stderr",
     "output_type": "stream",
     "text": [
      "      15/50      0.81G      2.173      2.494      1.844         16        512: 100%|██████████| 78/78 [00:06<00:00, 12.56it/s]\n",
      "                 Class     Images  Instances      Box(P          R      mAP50  mAP50-95): 100%|██████████| 13/13 [00:01<00:00, 12.61it/s]"
     ]
    },
    {
     "name": "stdout",
     "output_type": "stream",
     "text": [
      "                   all        208        341      0.247      0.205      0.134     0.0425\n"
     ]
    },
    {
     "name": "stderr",
     "output_type": "stream",
     "text": [
      "\n"
     ]
    },
    {
     "name": "stdout",
     "output_type": "stream",
     "text": [
      "\n",
      "      Epoch    GPU_mem   box_loss   cls_loss   dfl_loss  Instances       Size\n"
     ]
    },
    {
     "name": "stderr",
     "output_type": "stream",
     "text": [
      "      16/50     0.786G      2.146      2.393      1.825         15        512: 100%|██████████| 78/78 [00:06<00:00, 12.45it/s]\n",
      "                 Class     Images  Instances      Box(P          R      mAP50  mAP50-95): 100%|██████████| 13/13 [00:01<00:00, 12.59it/s]"
     ]
    },
    {
     "name": "stdout",
     "output_type": "stream",
     "text": [
      "                   all        208        341      0.301      0.223      0.148      0.053\n"
     ]
    },
    {
     "name": "stderr",
     "output_type": "stream",
     "text": [
      "\n"
     ]
    },
    {
     "name": "stdout",
     "output_type": "stream",
     "text": [
      "\n",
      "      Epoch    GPU_mem   box_loss   cls_loss   dfl_loss  Instances       Size\n"
     ]
    },
    {
     "name": "stderr",
     "output_type": "stream",
     "text": [
      "      17/50     0.801G      2.154      2.412      1.848         22        512: 100%|██████████| 78/78 [00:06<00:00, 12.39it/s]\n",
      "                 Class     Images  Instances      Box(P          R      mAP50  mAP50-95): 100%|██████████| 13/13 [00:01<00:00, 11.58it/s]"
     ]
    },
    {
     "name": "stdout",
     "output_type": "stream",
     "text": [
      "                   all        208        341      0.255      0.214      0.142     0.0501\n"
     ]
    },
    {
     "name": "stderr",
     "output_type": "stream",
     "text": [
      "\n"
     ]
    },
    {
     "name": "stdout",
     "output_type": "stream",
     "text": [
      "\n",
      "      Epoch    GPU_mem   box_loss   cls_loss   dfl_loss  Instances       Size\n"
     ]
    },
    {
     "name": "stderr",
     "output_type": "stream",
     "text": [
      "      18/50     0.784G      2.123      2.371      1.823         26        512: 100%|██████████| 78/78 [00:06<00:00, 12.42it/s]\n",
      "                 Class     Images  Instances      Box(P          R      mAP50  mAP50-95): 100%|██████████| 13/13 [00:01<00:00, 11.30it/s]"
     ]
    },
    {
     "name": "stdout",
     "output_type": "stream",
     "text": [
      "                   all        208        341      0.261      0.208      0.134     0.0443\n"
     ]
    },
    {
     "name": "stderr",
     "output_type": "stream",
     "text": [
      "\n"
     ]
    },
    {
     "name": "stdout",
     "output_type": "stream",
     "text": [
      "\n",
      "      Epoch    GPU_mem   box_loss   cls_loss   dfl_loss  Instances       Size\n"
     ]
    },
    {
     "name": "stderr",
     "output_type": "stream",
     "text": [
      "      19/50      0.81G      2.085      2.318      1.815         21        512: 100%|██████████| 78/78 [00:10<00:00,  7.25it/s]\n",
      "                 Class     Images  Instances      Box(P          R      mAP50  mAP50-95): 100%|██████████| 13/13 [00:01<00:00,  8.65it/s]"
     ]
    },
    {
     "name": "stdout",
     "output_type": "stream",
     "text": [
      "                   all        208        341      0.348      0.208      0.169     0.0559\n"
     ]
    },
    {
     "name": "stderr",
     "output_type": "stream",
     "text": [
      "\n"
     ]
    },
    {
     "name": "stdout",
     "output_type": "stream",
     "text": [
      "\n",
      "      Epoch    GPU_mem   box_loss   cls_loss   dfl_loss  Instances       Size\n"
     ]
    },
    {
     "name": "stderr",
     "output_type": "stream",
     "text": [
      "      20/50     0.786G       2.09      2.309      1.805         38        512: 100%|██████████| 78/78 [00:06<00:00, 12.73it/s]\n",
      "                 Class     Images  Instances      Box(P          R      mAP50  mAP50-95): 100%|██████████| 13/13 [00:01<00:00, 12.08it/s]"
     ]
    },
    {
     "name": "stdout",
     "output_type": "stream",
     "text": [
      "                   all        208        341      0.224      0.232      0.155     0.0473\n"
     ]
    },
    {
     "name": "stderr",
     "output_type": "stream",
     "text": [
      "\n"
     ]
    },
    {
     "name": "stdout",
     "output_type": "stream",
     "text": [
      "\n",
      "      Epoch    GPU_mem   box_loss   cls_loss   dfl_loss  Instances       Size\n"
     ]
    },
    {
     "name": "stderr",
     "output_type": "stream",
     "text": [
      "      21/50     0.797G      2.059       2.27       1.74         20        512: 100%|██████████| 78/78 [00:06<00:00, 12.81it/s]\n",
      "                 Class     Images  Instances      Box(P          R      mAP50  mAP50-95): 100%|██████████| 13/13 [00:01<00:00, 12.73it/s]"
     ]
    },
    {
     "name": "stdout",
     "output_type": "stream",
     "text": [
      "                   all        208        341      0.265      0.246       0.15     0.0539\n"
     ]
    },
    {
     "name": "stderr",
     "output_type": "stream",
     "text": [
      "\n"
     ]
    },
    {
     "name": "stdout",
     "output_type": "stream",
     "text": [
      "\n",
      "      Epoch    GPU_mem   box_loss   cls_loss   dfl_loss  Instances       Size\n"
     ]
    },
    {
     "name": "stderr",
     "output_type": "stream",
     "text": [
      "      22/50     0.784G      2.032      2.158      1.736         17        512: 100%|██████████| 78/78 [00:07<00:00, 10.81it/s]\n",
      "                 Class     Images  Instances      Box(P          R      mAP50  mAP50-95): 100%|██████████| 13/13 [00:02<00:00,  5.64it/s]"
     ]
    },
    {
     "name": "stdout",
     "output_type": "stream",
     "text": [
      "                   all        208        341      0.307      0.241      0.175     0.0619\n"
     ]
    },
    {
     "name": "stderr",
     "output_type": "stream",
     "text": [
      "\n"
     ]
    },
    {
     "name": "stdout",
     "output_type": "stream",
     "text": [
      "\n",
      "      Epoch    GPU_mem   box_loss   cls_loss   dfl_loss  Instances       Size\n"
     ]
    },
    {
     "name": "stderr",
     "output_type": "stream",
     "text": [
      "      23/50      0.81G      2.042      2.261      1.769         37        512: 100%|██████████| 78/78 [00:15<00:00,  5.06it/s]\n",
      "                 Class     Images  Instances      Box(P          R      mAP50  mAP50-95): 100%|██████████| 13/13 [00:03<00:00,  4.30it/s]"
     ]
    },
    {
     "name": "stdout",
     "output_type": "stream",
     "text": [
      "                   all        208        341      0.306      0.243       0.18     0.0676\n"
     ]
    },
    {
     "name": "stderr",
     "output_type": "stream",
     "text": [
      "\n"
     ]
    },
    {
     "name": "stdout",
     "output_type": "stream",
     "text": [
      "\n",
      "      Epoch    GPU_mem   box_loss   cls_loss   dfl_loss  Instances       Size\n"
     ]
    },
    {
     "name": "stderr",
     "output_type": "stream",
     "text": [
      "      24/50     0.784G       2.02      2.196      1.735         24        512: 100%|██████████| 78/78 [00:13<00:00,  5.99it/s]\n",
      "                 Class     Images  Instances      Box(P          R      mAP50  mAP50-95): 100%|██████████| 13/13 [00:01<00:00, 11.78it/s]"
     ]
    },
    {
     "name": "stdout",
     "output_type": "stream",
     "text": [
      "                   all        208        341       0.35      0.273      0.206     0.0703\n"
     ]
    },
    {
     "name": "stderr",
     "output_type": "stream",
     "text": [
      "\n"
     ]
    },
    {
     "name": "stdout",
     "output_type": "stream",
     "text": [
      "\n",
      "      Epoch    GPU_mem   box_loss   cls_loss   dfl_loss  Instances       Size\n"
     ]
    },
    {
     "name": "stderr",
     "output_type": "stream",
     "text": [
      "      25/50     0.797G      2.003      2.149      1.715         27        512: 100%|██████████| 78/78 [00:06<00:00, 12.35it/s]\n",
      "                 Class     Images  Instances      Box(P          R      mAP50  mAP50-95): 100%|██████████| 13/13 [00:01<00:00, 12.07it/s]"
     ]
    },
    {
     "name": "stdout",
     "output_type": "stream",
     "text": [
      "                   all        208        341       0.35       0.27      0.206     0.0748\n"
     ]
    },
    {
     "name": "stderr",
     "output_type": "stream",
     "text": [
      "\n"
     ]
    },
    {
     "name": "stdout",
     "output_type": "stream",
     "text": [
      "\n",
      "      Epoch    GPU_mem   box_loss   cls_loss   dfl_loss  Instances       Size\n"
     ]
    },
    {
     "name": "stderr",
     "output_type": "stream",
     "text": [
      "      26/50     0.784G      1.956      2.136      1.699         24        512: 100%|██████████| 78/78 [00:06<00:00, 11.84it/s]\n",
      "                 Class     Images  Instances      Box(P          R      mAP50  mAP50-95): 100%|██████████| 13/13 [00:01<00:00, 11.46it/s]"
     ]
    },
    {
     "name": "stdout",
     "output_type": "stream",
     "text": [
      "                   all        208        341      0.277      0.249      0.167     0.0587\n"
     ]
    },
    {
     "name": "stderr",
     "output_type": "stream",
     "text": [
      "\n"
     ]
    },
    {
     "name": "stdout",
     "output_type": "stream",
     "text": [
      "\n",
      "      Epoch    GPU_mem   box_loss   cls_loss   dfl_loss  Instances       Size\n"
     ]
    },
    {
     "name": "stderr",
     "output_type": "stream",
     "text": [
      "      27/50      0.81G      1.954      2.079      1.695         19        512: 100%|██████████| 78/78 [00:06<00:00, 12.28it/s]\n",
      "                 Class     Images  Instances      Box(P          R      mAP50  mAP50-95): 100%|██████████| 13/13 [00:01<00:00, 11.71it/s]"
     ]
    },
    {
     "name": "stdout",
     "output_type": "stream",
     "text": [
      "                   all        208        341      0.324      0.279      0.204     0.0664\n"
     ]
    },
    {
     "name": "stderr",
     "output_type": "stream",
     "text": [
      "\n"
     ]
    },
    {
     "name": "stdout",
     "output_type": "stream",
     "text": [
      "\n",
      "      Epoch    GPU_mem   box_loss   cls_loss   dfl_loss  Instances       Size\n"
     ]
    },
    {
     "name": "stderr",
     "output_type": "stream",
     "text": [
      "      28/50      0.81G      1.865      1.987      1.676         14        512: 100%|██████████| 78/78 [00:06<00:00, 12.47it/s]\n",
      "                 Class     Images  Instances      Box(P          R      mAP50  mAP50-95): 100%|██████████| 13/13 [00:01<00:00, 11.85it/s]"
     ]
    },
    {
     "name": "stdout",
     "output_type": "stream",
     "text": [
      "                   all        208        341       0.36      0.284      0.247     0.0821\n"
     ]
    },
    {
     "name": "stderr",
     "output_type": "stream",
     "text": [
      "\n"
     ]
    },
    {
     "name": "stdout",
     "output_type": "stream",
     "text": [
      "\n",
      "      Epoch    GPU_mem   box_loss   cls_loss   dfl_loss  Instances       Size\n"
     ]
    },
    {
     "name": "stderr",
     "output_type": "stream",
     "text": [
      "      29/50     0.801G      1.947      2.035       1.67         20        512: 100%|██████████| 78/78 [00:06<00:00, 12.48it/s]\n",
      "                 Class     Images  Instances      Box(P          R      mAP50  mAP50-95): 100%|██████████| 13/13 [00:01<00:00, 12.19it/s]"
     ]
    },
    {
     "name": "stdout",
     "output_type": "stream",
     "text": [
      "                   all        208        341      0.328      0.314      0.203     0.0695\n"
     ]
    },
    {
     "name": "stderr",
     "output_type": "stream",
     "text": [
      "\n"
     ]
    },
    {
     "name": "stdout",
     "output_type": "stream",
     "text": [
      "\n",
      "      Epoch    GPU_mem   box_loss   cls_loss   dfl_loss  Instances       Size\n"
     ]
    },
    {
     "name": "stderr",
     "output_type": "stream",
     "text": [
      "      30/50     0.784G      1.902      1.951      1.656         27        512: 100%|██████████| 78/78 [00:06<00:00, 12.48it/s]\n",
      "                 Class     Images  Instances      Box(P          R      mAP50  mAP50-95): 100%|██████████| 13/13 [00:01<00:00, 11.30it/s]"
     ]
    },
    {
     "name": "stdout",
     "output_type": "stream",
     "text": [
      "                   all        208        341      0.334      0.249      0.196     0.0725\n"
     ]
    },
    {
     "name": "stderr",
     "output_type": "stream",
     "text": [
      "\n"
     ]
    },
    {
     "name": "stdout",
     "output_type": "stream",
     "text": [
      "\n",
      "      Epoch    GPU_mem   box_loss   cls_loss   dfl_loss  Instances       Size\n"
     ]
    },
    {
     "name": "stderr",
     "output_type": "stream",
     "text": [
      "      31/50     0.784G      1.894      1.935      1.628         29        512: 100%|██████████| 78/78 [00:06<00:00, 12.44it/s]\n",
      "                 Class     Images  Instances      Box(P          R      mAP50  mAP50-95): 100%|██████████| 13/13 [00:01<00:00, 12.26it/s]"
     ]
    },
    {
     "name": "stdout",
     "output_type": "stream",
     "text": [
      "                   all        208        341      0.283      0.323       0.21     0.0721\n"
     ]
    },
    {
     "name": "stderr",
     "output_type": "stream",
     "text": [
      "\n"
     ]
    },
    {
     "name": "stdout",
     "output_type": "stream",
     "text": [
      "\n",
      "      Epoch    GPU_mem   box_loss   cls_loss   dfl_loss  Instances       Size\n"
     ]
    },
    {
     "name": "stderr",
     "output_type": "stream",
     "text": [
      "      32/50     0.784G      1.855       1.93      1.636         20        512: 100%|██████████| 78/78 [00:06<00:00, 12.53it/s]\n",
      "                 Class     Images  Instances      Box(P          R      mAP50  mAP50-95): 100%|██████████| 13/13 [00:01<00:00, 11.88it/s]"
     ]
    },
    {
     "name": "stdout",
     "output_type": "stream",
     "text": [
      "                   all        208        341      0.383      0.284      0.243     0.0834\n"
     ]
    },
    {
     "name": "stderr",
     "output_type": "stream",
     "text": [
      "\n"
     ]
    },
    {
     "name": "stdout",
     "output_type": "stream",
     "text": [
      "\n",
      "      Epoch    GPU_mem   box_loss   cls_loss   dfl_loss  Instances       Size\n"
     ]
    },
    {
     "name": "stderr",
     "output_type": "stream",
     "text": [
      "      33/50     0.797G      1.877      1.921      1.664         25        512: 100%|██████████| 78/78 [00:06<00:00, 12.62it/s]\n",
      "                 Class     Images  Instances      Box(P          R      mAP50  mAP50-95): 100%|██████████| 13/13 [00:01<00:00, 12.27it/s]"
     ]
    },
    {
     "name": "stdout",
     "output_type": "stream",
     "text": [
      "                   all        208        341      0.367      0.249       0.21     0.0778\n"
     ]
    },
    {
     "name": "stderr",
     "output_type": "stream",
     "text": [
      "\n"
     ]
    },
    {
     "name": "stdout",
     "output_type": "stream",
     "text": [
      "\n",
      "      Epoch    GPU_mem   box_loss   cls_loss   dfl_loss  Instances       Size\n"
     ]
    },
    {
     "name": "stderr",
     "output_type": "stream",
     "text": [
      "      34/50     0.784G      1.804      1.825      1.609         14        512: 100%|██████████| 78/78 [00:06<00:00, 12.61it/s]\n",
      "                 Class     Images  Instances      Box(P          R      mAP50  mAP50-95): 100%|██████████| 13/13 [00:01<00:00, 12.12it/s]"
     ]
    },
    {
     "name": "stdout",
     "output_type": "stream",
     "text": [
      "                   all        208        341      0.383      0.313      0.249     0.0897\n"
     ]
    },
    {
     "name": "stderr",
     "output_type": "stream",
     "text": [
      "\n"
     ]
    },
    {
     "name": "stdout",
     "output_type": "stream",
     "text": [
      "\n",
      "      Epoch    GPU_mem   box_loss   cls_loss   dfl_loss  Instances       Size\n"
     ]
    },
    {
     "name": "stderr",
     "output_type": "stream",
     "text": [
      "      35/50      0.81G      1.818      1.845      1.605         16        512: 100%|██████████| 78/78 [00:06<00:00, 12.46it/s]\n",
      "                 Class     Images  Instances      Box(P          R      mAP50  mAP50-95): 100%|██████████| 13/13 [00:01<00:00, 12.16it/s]"
     ]
    },
    {
     "name": "stdout",
     "output_type": "stream",
     "text": [
      "                   all        208        341      0.349      0.326      0.243     0.0904\n"
     ]
    },
    {
     "name": "stderr",
     "output_type": "stream",
     "text": [
      "\n"
     ]
    },
    {
     "name": "stdout",
     "output_type": "stream",
     "text": [
      "\n",
      "      Epoch    GPU_mem   box_loss   cls_loss   dfl_loss  Instances       Size\n"
     ]
    },
    {
     "name": "stderr",
     "output_type": "stream",
     "text": [
      "      36/50     0.784G      1.856      1.819      1.633         23        512: 100%|██████████| 78/78 [00:06<00:00, 12.49it/s]\n",
      "                 Class     Images  Instances      Box(P          R      mAP50  mAP50-95): 100%|██████████| 13/13 [00:01<00:00, 12.30it/s]"
     ]
    },
    {
     "name": "stdout",
     "output_type": "stream",
     "text": [
      "                   all        208        341      0.395      0.273      0.233     0.0846\n"
     ]
    },
    {
     "name": "stderr",
     "output_type": "stream",
     "text": [
      "\n"
     ]
    },
    {
     "name": "stdout",
     "output_type": "stream",
     "text": [
      "\n",
      "      Epoch    GPU_mem   box_loss   cls_loss   dfl_loss  Instances       Size\n"
     ]
    },
    {
     "name": "stderr",
     "output_type": "stream",
     "text": [
      "      37/50     0.797G      1.788      1.773      1.579         26        512: 100%|██████████| 78/78 [00:06<00:00, 12.43it/s]\n",
      "                 Class     Images  Instances      Box(P          R      mAP50  mAP50-95): 100%|██████████| 13/13 [00:01<00:00, 12.19it/s]"
     ]
    },
    {
     "name": "stdout",
     "output_type": "stream",
     "text": [
      "                   all        208        341      0.349      0.314      0.242      0.092\n"
     ]
    },
    {
     "name": "stderr",
     "output_type": "stream",
     "text": [
      "\n"
     ]
    },
    {
     "name": "stdout",
     "output_type": "stream",
     "text": [
      "\n",
      "      Epoch    GPU_mem   box_loss   cls_loss   dfl_loss  Instances       Size\n"
     ]
    },
    {
     "name": "stderr",
     "output_type": "stream",
     "text": [
      "      38/50      0.81G      1.741      1.739      1.552         18        512: 100%|██████████| 78/78 [00:06<00:00, 12.57it/s]\n",
      "                 Class     Images  Instances      Box(P          R      mAP50  mAP50-95): 100%|██████████| 13/13 [00:01<00:00, 12.53it/s]"
     ]
    },
    {
     "name": "stdout",
     "output_type": "stream",
     "text": [
      "                   all        208        341      0.432      0.316      0.262     0.0945\n"
     ]
    },
    {
     "name": "stderr",
     "output_type": "stream",
     "text": [
      "\n"
     ]
    },
    {
     "name": "stdout",
     "output_type": "stream",
     "text": [
      "\n",
      "      Epoch    GPU_mem   box_loss   cls_loss   dfl_loss  Instances       Size\n"
     ]
    },
    {
     "name": "stderr",
     "output_type": "stream",
     "text": [
      "      39/50      0.81G      1.816      1.803      1.604         20        512: 100%|██████████| 78/78 [00:06<00:00, 12.50it/s]\n",
      "                 Class     Images  Instances      Box(P          R      mAP50  mAP50-95): 100%|██████████| 13/13 [00:01<00:00, 12.21it/s]"
     ]
    },
    {
     "name": "stdout",
     "output_type": "stream",
     "text": [
      "                   all        208        341      0.398       0.32      0.249     0.0853\n"
     ]
    },
    {
     "name": "stderr",
     "output_type": "stream",
     "text": [
      "\n"
     ]
    },
    {
     "name": "stdout",
     "output_type": "stream",
     "text": [
      "\n",
      "      Epoch    GPU_mem   box_loss   cls_loss   dfl_loss  Instances       Size\n"
     ]
    },
    {
     "name": "stderr",
     "output_type": "stream",
     "text": [
      "      40/50      0.81G       1.76      1.715      1.554         25        512: 100%|██████████| 78/78 [00:06<00:00, 12.59it/s]\n",
      "                 Class     Images  Instances      Box(P          R      mAP50  mAP50-95): 100%|██████████| 13/13 [00:01<00:00, 12.55it/s]"
     ]
    },
    {
     "name": "stdout",
     "output_type": "stream",
     "text": [
      "                   all        208        341      0.396        0.3      0.241     0.0901\n"
     ]
    },
    {
     "name": "stderr",
     "output_type": "stream",
     "text": [
      "\n"
     ]
    },
    {
     "name": "stdout",
     "output_type": "stream",
     "text": [
      "Closing dataloader mosaic\n",
      "\n",
      "      Epoch    GPU_mem   box_loss   cls_loss   dfl_loss  Instances       Size\n"
     ]
    },
    {
     "name": "stderr",
     "output_type": "stream",
     "text": [
      "      41/50     0.801G      1.838      1.828      1.607         12        512: 100%|██████████| 78/78 [00:06<00:00, 11.54it/s]\n",
      "                 Class     Images  Instances      Box(P          R      mAP50  mAP50-95): 100%|██████████| 13/13 [00:01<00:00, 11.98it/s]"
     ]
    },
    {
     "name": "stdout",
     "output_type": "stream",
     "text": [
      "                   all        208        341      0.352      0.308      0.238     0.0927\n"
     ]
    },
    {
     "name": "stderr",
     "output_type": "stream",
     "text": [
      "\n"
     ]
    },
    {
     "name": "stdout",
     "output_type": "stream",
     "text": [
      "\n",
      "      Epoch    GPU_mem   box_loss   cls_loss   dfl_loss  Instances       Size\n"
     ]
    },
    {
     "name": "stderr",
     "output_type": "stream",
     "text": [
      "      42/50      0.81G      1.752      1.627      1.563         13        512: 100%|██████████| 78/78 [00:06<00:00, 12.41it/s]\n",
      "                 Class     Images  Instances      Box(P          R      mAP50  mAP50-95): 100%|██████████| 13/13 [00:01<00:00, 12.03it/s]"
     ]
    },
    {
     "name": "stdout",
     "output_type": "stream",
     "text": [
      "                   all        208        341      0.403      0.293      0.238     0.0847\n"
     ]
    },
    {
     "name": "stderr",
     "output_type": "stream",
     "text": [
      "\n"
     ]
    },
    {
     "name": "stdout",
     "output_type": "stream",
     "text": [
      "\n",
      "      Epoch    GPU_mem   box_loss   cls_loss   dfl_loss  Instances       Size\n"
     ]
    },
    {
     "name": "stderr",
     "output_type": "stream",
     "text": [
      "      43/50      0.81G      1.703      1.625      1.548         13        512: 100%|██████████| 78/78 [00:06<00:00, 12.65it/s]\n",
      "                 Class     Images  Instances      Box(P          R      mAP50  mAP50-95): 100%|██████████| 13/13 [00:01<00:00, 11.72it/s]"
     ]
    },
    {
     "name": "stdout",
     "output_type": "stream",
     "text": [
      "                   all        208        341      0.369      0.296      0.229     0.0895\n"
     ]
    },
    {
     "name": "stderr",
     "output_type": "stream",
     "text": [
      "\n"
     ]
    },
    {
     "name": "stdout",
     "output_type": "stream",
     "text": [
      "\n",
      "      Epoch    GPU_mem   box_loss   cls_loss   dfl_loss  Instances       Size\n"
     ]
    },
    {
     "name": "stderr",
     "output_type": "stream",
     "text": [
      "      44/50      0.81G      1.701       1.62      1.539         14        512: 100%|██████████| 78/78 [00:06<00:00, 12.49it/s]\n",
      "                 Class     Images  Instances      Box(P          R      mAP50  mAP50-95): 100%|██████████| 13/13 [00:01<00:00, 11.70it/s]"
     ]
    },
    {
     "name": "stdout",
     "output_type": "stream",
     "text": [
      "                   all        208        341      0.436      0.302       0.25     0.0861\n"
     ]
    },
    {
     "name": "stderr",
     "output_type": "stream",
     "text": [
      "\n"
     ]
    },
    {
     "name": "stdout",
     "output_type": "stream",
     "text": [
      "\n",
      "      Epoch    GPU_mem   box_loss   cls_loss   dfl_loss  Instances       Size\n"
     ]
    },
    {
     "name": "stderr",
     "output_type": "stream",
     "text": [
      "      45/50     0.801G      1.693      1.562      1.529         13        512: 100%|██████████| 78/78 [00:06<00:00, 12.37it/s]\n",
      "                 Class     Images  Instances      Box(P          R      mAP50  mAP50-95): 100%|██████████| 13/13 [00:01<00:00, 10.72it/s]"
     ]
    },
    {
     "name": "stdout",
     "output_type": "stream",
     "text": [
      "                   all        208        341       0.38       0.32      0.253     0.0959\n"
     ]
    },
    {
     "name": "stderr",
     "output_type": "stream",
     "text": [
      "\n"
     ]
    },
    {
     "name": "stdout",
     "output_type": "stream",
     "text": [
      "\n",
      "      Epoch    GPU_mem   box_loss   cls_loss   dfl_loss  Instances       Size\n"
     ]
    },
    {
     "name": "stderr",
     "output_type": "stream",
     "text": [
      "      46/50     0.784G      1.634      1.504      1.501          7        512: 100%|██████████| 78/78 [00:11<00:00,  6.79it/s]\n",
      "                 Class     Images  Instances      Box(P          R      mAP50  mAP50-95): 100%|██████████| 13/13 [00:02<00:00,  5.09it/s]"
     ]
    },
    {
     "name": "stdout",
     "output_type": "stream",
     "text": [
      "                   all        208        341      0.391      0.337      0.256     0.0975\n"
     ]
    },
    {
     "name": "stderr",
     "output_type": "stream",
     "text": [
      "\n"
     ]
    },
    {
     "name": "stdout",
     "output_type": "stream",
     "text": [
      "\n",
      "      Epoch    GPU_mem   box_loss   cls_loss   dfl_loss  Instances       Size\n"
     ]
    },
    {
     "name": "stderr",
     "output_type": "stream",
     "text": [
      "      47/50     0.784G      1.628      1.433      1.483         11        512: 100%|██████████| 78/78 [00:14<00:00,  5.47it/s]\n",
      "                 Class     Images  Instances      Box(P          R      mAP50  mAP50-95): 100%|██████████| 13/13 [00:02<00:00,  5.01it/s]"
     ]
    },
    {
     "name": "stdout",
     "output_type": "stream",
     "text": [
      "                   all        208        341      0.397      0.326      0.251     0.0918\n"
     ]
    },
    {
     "name": "stderr",
     "output_type": "stream",
     "text": [
      "\n"
     ]
    },
    {
     "name": "stdout",
     "output_type": "stream",
     "text": [
      "\n",
      "      Epoch    GPU_mem   box_loss   cls_loss   dfl_loss  Instances       Size\n"
     ]
    },
    {
     "name": "stderr",
     "output_type": "stream",
     "text": [
      "      48/50      0.81G      1.617      1.466       1.49         13        512: 100%|██████████| 78/78 [00:13<00:00,  5.66it/s]\n",
      "                 Class     Images  Instances      Box(P          R      mAP50  mAP50-95): 100%|██████████| 13/13 [00:01<00:00, 11.70it/s]"
     ]
    },
    {
     "name": "stdout",
     "output_type": "stream",
     "text": [
      "                   all        208        341       0.41      0.323       0.25     0.0962\n"
     ]
    },
    {
     "name": "stderr",
     "output_type": "stream",
     "text": [
      "\n"
     ]
    },
    {
     "name": "stdout",
     "output_type": "stream",
     "text": [
      "\n",
      "      Epoch    GPU_mem   box_loss   cls_loss   dfl_loss  Instances       Size\n"
     ]
    },
    {
     "name": "stderr",
     "output_type": "stream",
     "text": [
      "      49/50     0.801G        1.6      1.409      1.468         22        512: 100%|██████████| 78/78 [00:06<00:00, 12.60it/s]\n",
      "                 Class     Images  Instances      Box(P          R      mAP50  mAP50-95): 100%|██████████| 13/13 [00:01<00:00, 12.39it/s]"
     ]
    },
    {
     "name": "stdout",
     "output_type": "stream",
     "text": [
      "                   all        208        341      0.452      0.317      0.259     0.0992\n"
     ]
    },
    {
     "name": "stderr",
     "output_type": "stream",
     "text": [
      "\n"
     ]
    },
    {
     "name": "stdout",
     "output_type": "stream",
     "text": [
      "\n",
      "      Epoch    GPU_mem   box_loss   cls_loss   dfl_loss  Instances       Size\n"
     ]
    },
    {
     "name": "stderr",
     "output_type": "stream",
     "text": [
      "      50/50      0.81G      1.617      1.424      1.507         16        512: 100%|██████████| 78/78 [00:06<00:00, 12.55it/s]\n",
      "                 Class     Images  Instances      Box(P          R      mAP50  mAP50-95): 100%|██████████| 13/13 [00:01<00:00, 11.82it/s]"
     ]
    },
    {
     "name": "stdout",
     "output_type": "stream",
     "text": [
      "                   all        208        341      0.423      0.349      0.265     0.0984\n"
     ]
    },
    {
     "name": "stderr",
     "output_type": "stream",
     "text": [
      "\n"
     ]
    },
    {
     "name": "stdout",
     "output_type": "stream",
     "text": [
      "\n",
      "50 epochs completed in 0.132 hours.\n",
      "Optimizer stripped from runs\\detect\\train26\\weights\\last.pt, 6.2MB\n",
      "Optimizer stripped from runs\\detect\\train26\\weights\\best.pt, 6.2MB\n",
      "\n",
      "Validating runs\\detect\\train26\\weights\\best.pt...\n",
      "Ultralytics 8.3.54  Python-3.10.16 torch-2.5.1+cu124 CUDA:0 (NVIDIA GeForce RTX 3050 Laptop GPU, 4096MiB)\n",
      "Model summary (fused): 168 layers, 3,005,843 parameters, 0 gradients, 8.1 GFLOPs\n"
     ]
    },
    {
     "name": "stderr",
     "output_type": "stream",
     "text": [
      "                 Class     Images  Instances      Box(P          R      mAP50  mAP50-95): 100%|██████████| 13/13 [00:01<00:00, 10.59it/s]\n"
     ]
    },
    {
     "name": "stdout",
     "output_type": "stream",
     "text": [
      "                   all        208        341      0.453      0.317      0.259     0.0993\n",
      "Speed: 0.2ms preprocess, 1.5ms inference, 0.0ms loss, 0.9ms postprocess per image\n",
      "Results saved to \u001b[1mruns\\detect\\train26\u001b[0m\n"
     ]
    },
    {
     "data": {
      "text/plain": [
       "ultralytics.utils.metrics.DetMetrics object with attributes:\n",
       "\n",
       "ap_class_index: array([0])\n",
       "box: ultralytics.utils.metrics.Metric object\n",
       "confusion_matrix: <ultralytics.utils.metrics.ConfusionMatrix object at 0x000001F38CCC63E0>\n",
       "curves: ['Precision-Recall(B)', 'F1-Confidence(B)', 'Precision-Confidence(B)', 'Recall-Confidence(B)']\n",
       "curves_results: [[array([          0,    0.001001,    0.002002,    0.003003,    0.004004,    0.005005,    0.006006,    0.007007,    0.008008,    0.009009,     0.01001,    0.011011,    0.012012,    0.013013,    0.014014,    0.015015,    0.016016,    0.017017,    0.018018,    0.019019,     0.02002,    0.021021,    0.022022,    0.023023,\n",
       "          0.024024,    0.025025,    0.026026,    0.027027,    0.028028,    0.029029,     0.03003,    0.031031,    0.032032,    0.033033,    0.034034,    0.035035,    0.036036,    0.037037,    0.038038,    0.039039,     0.04004,    0.041041,    0.042042,    0.043043,    0.044044,    0.045045,    0.046046,    0.047047,\n",
       "          0.048048,    0.049049,     0.05005,    0.051051,    0.052052,    0.053053,    0.054054,    0.055055,    0.056056,    0.057057,    0.058058,    0.059059,     0.06006,    0.061061,    0.062062,    0.063063,    0.064064,    0.065065,    0.066066,    0.067067,    0.068068,    0.069069,     0.07007,    0.071071,\n",
       "          0.072072,    0.073073,    0.074074,    0.075075,    0.076076,    0.077077,    0.078078,    0.079079,     0.08008,    0.081081,    0.082082,    0.083083,    0.084084,    0.085085,    0.086086,    0.087087,    0.088088,    0.089089,     0.09009,    0.091091,    0.092092,    0.093093,    0.094094,    0.095095,\n",
       "          0.096096,    0.097097,    0.098098,    0.099099,      0.1001,      0.1011,      0.1021,      0.1031,      0.1041,     0.10511,     0.10611,     0.10711,     0.10811,     0.10911,     0.11011,     0.11111,     0.11211,     0.11311,     0.11411,     0.11512,     0.11612,     0.11712,     0.11812,     0.11912,\n",
       "           0.12012,     0.12112,     0.12212,     0.12312,     0.12412,     0.12513,     0.12613,     0.12713,     0.12813,     0.12913,     0.13013,     0.13113,     0.13213,     0.13313,     0.13413,     0.13514,     0.13614,     0.13714,     0.13814,     0.13914,     0.14014,     0.14114,     0.14214,     0.14314,\n",
       "           0.14414,     0.14515,     0.14615,     0.14715,     0.14815,     0.14915,     0.15015,     0.15115,     0.15215,     0.15315,     0.15415,     0.15516,     0.15616,     0.15716,     0.15816,     0.15916,     0.16016,     0.16116,     0.16216,     0.16316,     0.16416,     0.16517,     0.16617,     0.16717,\n",
       "           0.16817,     0.16917,     0.17017,     0.17117,     0.17217,     0.17317,     0.17417,     0.17518,     0.17618,     0.17718,     0.17818,     0.17918,     0.18018,     0.18118,     0.18218,     0.18318,     0.18418,     0.18519,     0.18619,     0.18719,     0.18819,     0.18919,     0.19019,     0.19119,\n",
       "           0.19219,     0.19319,     0.19419,      0.1952,      0.1962,      0.1972,      0.1982,      0.1992,      0.2002,      0.2012,      0.2022,      0.2032,      0.2042,     0.20521,     0.20621,     0.20721,     0.20821,     0.20921,     0.21021,     0.21121,     0.21221,     0.21321,     0.21421,     0.21522,\n",
       "           0.21622,     0.21722,     0.21822,     0.21922,     0.22022,     0.22122,     0.22222,     0.22322,     0.22422,     0.22523,     0.22623,     0.22723,     0.22823,     0.22923,     0.23023,     0.23123,     0.23223,     0.23323,     0.23423,     0.23524,     0.23624,     0.23724,     0.23824,     0.23924,\n",
       "           0.24024,     0.24124,     0.24224,     0.24324,     0.24424,     0.24525,     0.24625,     0.24725,     0.24825,     0.24925,     0.25025,     0.25125,     0.25225,     0.25325,     0.25425,     0.25526,     0.25626,     0.25726,     0.25826,     0.25926,     0.26026,     0.26126,     0.26226,     0.26326,\n",
       "           0.26426,     0.26527,     0.26627,     0.26727,     0.26827,     0.26927,     0.27027,     0.27127,     0.27227,     0.27327,     0.27427,     0.27528,     0.27628,     0.27728,     0.27828,     0.27928,     0.28028,     0.28128,     0.28228,     0.28328,     0.28428,     0.28529,     0.28629,     0.28729,\n",
       "           0.28829,     0.28929,     0.29029,     0.29129,     0.29229,     0.29329,     0.29429,      0.2953,      0.2963,      0.2973,      0.2983,      0.2993,      0.3003,      0.3013,      0.3023,      0.3033,      0.3043,     0.30531,     0.30631,     0.30731,     0.30831,     0.30931,     0.31031,     0.31131,\n",
       "           0.31231,     0.31331,     0.31431,     0.31532,     0.31632,     0.31732,     0.31832,     0.31932,     0.32032,     0.32132,     0.32232,     0.32332,     0.32432,     0.32533,     0.32633,     0.32733,     0.32833,     0.32933,     0.33033,     0.33133,     0.33233,     0.33333,     0.33433,     0.33534,\n",
       "           0.33634,     0.33734,     0.33834,     0.33934,     0.34034,     0.34134,     0.34234,     0.34334,     0.34434,     0.34535,     0.34635,     0.34735,     0.34835,     0.34935,     0.35035,     0.35135,     0.35235,     0.35335,     0.35435,     0.35536,     0.35636,     0.35736,     0.35836,     0.35936,\n",
       "           0.36036,     0.36136,     0.36236,     0.36336,     0.36436,     0.36537,     0.36637,     0.36737,     0.36837,     0.36937,     0.37037,     0.37137,     0.37237,     0.37337,     0.37437,     0.37538,     0.37638,     0.37738,     0.37838,     0.37938,     0.38038,     0.38138,     0.38238,     0.38338,\n",
       "           0.38438,     0.38539,     0.38639,     0.38739,     0.38839,     0.38939,     0.39039,     0.39139,     0.39239,     0.39339,     0.39439,      0.3954,      0.3964,      0.3974,      0.3984,      0.3994,      0.4004,      0.4014,      0.4024,      0.4034,      0.4044,     0.40541,     0.40641,     0.40741,\n",
       "           0.40841,     0.40941,     0.41041,     0.41141,     0.41241,     0.41341,     0.41441,     0.41542,     0.41642,     0.41742,     0.41842,     0.41942,     0.42042,     0.42142,     0.42242,     0.42342,     0.42442,     0.42543,     0.42643,     0.42743,     0.42843,     0.42943,     0.43043,     0.43143,\n",
       "           0.43243,     0.43343,     0.43443,     0.43544,     0.43644,     0.43744,     0.43844,     0.43944,     0.44044,     0.44144,     0.44244,     0.44344,     0.44444,     0.44545,     0.44645,     0.44745,     0.44845,     0.44945,     0.45045,     0.45145,     0.45245,     0.45345,     0.45445,     0.45546,\n",
       "           0.45646,     0.45746,     0.45846,     0.45946,     0.46046,     0.46146,     0.46246,     0.46346,     0.46446,     0.46547,     0.46647,     0.46747,     0.46847,     0.46947,     0.47047,     0.47147,     0.47247,     0.47347,     0.47447,     0.47548,     0.47648,     0.47748,     0.47848,     0.47948,\n",
       "           0.48048,     0.48148,     0.48248,     0.48348,     0.48448,     0.48549,     0.48649,     0.48749,     0.48849,     0.48949,     0.49049,     0.49149,     0.49249,     0.49349,     0.49449,      0.4955,      0.4965,      0.4975,      0.4985,      0.4995,      0.5005,      0.5015,      0.5025,      0.5035,\n",
       "            0.5045,     0.50551,     0.50651,     0.50751,     0.50851,     0.50951,     0.51051,     0.51151,     0.51251,     0.51351,     0.51451,     0.51552,     0.51652,     0.51752,     0.51852,     0.51952,     0.52052,     0.52152,     0.52252,     0.52352,     0.52452,     0.52553,     0.52653,     0.52753,\n",
       "           0.52853,     0.52953,     0.53053,     0.53153,     0.53253,     0.53353,     0.53453,     0.53554,     0.53654,     0.53754,     0.53854,     0.53954,     0.54054,     0.54154,     0.54254,     0.54354,     0.54454,     0.54555,     0.54655,     0.54755,     0.54855,     0.54955,     0.55055,     0.55155,\n",
       "           0.55255,     0.55355,     0.55455,     0.55556,     0.55656,     0.55756,     0.55856,     0.55956,     0.56056,     0.56156,     0.56256,     0.56356,     0.56456,     0.56557,     0.56657,     0.56757,     0.56857,     0.56957,     0.57057,     0.57157,     0.57257,     0.57357,     0.57457,     0.57558,\n",
       "           0.57658,     0.57758,     0.57858,     0.57958,     0.58058,     0.58158,     0.58258,     0.58358,     0.58458,     0.58559,     0.58659,     0.58759,     0.58859,     0.58959,     0.59059,     0.59159,     0.59259,     0.59359,     0.59459,      0.5956,      0.5966,      0.5976,      0.5986,      0.5996,\n",
       "            0.6006,      0.6016,      0.6026,      0.6036,      0.6046,     0.60561,     0.60661,     0.60761,     0.60861,     0.60961,     0.61061,     0.61161,     0.61261,     0.61361,     0.61461,     0.61562,     0.61662,     0.61762,     0.61862,     0.61962,     0.62062,     0.62162,     0.62262,     0.62362,\n",
       "           0.62462,     0.62563,     0.62663,     0.62763,     0.62863,     0.62963,     0.63063,     0.63163,     0.63263,     0.63363,     0.63463,     0.63564,     0.63664,     0.63764,     0.63864,     0.63964,     0.64064,     0.64164,     0.64264,     0.64364,     0.64464,     0.64565,     0.64665,     0.64765,\n",
       "           0.64865,     0.64965,     0.65065,     0.65165,     0.65265,     0.65365,     0.65465,     0.65566,     0.65666,     0.65766,     0.65866,     0.65966,     0.66066,     0.66166,     0.66266,     0.66366,     0.66466,     0.66567,     0.66667,     0.66767,     0.66867,     0.66967,     0.67067,     0.67167,\n",
       "           0.67267,     0.67367,     0.67467,     0.67568,     0.67668,     0.67768,     0.67868,     0.67968,     0.68068,     0.68168,     0.68268,     0.68368,     0.68468,     0.68569,     0.68669,     0.68769,     0.68869,     0.68969,     0.69069,     0.69169,     0.69269,     0.69369,     0.69469,      0.6957,\n",
       "            0.6967,      0.6977,      0.6987,      0.6997,      0.7007,      0.7017,      0.7027,      0.7037,      0.7047,     0.70571,     0.70671,     0.70771,     0.70871,     0.70971,     0.71071,     0.71171,     0.71271,     0.71371,     0.71471,     0.71572,     0.71672,     0.71772,     0.71872,     0.71972,\n",
       "           0.72072,     0.72172,     0.72272,     0.72372,     0.72472,     0.72573,     0.72673,     0.72773,     0.72873,     0.72973,     0.73073,     0.73173,     0.73273,     0.73373,     0.73473,     0.73574,     0.73674,     0.73774,     0.73874,     0.73974,     0.74074,     0.74174,     0.74274,     0.74374,\n",
       "           0.74474,     0.74575,     0.74675,     0.74775,     0.74875,     0.74975,     0.75075,     0.75175,     0.75275,     0.75375,     0.75475,     0.75576,     0.75676,     0.75776,     0.75876,     0.75976,     0.76076,     0.76176,     0.76276,     0.76376,     0.76476,     0.76577,     0.76677,     0.76777,\n",
       "           0.76877,     0.76977,     0.77077,     0.77177,     0.77277,     0.77377,     0.77477,     0.77578,     0.77678,     0.77778,     0.77878,     0.77978,     0.78078,     0.78178,     0.78278,     0.78378,     0.78478,     0.78579,     0.78679,     0.78779,     0.78879,     0.78979,     0.79079,     0.79179,\n",
       "           0.79279,     0.79379,     0.79479,      0.7958,      0.7968,      0.7978,      0.7988,      0.7998,      0.8008,      0.8018,      0.8028,      0.8038,      0.8048,     0.80581,     0.80681,     0.80781,     0.80881,     0.80981,     0.81081,     0.81181,     0.81281,     0.81381,     0.81481,     0.81582,\n",
       "           0.81682,     0.81782,     0.81882,     0.81982,     0.82082,     0.82182,     0.82282,     0.82382,     0.82482,     0.82583,     0.82683,     0.82783,     0.82883,     0.82983,     0.83083,     0.83183,     0.83283,     0.83383,     0.83483,     0.83584,     0.83684,     0.83784,     0.83884,     0.83984,\n",
       "           0.84084,     0.84184,     0.84284,     0.84384,     0.84484,     0.84585,     0.84685,     0.84785,     0.84885,     0.84985,     0.85085,     0.85185,     0.85285,     0.85385,     0.85485,     0.85586,     0.85686,     0.85786,     0.85886,     0.85986,     0.86086,     0.86186,     0.86286,     0.86386,\n",
       "           0.86486,     0.86587,     0.86687,     0.86787,     0.86887,     0.86987,     0.87087,     0.87187,     0.87287,     0.87387,     0.87487,     0.87588,     0.87688,     0.87788,     0.87888,     0.87988,     0.88088,     0.88188,     0.88288,     0.88388,     0.88488,     0.88589,     0.88689,     0.88789,\n",
       "           0.88889,     0.88989,     0.89089,     0.89189,     0.89289,     0.89389,     0.89489,      0.8959,      0.8969,      0.8979,      0.8989,      0.8999,      0.9009,      0.9019,      0.9029,      0.9039,      0.9049,     0.90591,     0.90691,     0.90791,     0.90891,     0.90991,     0.91091,     0.91191,\n",
       "           0.91291,     0.91391,     0.91491,     0.91592,     0.91692,     0.91792,     0.91892,     0.91992,     0.92092,     0.92192,     0.92292,     0.92392,     0.92492,     0.92593,     0.92693,     0.92793,     0.92893,     0.92993,     0.93093,     0.93193,     0.93293,     0.93393,     0.93493,     0.93594,\n",
       "           0.93694,     0.93794,     0.93894,     0.93994,     0.94094,     0.94194,     0.94294,     0.94394,     0.94494,     0.94595,     0.94695,     0.94795,     0.94895,     0.94995,     0.95095,     0.95195,     0.95295,     0.95395,     0.95495,     0.95596,     0.95696,     0.95796,     0.95896,     0.95996,\n",
       "           0.96096,     0.96196,     0.96296,     0.96396,     0.96496,     0.96597,     0.96697,     0.96797,     0.96897,     0.96997,     0.97097,     0.97197,     0.97297,     0.97397,     0.97497,     0.97598,     0.97698,     0.97798,     0.97898,     0.97998,     0.98098,     0.98198,     0.98298,     0.98398,\n",
       "           0.98498,     0.98599,     0.98699,     0.98799,     0.98899,     0.98999,     0.99099,     0.99199,     0.99299,     0.99399,     0.99499,       0.996,       0.997,       0.998,       0.999,           1]), array([[          1,           1,           1,         0.8,         0.8,         0.8,         0.8,         0.8,         0.8,         0.8,         0.8,         0.8,     0.77778,     0.77778,     0.77778,     0.77778,     0.77778,     0.77778,     0.77778,     0.77778,     0.77778,     0.69444,     0.69444,\n",
       "            0.69444,     0.69444,     0.69444,     0.69444,     0.69444,     0.69444,     0.69444,     0.69444,     0.69444,     0.69444,     0.69444,     0.69444,     0.69444,     0.69444,     0.69444,     0.69444,     0.69444,     0.69444,     0.69444,     0.69444,     0.69444,     0.69444,     0.69444,\n",
       "            0.69444,     0.69444,     0.69444,     0.69444,     0.69444,     0.69444,     0.69444,     0.69444,     0.69444,     0.69444,     0.69444,     0.69444,     0.69444,     0.69444,     0.69444,     0.69444,     0.69444,     0.69444,     0.69444,     0.69444,     0.69444,     0.69444,     0.69444,\n",
       "            0.69444,     0.69444,     0.69444,     0.69444,     0.69444,     0.68421,     0.68421,     0.68421,     0.66667,     0.66667,     0.66667,     0.66667,     0.66667,     0.66667,     0.66667,     0.66667,     0.66667,     0.66667,     0.66667,     0.63462,     0.63462,     0.63462,     0.63462,\n",
       "            0.63462,     0.63462,     0.63462,     0.63462,     0.63462,     0.63077,     0.63077,     0.63077,     0.63077,     0.63077,     0.63077,     0.63077,     0.63077,     0.63077,     0.63077,     0.63077,     0.63077,     0.63077,     0.63077,     0.63077,     0.63077,     0.63077,     0.63077,\n",
       "            0.63077,     0.63077,     0.63077,     0.63077,     0.63077,     0.63077,     0.62687,     0.62687,     0.62687,       0.625,       0.625,       0.625,       0.625,       0.625,       0.625,       0.625,       0.625,     0.61333,     0.61333,     0.61333,     0.59341,     0.59341,     0.59341,\n",
       "            0.59341,     0.59341,     0.59341,     0.59341,     0.59341,     0.59341,     0.59341,     0.59341,     0.59341,     0.59341,     0.59341,     0.59341,     0.59341,     0.59341,     0.59341,     0.59341,     0.59341,     0.59341,     0.59341,     0.59341,     0.59341,     0.58716,     0.58716,\n",
       "            0.58716,     0.58716,     0.58716,     0.58716,     0.58716,     0.58716,     0.58716,     0.58716,     0.58716,     0.58716,     0.58716,     0.58716,     0.58716,     0.58716,     0.58716,     0.58716,     0.58716,     0.58716,     0.58716,     0.58716,     0.58716,     0.58716,     0.58716,\n",
       "            0.58716,     0.58716,     0.58716,     0.58716,     0.56897,     0.56897,     0.56897,     0.56897,     0.56897,     0.56897,      0.5678,      0.5678,      0.5678,     0.56557,     0.56557,     0.56557,     0.56557,     0.56557,     0.56557,     0.54545,     0.54545,     0.54545,     0.54545,\n",
       "            0.54545,     0.54545,     0.54545,     0.54545,     0.53676,     0.53676,     0.53676,     0.52976,     0.52976,     0.52976,     0.52976,     0.52976,     0.52976,     0.52976,     0.52976,     0.52976,     0.52976,     0.52976,     0.52976,     0.52976,     0.52976,     0.52976,     0.52976,\n",
       "            0.52976,     0.52976,     0.52976,     0.52976,     0.52976,     0.52976,     0.52976,     0.52976,     0.52976,     0.52976,     0.52976,     0.52976,     0.52976,     0.52976,     0.52976,     0.52976,     0.52976,     0.52976,     0.52976,     0.52976,     0.52976,     0.52976,     0.52976,\n",
       "            0.52976,     0.52976,     0.52976,     0.52976,     0.52976,     0.52976,     0.52976,     0.52976,     0.52941,     0.52941,     0.52941,     0.52907,     0.52907,     0.52907,     0.52273,     0.52273,     0.52273,     0.52198,     0.52198,     0.52198,     0.52198,     0.52198,     0.52198,\n",
       "            0.52198,     0.52198,     0.52198,     0.51613,     0.51613,     0.51613,     0.51596,     0.51596,     0.51596,     0.51579,     0.51579,     0.51579,     0.51562,     0.51562,     0.51562,      0.5102,      0.5102,     0.49754,     0.49754,     0.49754,     0.49038,     0.49038,     0.49038,\n",
       "            0.47685,     0.47685,     0.47685,     0.47111,     0.47111,     0.47111,     0.47111,     0.47111,     0.47111,     0.47111,     0.47111,     0.47111,     0.46522,     0.46522,     0.46522,      0.4557,      0.4557,      0.4557,     0.44856,     0.44856,     0.44856,     0.43874,     0.43874,\n",
       "            0.43874,     0.43874,     0.43874,     0.43874,      0.4358,      0.4358,      0.4358,     0.42481,     0.42481,     0.42481,     0.42222,     0.42222,     0.39792,     0.39792,     0.39792,     0.37785,     0.37785,     0.37785,     0.37143,     0.37143,     0.37143,     0.36991,     0.36991,\n",
       "            0.36991,     0.36842,     0.36842,     0.36842,     0.36697,     0.36697,     0.36697,     0.36446,     0.36446,     0.36446,     0.34758,     0.34758,     0.34758,     0.34358,     0.34358,     0.34358,     0.33604,     0.33604,     0.33604,     0.33602,     0.33602,     0.33602,     0.33511,\n",
       "            0.33511,     0.33511,     0.33421,     0.33421,     0.33421,      0.3342,      0.3342,     0.33333,     0.33333,     0.33333,     0.33249,     0.33249,     0.33249,     0.33249,     0.33249,     0.33249,     0.32836,     0.32836,     0.32836,     0.32048,     0.32048,     0.32048,     0.31308,\n",
       "            0.31308,     0.31308,     0.31264,     0.31264,     0.31264,     0.31264,     0.31264,     0.31264,     0.29783,     0.29783,     0.29783,     0.29299,     0.29299,     0.29299,     0.28747,     0.28747,     0.28747,     0.28747,     0.28747,     0.28747,     0.28717,     0.28717,     0.28717,\n",
       "            0.27626,     0.27626,     0.27626,     0.26779,     0.26779,     0.26364,     0.26364,     0.26364,     0.26364,     0.26364,     0.26364,     0.25699,     0.25699,     0.25699,     0.25699,     0.25699,     0.25699,     0.25127,     0.25127,     0.25127,     0.24875,     0.24875,     0.24875,\n",
       "            0.22189,     0.22189,     0.22189,     0.21622,     0.21622,     0.21622,     0.21622,     0.21622,     0.21622,     0.21339,     0.21339,     0.21339,     0.21183,     0.21183,     0.21183,     0.21138,     0.21138,     0.21138,     0.21138,     0.21138,     0.21138,     0.20443,     0.20443,\n",
       "            0.20205,     0.20205,     0.20205,     0.20076,     0.20076,     0.20076,     0.18692,     0.18692,     0.18692,     0.18316,     0.18316,     0.18316,        0.18,        0.18,        0.18,     0.17527,     0.17527,     0.17527,     0.17173,     0.17173,     0.17173,     0.16993,     0.16993,\n",
       "            0.16993,      0.1687,      0.1687,      0.1687,     0.16502,     0.16502,     0.16502,     0.15677,     0.15677,     0.15677,     0.15677,     0.15677,     0.15677,     0.15625,     0.15625,     0.15625,     0.14844,     0.14844,     0.14751,     0.14751,     0.14751,     0.14736,     0.14736,\n",
       "            0.14736,     0.14044,     0.14044,     0.14044,     0.14034,     0.14034,     0.14034,     0.13518,     0.13518,     0.13518,     0.12835,     0.12835,     0.12835,     0.12483,     0.12483,     0.12483,     0.12483,     0.12483,     0.12483,     0.12431,     0.12431,     0.12431,      0.1173,\n",
       "             0.1173,      0.1173,     0.11318,     0.11318,     0.11318,     0.11206,     0.11206,     0.11206,     0.11206,     0.11206,     0.11206,     0.11151,     0.11151,     0.10986,     0.10986,     0.10986,     0.10553,     0.10553,     0.10553,    0.096164,    0.096164,    0.096164,    0.095793,\n",
       "           0.095793,    0.095793,    0.089792,    0.089792,    0.089792,    0.087254,    0.087254,    0.087254,    0.081356,    0.081356,    0.081356,    0.079034,    0.079034,    0.079034,    0.073764,    0.073764,    0.073764,     0.06125,     0.06125,     0.06125,     0.06125,     0.06125,     0.06125,\n",
       "           0.058824,    0.058824,    0.058824,    0.055916,    0.055916,    0.055916,    0.052053,    0.052053,    0.051125,    0.051125,    0.051125,     0.05025,     0.05025,     0.05025,    0.049852,    0.049852,    0.049852,    0.049816,    0.049816,    0.049816,    0.049359,    0.049359,    0.049359,\n",
       "           0.048683,    0.048683,    0.048683,    0.048683,    0.048683,    0.048683,    0.048683,    0.048683,    0.048683,    0.046294,    0.046294,    0.046294,    0.046005,    0.046005,    0.046005,    0.045181,    0.045181,    0.045181,    0.042739,    0.042739,    0.042739,    0.041889,    0.041889,\n",
       "           0.041889,    0.040571,    0.040571,    0.040571,    0.040179,    0.040179,    0.040179,    0.040179,    0.040179,     0.03943,     0.03943,     0.03943,     0.03917,     0.03917,     0.03917,    0.039149,    0.039149,    0.039149,    0.039149,    0.039149,    0.039149,    0.035228,    0.035228,\n",
       "           0.035228,    0.033592,    0.033592,    0.033592,    0.031579,    0.031579,    0.031579,    0.031206,    0.031206,    0.031206,    0.029685,    0.029685,    0.029685,    0.028535,    0.028535,    0.028535,    0.028324,    0.028324,    0.028324,    0.024899,    0.024899,    0.024899,    0.024805,\n",
       "           0.024805,    0.024805,    0.024805,    0.024805,     0.02404,     0.02404,     0.02404,     0.02404,     0.02404,     0.02404,    0.020351,    0.020351,    0.020351,    0.019988,    0.019988,    0.019988,     0.01921,     0.01921,     0.01921,    0.018568,    0.018568,    0.018568,    0.016942,\n",
       "           0.016942,    0.016942,    0.016445,    0.016445,    0.016445,    0.015362,    0.015362,    0.015362,    0.014739,    0.014739,    0.014739,    0.014547,    0.014547,    0.014547,    0.014374,    0.014374,    0.014374,    0.013916,    0.013869,    0.013821,    0.013773,    0.013726,    0.013678,\n",
       "            0.01363,    0.013583,    0.013535,    0.013487,     0.01344,    0.013392,    0.013344,    0.013297,    0.013249,    0.013201,    0.013154,    0.013106,    0.013058,    0.013011,    0.012963,    0.012915,    0.012868,     0.01282,    0.012772,    0.012725,    0.012677,    0.012629,    0.012582,\n",
       "           0.012534,    0.012487,    0.012439,    0.012391,    0.012344,    0.012296,    0.012248,    0.012201,    0.012153,    0.012105,    0.012058,     0.01201,    0.011962,    0.011915,    0.011867,    0.011819,    0.011772,    0.011724,    0.011676,    0.011629,    0.011581,    0.011533,    0.011486,\n",
       "           0.011438,     0.01139,    0.011343,    0.011295,    0.011247,      0.0112,    0.011152,    0.011104,    0.011057,    0.011009,    0.010961,    0.010914,    0.010866,    0.010818,    0.010771,    0.010723,    0.010675,    0.010628,     0.01058,    0.010533,    0.010485,    0.010437,     0.01039,\n",
       "           0.010342,    0.010294,    0.010247,    0.010199,    0.010151,    0.010104,    0.010056,    0.010008,   0.0099606,    0.009913,   0.0098653,   0.0098176,     0.00977,   0.0097223,   0.0096747,    0.009627,   0.0095793,   0.0095317,    0.009484,   0.0094364,   0.0093887,   0.0093411,   0.0092934,\n",
       "          0.0092457,   0.0091981,   0.0091504,   0.0091028,   0.0090551,   0.0090074,   0.0089598,   0.0089121,   0.0088645,   0.0088168,   0.0087692,   0.0087215,   0.0086738,   0.0086262,   0.0085785,   0.0085309,   0.0084832,   0.0084355,   0.0083879,   0.0083402,   0.0082926,   0.0082449,   0.0081973,\n",
       "          0.0081496,   0.0081019,   0.0080543,   0.0080066,    0.007959,   0.0079113,   0.0078636,    0.007816,   0.0077683,   0.0077207,    0.007673,   0.0076254,   0.0075777,     0.00753,   0.0074824,   0.0074347,   0.0073871,   0.0073394,   0.0072917,   0.0072441,   0.0071964,   0.0071488,   0.0071011,\n",
       "          0.0070535,   0.0070058,   0.0069581,   0.0069105,   0.0068628,   0.0068152,   0.0067675,   0.0067198,   0.0066722,   0.0066245,   0.0065769,   0.0065292,   0.0064816,   0.0064339,   0.0063862,   0.0063386,   0.0062909,   0.0062433,   0.0061956,   0.0061479,   0.0061003,   0.0060526,    0.006005,\n",
       "          0.0059573,   0.0059096,    0.005862,   0.0058143,   0.0057667,    0.005719,   0.0056714,   0.0056237,    0.005576,   0.0055284,   0.0054807,   0.0054331,   0.0053854,   0.0053377,   0.0052901,   0.0052424,   0.0051948,   0.0051471,   0.0050995,   0.0050518,   0.0050041,   0.0049565,   0.0049088,\n",
       "          0.0048612,   0.0048135,   0.0047658,   0.0047182,   0.0046705,   0.0046229,   0.0045752,   0.0045276,   0.0044799,   0.0044322,   0.0043846,   0.0043369,   0.0042893,   0.0042416,   0.0041939,   0.0041463,   0.0040986,    0.004051,   0.0040033,   0.0039557,    0.003908,   0.0038603,   0.0038127,\n",
       "           0.003765,   0.0037174,   0.0036697,    0.003622,   0.0035744,   0.0035267,   0.0034791,   0.0034314,   0.0033838,   0.0033361,   0.0032884,   0.0032408,   0.0031931,   0.0031455,   0.0030978,   0.0030501,   0.0030025,   0.0029548,   0.0029072,   0.0028595,   0.0028118,   0.0027642,   0.0027165,\n",
       "          0.0026689,   0.0026212,   0.0025736,   0.0025259,   0.0024782,   0.0024306,   0.0023829,   0.0023353,   0.0022876,   0.0022399,   0.0021923,   0.0021446,    0.002097,   0.0020493,   0.0020017,    0.001954,   0.0019063,   0.0018587,    0.001811,   0.0017634,   0.0017157,    0.001668,   0.0016204,\n",
       "          0.0015727,   0.0015251,   0.0014774,   0.0014298,   0.0013821,   0.0013344,   0.0012868,   0.0012391,   0.0011915,   0.0011438,   0.0010961,   0.0010485,   0.0010008,  0.00095317,  0.00090551,  0.00085785,  0.00081019,  0.00076254,  0.00071488,  0.00066722,  0.00061956,   0.0005719,  0.00052424,\n",
       "         0.00047658,  0.00042893,  0.00038127,  0.00033361,  0.00028595,  0.00023829,  0.00019063,  0.00014298,  9.5317e-05,  4.7658e-05,           0]]), 'Recall', 'Precision'], [array([          0,    0.001001,    0.002002,    0.003003,    0.004004,    0.005005,    0.006006,    0.007007,    0.008008,    0.009009,     0.01001,    0.011011,    0.012012,    0.013013,    0.014014,    0.015015,    0.016016,    0.017017,    0.018018,    0.019019,     0.02002,    0.021021,    0.022022,    0.023023,\n",
       "          0.024024,    0.025025,    0.026026,    0.027027,    0.028028,    0.029029,     0.03003,    0.031031,    0.032032,    0.033033,    0.034034,    0.035035,    0.036036,    0.037037,    0.038038,    0.039039,     0.04004,    0.041041,    0.042042,    0.043043,    0.044044,    0.045045,    0.046046,    0.047047,\n",
       "          0.048048,    0.049049,     0.05005,    0.051051,    0.052052,    0.053053,    0.054054,    0.055055,    0.056056,    0.057057,    0.058058,    0.059059,     0.06006,    0.061061,    0.062062,    0.063063,    0.064064,    0.065065,    0.066066,    0.067067,    0.068068,    0.069069,     0.07007,    0.071071,\n",
       "          0.072072,    0.073073,    0.074074,    0.075075,    0.076076,    0.077077,    0.078078,    0.079079,     0.08008,    0.081081,    0.082082,    0.083083,    0.084084,    0.085085,    0.086086,    0.087087,    0.088088,    0.089089,     0.09009,    0.091091,    0.092092,    0.093093,    0.094094,    0.095095,\n",
       "          0.096096,    0.097097,    0.098098,    0.099099,      0.1001,      0.1011,      0.1021,      0.1031,      0.1041,     0.10511,     0.10611,     0.10711,     0.10811,     0.10911,     0.11011,     0.11111,     0.11211,     0.11311,     0.11411,     0.11512,     0.11612,     0.11712,     0.11812,     0.11912,\n",
       "           0.12012,     0.12112,     0.12212,     0.12312,     0.12412,     0.12513,     0.12613,     0.12713,     0.12813,     0.12913,     0.13013,     0.13113,     0.13213,     0.13313,     0.13413,     0.13514,     0.13614,     0.13714,     0.13814,     0.13914,     0.14014,     0.14114,     0.14214,     0.14314,\n",
       "           0.14414,     0.14515,     0.14615,     0.14715,     0.14815,     0.14915,     0.15015,     0.15115,     0.15215,     0.15315,     0.15415,     0.15516,     0.15616,     0.15716,     0.15816,     0.15916,     0.16016,     0.16116,     0.16216,     0.16316,     0.16416,     0.16517,     0.16617,     0.16717,\n",
       "           0.16817,     0.16917,     0.17017,     0.17117,     0.17217,     0.17317,     0.17417,     0.17518,     0.17618,     0.17718,     0.17818,     0.17918,     0.18018,     0.18118,     0.18218,     0.18318,     0.18418,     0.18519,     0.18619,     0.18719,     0.18819,     0.18919,     0.19019,     0.19119,\n",
       "           0.19219,     0.19319,     0.19419,      0.1952,      0.1962,      0.1972,      0.1982,      0.1992,      0.2002,      0.2012,      0.2022,      0.2032,      0.2042,     0.20521,     0.20621,     0.20721,     0.20821,     0.20921,     0.21021,     0.21121,     0.21221,     0.21321,     0.21421,     0.21522,\n",
       "           0.21622,     0.21722,     0.21822,     0.21922,     0.22022,     0.22122,     0.22222,     0.22322,     0.22422,     0.22523,     0.22623,     0.22723,     0.22823,     0.22923,     0.23023,     0.23123,     0.23223,     0.23323,     0.23423,     0.23524,     0.23624,     0.23724,     0.23824,     0.23924,\n",
       "           0.24024,     0.24124,     0.24224,     0.24324,     0.24424,     0.24525,     0.24625,     0.24725,     0.24825,     0.24925,     0.25025,     0.25125,     0.25225,     0.25325,     0.25425,     0.25526,     0.25626,     0.25726,     0.25826,     0.25926,     0.26026,     0.26126,     0.26226,     0.26326,\n",
       "           0.26426,     0.26527,     0.26627,     0.26727,     0.26827,     0.26927,     0.27027,     0.27127,     0.27227,     0.27327,     0.27427,     0.27528,     0.27628,     0.27728,     0.27828,     0.27928,     0.28028,     0.28128,     0.28228,     0.28328,     0.28428,     0.28529,     0.28629,     0.28729,\n",
       "           0.28829,     0.28929,     0.29029,     0.29129,     0.29229,     0.29329,     0.29429,      0.2953,      0.2963,      0.2973,      0.2983,      0.2993,      0.3003,      0.3013,      0.3023,      0.3033,      0.3043,     0.30531,     0.30631,     0.30731,     0.30831,     0.30931,     0.31031,     0.31131,\n",
       "           0.31231,     0.31331,     0.31431,     0.31532,     0.31632,     0.31732,     0.31832,     0.31932,     0.32032,     0.32132,     0.32232,     0.32332,     0.32432,     0.32533,     0.32633,     0.32733,     0.32833,     0.32933,     0.33033,     0.33133,     0.33233,     0.33333,     0.33433,     0.33534,\n",
       "           0.33634,     0.33734,     0.33834,     0.33934,     0.34034,     0.34134,     0.34234,     0.34334,     0.34434,     0.34535,     0.34635,     0.34735,     0.34835,     0.34935,     0.35035,     0.35135,     0.35235,     0.35335,     0.35435,     0.35536,     0.35636,     0.35736,     0.35836,     0.35936,\n",
       "           0.36036,     0.36136,     0.36236,     0.36336,     0.36436,     0.36537,     0.36637,     0.36737,     0.36837,     0.36937,     0.37037,     0.37137,     0.37237,     0.37337,     0.37437,     0.37538,     0.37638,     0.37738,     0.37838,     0.37938,     0.38038,     0.38138,     0.38238,     0.38338,\n",
       "           0.38438,     0.38539,     0.38639,     0.38739,     0.38839,     0.38939,     0.39039,     0.39139,     0.39239,     0.39339,     0.39439,      0.3954,      0.3964,      0.3974,      0.3984,      0.3994,      0.4004,      0.4014,      0.4024,      0.4034,      0.4044,     0.40541,     0.40641,     0.40741,\n",
       "           0.40841,     0.40941,     0.41041,     0.41141,     0.41241,     0.41341,     0.41441,     0.41542,     0.41642,     0.41742,     0.41842,     0.41942,     0.42042,     0.42142,     0.42242,     0.42342,     0.42442,     0.42543,     0.42643,     0.42743,     0.42843,     0.42943,     0.43043,     0.43143,\n",
       "           0.43243,     0.43343,     0.43443,     0.43544,     0.43644,     0.43744,     0.43844,     0.43944,     0.44044,     0.44144,     0.44244,     0.44344,     0.44444,     0.44545,     0.44645,     0.44745,     0.44845,     0.44945,     0.45045,     0.45145,     0.45245,     0.45345,     0.45445,     0.45546,\n",
       "           0.45646,     0.45746,     0.45846,     0.45946,     0.46046,     0.46146,     0.46246,     0.46346,     0.46446,     0.46547,     0.46647,     0.46747,     0.46847,     0.46947,     0.47047,     0.47147,     0.47247,     0.47347,     0.47447,     0.47548,     0.47648,     0.47748,     0.47848,     0.47948,\n",
       "           0.48048,     0.48148,     0.48248,     0.48348,     0.48448,     0.48549,     0.48649,     0.48749,     0.48849,     0.48949,     0.49049,     0.49149,     0.49249,     0.49349,     0.49449,      0.4955,      0.4965,      0.4975,      0.4985,      0.4995,      0.5005,      0.5015,      0.5025,      0.5035,\n",
       "            0.5045,     0.50551,     0.50651,     0.50751,     0.50851,     0.50951,     0.51051,     0.51151,     0.51251,     0.51351,     0.51451,     0.51552,     0.51652,     0.51752,     0.51852,     0.51952,     0.52052,     0.52152,     0.52252,     0.52352,     0.52452,     0.52553,     0.52653,     0.52753,\n",
       "           0.52853,     0.52953,     0.53053,     0.53153,     0.53253,     0.53353,     0.53453,     0.53554,     0.53654,     0.53754,     0.53854,     0.53954,     0.54054,     0.54154,     0.54254,     0.54354,     0.54454,     0.54555,     0.54655,     0.54755,     0.54855,     0.54955,     0.55055,     0.55155,\n",
       "           0.55255,     0.55355,     0.55455,     0.55556,     0.55656,     0.55756,     0.55856,     0.55956,     0.56056,     0.56156,     0.56256,     0.56356,     0.56456,     0.56557,     0.56657,     0.56757,     0.56857,     0.56957,     0.57057,     0.57157,     0.57257,     0.57357,     0.57457,     0.57558,\n",
       "           0.57658,     0.57758,     0.57858,     0.57958,     0.58058,     0.58158,     0.58258,     0.58358,     0.58458,     0.58559,     0.58659,     0.58759,     0.58859,     0.58959,     0.59059,     0.59159,     0.59259,     0.59359,     0.59459,      0.5956,      0.5966,      0.5976,      0.5986,      0.5996,\n",
       "            0.6006,      0.6016,      0.6026,      0.6036,      0.6046,     0.60561,     0.60661,     0.60761,     0.60861,     0.60961,     0.61061,     0.61161,     0.61261,     0.61361,     0.61461,     0.61562,     0.61662,     0.61762,     0.61862,     0.61962,     0.62062,     0.62162,     0.62262,     0.62362,\n",
       "           0.62462,     0.62563,     0.62663,     0.62763,     0.62863,     0.62963,     0.63063,     0.63163,     0.63263,     0.63363,     0.63463,     0.63564,     0.63664,     0.63764,     0.63864,     0.63964,     0.64064,     0.64164,     0.64264,     0.64364,     0.64464,     0.64565,     0.64665,     0.64765,\n",
       "           0.64865,     0.64965,     0.65065,     0.65165,     0.65265,     0.65365,     0.65465,     0.65566,     0.65666,     0.65766,     0.65866,     0.65966,     0.66066,     0.66166,     0.66266,     0.66366,     0.66466,     0.66567,     0.66667,     0.66767,     0.66867,     0.66967,     0.67067,     0.67167,\n",
       "           0.67267,     0.67367,     0.67467,     0.67568,     0.67668,     0.67768,     0.67868,     0.67968,     0.68068,     0.68168,     0.68268,     0.68368,     0.68468,     0.68569,     0.68669,     0.68769,     0.68869,     0.68969,     0.69069,     0.69169,     0.69269,     0.69369,     0.69469,      0.6957,\n",
       "            0.6967,      0.6977,      0.6987,      0.6997,      0.7007,      0.7017,      0.7027,      0.7037,      0.7047,     0.70571,     0.70671,     0.70771,     0.70871,     0.70971,     0.71071,     0.71171,     0.71271,     0.71371,     0.71471,     0.71572,     0.71672,     0.71772,     0.71872,     0.71972,\n",
       "           0.72072,     0.72172,     0.72272,     0.72372,     0.72472,     0.72573,     0.72673,     0.72773,     0.72873,     0.72973,     0.73073,     0.73173,     0.73273,     0.73373,     0.73473,     0.73574,     0.73674,     0.73774,     0.73874,     0.73974,     0.74074,     0.74174,     0.74274,     0.74374,\n",
       "           0.74474,     0.74575,     0.74675,     0.74775,     0.74875,     0.74975,     0.75075,     0.75175,     0.75275,     0.75375,     0.75475,     0.75576,     0.75676,     0.75776,     0.75876,     0.75976,     0.76076,     0.76176,     0.76276,     0.76376,     0.76476,     0.76577,     0.76677,     0.76777,\n",
       "           0.76877,     0.76977,     0.77077,     0.77177,     0.77277,     0.77377,     0.77477,     0.77578,     0.77678,     0.77778,     0.77878,     0.77978,     0.78078,     0.78178,     0.78278,     0.78378,     0.78478,     0.78579,     0.78679,     0.78779,     0.78879,     0.78979,     0.79079,     0.79179,\n",
       "           0.79279,     0.79379,     0.79479,      0.7958,      0.7968,      0.7978,      0.7988,      0.7998,      0.8008,      0.8018,      0.8028,      0.8038,      0.8048,     0.80581,     0.80681,     0.80781,     0.80881,     0.80981,     0.81081,     0.81181,     0.81281,     0.81381,     0.81481,     0.81582,\n",
       "           0.81682,     0.81782,     0.81882,     0.81982,     0.82082,     0.82182,     0.82282,     0.82382,     0.82482,     0.82583,     0.82683,     0.82783,     0.82883,     0.82983,     0.83083,     0.83183,     0.83283,     0.83383,     0.83483,     0.83584,     0.83684,     0.83784,     0.83884,     0.83984,\n",
       "           0.84084,     0.84184,     0.84284,     0.84384,     0.84484,     0.84585,     0.84685,     0.84785,     0.84885,     0.84985,     0.85085,     0.85185,     0.85285,     0.85385,     0.85485,     0.85586,     0.85686,     0.85786,     0.85886,     0.85986,     0.86086,     0.86186,     0.86286,     0.86386,\n",
       "           0.86486,     0.86587,     0.86687,     0.86787,     0.86887,     0.86987,     0.87087,     0.87187,     0.87287,     0.87387,     0.87487,     0.87588,     0.87688,     0.87788,     0.87888,     0.87988,     0.88088,     0.88188,     0.88288,     0.88388,     0.88488,     0.88589,     0.88689,     0.88789,\n",
       "           0.88889,     0.88989,     0.89089,     0.89189,     0.89289,     0.89389,     0.89489,      0.8959,      0.8969,      0.8979,      0.8989,      0.8999,      0.9009,      0.9019,      0.9029,      0.9039,      0.9049,     0.90591,     0.90691,     0.90791,     0.90891,     0.90991,     0.91091,     0.91191,\n",
       "           0.91291,     0.91391,     0.91491,     0.91592,     0.91692,     0.91792,     0.91892,     0.91992,     0.92092,     0.92192,     0.92292,     0.92392,     0.92492,     0.92593,     0.92693,     0.92793,     0.92893,     0.92993,     0.93093,     0.93193,     0.93293,     0.93393,     0.93493,     0.93594,\n",
       "           0.93694,     0.93794,     0.93894,     0.93994,     0.94094,     0.94194,     0.94294,     0.94394,     0.94494,     0.94595,     0.94695,     0.94795,     0.94895,     0.94995,     0.95095,     0.95195,     0.95295,     0.95395,     0.95495,     0.95596,     0.95696,     0.95796,     0.95896,     0.95996,\n",
       "           0.96096,     0.96196,     0.96296,     0.96396,     0.96496,     0.96597,     0.96697,     0.96797,     0.96897,     0.96997,     0.97097,     0.97197,     0.97297,     0.97397,     0.97497,     0.97598,     0.97698,     0.97798,     0.97898,     0.97998,     0.98098,     0.98198,     0.98298,     0.98398,\n",
       "           0.98498,     0.98599,     0.98699,     0.98799,     0.98899,     0.98999,     0.99099,     0.99199,     0.99299,     0.99399,     0.99499,       0.996,       0.997,       0.998,       0.999,           1]), array([[   0.027383,    0.027383,    0.044732,    0.058629,    0.069689,    0.078383,     0.08694,    0.093739,      0.1009,     0.10771,     0.11395,      0.1207,     0.12763,     0.13351,     0.13878,     0.14393,      0.1484,     0.15234,     0.15613,     0.16134,     0.16454,     0.16819,     0.17273,\n",
       "            0.17649,     0.18038,     0.18379,     0.18519,     0.18926,     0.19285,     0.19757,     0.20109,     0.20093,      0.2046,     0.20631,     0.20904,     0.21379,     0.21535,     0.21859,     0.21997,      0.2219,     0.22418,     0.22787,     0.22796,     0.22913,     0.23196,     0.23492,\n",
       "             0.2372,     0.23611,     0.23987,     0.24274,     0.24684,     0.24921,     0.25054,     0.25237,     0.25455,     0.25641,     0.25696,     0.25938,     0.26044,     0.26191,     0.26339,     0.26433,     0.26662,     0.26781,     0.27027,     0.27197,     0.27458,     0.27651,     0.27896,\n",
       "            0.28046,     0.28114,     0.28013,     0.28262,     0.28277,     0.28478,     0.28643,     0.28766,     0.28684,     0.28759,     0.28882,     0.28809,     0.28957,     0.29024,     0.29218,     0.29433,     0.29403,     0.29636,      0.2977,     0.29944,      0.3007,     0.30294,     0.30411,\n",
       "             0.3073,     0.30829,     0.30845,     0.31016,     0.31147,      0.3134,     0.31569,       0.317,     0.31613,     0.31763,     0.32008,     0.31979,     0.32042,      0.3239,     0.32395,     0.32392,     0.32484,     0.32657,     0.32551,     0.32538,     0.32561,     0.32714,     0.32764,\n",
       "            0.32896,     0.33106,     0.33166,     0.33058,     0.33237,     0.33424,     0.33484,     0.33531,     0.33765,      0.3385,     0.33799,     0.33663,      0.3361,     0.33789,     0.33926,     0.33793,     0.33824,     0.34042,     0.34017,     0.34154,      0.3429,     0.34389,     0.34566,\n",
       "            0.34668,     0.34803,     0.34984,      0.3468,     0.34689,     0.34801,     0.34849,     0.34726,     0.34863,     0.34887,     0.34961,     0.35056,     0.35043,     0.35168,     0.35215,     0.35238,     0.35344,      0.3537,     0.35406,     0.35314,     0.35449,     0.35432,     0.35369,\n",
       "            0.35403,     0.35434,     0.35249,     0.35234,      0.3519,     0.34918,     0.34977,      0.3497,     0.34859,     0.34772,     0.34851,     0.34895,     0.34916,     0.34938,      0.3496,     0.34983,     0.35087,      0.3504,     0.35177,     0.35238,     0.35037,     0.35067,     0.35238,\n",
       "            0.35335,     0.35354,     0.35374,     0.35436,     0.35503,     0.35547,     0.35594,     0.35637,     0.35706,     0.35753,      0.3584,     0.35943,     0.35715,     0.35742,     0.35828,     0.35916,     0.35693,     0.35737,     0.35781,     0.35812,     0.35616,     0.35656,     0.35555,\n",
       "            0.35609,     0.35426,     0.35505,     0.35549,     0.35577,     0.35761,     0.35618,     0.35583,     0.35679,     0.35728,     0.35875,     0.36059,     0.36101,     0.36132,     0.36161,     0.36288,     0.36366,     0.36266,     0.36403,     0.36492,     0.36579,     0.36679,     0.36708,\n",
       "            0.36804,      0.3686,     0.36947,     0.37078,     0.37103,     0.37128,     0.37161,     0.37196,     0.37238,     0.37304,     0.37184,     0.37042,     0.37038,     0.37055,     0.37072,     0.37091,     0.37134,     0.37158,     0.37174,      0.3719,     0.37206,     0.37275,     0.37287,\n",
       "            0.37299,     0.37311,     0.37323,     0.37341,     0.37392,      0.3743,     0.37435,     0.37334,     0.37232,     0.37253,     0.37127,     0.37118,     0.37042,     0.36967,     0.36892,     0.36921,     0.36954,     0.36975,     0.36997,      0.3702,     0.37045,     0.37071,       0.371,\n",
       "            0.37128,     0.37163,       0.372,     0.37302,     0.37157,     0.37227,     0.37276,     0.37334,     0.37095,     0.37107,     0.37118,      0.3713,     0.37141,     0.37153,      0.3719,      0.3723,     0.37274,     0.37326,     0.37417,     0.37455,     0.37323,     0.37211,     0.37238,\n",
       "            0.37333,     0.37371,      0.3741,     0.37449,      0.3736,     0.37242,     0.37202,     0.37044,     0.36956,     0.36971,     0.36987,     0.37003,     0.36875,     0.36967,     0.36694,     0.36733,     0.36769,     0.36804,      0.3683,     0.36847,     0.36864,     0.36882,     0.36925,\n",
       "            0.36967,     0.36985,     0.37003,     0.37022,     0.37097,     0.37112,     0.37128,     0.37143,     0.37158,     0.37056,     0.36955,     0.36873,     0.36984,     0.37018,     0.37043,     0.37077,     0.36838,     0.36863,     0.36888,     0.36949,     0.37024,     0.37208,     0.37211,\n",
       "            0.36946,     0.36986,     0.37027,     0.37067,     0.37097,     0.37123,     0.37138,     0.36848,     0.36809,     0.36629,     0.36373,     0.36399,     0.36425,     0.36139,      0.3614,     0.36159,     0.36177,     0.36272,     0.36312,     0.36233,     0.36073,     0.35726,     0.35767,\n",
       "            0.35618,     0.35455,     0.35406,     0.35274,     0.35282,      0.3529,     0.35298,     0.35307,     0.35315,     0.35323,     0.35331,      0.3534,     0.35434,      0.3546,     0.35167,     0.35202,     0.35109,     0.34937,     0.34848,      0.3476,     0.34671,     0.34232,      0.3411,\n",
       "            0.33986,     0.33818,     0.33635,      0.3332,     0.33197,     0.33073,      0.3293,     0.32759,     0.32507,     0.32341,     0.32353,     0.32364,     0.32376,     0.32387,     0.32399,     0.32459,     0.32066,     0.31804,     0.31839,     0.31535,     0.31359,     0.31257,     0.31309,\n",
       "            0.31332,     0.31356,     0.31371,      0.3138,     0.31389,     0.31399,     0.31408,     0.31418,     0.31427,     0.31089,     0.31128,     0.30951,     0.30811,     0.30799,     0.30522,     0.30554,     0.30548,     0.30428,     0.30308,     0.30312,     0.30355,     0.30359,     0.30364,\n",
       "            0.30368,     0.30373,     0.30377,     0.30381,     0.30386,      0.3039,     0.30395,     0.30399,     0.30403,     0.30408,     0.30412,     0.30417,     0.30448,     0.30481,     0.30513,     0.30545,     0.30563,      0.3058,     0.30598,     0.30571,      0.3048,     0.30389,     0.30298,\n",
       "            0.30285,     0.30327,     0.30349,     0.30371,     0.30386,     0.30397,     0.30408,     0.30419,      0.3043,     0.30441,     0.30046,     0.29993,      0.2994,     0.29887,     0.29834,     0.29781,     0.29729,     0.29385,     0.29422,      0.2944,     0.29456,     0.29472,     0.29489,\n",
       "            0.29522,     0.29552,     0.29565,     0.29578,     0.29591,     0.29604,     0.29683,     0.29704,     0.29726,     0.29762,     0.29375,     0.29185,      0.2908,     0.29112,     0.29158,     0.29022,     0.28825,     0.28835,     0.28844,     0.28853,     0.28862,     0.28872,     0.28881,\n",
       "            0.28635,      0.2825,     0.28154,     0.28186,     0.28241,     0.28305,     0.28344,     0.28376,       0.284,     0.28421,     0.28443,     0.28086,     0.27693,     0.27488,     0.27291,     0.27092,     0.26907,     0.26922,     0.26938,     0.26953,     0.26903,     0.26566,     0.26509,\n",
       "            0.26451,     0.26394,     0.26337,      0.2628,     0.26222,     0.26167,     0.26117,     0.26067,     0.26016,     0.25966,     0.25915,     0.25865,     0.25815,     0.25681,     0.25478,     0.25404,     0.25416,     0.25428,     0.25439,     0.25451,     0.25497,     0.25557,     0.25492,\n",
       "             0.2539,     0.25288,     0.25185,     0.25107,     0.25032,     0.24957,     0.24883,     0.24808,     0.24831,     0.24839,     0.24846,     0.24853,     0.24861,     0.24868,     0.24875,     0.24883,     0.24887,      0.2489,     0.24893,     0.24895,     0.24898,     0.24901,     0.24904,\n",
       "            0.24907,      0.2491,     0.24913,     0.24916,     0.24919,     0.24921,     0.24924,     0.24927,      0.2493,     0.24933,     0.24936,     0.24939,     0.24941,     0.24984,       0.247,     0.24282,     0.23451,     0.23196,     0.22984,     0.22848,     0.22727,     0.22605,     0.21933,\n",
       "            0.21722,     0.21758,     0.21776,     0.21793,     0.21808,     0.21822,     0.21835,     0.21848,     0.21876,     0.21908,     0.21926,     0.21944,     0.21961,     0.21974,     0.21988,     0.22001,     0.22029,     0.22083,     0.21688,      0.2169,     0.21692,     0.21694,     0.21696,\n",
       "            0.21698,       0.217,     0.21702,     0.21704,     0.21706,     0.21708,      0.2171,     0.21712,     0.21714,     0.21716,     0.21718,      0.2172,     0.21721,     0.21723,     0.21725,     0.21727,     0.21729,     0.21731,     0.21733,     0.21735,     0.21737,     0.21739,     0.21745,\n",
       "             0.2175,     0.21756,     0.21761,     0.21767,     0.21772,     0.21777,     0.21783,     0.21788,     0.21701,     0.21405,     0.20983,     0.20838,     0.20739,     0.20639,      0.2054,      0.2055,     0.20576,     0.20429,     0.20149,     0.20175,     0.20171,     0.19944,     0.19723,\n",
       "            0.19541,     0.19358,     0.19174,      0.1899,     0.18848,     0.18811,     0.18774,     0.18737,       0.187,     0.18663,     0.18627,      0.1859,     0.18553,     0.18516,     0.18479,     0.18442,     0.18417,     0.18482,     0.17617,     0.17325,     0.16712,      0.1673,     0.16747,\n",
       "            0.16784,     0.16609,     0.16369,     0.16195,     0.16034,     0.15874,     0.15862,     0.15868,     0.15874,      0.1588,     0.15886,     0.15892,     0.15887,     0.15725,     0.15564,     0.15425,     0.15429,     0.15433,     0.15438,     0.15442,     0.15446,     0.15451,     0.15455,\n",
       "            0.15459,     0.15463,     0.15482,     0.15502,     0.15523,     0.15543,      0.1504,     0.14988,     0.14936,     0.14884,     0.14832,      0.1478,     0.14728,     0.14676,     0.14624,     0.14562,     0.14463,     0.14364,     0.14265,     0.14165,      0.1408,     0.14021,     0.13962,\n",
       "            0.13904,     0.13845,     0.13786,     0.13728,     0.13669,     0.13613,     0.13628,     0.13643,     0.13652,     0.13658,     0.13664,     0.13671,     0.13677,     0.13683,     0.13231,     0.13246,      0.1326,     0.12646,       0.125,     0.12353,      0.1225,     0.12209,     0.12168,\n",
       "            0.12127,     0.12085,     0.12044,     0.12003,     0.11962,     0.11921,      0.1188,     0.11838,     0.11797,     0.11654,     0.10628,     0.10244,     0.10249,     0.10254,      0.1026,     0.10265,      0.1027,     0.10278,     0.10286,     0.10294,     0.10213,     0.10037,     0.09861,\n",
       "           0.097237,    0.096175,    0.095113,     0.09405,    0.092986,    0.090232,    0.087223,    0.086247,    0.085271,    0.084295,    0.083318,     0.08234,    0.079902,      0.0772,    0.076244,    0.074067,    0.071887,    0.066606,    0.061428,    0.060193,    0.058957,     0.05772,    0.056482,\n",
       "           0.050566,    0.050572,    0.050578,    0.050584,     0.05059,    0.050596,    0.050602,    0.050608,    0.050613,    0.050619,    0.050625,    0.050631,    0.050636,    0.050642,    0.050648,    0.050653,    0.050659,    0.050665,     0.05067,    0.050676,    0.050681,    0.050687,    0.050692,\n",
       "           0.050698,    0.050703,     0.05039,    0.049973,    0.049555,    0.049137,     0.04872,    0.048302,    0.047884,    0.047466,    0.047047,    0.046629,     0.04621,    0.045792,    0.045373,    0.045211,    0.045234,    0.045257,    0.045278,      0.0453,     0.04532,    0.044406,    0.043142,\n",
       "           0.041878,    0.040612,    0.039779,    0.039798,    0.039817,    0.039835,    0.039852,    0.039869,    0.039886,    0.039947,    0.039739,     0.03398,    0.028675,    0.028029,    0.027383,    0.026736,    0.026089,    0.025442,    0.024795,    0.024147,    0.023499,    0.023056,    0.023062,\n",
       "           0.023067,    0.023072,    0.023077,    0.023082,    0.023086,    0.023091,    0.023096,      0.0231,    0.023104,    0.023108,    0.023112,    0.023116,     0.02312,    0.022815,    0.022364,    0.021913,    0.021461,     0.02101,    0.020558,    0.020106,    0.019655,    0.019202,     0.01875,\n",
       "           0.018298,    0.017845,    0.017392,    0.017111,     0.01683,    0.016549,    0.016269,    0.015988,    0.015706,    0.015425,    0.015144,    0.014863,    0.014582,      0.0143,    0.014019,    0.013738,    0.013456,    0.013175,    0.012893,    0.012611,     0.01233,    0.012048,    0.011766,\n",
       "           0.011533,    0.011348,    0.011162,    0.010977,    0.010791,    0.010606,     0.01042,    0.010235,    0.010049,   0.0098639,   0.0096783,   0.0094927,   0.0093071,   0.0091215,   0.0089359,   0.0087502,   0.0085645,   0.0083788,   0.0081931,   0.0080074,   0.0078216,   0.0076359,     0.00745,\n",
       "          0.0072642,   0.0070784,   0.0068925,   0.0067066,   0.0065207,   0.0063347,   0.0061487,   0.0059627,   0.0058312,   0.0058323,   0.0058333,   0.0058342,   0.0058351,    0.005836,   0.0058368,   0.0058375,   0.0058382,   0.0058389,   0.0058395,   0.0058402,   0.0058407,   0.0058413,   0.0058418,\n",
       "          0.0058423,   0.0058428,   0.0058433,   0.0058437,   0.0058442,   0.0058446,    0.005845,   0.0058454,   0.0058457,   0.0058461,   0.0058464,   0.0058468,   0.0058471,   0.0058474,   0.0058477,           0,           0,           0,           0,           0,           0,           0,           0,\n",
       "                  0,           0,           0,           0,           0,           0,           0,           0,           0,           0,           0]]), 'Confidence', 'F1'], [array([          0,    0.001001,    0.002002,    0.003003,    0.004004,    0.005005,    0.006006,    0.007007,    0.008008,    0.009009,     0.01001,    0.011011,    0.012012,    0.013013,    0.014014,    0.015015,    0.016016,    0.017017,    0.018018,    0.019019,     0.02002,    0.021021,    0.022022,    0.023023,\n",
       "          0.024024,    0.025025,    0.026026,    0.027027,    0.028028,    0.029029,     0.03003,    0.031031,    0.032032,    0.033033,    0.034034,    0.035035,    0.036036,    0.037037,    0.038038,    0.039039,     0.04004,    0.041041,    0.042042,    0.043043,    0.044044,    0.045045,    0.046046,    0.047047,\n",
       "          0.048048,    0.049049,     0.05005,    0.051051,    0.052052,    0.053053,    0.054054,    0.055055,    0.056056,    0.057057,    0.058058,    0.059059,     0.06006,    0.061061,    0.062062,    0.063063,    0.064064,    0.065065,    0.066066,    0.067067,    0.068068,    0.069069,     0.07007,    0.071071,\n",
       "          0.072072,    0.073073,    0.074074,    0.075075,    0.076076,    0.077077,    0.078078,    0.079079,     0.08008,    0.081081,    0.082082,    0.083083,    0.084084,    0.085085,    0.086086,    0.087087,    0.088088,    0.089089,     0.09009,    0.091091,    0.092092,    0.093093,    0.094094,    0.095095,\n",
       "          0.096096,    0.097097,    0.098098,    0.099099,      0.1001,      0.1011,      0.1021,      0.1031,      0.1041,     0.10511,     0.10611,     0.10711,     0.10811,     0.10911,     0.11011,     0.11111,     0.11211,     0.11311,     0.11411,     0.11512,     0.11612,     0.11712,     0.11812,     0.11912,\n",
       "           0.12012,     0.12112,     0.12212,     0.12312,     0.12412,     0.12513,     0.12613,     0.12713,     0.12813,     0.12913,     0.13013,     0.13113,     0.13213,     0.13313,     0.13413,     0.13514,     0.13614,     0.13714,     0.13814,     0.13914,     0.14014,     0.14114,     0.14214,     0.14314,\n",
       "           0.14414,     0.14515,     0.14615,     0.14715,     0.14815,     0.14915,     0.15015,     0.15115,     0.15215,     0.15315,     0.15415,     0.15516,     0.15616,     0.15716,     0.15816,     0.15916,     0.16016,     0.16116,     0.16216,     0.16316,     0.16416,     0.16517,     0.16617,     0.16717,\n",
       "           0.16817,     0.16917,     0.17017,     0.17117,     0.17217,     0.17317,     0.17417,     0.17518,     0.17618,     0.17718,     0.17818,     0.17918,     0.18018,     0.18118,     0.18218,     0.18318,     0.18418,     0.18519,     0.18619,     0.18719,     0.18819,     0.18919,     0.19019,     0.19119,\n",
       "           0.19219,     0.19319,     0.19419,      0.1952,      0.1962,      0.1972,      0.1982,      0.1992,      0.2002,      0.2012,      0.2022,      0.2032,      0.2042,     0.20521,     0.20621,     0.20721,     0.20821,     0.20921,     0.21021,     0.21121,     0.21221,     0.21321,     0.21421,     0.21522,\n",
       "           0.21622,     0.21722,     0.21822,     0.21922,     0.22022,     0.22122,     0.22222,     0.22322,     0.22422,     0.22523,     0.22623,     0.22723,     0.22823,     0.22923,     0.23023,     0.23123,     0.23223,     0.23323,     0.23423,     0.23524,     0.23624,     0.23724,     0.23824,     0.23924,\n",
       "           0.24024,     0.24124,     0.24224,     0.24324,     0.24424,     0.24525,     0.24625,     0.24725,     0.24825,     0.24925,     0.25025,     0.25125,     0.25225,     0.25325,     0.25425,     0.25526,     0.25626,     0.25726,     0.25826,     0.25926,     0.26026,     0.26126,     0.26226,     0.26326,\n",
       "           0.26426,     0.26527,     0.26627,     0.26727,     0.26827,     0.26927,     0.27027,     0.27127,     0.27227,     0.27327,     0.27427,     0.27528,     0.27628,     0.27728,     0.27828,     0.27928,     0.28028,     0.28128,     0.28228,     0.28328,     0.28428,     0.28529,     0.28629,     0.28729,\n",
       "           0.28829,     0.28929,     0.29029,     0.29129,     0.29229,     0.29329,     0.29429,      0.2953,      0.2963,      0.2973,      0.2983,      0.2993,      0.3003,      0.3013,      0.3023,      0.3033,      0.3043,     0.30531,     0.30631,     0.30731,     0.30831,     0.30931,     0.31031,     0.31131,\n",
       "           0.31231,     0.31331,     0.31431,     0.31532,     0.31632,     0.31732,     0.31832,     0.31932,     0.32032,     0.32132,     0.32232,     0.32332,     0.32432,     0.32533,     0.32633,     0.32733,     0.32833,     0.32933,     0.33033,     0.33133,     0.33233,     0.33333,     0.33433,     0.33534,\n",
       "           0.33634,     0.33734,     0.33834,     0.33934,     0.34034,     0.34134,     0.34234,     0.34334,     0.34434,     0.34535,     0.34635,     0.34735,     0.34835,     0.34935,     0.35035,     0.35135,     0.35235,     0.35335,     0.35435,     0.35536,     0.35636,     0.35736,     0.35836,     0.35936,\n",
       "           0.36036,     0.36136,     0.36236,     0.36336,     0.36436,     0.36537,     0.36637,     0.36737,     0.36837,     0.36937,     0.37037,     0.37137,     0.37237,     0.37337,     0.37437,     0.37538,     0.37638,     0.37738,     0.37838,     0.37938,     0.38038,     0.38138,     0.38238,     0.38338,\n",
       "           0.38438,     0.38539,     0.38639,     0.38739,     0.38839,     0.38939,     0.39039,     0.39139,     0.39239,     0.39339,     0.39439,      0.3954,      0.3964,      0.3974,      0.3984,      0.3994,      0.4004,      0.4014,      0.4024,      0.4034,      0.4044,     0.40541,     0.40641,     0.40741,\n",
       "           0.40841,     0.40941,     0.41041,     0.41141,     0.41241,     0.41341,     0.41441,     0.41542,     0.41642,     0.41742,     0.41842,     0.41942,     0.42042,     0.42142,     0.42242,     0.42342,     0.42442,     0.42543,     0.42643,     0.42743,     0.42843,     0.42943,     0.43043,     0.43143,\n",
       "           0.43243,     0.43343,     0.43443,     0.43544,     0.43644,     0.43744,     0.43844,     0.43944,     0.44044,     0.44144,     0.44244,     0.44344,     0.44444,     0.44545,     0.44645,     0.44745,     0.44845,     0.44945,     0.45045,     0.45145,     0.45245,     0.45345,     0.45445,     0.45546,\n",
       "           0.45646,     0.45746,     0.45846,     0.45946,     0.46046,     0.46146,     0.46246,     0.46346,     0.46446,     0.46547,     0.46647,     0.46747,     0.46847,     0.46947,     0.47047,     0.47147,     0.47247,     0.47347,     0.47447,     0.47548,     0.47648,     0.47748,     0.47848,     0.47948,\n",
       "           0.48048,     0.48148,     0.48248,     0.48348,     0.48448,     0.48549,     0.48649,     0.48749,     0.48849,     0.48949,     0.49049,     0.49149,     0.49249,     0.49349,     0.49449,      0.4955,      0.4965,      0.4975,      0.4985,      0.4995,      0.5005,      0.5015,      0.5025,      0.5035,\n",
       "            0.5045,     0.50551,     0.50651,     0.50751,     0.50851,     0.50951,     0.51051,     0.51151,     0.51251,     0.51351,     0.51451,     0.51552,     0.51652,     0.51752,     0.51852,     0.51952,     0.52052,     0.52152,     0.52252,     0.52352,     0.52452,     0.52553,     0.52653,     0.52753,\n",
       "           0.52853,     0.52953,     0.53053,     0.53153,     0.53253,     0.53353,     0.53453,     0.53554,     0.53654,     0.53754,     0.53854,     0.53954,     0.54054,     0.54154,     0.54254,     0.54354,     0.54454,     0.54555,     0.54655,     0.54755,     0.54855,     0.54955,     0.55055,     0.55155,\n",
       "           0.55255,     0.55355,     0.55455,     0.55556,     0.55656,     0.55756,     0.55856,     0.55956,     0.56056,     0.56156,     0.56256,     0.56356,     0.56456,     0.56557,     0.56657,     0.56757,     0.56857,     0.56957,     0.57057,     0.57157,     0.57257,     0.57357,     0.57457,     0.57558,\n",
       "           0.57658,     0.57758,     0.57858,     0.57958,     0.58058,     0.58158,     0.58258,     0.58358,     0.58458,     0.58559,     0.58659,     0.58759,     0.58859,     0.58959,     0.59059,     0.59159,     0.59259,     0.59359,     0.59459,      0.5956,      0.5966,      0.5976,      0.5986,      0.5996,\n",
       "            0.6006,      0.6016,      0.6026,      0.6036,      0.6046,     0.60561,     0.60661,     0.60761,     0.60861,     0.60961,     0.61061,     0.61161,     0.61261,     0.61361,     0.61461,     0.61562,     0.61662,     0.61762,     0.61862,     0.61962,     0.62062,     0.62162,     0.62262,     0.62362,\n",
       "           0.62462,     0.62563,     0.62663,     0.62763,     0.62863,     0.62963,     0.63063,     0.63163,     0.63263,     0.63363,     0.63463,     0.63564,     0.63664,     0.63764,     0.63864,     0.63964,     0.64064,     0.64164,     0.64264,     0.64364,     0.64464,     0.64565,     0.64665,     0.64765,\n",
       "           0.64865,     0.64965,     0.65065,     0.65165,     0.65265,     0.65365,     0.65465,     0.65566,     0.65666,     0.65766,     0.65866,     0.65966,     0.66066,     0.66166,     0.66266,     0.66366,     0.66466,     0.66567,     0.66667,     0.66767,     0.66867,     0.66967,     0.67067,     0.67167,\n",
       "           0.67267,     0.67367,     0.67467,     0.67568,     0.67668,     0.67768,     0.67868,     0.67968,     0.68068,     0.68168,     0.68268,     0.68368,     0.68468,     0.68569,     0.68669,     0.68769,     0.68869,     0.68969,     0.69069,     0.69169,     0.69269,     0.69369,     0.69469,      0.6957,\n",
       "            0.6967,      0.6977,      0.6987,      0.6997,      0.7007,      0.7017,      0.7027,      0.7037,      0.7047,     0.70571,     0.70671,     0.70771,     0.70871,     0.70971,     0.71071,     0.71171,     0.71271,     0.71371,     0.71471,     0.71572,     0.71672,     0.71772,     0.71872,     0.71972,\n",
       "           0.72072,     0.72172,     0.72272,     0.72372,     0.72472,     0.72573,     0.72673,     0.72773,     0.72873,     0.72973,     0.73073,     0.73173,     0.73273,     0.73373,     0.73473,     0.73574,     0.73674,     0.73774,     0.73874,     0.73974,     0.74074,     0.74174,     0.74274,     0.74374,\n",
       "           0.74474,     0.74575,     0.74675,     0.74775,     0.74875,     0.74975,     0.75075,     0.75175,     0.75275,     0.75375,     0.75475,     0.75576,     0.75676,     0.75776,     0.75876,     0.75976,     0.76076,     0.76176,     0.76276,     0.76376,     0.76476,     0.76577,     0.76677,     0.76777,\n",
       "           0.76877,     0.76977,     0.77077,     0.77177,     0.77277,     0.77377,     0.77477,     0.77578,     0.77678,     0.77778,     0.77878,     0.77978,     0.78078,     0.78178,     0.78278,     0.78378,     0.78478,     0.78579,     0.78679,     0.78779,     0.78879,     0.78979,     0.79079,     0.79179,\n",
       "           0.79279,     0.79379,     0.79479,      0.7958,      0.7968,      0.7978,      0.7988,      0.7998,      0.8008,      0.8018,      0.8028,      0.8038,      0.8048,     0.80581,     0.80681,     0.80781,     0.80881,     0.80981,     0.81081,     0.81181,     0.81281,     0.81381,     0.81481,     0.81582,\n",
       "           0.81682,     0.81782,     0.81882,     0.81982,     0.82082,     0.82182,     0.82282,     0.82382,     0.82482,     0.82583,     0.82683,     0.82783,     0.82883,     0.82983,     0.83083,     0.83183,     0.83283,     0.83383,     0.83483,     0.83584,     0.83684,     0.83784,     0.83884,     0.83984,\n",
       "           0.84084,     0.84184,     0.84284,     0.84384,     0.84484,     0.84585,     0.84685,     0.84785,     0.84885,     0.84985,     0.85085,     0.85185,     0.85285,     0.85385,     0.85485,     0.85586,     0.85686,     0.85786,     0.85886,     0.85986,     0.86086,     0.86186,     0.86286,     0.86386,\n",
       "           0.86486,     0.86587,     0.86687,     0.86787,     0.86887,     0.86987,     0.87087,     0.87187,     0.87287,     0.87387,     0.87487,     0.87588,     0.87688,     0.87788,     0.87888,     0.87988,     0.88088,     0.88188,     0.88288,     0.88388,     0.88488,     0.88589,     0.88689,     0.88789,\n",
       "           0.88889,     0.88989,     0.89089,     0.89189,     0.89289,     0.89389,     0.89489,      0.8959,      0.8969,      0.8979,      0.8989,      0.8999,      0.9009,      0.9019,      0.9029,      0.9039,      0.9049,     0.90591,     0.90691,     0.90791,     0.90891,     0.90991,     0.91091,     0.91191,\n",
       "           0.91291,     0.91391,     0.91491,     0.91592,     0.91692,     0.91792,     0.91892,     0.91992,     0.92092,     0.92192,     0.92292,     0.92392,     0.92492,     0.92593,     0.92693,     0.92793,     0.92893,     0.92993,     0.93093,     0.93193,     0.93293,     0.93393,     0.93493,     0.93594,\n",
       "           0.93694,     0.93794,     0.93894,     0.93994,     0.94094,     0.94194,     0.94294,     0.94394,     0.94494,     0.94595,     0.94695,     0.94795,     0.94895,     0.94995,     0.95095,     0.95195,     0.95295,     0.95395,     0.95495,     0.95596,     0.95696,     0.95796,     0.95896,     0.95996,\n",
       "           0.96096,     0.96196,     0.96296,     0.96396,     0.96496,     0.96597,     0.96697,     0.96797,     0.96897,     0.96997,     0.97097,     0.97197,     0.97297,     0.97397,     0.97497,     0.97598,     0.97698,     0.97798,     0.97898,     0.97998,     0.98098,     0.98198,     0.98298,     0.98398,\n",
       "           0.98498,     0.98599,     0.98699,     0.98799,     0.98899,     0.98999,     0.99099,     0.99199,     0.99299,     0.99399,     0.99499,       0.996,       0.997,       0.998,       0.999,           1]), array([[   0.013962,    0.013962,     0.02313,     0.03069,    0.036843,    0.041842,    0.046823,     0.05094,    0.055248,    0.059425,    0.063316,    0.067514,     0.07188,    0.075681,    0.079147,    0.082577,    0.085532,    0.088231,    0.090862,    0.094412,    0.096791,    0.099326,     0.10251,\n",
       "            0.10517,     0.10806,     0.11064,     0.11203,     0.11516,     0.11798,     0.12153,      0.1242,     0.12457,     0.12741,     0.12892,     0.13106,     0.13482,     0.13626,     0.13887,     0.14043,     0.14201,     0.14388,     0.14694,     0.14751,     0.14875,     0.15114,     0.15366,\n",
       "            0.15591,     0.15555,     0.15883,     0.16136,     0.16501,     0.16747,      0.1693,     0.17144,     0.17346,      0.1752,      0.1761,     0.17839,     0.17982,     0.18122,     0.18281,     0.18399,     0.18622,     0.18786,     0.19028,     0.19197,     0.19458,     0.19653,     0.19901,\n",
       "            0.20054,     0.20179,      0.2013,     0.20388,     0.20463,     0.20673,     0.20848,     0.20978,     0.20982,     0.21097,     0.21295,     0.21282,     0.21513,     0.21656,     0.21874,     0.22115,     0.22156,     0.22422,     0.22575,     0.22777,     0.22922,     0.23184,     0.23321,\n",
       "            0.23699,     0.23816,     0.23835,      0.2404,     0.24198,     0.24432,     0.24711,     0.24872,     0.24861,     0.25145,     0.25453,     0.25542,     0.25707,     0.26158,     0.26254,     0.26387,     0.26509,      0.2674,     0.26682,       0.267,     0.26732,     0.26939,     0.27007,\n",
       "            0.27187,     0.27474,     0.27557,     0.27537,     0.27786,     0.28048,     0.28133,     0.28199,     0.28532,     0.28653,     0.28722,      0.2867,     0.28739,     0.29001,     0.29204,      0.2916,     0.29207,     0.29533,     0.29656,     0.29864,     0.30072,     0.30226,     0.30501,\n",
       "            0.30659,     0.30871,     0.31157,     0.30988,     0.31049,     0.31229,     0.31307,     0.31295,     0.31518,     0.31556,     0.31679,     0.31834,      0.3201,     0.32219,     0.32299,     0.32337,     0.32517,     0.32561,     0.32623,     0.32675,     0.32907,     0.33086,     0.33209,\n",
       "            0.33269,     0.33323,     0.33224,     0.33325,     0.33351,     0.33336,     0.33444,      0.3353,     0.33474,     0.33482,     0.33711,     0.33793,     0.33834,     0.33874,     0.33916,     0.33958,     0.34156,     0.34333,     0.34597,     0.34714,     0.34601,     0.34659,     0.34995,\n",
       "            0.35188,     0.35226,     0.35264,     0.35389,     0.35522,      0.3561,     0.35704,     0.35791,     0.35931,     0.36026,     0.36202,     0.36413,     0.36255,     0.36312,     0.36488,     0.36671,     0.36526,     0.36618,     0.36711,     0.36817,      0.3669,      0.3691,     0.36894,\n",
       "            0.37094,     0.36955,     0.37128,     0.37225,     0.37286,     0.37692,     0.37637,     0.37658,     0.37875,     0.37985,     0.38319,      0.3874,     0.38838,     0.38909,     0.38977,     0.39273,     0.39458,     0.39626,     0.39954,      0.4017,     0.40381,     0.40626,     0.40696,\n",
       "            0.40934,     0.41074,     0.41291,     0.41618,     0.41681,     0.41743,     0.41827,     0.41918,     0.42023,     0.42192,     0.42355,     0.42328,     0.42459,     0.42503,     0.42547,       0.426,     0.42711,     0.42776,     0.42818,      0.4286,     0.42902,     0.43086,     0.43118,\n",
       "            0.43151,     0.43183,     0.43216,     0.43264,     0.43402,     0.43503,     0.43561,     0.43479,     0.43397,     0.43542,     0.43728,     0.43788,     0.43727,     0.43666,     0.43604,     0.43696,     0.43789,     0.43849,     0.43909,     0.43973,     0.44046,     0.44119,       0.442,\n",
       "            0.44282,     0.44379,     0.44485,      0.4478,      0.4494,     0.45147,      0.4529,     0.45463,     0.45359,     0.45394,     0.45428,     0.45463,     0.45497,     0.45531,     0.45644,     0.45763,     0.45898,     0.46055,     0.46333,     0.46451,     0.46395,     0.46344,     0.46427,\n",
       "            0.46723,     0.46845,     0.46966,     0.47088,     0.47032,     0.46936,     0.46982,     0.46928,     0.46881,     0.46932,     0.46983,     0.47034,     0.47325,     0.47671,     0.47452,     0.47582,     0.47706,     0.47821,     0.47912,      0.4797,     0.48028,     0.48085,     0.48235,\n",
       "            0.48375,     0.48438,     0.48501,     0.48564,     0.48825,     0.48879,     0.48932,     0.48985,     0.49038,     0.48954,      0.4887,     0.48832,     0.49223,     0.49346,     0.49436,     0.49555,     0.49524,     0.49615,     0.49707,     0.49928,     0.50203,     0.50885,     0.50993,\n",
       "            0.50789,     0.50942,     0.51096,     0.51251,     0.51367,     0.51466,     0.51554,      0.5133,     0.51493,     0.51421,     0.51375,     0.51478,     0.51581,     0.51366,     0.51425,     0.51501,     0.51577,     0.51963,      0.5213,     0.52117,     0.51982,     0.51775,     0.51944,\n",
       "            0.51826,     0.51688,     0.52115,      0.5201,     0.52046,     0.52082,     0.52118,     0.52154,      0.5219,     0.52226,     0.52262,     0.52298,     0.52713,     0.52827,     0.52679,     0.52838,     0.52841,     0.52947,      0.5287,     0.52793,     0.52716,     0.52333,     0.52225,\n",
       "            0.52116,     0.51967,     0.51804,     0.51522,      0.5141,     0.51299,     0.51169,     0.51013,     0.50783,     0.50653,      0.5071,     0.50767,     0.50824,      0.5088,     0.50937,     0.51237,     0.50897,      0.5071,     0.51224,     0.50938,     0.50773,     0.50762,     0.51035,\n",
       "            0.51162,     0.51288,     0.51366,     0.51416,     0.51467,     0.51517,     0.51568,     0.51618,     0.51669,     0.51381,     0.51682,     0.51513,     0.51427,     0.51662,     0.51427,     0.51611,     0.51719,     0.51603,     0.51487,     0.51897,     0.52152,     0.52178,     0.52204,\n",
       "             0.5223,     0.52256,     0.52282,     0.52308,     0.52335,     0.52361,     0.52387,     0.52413,     0.52439,     0.52465,     0.52491,     0.52517,     0.52706,     0.52901,     0.53099,     0.53291,     0.53398,     0.53505,     0.53612,     0.53641,     0.53553,     0.53465,     0.53377,\n",
       "            0.53537,     0.53804,     0.53942,      0.5408,     0.54177,     0.54247,     0.54317,     0.54387,     0.54457,     0.54527,      0.5416,     0.54109,     0.54057,     0.54005,     0.53954,     0.53902,     0.53851,     0.53511,      0.5389,     0.54011,      0.5412,     0.54229,     0.54344,\n",
       "            0.54565,     0.54772,     0.54862,     0.54951,     0.55041,     0.55131,     0.55681,     0.55836,      0.5599,     0.56241,     0.56137,      0.5595,     0.55924,     0.56165,     0.56511,     0.56609,     0.56444,     0.56515,     0.56587,     0.56658,     0.56729,       0.568,     0.56871,\n",
       "            0.56648,     0.56259,     0.56317,     0.56572,     0.57023,     0.57548,     0.57871,     0.58139,     0.58335,     0.58518,       0.587,     0.58357,     0.57958,     0.57748,     0.57545,     0.57337,     0.57152,     0.57292,     0.57433,     0.57574,     0.57625,      0.5727,     0.57209,\n",
       "            0.57148,     0.57086,     0.57025,     0.56964,     0.56902,     0.56843,     0.56789,     0.56734,     0.56679,     0.56624,      0.5657,     0.56515,      0.5646,     0.56313,      0.5609,     0.56069,     0.56185,     0.56301,     0.56417,     0.56533,     0.56992,     0.57593,     0.57645,\n",
       "            0.57532,     0.57419,     0.57307,     0.57219,     0.57135,     0.57051,     0.56968,     0.56884,     0.57486,     0.57566,     0.57645,     0.57724,     0.57803,     0.57882,     0.57961,     0.58041,     0.58087,     0.58118,      0.5815,     0.58181,     0.58213,     0.58244,     0.58276,\n",
       "            0.58307,     0.58339,     0.58371,     0.58402,     0.58434,     0.58465,     0.58497,     0.58528,      0.5856,     0.58591,     0.58623,     0.58655,     0.58686,     0.59157,     0.59006,     0.58536,     0.57573,      0.5727,     0.57016,     0.56852,     0.56703,     0.56555,     0.55719,\n",
       "            0.55736,     0.56211,     0.56447,     0.56684,      0.5689,     0.57072,     0.57254,     0.57436,     0.57823,     0.58275,      0.5853,     0.58785,     0.59025,     0.59221,     0.59418,     0.59614,     0.60027,     0.60841,     0.60824,     0.60855,     0.60887,     0.60919,      0.6095,\n",
       "            0.60982,     0.61013,     0.61045,     0.61077,     0.61108,      0.6114,     0.61172,     0.61203,     0.61235,     0.61266,     0.61298,      0.6133,     0.61361,     0.61393,     0.61424,     0.61456,     0.61488,     0.61519,     0.61551,     0.61583,     0.61614,     0.61649,     0.61737,\n",
       "            0.61825,     0.61913,     0.62001,     0.62088,     0.62176,     0.62264,     0.62352,     0.62439,     0.62389,     0.62028,     0.61501,     0.61318,     0.61191,     0.61063,     0.60936,     0.61991,     0.62464,     0.62482,     0.62153,     0.62643,     0.63043,     0.62748,      0.6246,\n",
       "            0.62216,     0.61972,     0.61722,     0.61471,     0.61276,     0.61223,     0.61171,     0.61119,     0.61067,     0.61015,     0.60963,     0.60911,     0.60859,     0.60807,     0.60755,     0.60703,     0.60842,     0.62312,     0.62108,     0.62045,       0.612,     0.61673,     0.62145,\n",
       "            0.63183,     0.63178,     0.62811,     0.62536,     0.62281,     0.62027,     0.62166,     0.62351,     0.62536,     0.62722,     0.62907,     0.63092,     0.63248,     0.62987,     0.62725,      0.6252,     0.62663,     0.62807,      0.6295,     0.63094,     0.63237,     0.63381,     0.63524,\n",
       "            0.63668,     0.63811,     0.64449,      0.6516,     0.65901,     0.66643,     0.65868,     0.65782,     0.65697,     0.65611,     0.65526,      0.6544,     0.65355,     0.65269,     0.65184,      0.6508,      0.6491,     0.64739,     0.64569,     0.64399,     0.64251,     0.64145,      0.6404,\n",
       "            0.63935,      0.6383,     0.63725,      0.6362,     0.63515,     0.63442,     0.64092,     0.64742,     0.65172,     0.65457,     0.65741,     0.66026,     0.66311,     0.66595,     0.67769,     0.68539,     0.69308,     0.68349,     0.68078,     0.67807,     0.67614,     0.67534,     0.67453,\n",
       "            0.67373,     0.67293,     0.67212,     0.67132,     0.67051,     0.66971,     0.66891,      0.6681,      0.6673,     0.66438,     0.64227,      0.6344,     0.63847,     0.64254,     0.64661,     0.65068,     0.65475,     0.66132,     0.66817,     0.67502,     0.67661,     0.67254,     0.66847,\n",
       "            0.66521,     0.66258,     0.65995,     0.65732,     0.65469,     0.64743,      0.6394,     0.63661,     0.63381,     0.63101,     0.62822,     0.62542,     0.61791,     0.60955,     0.63346,     0.62636,     0.61926,     0.62095,     0.64696,     0.64194,     0.63691,     0.63189,     0.62686,\n",
       "            0.60108,     0.60281,     0.60453,     0.60625,     0.60798,      0.6097,     0.61142,     0.61314,     0.61487,     0.61659,     0.61831,     0.62003,     0.62176,     0.62348,      0.6252,     0.62693,     0.62865,     0.63037,     0.63209,     0.63382,     0.63554,     0.63726,     0.63898,\n",
       "            0.64071,     0.64243,     0.64129,      0.6392,     0.63712,     0.63503,     0.63294,     0.63086,     0.62877,     0.62669,      0.6246,     0.62252,     0.62043,     0.61834,     0.61626,     0.62048,     0.62924,       0.638,     0.64676,     0.65552,     0.66428,     0.66164,     0.65474,\n",
       "            0.64784,     0.64093,     0.63975,     0.64979,     0.65982,     0.66986,      0.6799,     0.68993,     0.69997,     0.73973,     0.77648,     0.74744,     0.71377,     0.70835,     0.70293,      0.6975,     0.69208,     0.68666,     0.68123,     0.67581,     0.67039,     0.66953,     0.67864,\n",
       "            0.68775,     0.69686,     0.70597,     0.71508,      0.7242,     0.73331,     0.74242,     0.75153,     0.76064,     0.76975,     0.77886,     0.78797,     0.79709,     0.79732,     0.79338,     0.78943,     0.78549,     0.78155,     0.77761,     0.77366,     0.76972,     0.76578,     0.76184,\n",
       "            0.75789,     0.75395,     0.75001,     0.74594,     0.74187,     0.73781,     0.73374,     0.72967,      0.7256,     0.72154,     0.71747,      0.7134,     0.70933,     0.70527,      0.7012,     0.69713,     0.69306,       0.689,     0.68493,     0.68086,     0.67679,     0.67273,     0.66866,\n",
       "            0.66394,      0.6586,     0.65327,     0.64793,     0.64259,     0.63725,     0.63191,     0.62657,     0.62123,     0.61589,     0.61056,     0.60522,     0.59988,     0.59454,      0.5892,     0.58386,     0.57852,     0.57319,     0.56785,     0.56251,     0.55717,     0.55183,     0.54649,\n",
       "            0.54115,     0.53581,     0.53048,     0.52514,      0.5198,     0.51446,     0.50912,     0.50378,     0.50482,     0.52135,     0.53788,     0.55442,     0.57095,     0.58748,     0.60402,     0.62055,     0.63708,     0.65361,     0.67015,     0.68668,     0.70321,     0.71974,     0.73628,\n",
       "            0.75281,     0.76934,     0.78587,     0.80241,     0.81894,     0.83547,     0.85201,     0.86854,     0.88507,      0.9016,     0.91814,     0.93467,      0.9512,     0.96773,     0.98427,           1,           1,           1,           1,           1,           1,           1,           1,\n",
       "                  1,           1,           1,           1,           1,           1,           1,           1,           1,           1,           1]]), 'Confidence', 'Precision'], [array([          0,    0.001001,    0.002002,    0.003003,    0.004004,    0.005005,    0.006006,    0.007007,    0.008008,    0.009009,     0.01001,    0.011011,    0.012012,    0.013013,    0.014014,    0.015015,    0.016016,    0.017017,    0.018018,    0.019019,     0.02002,    0.021021,    0.022022,    0.023023,\n",
       "          0.024024,    0.025025,    0.026026,    0.027027,    0.028028,    0.029029,     0.03003,    0.031031,    0.032032,    0.033033,    0.034034,    0.035035,    0.036036,    0.037037,    0.038038,    0.039039,     0.04004,    0.041041,    0.042042,    0.043043,    0.044044,    0.045045,    0.046046,    0.047047,\n",
       "          0.048048,    0.049049,     0.05005,    0.051051,    0.052052,    0.053053,    0.054054,    0.055055,    0.056056,    0.057057,    0.058058,    0.059059,     0.06006,    0.061061,    0.062062,    0.063063,    0.064064,    0.065065,    0.066066,    0.067067,    0.068068,    0.069069,     0.07007,    0.071071,\n",
       "          0.072072,    0.073073,    0.074074,    0.075075,    0.076076,    0.077077,    0.078078,    0.079079,     0.08008,    0.081081,    0.082082,    0.083083,    0.084084,    0.085085,    0.086086,    0.087087,    0.088088,    0.089089,     0.09009,    0.091091,    0.092092,    0.093093,    0.094094,    0.095095,\n",
       "          0.096096,    0.097097,    0.098098,    0.099099,      0.1001,      0.1011,      0.1021,      0.1031,      0.1041,     0.10511,     0.10611,     0.10711,     0.10811,     0.10911,     0.11011,     0.11111,     0.11211,     0.11311,     0.11411,     0.11512,     0.11612,     0.11712,     0.11812,     0.11912,\n",
       "           0.12012,     0.12112,     0.12212,     0.12312,     0.12412,     0.12513,     0.12613,     0.12713,     0.12813,     0.12913,     0.13013,     0.13113,     0.13213,     0.13313,     0.13413,     0.13514,     0.13614,     0.13714,     0.13814,     0.13914,     0.14014,     0.14114,     0.14214,     0.14314,\n",
       "           0.14414,     0.14515,     0.14615,     0.14715,     0.14815,     0.14915,     0.15015,     0.15115,     0.15215,     0.15315,     0.15415,     0.15516,     0.15616,     0.15716,     0.15816,     0.15916,     0.16016,     0.16116,     0.16216,     0.16316,     0.16416,     0.16517,     0.16617,     0.16717,\n",
       "           0.16817,     0.16917,     0.17017,     0.17117,     0.17217,     0.17317,     0.17417,     0.17518,     0.17618,     0.17718,     0.17818,     0.17918,     0.18018,     0.18118,     0.18218,     0.18318,     0.18418,     0.18519,     0.18619,     0.18719,     0.18819,     0.18919,     0.19019,     0.19119,\n",
       "           0.19219,     0.19319,     0.19419,      0.1952,      0.1962,      0.1972,      0.1982,      0.1992,      0.2002,      0.2012,      0.2022,      0.2032,      0.2042,     0.20521,     0.20621,     0.20721,     0.20821,     0.20921,     0.21021,     0.21121,     0.21221,     0.21321,     0.21421,     0.21522,\n",
       "           0.21622,     0.21722,     0.21822,     0.21922,     0.22022,     0.22122,     0.22222,     0.22322,     0.22422,     0.22523,     0.22623,     0.22723,     0.22823,     0.22923,     0.23023,     0.23123,     0.23223,     0.23323,     0.23423,     0.23524,     0.23624,     0.23724,     0.23824,     0.23924,\n",
       "           0.24024,     0.24124,     0.24224,     0.24324,     0.24424,     0.24525,     0.24625,     0.24725,     0.24825,     0.24925,     0.25025,     0.25125,     0.25225,     0.25325,     0.25425,     0.25526,     0.25626,     0.25726,     0.25826,     0.25926,     0.26026,     0.26126,     0.26226,     0.26326,\n",
       "           0.26426,     0.26527,     0.26627,     0.26727,     0.26827,     0.26927,     0.27027,     0.27127,     0.27227,     0.27327,     0.27427,     0.27528,     0.27628,     0.27728,     0.27828,     0.27928,     0.28028,     0.28128,     0.28228,     0.28328,     0.28428,     0.28529,     0.28629,     0.28729,\n",
       "           0.28829,     0.28929,     0.29029,     0.29129,     0.29229,     0.29329,     0.29429,      0.2953,      0.2963,      0.2973,      0.2983,      0.2993,      0.3003,      0.3013,      0.3023,      0.3033,      0.3043,     0.30531,     0.30631,     0.30731,     0.30831,     0.30931,     0.31031,     0.31131,\n",
       "           0.31231,     0.31331,     0.31431,     0.31532,     0.31632,     0.31732,     0.31832,     0.31932,     0.32032,     0.32132,     0.32232,     0.32332,     0.32432,     0.32533,     0.32633,     0.32733,     0.32833,     0.32933,     0.33033,     0.33133,     0.33233,     0.33333,     0.33433,     0.33534,\n",
       "           0.33634,     0.33734,     0.33834,     0.33934,     0.34034,     0.34134,     0.34234,     0.34334,     0.34434,     0.34535,     0.34635,     0.34735,     0.34835,     0.34935,     0.35035,     0.35135,     0.35235,     0.35335,     0.35435,     0.35536,     0.35636,     0.35736,     0.35836,     0.35936,\n",
       "           0.36036,     0.36136,     0.36236,     0.36336,     0.36436,     0.36537,     0.36637,     0.36737,     0.36837,     0.36937,     0.37037,     0.37137,     0.37237,     0.37337,     0.37437,     0.37538,     0.37638,     0.37738,     0.37838,     0.37938,     0.38038,     0.38138,     0.38238,     0.38338,\n",
       "           0.38438,     0.38539,     0.38639,     0.38739,     0.38839,     0.38939,     0.39039,     0.39139,     0.39239,     0.39339,     0.39439,      0.3954,      0.3964,      0.3974,      0.3984,      0.3994,      0.4004,      0.4014,      0.4024,      0.4034,      0.4044,     0.40541,     0.40641,     0.40741,\n",
       "           0.40841,     0.40941,     0.41041,     0.41141,     0.41241,     0.41341,     0.41441,     0.41542,     0.41642,     0.41742,     0.41842,     0.41942,     0.42042,     0.42142,     0.42242,     0.42342,     0.42442,     0.42543,     0.42643,     0.42743,     0.42843,     0.42943,     0.43043,     0.43143,\n",
       "           0.43243,     0.43343,     0.43443,     0.43544,     0.43644,     0.43744,     0.43844,     0.43944,     0.44044,     0.44144,     0.44244,     0.44344,     0.44444,     0.44545,     0.44645,     0.44745,     0.44845,     0.44945,     0.45045,     0.45145,     0.45245,     0.45345,     0.45445,     0.45546,\n",
       "           0.45646,     0.45746,     0.45846,     0.45946,     0.46046,     0.46146,     0.46246,     0.46346,     0.46446,     0.46547,     0.46647,     0.46747,     0.46847,     0.46947,     0.47047,     0.47147,     0.47247,     0.47347,     0.47447,     0.47548,     0.47648,     0.47748,     0.47848,     0.47948,\n",
       "           0.48048,     0.48148,     0.48248,     0.48348,     0.48448,     0.48549,     0.48649,     0.48749,     0.48849,     0.48949,     0.49049,     0.49149,     0.49249,     0.49349,     0.49449,      0.4955,      0.4965,      0.4975,      0.4985,      0.4995,      0.5005,      0.5015,      0.5025,      0.5035,\n",
       "            0.5045,     0.50551,     0.50651,     0.50751,     0.50851,     0.50951,     0.51051,     0.51151,     0.51251,     0.51351,     0.51451,     0.51552,     0.51652,     0.51752,     0.51852,     0.51952,     0.52052,     0.52152,     0.52252,     0.52352,     0.52452,     0.52553,     0.52653,     0.52753,\n",
       "           0.52853,     0.52953,     0.53053,     0.53153,     0.53253,     0.53353,     0.53453,     0.53554,     0.53654,     0.53754,     0.53854,     0.53954,     0.54054,     0.54154,     0.54254,     0.54354,     0.54454,     0.54555,     0.54655,     0.54755,     0.54855,     0.54955,     0.55055,     0.55155,\n",
       "           0.55255,     0.55355,     0.55455,     0.55556,     0.55656,     0.55756,     0.55856,     0.55956,     0.56056,     0.56156,     0.56256,     0.56356,     0.56456,     0.56557,     0.56657,     0.56757,     0.56857,     0.56957,     0.57057,     0.57157,     0.57257,     0.57357,     0.57457,     0.57558,\n",
       "           0.57658,     0.57758,     0.57858,     0.57958,     0.58058,     0.58158,     0.58258,     0.58358,     0.58458,     0.58559,     0.58659,     0.58759,     0.58859,     0.58959,     0.59059,     0.59159,     0.59259,     0.59359,     0.59459,      0.5956,      0.5966,      0.5976,      0.5986,      0.5996,\n",
       "            0.6006,      0.6016,      0.6026,      0.6036,      0.6046,     0.60561,     0.60661,     0.60761,     0.60861,     0.60961,     0.61061,     0.61161,     0.61261,     0.61361,     0.61461,     0.61562,     0.61662,     0.61762,     0.61862,     0.61962,     0.62062,     0.62162,     0.62262,     0.62362,\n",
       "           0.62462,     0.62563,     0.62663,     0.62763,     0.62863,     0.62963,     0.63063,     0.63163,     0.63263,     0.63363,     0.63463,     0.63564,     0.63664,     0.63764,     0.63864,     0.63964,     0.64064,     0.64164,     0.64264,     0.64364,     0.64464,     0.64565,     0.64665,     0.64765,\n",
       "           0.64865,     0.64965,     0.65065,     0.65165,     0.65265,     0.65365,     0.65465,     0.65566,     0.65666,     0.65766,     0.65866,     0.65966,     0.66066,     0.66166,     0.66266,     0.66366,     0.66466,     0.66567,     0.66667,     0.66767,     0.66867,     0.66967,     0.67067,     0.67167,\n",
       "           0.67267,     0.67367,     0.67467,     0.67568,     0.67668,     0.67768,     0.67868,     0.67968,     0.68068,     0.68168,     0.68268,     0.68368,     0.68468,     0.68569,     0.68669,     0.68769,     0.68869,     0.68969,     0.69069,     0.69169,     0.69269,     0.69369,     0.69469,      0.6957,\n",
       "            0.6967,      0.6977,      0.6987,      0.6997,      0.7007,      0.7017,      0.7027,      0.7037,      0.7047,     0.70571,     0.70671,     0.70771,     0.70871,     0.70971,     0.71071,     0.71171,     0.71271,     0.71371,     0.71471,     0.71572,     0.71672,     0.71772,     0.71872,     0.71972,\n",
       "           0.72072,     0.72172,     0.72272,     0.72372,     0.72472,     0.72573,     0.72673,     0.72773,     0.72873,     0.72973,     0.73073,     0.73173,     0.73273,     0.73373,     0.73473,     0.73574,     0.73674,     0.73774,     0.73874,     0.73974,     0.74074,     0.74174,     0.74274,     0.74374,\n",
       "           0.74474,     0.74575,     0.74675,     0.74775,     0.74875,     0.74975,     0.75075,     0.75175,     0.75275,     0.75375,     0.75475,     0.75576,     0.75676,     0.75776,     0.75876,     0.75976,     0.76076,     0.76176,     0.76276,     0.76376,     0.76476,     0.76577,     0.76677,     0.76777,\n",
       "           0.76877,     0.76977,     0.77077,     0.77177,     0.77277,     0.77377,     0.77477,     0.77578,     0.77678,     0.77778,     0.77878,     0.77978,     0.78078,     0.78178,     0.78278,     0.78378,     0.78478,     0.78579,     0.78679,     0.78779,     0.78879,     0.78979,     0.79079,     0.79179,\n",
       "           0.79279,     0.79379,     0.79479,      0.7958,      0.7968,      0.7978,      0.7988,      0.7998,      0.8008,      0.8018,      0.8028,      0.8038,      0.8048,     0.80581,     0.80681,     0.80781,     0.80881,     0.80981,     0.81081,     0.81181,     0.81281,     0.81381,     0.81481,     0.81582,\n",
       "           0.81682,     0.81782,     0.81882,     0.81982,     0.82082,     0.82182,     0.82282,     0.82382,     0.82482,     0.82583,     0.82683,     0.82783,     0.82883,     0.82983,     0.83083,     0.83183,     0.83283,     0.83383,     0.83483,     0.83584,     0.83684,     0.83784,     0.83884,     0.83984,\n",
       "           0.84084,     0.84184,     0.84284,     0.84384,     0.84484,     0.84585,     0.84685,     0.84785,     0.84885,     0.84985,     0.85085,     0.85185,     0.85285,     0.85385,     0.85485,     0.85586,     0.85686,     0.85786,     0.85886,     0.85986,     0.86086,     0.86186,     0.86286,     0.86386,\n",
       "           0.86486,     0.86587,     0.86687,     0.86787,     0.86887,     0.86987,     0.87087,     0.87187,     0.87287,     0.87387,     0.87487,     0.87588,     0.87688,     0.87788,     0.87888,     0.87988,     0.88088,     0.88188,     0.88288,     0.88388,     0.88488,     0.88589,     0.88689,     0.88789,\n",
       "           0.88889,     0.88989,     0.89089,     0.89189,     0.89289,     0.89389,     0.89489,      0.8959,      0.8969,      0.8979,      0.8989,      0.8999,      0.9009,      0.9019,      0.9029,      0.9039,      0.9049,     0.90591,     0.90691,     0.90791,     0.90891,     0.90991,     0.91091,     0.91191,\n",
       "           0.91291,     0.91391,     0.91491,     0.91592,     0.91692,     0.91792,     0.91892,     0.91992,     0.92092,     0.92192,     0.92292,     0.92392,     0.92492,     0.92593,     0.92693,     0.92793,     0.92893,     0.92993,     0.93093,     0.93193,     0.93293,     0.93393,     0.93493,     0.93594,\n",
       "           0.93694,     0.93794,     0.93894,     0.93994,     0.94094,     0.94194,     0.94294,     0.94394,     0.94494,     0.94595,     0.94695,     0.94795,     0.94895,     0.94995,     0.95095,     0.95195,     0.95295,     0.95395,     0.95495,     0.95596,     0.95696,     0.95796,     0.95896,     0.95996,\n",
       "           0.96096,     0.96196,     0.96296,     0.96396,     0.96496,     0.96597,     0.96697,     0.96797,     0.96897,     0.96997,     0.97097,     0.97197,     0.97297,     0.97397,     0.97497,     0.97598,     0.97698,     0.97798,     0.97898,     0.97998,     0.98098,     0.98198,     0.98298,     0.98398,\n",
       "           0.98498,     0.98599,     0.98699,     0.98799,     0.98899,     0.98999,     0.99099,     0.99199,     0.99299,     0.99399,     0.99499,       0.996,       0.997,       0.998,       0.999,           1]), array([[    0.70674,     0.70674,     0.67742,     0.65396,     0.64223,     0.61877,     0.60704,     0.58651,     0.58065,     0.57478,     0.56891,     0.56891,     0.56891,     0.56598,     0.56305,     0.56012,     0.56012,     0.55718,     0.55425,     0.55425,     0.54839,     0.54839,     0.54839,\n",
       "            0.54839,     0.54545,     0.54252,     0.53372,     0.53079,     0.52786,     0.52786,     0.52786,     0.51906,     0.51906,     0.51613,     0.51613,     0.51613,      0.5132,      0.5132,     0.50733,     0.50733,     0.50733,     0.50733,     0.50147,     0.49853,     0.49853,     0.49853,\n",
       "             0.4956,     0.48974,     0.48974,     0.48974,      0.4897,      0.4868,     0.48171,     0.47801,     0.47801,     0.47801,     0.47507,     0.47507,     0.47214,     0.47214,     0.47102,     0.46921,     0.46921,     0.46628,     0.46628,     0.46628,     0.46628,     0.46628,     0.46628,\n",
       "            0.46628,     0.46334,     0.46041,     0.46041,     0.45748,     0.45748,     0.45748,     0.45748,      0.4532,     0.45161,     0.44868,     0.44575,     0.44282,     0.43988,     0.43988,     0.43988,     0.43695,     0.43695,     0.43695,     0.43695,     0.43695,     0.43695,     0.43695,\n",
       "            0.43695,     0.43695,     0.43695,     0.43695,     0.43695,     0.43695,     0.43695,     0.43695,     0.43402,     0.43109,     0.43109,     0.42755,     0.42522,     0.42522,     0.42283,     0.41935,     0.41935,     0.41935,     0.41729,     0.41642,     0.41642,     0.41642,     0.41642,\n",
       "            0.41642,     0.41642,     0.41642,     0.41349,     0.41349,     0.41349,     0.41349,     0.41349,     0.41349,     0.41349,     0.41056,     0.40762,     0.40469,     0.40469,     0.40469,     0.40176,     0.40176,     0.40176,     0.39883,     0.39883,     0.39883,     0.39883,     0.39883,\n",
       "            0.39883,     0.39883,     0.39883,     0.39372,     0.39296,     0.39296,     0.39296,     0.39003,     0.39003,     0.39003,     0.39003,     0.39003,      0.3871,      0.3871,      0.3871,      0.3871,      0.3871,      0.3871,      0.3871,     0.38416,     0.38416,     0.38135,      0.3783,\n",
       "             0.3783,      0.3783,     0.37537,     0.37376,     0.37243,     0.36657,     0.36657,     0.36538,     0.36364,     0.36165,      0.3607,      0.3607,      0.3607,      0.3607,      0.3607,      0.3607,      0.3607,     0.35777,     0.35777,     0.35777,     0.35484,     0.35484,     0.35484,\n",
       "            0.35484,     0.35484,     0.35484,     0.35484,     0.35484,     0.35484,     0.35484,     0.35484,     0.35484,     0.35484,     0.35484,     0.35484,     0.35191,     0.35191,     0.35191,     0.35191,     0.34897,     0.34897,     0.34897,      0.3486,     0.34604,     0.34484,     0.34311,\n",
       "            0.34239,     0.34018,     0.34018,     0.34018,     0.34018,     0.34018,     0.33804,     0.33724,     0.33724,     0.33724,     0.33724,     0.33724,     0.33724,     0.33724,     0.33724,     0.33724,     0.33724,     0.33431,     0.33431,     0.33431,     0.33431,     0.33431,     0.33431,\n",
       "            0.33431,     0.33431,     0.33431,     0.33431,     0.33431,     0.33431,     0.33431,     0.33431,     0.33431,     0.33431,     0.33138,      0.3293,     0.32845,     0.32845,     0.32845,     0.32845,     0.32845,     0.32845,     0.32845,     0.32845,     0.32845,     0.32845,     0.32845,\n",
       "            0.32845,     0.32845,     0.32845,     0.32845,     0.32845,     0.32845,      0.3282,     0.32711,     0.32601,     0.32551,     0.32258,     0.32211,      0.3213,      0.3205,      0.3197,     0.31965,     0.31965,     0.31965,     0.31965,     0.31965,     0.31965,     0.31965,     0.31965,\n",
       "            0.31965,     0.31965,     0.31965,     0.31965,     0.31672,     0.31672,     0.31672,     0.31672,     0.31378,     0.31378,     0.31378,     0.31378,     0.31378,     0.31378,     0.31378,     0.31378,     0.31378,     0.31378,     0.31378,     0.31378,     0.31219,     0.31085,     0.31085,\n",
       "            0.31085,     0.31085,     0.31085,     0.31085,     0.30987,     0.30867,     0.30792,     0.30599,     0.30499,     0.30499,     0.30499,     0.30499,     0.30205,     0.30188,     0.29912,     0.29912,     0.29912,     0.29912,     0.29912,     0.29912,     0.29912,     0.29912,     0.29912,\n",
       "            0.29912,     0.29912,     0.29912,     0.29912,     0.29912,     0.29912,     0.29912,     0.29912,     0.29911,     0.29811,     0.29711,     0.29619,     0.29619,     0.29619,     0.29619,     0.29619,     0.29326,     0.29326,     0.29326,     0.29326,     0.29326,     0.29326,     0.29294,\n",
       "            0.29032,     0.29032,     0.29032,     0.29032,     0.29032,     0.29032,     0.29022,     0.28739,     0.28641,     0.28446,     0.28152,     0.28152,     0.28152,     0.27875,     0.27859,     0.27859,     0.27859,     0.27859,     0.27859,      0.2777,      0.2762,     0.27273,     0.27273,\n",
       "            0.27132,     0.26982,      0.2681,     0.26686,     0.26686,     0.26686,     0.26686,     0.26686,     0.26686,     0.26686,     0.26686,     0.26686,     0.26686,     0.26686,     0.26393,     0.26393,     0.26288,      0.2607,     0.25989,     0.25909,     0.25829,     0.25435,     0.25326,\n",
       "            0.25215,     0.25065,     0.24902,     0.24622,     0.24512,     0.24403,     0.24276,     0.24126,     0.23905,     0.23754,     0.23754,     0.23754,     0.23754,     0.23754,     0.23754,     0.23754,     0.23406,     0.23167,     0.23098,     0.22836,     0.22685,     0.22581,     0.22581,\n",
       "            0.22581,     0.22581,     0.22581,     0.22581,     0.22581,     0.22581,     0.22581,     0.22581,     0.22581,     0.22287,     0.22271,     0.22121,     0.21994,      0.2194,     0.21701,     0.21701,     0.21675,     0.21575,     0.21475,     0.21408,     0.21408,     0.21408,     0.21408,\n",
       "            0.21408,     0.21408,     0.21408,     0.21408,     0.21408,     0.21408,     0.21408,     0.21408,     0.21408,     0.21408,     0.21408,     0.21408,     0.21408,     0.21408,     0.21408,     0.21408,     0.21408,     0.21408,     0.21408,     0.21377,     0.21302,     0.21227,     0.21152,\n",
       "            0.21114,     0.21114,     0.21114,     0.21114,     0.21114,     0.21114,     0.21114,     0.21114,     0.21114,     0.21114,     0.20789,     0.20746,     0.20703,      0.2066,     0.20617,     0.20574,     0.20532,     0.20253,     0.20235,     0.20235,     0.20235,     0.20235,     0.20235,\n",
       "            0.20235,     0.20235,     0.20235,     0.20235,     0.20235,     0.20235,     0.20235,     0.20235,     0.20235,     0.20235,     0.19892,     0.19742,     0.19648,     0.19648,     0.19648,     0.19512,     0.19355,     0.19355,     0.19355,     0.19355,     0.19355,     0.19355,     0.19355,\n",
       "            0.19161,      0.1886,     0.18768,     0.18768,     0.18768,     0.18768,     0.18768,     0.18768,     0.18768,     0.18768,     0.18768,     0.18493,     0.18193,     0.18037,     0.17887,     0.17736,     0.17595,     0.17595,     0.17595,     0.17595,     0.17547,     0.17294,     0.17251,\n",
       "            0.17208,     0.17165,     0.17122,     0.17079,     0.17037,     0.16995,     0.16958,      0.1692,     0.16883,     0.16845,     0.16808,      0.1677,     0.16732,     0.16633,     0.16483,     0.16422,     0.16422,     0.16422,     0.16422,     0.16422,     0.16422,     0.16422,     0.16364,\n",
       "            0.16289,     0.16214,     0.16139,     0.16082,     0.16027,     0.15972,     0.15918,     0.15863,     0.15836,     0.15836,     0.15836,     0.15836,     0.15836,     0.15836,     0.15836,     0.15836,     0.15836,     0.15836,     0.15836,     0.15836,     0.15836,     0.15836,     0.15836,\n",
       "            0.15836,     0.15836,     0.15836,     0.15836,     0.15836,     0.15836,     0.15836,     0.15836,     0.15836,     0.15836,     0.15836,     0.15836,     0.15836,     0.15836,     0.15619,     0.15318,     0.14724,     0.14543,     0.14393,     0.14297,     0.14211,     0.14125,     0.13654,\n",
       "             0.1349,      0.1349,      0.1349,      0.1349,      0.1349,      0.1349,      0.1349,      0.1349,      0.1349,      0.1349,      0.1349,      0.1349,      0.1349,      0.1349,      0.1349,      0.1349,      0.1349,      0.1349,     0.13196,     0.13196,     0.13196,     0.13196,     0.13196,\n",
       "            0.13196,     0.13196,     0.13196,     0.13196,     0.13196,     0.13196,     0.13196,     0.13196,     0.13196,     0.13196,     0.13196,     0.13196,     0.13196,     0.13196,     0.13196,     0.13196,     0.13196,     0.13196,     0.13196,     0.13196,     0.13196,     0.13196,     0.13196,\n",
       "            0.13196,     0.13196,     0.13196,     0.13196,     0.13196,     0.13196,     0.13196,     0.13196,     0.13135,     0.12934,     0.12649,     0.12552,     0.12485,     0.12418,     0.12351,     0.12317,     0.12317,     0.12211,     0.12023,     0.12023,     0.12006,     0.11856,     0.11711,\n",
       "             0.1159,      0.1147,      0.1135,      0.1123,     0.11137,     0.11113,     0.11089,     0.11065,     0.11041,     0.11017,     0.10993,     0.10969,     0.10944,      0.1092,     0.10896,     0.10872,      0.1085,      0.1085,     0.10264,     0.10068,    0.096774,    0.096774,    0.096774,\n",
       "           0.096774,    0.095612,     0.09411,    0.093018,    0.092016,    0.091014,    0.090909,    0.090909,    0.090909,    0.090909,    0.090909,    0.090909,    0.090843,    0.089841,    0.088839,    0.087977,    0.087977,    0.087977,    0.087977,    0.087977,    0.087977,    0.087977,    0.087977,\n",
       "           0.087977,    0.087977,    0.087977,    0.087977,    0.087977,    0.087977,    0.084892,    0.084575,    0.084259,    0.083943,    0.083626,     0.08331,    0.082993,    0.082677,     0.08236,    0.081983,    0.081382,    0.080781,     0.08018,    0.079579,     0.07906,    0.078707,    0.078353,\n",
       "              0.078,    0.077646,    0.077292,    0.076939,    0.076585,    0.076246,    0.076246,    0.076246,    0.076246,    0.076246,    0.076246,    0.076246,    0.076246,    0.076246,    0.073314,    0.073314,    0.073314,    0.069674,    0.068815,    0.067957,     0.06735,     0.06711,    0.066869,\n",
       "           0.066629,    0.066388,    0.066148,    0.065908,    0.065667,    0.065427,    0.065186,    0.064946,    0.064705,    0.063873,    0.057935,    0.055718,    0.055718,    0.055718,    0.055718,    0.055718,    0.055718,    0.055718,    0.055718,    0.055718,    0.055235,    0.054233,    0.053231,\n",
       "           0.052452,    0.051851,    0.051249,    0.050648,    0.050047,    0.048495,    0.046804,    0.046257,    0.045711,    0.045164,    0.044618,    0.044071,    0.042713,     0.04121,    0.040563,    0.039361,    0.038158,    0.035191,    0.032245,    0.031577,    0.030909,    0.030241,    0.029573,\n",
       "           0.026393,    0.026393,    0.026393,    0.026393,    0.026393,    0.026393,    0.026393,    0.026393,    0.026393,    0.026393,    0.026393,    0.026393,    0.026393,    0.026393,    0.026393,    0.026393,    0.026393,    0.026393,    0.026393,    0.026393,    0.026393,    0.026393,    0.026393,\n",
       "           0.026393,    0.026393,    0.026226,    0.026003,     0.02578,    0.025558,    0.025335,    0.025112,     0.02489,    0.024667,    0.024444,    0.024222,    0.023999,    0.023776,    0.023554,     0.02346,     0.02346,     0.02346,     0.02346,     0.02346,     0.02346,    0.022974,    0.022306,\n",
       "           0.021638,     0.02097,    0.020528,    0.020528,    0.020528,    0.020528,    0.020528,    0.020528,    0.020528,    0.020528,    0.020391,    0.017385,    0.014631,    0.014297,    0.013963,    0.013629,    0.013295,    0.012961,    0.012627,    0.012293,    0.011959,     0.01173,     0.01173,\n",
       "            0.01173,     0.01173,     0.01173,     0.01173,     0.01173,     0.01173,     0.01173,     0.01173,     0.01173,     0.01173,     0.01173,     0.01173,     0.01173,    0.011573,    0.011342,     0.01111,    0.010879,    0.010648,    0.010417,    0.010186,   0.0099543,   0.0097231,   0.0094919,\n",
       "          0.0092607,   0.0090294,   0.0087982,   0.0086549,   0.0085117,   0.0083686,   0.0082254,   0.0080823,   0.0079392,    0.007796,   0.0076529,   0.0075097,   0.0073666,   0.0072235,   0.0070803,   0.0069372,    0.006794,   0.0066509,   0.0065078,   0.0063646,   0.0062215,   0.0060783,   0.0059352,\n",
       "          0.0058172,   0.0057232,   0.0056293,   0.0055354,   0.0054414,   0.0053475,   0.0052536,   0.0051596,   0.0050657,   0.0049718,   0.0048778,   0.0047839,   0.0046899,    0.004596,   0.0045021,   0.0044081,   0.0043142,   0.0042203,   0.0041263,   0.0040324,   0.0039385,   0.0038445,   0.0037506,\n",
       "          0.0036567,   0.0035627,   0.0034688,   0.0033748,   0.0032809,    0.003187,    0.003093,   0.0029991,   0.0029326,   0.0029326,   0.0029326,   0.0029326,   0.0029326,   0.0029326,   0.0029326,   0.0029326,   0.0029326,   0.0029326,   0.0029326,   0.0029326,   0.0029326,   0.0029326,   0.0029326,\n",
       "          0.0029326,   0.0029326,   0.0029326,   0.0029326,   0.0029326,   0.0029326,   0.0029326,   0.0029326,   0.0029326,   0.0029326,   0.0029326,   0.0029326,   0.0029326,   0.0029326,   0.0029326,           0,           0,           0,           0,           0,           0,           0,           0,\n",
       "                  0,           0,           0,           0,           0,           0,           0,           0,           0,           0,           0]]), 'Confidence', 'Recall']]\n",
       "fitness: 0.11525291403195506\n",
       "keys: ['metrics/precision(B)', 'metrics/recall(B)', 'metrics/mAP50(B)', 'metrics/mAP50-95(B)']\n",
       "maps: array([   0.099293])\n",
       "names: {0: 'Car-Damage'}\n",
       "plot: True\n",
       "results_dict: {'metrics/precision(B)': 0.4529044004800835, 'metrics/recall(B)': 0.31671554252199413, 'metrics/mAP50(B)': 0.2588926409682982, 'metrics/mAP50-95(B)': 0.09929294437236139, 'fitness': 0.11525291403195506}\n",
       "save_dir: WindowsPath('runs/detect/train26')\n",
       "speed: {'preprocess': 0.1822962210728572, 'inference': 1.5282940406065721, 'loss': 0.0048073438497690055, 'postprocess': 0.929528704056373}\n",
       "task: 'detect'"
      ]
     },
     "execution_count": 11,
     "metadata": {},
     "output_type": "execute_result"
    }
   ],
   "source": [
    "model.train(\n",
    "    data=\"dataset.yaml\",\n",
    "    epochs=50,\n",
    "    batch=8,\n",
    "    imgsz=512,\n",
    ")"
   ]
  },
  {
   "cell_type": "code",
   "execution_count": 13,
   "metadata": {},
   "outputs": [
    {
     "name": "stdout",
     "output_type": "stream",
     "text": [
      "\n",
      "image 1/208 D:\\Datasets\\riset_infor_dataset\\Car_Damage_Coco_Dataset_Combined\\images\\val\\114_jpg.rf.cfabf01d2e3f751396eaa9660070fd48.jpg: 480x640 1 Car-Damage, 107.3ms\n",
      "image 2/208 D:\\Datasets\\riset_infor_dataset\\Car_Damage_Coco_Dataset_Combined\\images\\val\\123_jpg.rf.bdecf2e72e09ddfc9ff20d5334144e23.jpg: 480x640 2 Car-Damages, 79.1ms\n",
      "image 3/208 D:\\Datasets\\riset_infor_dataset\\Car_Damage_Coco_Dataset_Combined\\images\\val\\132_jpg.rf.0117b03b1bb88f7edf293a704383350f.jpg: 480x640 1 Car-Damage, 9.0ms\n",
      "image 4/208 D:\\Datasets\\riset_infor_dataset\\Car_Damage_Coco_Dataset_Combined\\images\\val\\14_jpg.rf.17d0950f1a5740f28968b97288aa9285.jpg: 480x640 1 Car-Damage, 11.5ms\n",
      "image 5/208 D:\\Datasets\\riset_infor_dataset\\Car_Damage_Coco_Dataset_Combined\\images\\val\\15_jpg.rf.34119d478a347be72f231a096f078449.jpg: 480x640 2 Car-Damages, 10.0ms\n",
      "image 6/208 D:\\Datasets\\riset_infor_dataset\\Car_Damage_Coco_Dataset_Combined\\images\\val\\160_jpg.rf.697c4d606e9f15b7ac8506e27077e541.jpg: 352x640 1 Car-Damage, 51.9ms\n",
      "image 7/208 D:\\Datasets\\riset_infor_dataset\\Car_Damage_Coco_Dataset_Combined\\images\\val\\24_jpg.rf.0da478ebe1922a59d65dddd8c6cd5cd5.jpg: 480x640 (no detections), 17.6ms\n",
      "image 8/208 D:\\Datasets\\riset_infor_dataset\\Car_Damage_Coco_Dataset_Combined\\images\\val\\35_jpg.rf.9502e322686b2e0c8e44d68a8174a273.jpg: 384x640 3 Car-Damages, 52.2ms\n",
      "image 9/208 D:\\Datasets\\riset_infor_dataset\\Car_Damage_Coco_Dataset_Combined\\images\\val\\38_jpg.rf.692a2c0bd4a2b0211cdf1e1557116e2b.jpg: 480x640 (no detections), 23.1ms\n",
      "image 10/208 D:\\Datasets\\riset_infor_dataset\\Car_Damage_Coco_Dataset_Combined\\images\\val\\40_jpg.rf.beb512169c2f7661a002f1ba87daaa54.jpg: 480x640 1 Car-Damage, 10.0ms\n",
      "image 11/208 D:\\Datasets\\riset_infor_dataset\\Car_Damage_Coco_Dataset_Combined\\images\\val\\51_jpg.rf.1f88980c7d3f7bdcb903e994c9f80373.jpg: 480x640 1 Car-Damage, 10.3ms\n",
      "image 12/208 D:\\Datasets\\riset_infor_dataset\\Car_Damage_Coco_Dataset_Combined\\images\\val\\59_jpg.rf.87021c408ca5142a18a402235ab2d818.jpg: 480x640 1 Car-Damage, 14.8ms\n",
      "image 13/208 D:\\Datasets\\riset_infor_dataset\\Car_Damage_Coco_Dataset_Combined\\images\\val\\69_jpg.rf.7abf8e116e0abfaca60a3c1f40f0306c.jpg: 480x640 1 Car-Damage, 0.0ms\n",
      "image 14/208 D:\\Datasets\\riset_infor_dataset\\Car_Damage_Coco_Dataset_Combined\\images\\val\\70_jpg.rf.9611cffdf806e6e54453ffab66edacae.jpg: 480x640 3 Car-Damages, 10.5ms\n",
      "image 15/208 D:\\Datasets\\riset_infor_dataset\\Car_Damage_Coco_Dataset_Combined\\images\\val\\7_jpg.rf.c10b1499e8334291cc4611231e6705b7.jpg: 480x640 4 Car-Damages, 13.8ms\n",
      "image 16/208 D:\\Datasets\\riset_infor_dataset\\Car_Damage_Coco_Dataset_Combined\\images\\val\\81_jpg.rf.5ea9446b9cae3e0c259575f5fbdbece4.jpg: 480x640 2 Car-Damages, 13.8ms\n",
      "image 17/208 D:\\Datasets\\riset_infor_dataset\\Car_Damage_Coco_Dataset_Combined\\images\\val\\akhand_b43_100.jpg: 480x640 2 Car-Damages, 13.9ms\n",
      "image 18/208 D:\\Datasets\\riset_infor_dataset\\Car_Damage_Coco_Dataset_Combined\\images\\val\\akhand_b43_102.jpg: 480x640 1 Car-Damage, 9.3ms\n",
      "image 19/208 D:\\Datasets\\riset_infor_dataset\\Car_Damage_Coco_Dataset_Combined\\images\\val\\akhand_b43_105.jpg: 480x640 (no detections), 14.1ms\n",
      "image 20/208 D:\\Datasets\\riset_infor_dataset\\Car_Damage_Coco_Dataset_Combined\\images\\val\\akhand_b43_106.jpg: 480x640 2 Car-Damages, 10.0ms\n",
      "image 21/208 D:\\Datasets\\riset_infor_dataset\\Car_Damage_Coco_Dataset_Combined\\images\\val\\akhand_b43_109.jpg: 480x640 1 Car-Damage, 14.2ms\n",
      "image 22/208 D:\\Datasets\\riset_infor_dataset\\Car_Damage_Coco_Dataset_Combined\\images\\val\\akhand_b43_112.jpg: 480x640 2 Car-Damages, 7.0ms\n",
      "image 23/208 D:\\Datasets\\riset_infor_dataset\\Car_Damage_Coco_Dataset_Combined\\images\\val\\akhand_b43_12.jpg: 480x640 1 Car-Damage, 13.3ms\n",
      "image 24/208 D:\\Datasets\\riset_infor_dataset\\Car_Damage_Coco_Dataset_Combined\\images\\val\\akhand_b43_120.jpg: 480x640 1 Car-Damage, 9.9ms\n",
      "image 25/208 D:\\Datasets\\riset_infor_dataset\\Car_Damage_Coco_Dataset_Combined\\images\\val\\akhand_b43_124.jpg: 480x640 2 Car-Damages, 9.8ms\n",
      "image 26/208 D:\\Datasets\\riset_infor_dataset\\Car_Damage_Coco_Dataset_Combined\\images\\val\\akhand_b43_128.jpg: 480x640 1 Car-Damage, 7.4ms\n",
      "image 27/208 D:\\Datasets\\riset_infor_dataset\\Car_Damage_Coco_Dataset_Combined\\images\\val\\akhand_b43_129.jpg: 480x640 1 Car-Damage, 10.6ms\n",
      "image 28/208 D:\\Datasets\\riset_infor_dataset\\Car_Damage_Coco_Dataset_Combined\\images\\val\\akhand_b43_130.jpg: 480x640 (no detections), 10.4ms\n",
      "image 29/208 D:\\Datasets\\riset_infor_dataset\\Car_Damage_Coco_Dataset_Combined\\images\\val\\akhand_b43_136.jpg: 480x640 1 Car-Damage, 4.4ms\n",
      "image 30/208 D:\\Datasets\\riset_infor_dataset\\Car_Damage_Coco_Dataset_Combined\\images\\val\\akhand_b43_137.jpg: 480x640 (no detections), 10.4ms\n",
      "image 31/208 D:\\Datasets\\riset_infor_dataset\\Car_Damage_Coco_Dataset_Combined\\images\\val\\akhand_b43_143.jpg: 480x640 1 Car-Damage, 13.6ms\n",
      "image 32/208 D:\\Datasets\\riset_infor_dataset\\Car_Damage_Coco_Dataset_Combined\\images\\val\\akhand_b43_145.jpg: 480x640 2 Car-Damages, 5.0ms\n",
      "image 33/208 D:\\Datasets\\riset_infor_dataset\\Car_Damage_Coco_Dataset_Combined\\images\\val\\akhand_b43_15.jpg: 480x640 (no detections), 7.5ms\n",
      "image 34/208 D:\\Datasets\\riset_infor_dataset\\Car_Damage_Coco_Dataset_Combined\\images\\val\\akhand_b43_151.jpg: 480x640 4 Car-Damages, 9.5ms\n",
      "image 35/208 D:\\Datasets\\riset_infor_dataset\\Car_Damage_Coco_Dataset_Combined\\images\\val\\akhand_b43_152.jpg: 480x640 3 Car-Damages, 16.0ms\n",
      "image 36/208 D:\\Datasets\\riset_infor_dataset\\Car_Damage_Coco_Dataset_Combined\\images\\val\\akhand_b43_154.jpg: 480x640 2 Car-Damages, 6.2ms\n",
      "image 37/208 D:\\Datasets\\riset_infor_dataset\\Car_Damage_Coco_Dataset_Combined\\images\\val\\akhand_b43_157.jpg: 480x640 1 Car-Damage, 10.4ms\n",
      "image 38/208 D:\\Datasets\\riset_infor_dataset\\Car_Damage_Coco_Dataset_Combined\\images\\val\\akhand_b43_158.jpg: 480x640 (no detections), 6.9ms\n",
      "image 39/208 D:\\Datasets\\riset_infor_dataset\\Car_Damage_Coco_Dataset_Combined\\images\\val\\akhand_b43_170.jpg: 480x640 1 Car-Damage, 5.2ms\n",
      "image 40/208 D:\\Datasets\\riset_infor_dataset\\Car_Damage_Coco_Dataset_Combined\\images\\val\\akhand_b43_175.jpg: 480x640 (no detections), 11.2ms\n",
      "image 41/208 D:\\Datasets\\riset_infor_dataset\\Car_Damage_Coco_Dataset_Combined\\images\\val\\akhand_b43_182.jpg: 480x640 (no detections), 6.8ms\n",
      "image 42/208 D:\\Datasets\\riset_infor_dataset\\Car_Damage_Coco_Dataset_Combined\\images\\val\\akhand_b43_185.jpg: 480x640 1 Car-Damage, 9.8ms\n",
      "image 43/208 D:\\Datasets\\riset_infor_dataset\\Car_Damage_Coco_Dataset_Combined\\images\\val\\akhand_b43_190.jpg: 480x640 (no detections), 10.0ms\n",
      "image 44/208 D:\\Datasets\\riset_infor_dataset\\Car_Damage_Coco_Dataset_Combined\\images\\val\\akhand_b43_201.jpg: 480x640 2 Car-Damages, 10.0ms\n",
      "image 45/208 D:\\Datasets\\riset_infor_dataset\\Car_Damage_Coco_Dataset_Combined\\images\\val\\akhand_b43_202.jpg: 480x640 1 Car-Damage, 5.8ms\n",
      "image 46/208 D:\\Datasets\\riset_infor_dataset\\Car_Damage_Coco_Dataset_Combined\\images\\val\\akhand_b43_204.jpg: 480x640 (no detections), 9.9ms\n",
      "image 47/208 D:\\Datasets\\riset_infor_dataset\\Car_Damage_Coco_Dataset_Combined\\images\\val\\akhand_b43_206.jpg: 480x640 (no detections), 8.8ms\n",
      "image 48/208 D:\\Datasets\\riset_infor_dataset\\Car_Damage_Coco_Dataset_Combined\\images\\val\\akhand_b43_208.jpg: 480x640 2 Car-Damages, 7.7ms\n",
      "image 49/208 D:\\Datasets\\riset_infor_dataset\\Car_Damage_Coco_Dataset_Combined\\images\\val\\akhand_b43_209.jpg: 480x640 2 Car-Damages, 3.7ms\n",
      "image 50/208 D:\\Datasets\\riset_infor_dataset\\Car_Damage_Coco_Dataset_Combined\\images\\val\\akhand_b43_210.jpg: 480x640 (no detections), 8.7ms\n",
      "image 51/208 D:\\Datasets\\riset_infor_dataset\\Car_Damage_Coco_Dataset_Combined\\images\\val\\akhand_b43_211.jpg: 480x640 2 Car-Damages, 9.1ms\n",
      "image 52/208 D:\\Datasets\\riset_infor_dataset\\Car_Damage_Coco_Dataset_Combined\\images\\val\\akhand_b43_212.jpg: 480x640 1 Car-Damage, 9.6ms\n",
      "image 53/208 D:\\Datasets\\riset_infor_dataset\\Car_Damage_Coco_Dataset_Combined\\images\\val\\akhand_b43_218.jpg: 480x640 1 Car-Damage, 8.6ms\n",
      "image 54/208 D:\\Datasets\\riset_infor_dataset\\Car_Damage_Coco_Dataset_Combined\\images\\val\\akhand_b43_22.jpg: 480x640 1 Car-Damage, 14.8ms\n",
      "image 55/208 D:\\Datasets\\riset_infor_dataset\\Car_Damage_Coco_Dataset_Combined\\images\\val\\akhand_b43_220.jpg: 480x640 2 Car-Damages, 9.5ms\n",
      "image 56/208 D:\\Datasets\\riset_infor_dataset\\Car_Damage_Coco_Dataset_Combined\\images\\val\\akhand_b43_230.jpg: 480x640 (no detections), 3.4ms\n",
      "image 57/208 D:\\Datasets\\riset_infor_dataset\\Car_Damage_Coco_Dataset_Combined\\images\\val\\akhand_b43_237.jpg: 480x640 2 Car-Damages, 9.5ms\n",
      "image 58/208 D:\\Datasets\\riset_infor_dataset\\Car_Damage_Coco_Dataset_Combined\\images\\val\\akhand_b43_239.jpg: 480x640 1 Car-Damage, 19.0ms\n",
      "image 59/208 D:\\Datasets\\riset_infor_dataset\\Car_Damage_Coco_Dataset_Combined\\images\\val\\akhand_b43_24.jpg: 480x640 (no detections), 8.3ms\n",
      "image 60/208 D:\\Datasets\\riset_infor_dataset\\Car_Damage_Coco_Dataset_Combined\\images\\val\\akhand_b43_241.jpg: 480x640 3 Car-Damages, 10.7ms\n",
      "image 61/208 D:\\Datasets\\riset_infor_dataset\\Car_Damage_Coco_Dataset_Combined\\images\\val\\akhand_b43_247.jpg: 480x640 1 Car-Damage, 10.1ms\n",
      "image 62/208 D:\\Datasets\\riset_infor_dataset\\Car_Damage_Coco_Dataset_Combined\\images\\val\\akhand_b43_251.jpg: 480x640 2 Car-Damages, 0.0ms\n",
      "image 63/208 D:\\Datasets\\riset_infor_dataset\\Car_Damage_Coco_Dataset_Combined\\images\\val\\akhand_b43_252.jpg: 480x640 2 Car-Damages, 15.7ms\n",
      "image 64/208 D:\\Datasets\\riset_infor_dataset\\Car_Damage_Coco_Dataset_Combined\\images\\val\\akhand_b43_253.jpg: 480x640 3 Car-Damages, 13.3ms\n",
      "image 65/208 D:\\Datasets\\riset_infor_dataset\\Car_Damage_Coco_Dataset_Combined\\images\\val\\akhand_b43_256.jpg: 480x640 4 Car-Damages, 9.0ms\n",
      "image 66/208 D:\\Datasets\\riset_infor_dataset\\Car_Damage_Coco_Dataset_Combined\\images\\val\\akhand_b43_259.jpg: 480x640 1 Car-Damage, 8.4ms\n",
      "image 67/208 D:\\Datasets\\riset_infor_dataset\\Car_Damage_Coco_Dataset_Combined\\images\\val\\akhand_b43_260.jpg: 480x640 2 Car-Damages, 13.6ms\n",
      "image 68/208 D:\\Datasets\\riset_infor_dataset\\Car_Damage_Coco_Dataset_Combined\\images\\val\\akhand_b43_261.jpg: 480x640 1 Car-Damage, 5.3ms\n",
      "image 69/208 D:\\Datasets\\riset_infor_dataset\\Car_Damage_Coco_Dataset_Combined\\images\\val\\akhand_b43_265.jpg: 480x640 2 Car-Damages, 10.0ms\n",
      "image 70/208 D:\\Datasets\\riset_infor_dataset\\Car_Damage_Coco_Dataset_Combined\\images\\val\\akhand_b43_270.jpg: 480x640 3 Car-Damages, 14.0ms\n",
      "image 71/208 D:\\Datasets\\riset_infor_dataset\\Car_Damage_Coco_Dataset_Combined\\images\\val\\akhand_b43_271.jpg: 480x640 (no detections), 17.1ms\n",
      "image 72/208 D:\\Datasets\\riset_infor_dataset\\Car_Damage_Coco_Dataset_Combined\\images\\val\\akhand_b43_272.jpg: 480x640 (no detections), 12.4ms\n",
      "image 73/208 D:\\Datasets\\riset_infor_dataset\\Car_Damage_Coco_Dataset_Combined\\images\\val\\akhand_b43_274.jpg: 480x640 1 Car-Damage, 16.1ms\n",
      "image 74/208 D:\\Datasets\\riset_infor_dataset\\Car_Damage_Coco_Dataset_Combined\\images\\val\\akhand_b43_28.jpg: 480x640 (no detections), 13.6ms\n",
      "image 75/208 D:\\Datasets\\riset_infor_dataset\\Car_Damage_Coco_Dataset_Combined\\images\\val\\akhand_b43_281.jpg: 480x640 3 Car-Damages, 8.7ms\n",
      "image 76/208 D:\\Datasets\\riset_infor_dataset\\Car_Damage_Coco_Dataset_Combined\\images\\val\\akhand_b43_282.jpg: 480x640 2 Car-Damages, 11.3ms\n",
      "image 77/208 D:\\Datasets\\riset_infor_dataset\\Car_Damage_Coco_Dataset_Combined\\images\\val\\akhand_b43_288.jpg: 480x640 1 Car-Damage, 8.6ms\n",
      "image 78/208 D:\\Datasets\\riset_infor_dataset\\Car_Damage_Coco_Dataset_Combined\\images\\val\\akhand_b43_293.jpg: 480x640 2 Car-Damages, 8.9ms\n",
      "image 79/208 D:\\Datasets\\riset_infor_dataset\\Car_Damage_Coco_Dataset_Combined\\images\\val\\akhand_b43_294.jpg: 480x640 (no detections), 10.9ms\n",
      "image 80/208 D:\\Datasets\\riset_infor_dataset\\Car_Damage_Coco_Dataset_Combined\\images\\val\\akhand_b43_297.jpg: 480x640 1 Car-Damage, 14.0ms\n",
      "image 81/208 D:\\Datasets\\riset_infor_dataset\\Car_Damage_Coco_Dataset_Combined\\images\\val\\akhand_b43_301.jpg: 480x640 1 Car-Damage, 13.4ms\n",
      "image 82/208 D:\\Datasets\\riset_infor_dataset\\Car_Damage_Coco_Dataset_Combined\\images\\val\\akhand_b43_302.jpg: 480x640 (no detections), 11.4ms\n",
      "image 83/208 D:\\Datasets\\riset_infor_dataset\\Car_Damage_Coco_Dataset_Combined\\images\\val\\akhand_b43_310.jpg: 480x640 (no detections), 8.5ms\n",
      "image 84/208 D:\\Datasets\\riset_infor_dataset\\Car_Damage_Coco_Dataset_Combined\\images\\val\\akhand_b43_315.jpg: 480x640 2 Car-Damages, 7.9ms\n",
      "image 85/208 D:\\Datasets\\riset_infor_dataset\\Car_Damage_Coco_Dataset_Combined\\images\\val\\akhand_b43_316.jpg: 480x640 1 Car-Damage, 15.3ms\n",
      "image 86/208 D:\\Datasets\\riset_infor_dataset\\Car_Damage_Coco_Dataset_Combined\\images\\val\\akhand_b43_317.jpg: 480x640 2 Car-Damages, 8.5ms\n",
      "image 87/208 D:\\Datasets\\riset_infor_dataset\\Car_Damage_Coco_Dataset_Combined\\images\\val\\akhand_b43_318.jpg: 480x640 5 Car-Damages, 7.7ms\n",
      "image 88/208 D:\\Datasets\\riset_infor_dataset\\Car_Damage_Coco_Dataset_Combined\\images\\val\\akhand_b43_32.jpg: 480x640 (no detections), 7.9ms\n",
      "image 89/208 D:\\Datasets\\riset_infor_dataset\\Car_Damage_Coco_Dataset_Combined\\images\\val\\akhand_b43_324.jpg: 480x640 1 Car-Damage, 11.5ms\n",
      "image 90/208 D:\\Datasets\\riset_infor_dataset\\Car_Damage_Coco_Dataset_Combined\\images\\val\\akhand_b43_326.jpg: 480x640 4 Car-Damages, 3.1ms\n",
      "image 91/208 D:\\Datasets\\riset_infor_dataset\\Car_Damage_Coco_Dataset_Combined\\images\\val\\akhand_b43_330.jpg: 480x640 2 Car-Damages, 9.6ms\n",
      "image 92/208 D:\\Datasets\\riset_infor_dataset\\Car_Damage_Coco_Dataset_Combined\\images\\val\\akhand_b43_336.jpg: 480x640 3 Car-Damages, 2.7ms\n",
      "image 93/208 D:\\Datasets\\riset_infor_dataset\\Car_Damage_Coco_Dataset_Combined\\images\\val\\akhand_b43_339.jpg: 480x640 1 Car-Damage, 9.0ms\n",
      "image 94/208 D:\\Datasets\\riset_infor_dataset\\Car_Damage_Coco_Dataset_Combined\\images\\val\\akhand_b43_341.jpg: 480x640 2 Car-Damages, 8.1ms\n",
      "image 95/208 D:\\Datasets\\riset_infor_dataset\\Car_Damage_Coco_Dataset_Combined\\images\\val\\akhand_b43_344.jpg: 480x640 (no detections), 5.4ms\n",
      "image 96/208 D:\\Datasets\\riset_infor_dataset\\Car_Damage_Coco_Dataset_Combined\\images\\val\\akhand_b43_346.jpg: 480x640 (no detections), 3.3ms\n",
      "image 97/208 D:\\Datasets\\riset_infor_dataset\\Car_Damage_Coco_Dataset_Combined\\images\\val\\akhand_b43_347.jpg: 480x640 1 Car-Damage, 6.6ms\n",
      "image 98/208 D:\\Datasets\\riset_infor_dataset\\Car_Damage_Coco_Dataset_Combined\\images\\val\\akhand_b43_350.jpg: 480x640 2 Car-Damages, 6.9ms\n",
      "image 99/208 D:\\Datasets\\riset_infor_dataset\\Car_Damage_Coco_Dataset_Combined\\images\\val\\akhand_b43_362.jpg: 480x640 (no detections), 7.2ms\n",
      "image 100/208 D:\\Datasets\\riset_infor_dataset\\Car_Damage_Coco_Dataset_Combined\\images\\val\\akhand_b43_365.jpg: 480x640 1 Car-Damage, 7.1ms\n",
      "image 101/208 D:\\Datasets\\riset_infor_dataset\\Car_Damage_Coco_Dataset_Combined\\images\\val\\akhand_b43_367.jpg: 480x640 1 Car-Damage, 6.9ms\n",
      "image 102/208 D:\\Datasets\\riset_infor_dataset\\Car_Damage_Coco_Dataset_Combined\\images\\val\\akhand_b43_369.jpg: 480x640 (no detections), 8.7ms\n",
      "image 103/208 D:\\Datasets\\riset_infor_dataset\\Car_Damage_Coco_Dataset_Combined\\images\\val\\akhand_b43_37.jpg: 480x640 (no detections), 3.2ms\n",
      "image 104/208 D:\\Datasets\\riset_infor_dataset\\Car_Damage_Coco_Dataset_Combined\\images\\val\\akhand_b43_373.jpg: 480x640 (no detections), 12.9ms\n",
      "image 105/208 D:\\Datasets\\riset_infor_dataset\\Car_Damage_Coco_Dataset_Combined\\images\\val\\akhand_b43_374.jpg: 480x640 1 Car-Damage, 9.6ms\n",
      "image 106/208 D:\\Datasets\\riset_infor_dataset\\Car_Damage_Coco_Dataset_Combined\\images\\val\\akhand_b43_376.jpg: 480x640 (no detections), 10.7ms\n",
      "image 107/208 D:\\Datasets\\riset_infor_dataset\\Car_Damage_Coco_Dataset_Combined\\images\\val\\akhand_b43_382.jpg: 480x640 1 Car-Damage, 16.0ms\n",
      "image 108/208 D:\\Datasets\\riset_infor_dataset\\Car_Damage_Coco_Dataset_Combined\\images\\val\\akhand_b43_387.jpg: 480x640 1 Car-Damage, 11.4ms\n",
      "image 109/208 D:\\Datasets\\riset_infor_dataset\\Car_Damage_Coco_Dataset_Combined\\images\\val\\akhand_b43_388.jpg: 480x640 2 Car-Damages, 9.8ms\n",
      "image 110/208 D:\\Datasets\\riset_infor_dataset\\Car_Damage_Coco_Dataset_Combined\\images\\val\\akhand_b43_389.jpg: 480x640 1 Car-Damage, 6.6ms\n",
      "image 111/208 D:\\Datasets\\riset_infor_dataset\\Car_Damage_Coco_Dataset_Combined\\images\\val\\akhand_b43_39.jpg: 480x640 2 Car-Damages, 13.6ms\n",
      "image 112/208 D:\\Datasets\\riset_infor_dataset\\Car_Damage_Coco_Dataset_Combined\\images\\val\\akhand_b43_391.jpg: 480x640 (no detections), 14.0ms\n",
      "image 113/208 D:\\Datasets\\riset_infor_dataset\\Car_Damage_Coco_Dataset_Combined\\images\\val\\akhand_b43_393.jpg: 480x640 2 Car-Damages, 5.0ms\n",
      "image 114/208 D:\\Datasets\\riset_infor_dataset\\Car_Damage_Coco_Dataset_Combined\\images\\val\\akhand_b43_394.jpg: 480x640 3 Car-Damages, 11.1ms\n",
      "image 115/208 D:\\Datasets\\riset_infor_dataset\\Car_Damage_Coco_Dataset_Combined\\images\\val\\akhand_b43_399.jpg: 480x640 3 Car-Damages, 7.6ms\n",
      "image 116/208 D:\\Datasets\\riset_infor_dataset\\Car_Damage_Coco_Dataset_Combined\\images\\val\\akhand_b43_400.jpg: 480x640 2 Car-Damages, 11.9ms\n",
      "image 117/208 D:\\Datasets\\riset_infor_dataset\\Car_Damage_Coco_Dataset_Combined\\images\\val\\akhand_b43_402.jpg: 480x640 2 Car-Damages, 10.9ms\n",
      "image 118/208 D:\\Datasets\\riset_infor_dataset\\Car_Damage_Coco_Dataset_Combined\\images\\val\\akhand_b43_407.jpg: 480x640 (no detections), 10.6ms\n",
      "image 119/208 D:\\Datasets\\riset_infor_dataset\\Car_Damage_Coco_Dataset_Combined\\images\\val\\akhand_b43_409.jpg: 480x640 (no detections), 15.3ms\n",
      "image 120/208 D:\\Datasets\\riset_infor_dataset\\Car_Damage_Coco_Dataset_Combined\\images\\val\\akhand_b43_41.jpg: 480x640 1 Car-Damage, 16.9ms\n",
      "image 121/208 D:\\Datasets\\riset_infor_dataset\\Car_Damage_Coco_Dataset_Combined\\images\\val\\akhand_b43_410.jpg: 480x640 (no detections), 13.4ms\n",
      "image 122/208 D:\\Datasets\\riset_infor_dataset\\Car_Damage_Coco_Dataset_Combined\\images\\val\\akhand_b43_423.jpg: 480x640 (no detections), 5.7ms\n",
      "image 123/208 D:\\Datasets\\riset_infor_dataset\\Car_Damage_Coco_Dataset_Combined\\images\\val\\akhand_b43_425.jpg: 480x640 (no detections), 17.3ms\n",
      "image 124/208 D:\\Datasets\\riset_infor_dataset\\Car_Damage_Coco_Dataset_Combined\\images\\val\\akhand_b43_43.jpg: 480x640 2 Car-Damages, 8.3ms\n",
      "image 125/208 D:\\Datasets\\riset_infor_dataset\\Car_Damage_Coco_Dataset_Combined\\images\\val\\akhand_b43_430.jpg: 480x640 (no detections), 15.4ms\n",
      "image 126/208 D:\\Datasets\\riset_infor_dataset\\Car_Damage_Coco_Dataset_Combined\\images\\val\\akhand_b43_433.jpg: 480x640 1 Car-Damage, 13.4ms\n",
      "image 127/208 D:\\Datasets\\riset_infor_dataset\\Car_Damage_Coco_Dataset_Combined\\images\\val\\akhand_b43_435.jpg: 480x640 (no detections), 15.6ms\n",
      "image 128/208 D:\\Datasets\\riset_infor_dataset\\Car_Damage_Coco_Dataset_Combined\\images\\val\\akhand_b43_436.jpg: 480x640 3 Car-Damages, 14.9ms\n",
      "image 129/208 D:\\Datasets\\riset_infor_dataset\\Car_Damage_Coco_Dataset_Combined\\images\\val\\akhand_b43_439.jpg: 480x640 1 Car-Damage, 14.1ms\n",
      "image 130/208 D:\\Datasets\\riset_infor_dataset\\Car_Damage_Coco_Dataset_Combined\\images\\val\\akhand_b43_442.jpg: 480x640 3 Car-Damages, 13.7ms\n",
      "image 131/208 D:\\Datasets\\riset_infor_dataset\\Car_Damage_Coco_Dataset_Combined\\images\\val\\akhand_b43_443.jpg: 480x640 2 Car-Damages, 13.8ms\n",
      "image 132/208 D:\\Datasets\\riset_infor_dataset\\Car_Damage_Coco_Dataset_Combined\\images\\val\\akhand_b43_450.jpg: 480x640 1 Car-Damage, 13.9ms\n",
      "image 133/208 D:\\Datasets\\riset_infor_dataset\\Car_Damage_Coco_Dataset_Combined\\images\\val\\akhand_b43_452.jpg: 480x640 2 Car-Damages, 13.4ms\n",
      "image 134/208 D:\\Datasets\\riset_infor_dataset\\Car_Damage_Coco_Dataset_Combined\\images\\val\\akhand_b43_458.jpg: 480x640 (no detections), 12.4ms\n",
      "image 135/208 D:\\Datasets\\riset_infor_dataset\\Car_Damage_Coco_Dataset_Combined\\images\\val\\akhand_b43_459.jpg: 480x640 3 Car-Damages, 8.9ms\n",
      "image 136/208 D:\\Datasets\\riset_infor_dataset\\Car_Damage_Coco_Dataset_Combined\\images\\val\\akhand_b43_460.jpg: 480x640 (no detections), 12.2ms\n",
      "image 137/208 D:\\Datasets\\riset_infor_dataset\\Car_Damage_Coco_Dataset_Combined\\images\\val\\akhand_b43_461.jpg: 480x640 (no detections), 11.9ms\n",
      "image 138/208 D:\\Datasets\\riset_infor_dataset\\Car_Damage_Coco_Dataset_Combined\\images\\val\\akhand_b43_471.jpg: 480x640 3 Car-Damages, 15.3ms\n",
      "image 139/208 D:\\Datasets\\riset_infor_dataset\\Car_Damage_Coco_Dataset_Combined\\images\\val\\akhand_b43_472.jpg: 480x640 3 Car-Damages, 13.8ms\n",
      "image 140/208 D:\\Datasets\\riset_infor_dataset\\Car_Damage_Coco_Dataset_Combined\\images\\val\\akhand_b43_474.jpg: 480x640 1 Car-Damage, 11.8ms\n",
      "image 141/208 D:\\Datasets\\riset_infor_dataset\\Car_Damage_Coco_Dataset_Combined\\images\\val\\akhand_b43_478.jpg: 480x640 1 Car-Damage, 11.5ms\n",
      "image 142/208 D:\\Datasets\\riset_infor_dataset\\Car_Damage_Coco_Dataset_Combined\\images\\val\\akhand_b43_480.jpg: 480x640 1 Car-Damage, 12.8ms\n",
      "image 143/208 D:\\Datasets\\riset_infor_dataset\\Car_Damage_Coco_Dataset_Combined\\images\\val\\akhand_b43_481.jpg: 480x640 2 Car-Damages, 14.9ms\n",
      "image 144/208 D:\\Datasets\\riset_infor_dataset\\Car_Damage_Coco_Dataset_Combined\\images\\val\\akhand_b43_483.jpg: 480x640 1 Car-Damage, 14.6ms\n",
      "image 145/208 D:\\Datasets\\riset_infor_dataset\\Car_Damage_Coco_Dataset_Combined\\images\\val\\akhand_b43_492.jpg: 480x640 3 Car-Damages, 11.8ms\n",
      "image 146/208 D:\\Datasets\\riset_infor_dataset\\Car_Damage_Coco_Dataset_Combined\\images\\val\\akhand_b43_494.jpg: 480x640 2 Car-Damages, 12.1ms\n",
      "image 147/208 D:\\Datasets\\riset_infor_dataset\\Car_Damage_Coco_Dataset_Combined\\images\\val\\akhand_b43_495.jpg: 480x640 1 Car-Damage, 12.1ms\n",
      "image 148/208 D:\\Datasets\\riset_infor_dataset\\Car_Damage_Coco_Dataset_Combined\\images\\val\\akhand_b43_497.jpg: 480x640 (no detections), 14.5ms\n",
      "image 149/208 D:\\Datasets\\riset_infor_dataset\\Car_Damage_Coco_Dataset_Combined\\images\\val\\akhand_b43_500.jpg: 480x640 2 Car-Damages, 11.7ms\n",
      "image 150/208 D:\\Datasets\\riset_infor_dataset\\Car_Damage_Coco_Dataset_Combined\\images\\val\\akhand_b43_501.jpg: 480x640 1 Car-Damage, 13.7ms\n",
      "image 151/208 D:\\Datasets\\riset_infor_dataset\\Car_Damage_Coco_Dataset_Combined\\images\\val\\akhand_b43_505.jpg: 480x640 2 Car-Damages, 13.0ms\n",
      "image 152/208 D:\\Datasets\\riset_infor_dataset\\Car_Damage_Coco_Dataset_Combined\\images\\val\\akhand_b43_507.jpg: 480x640 1 Car-Damage, 5.5ms\n",
      "image 153/208 D:\\Datasets\\riset_infor_dataset\\Car_Damage_Coco_Dataset_Combined\\images\\val\\akhand_b43_510.jpg: 480x640 1 Car-Damage, 15.7ms\n",
      "image 154/208 D:\\Datasets\\riset_infor_dataset\\Car_Damage_Coco_Dataset_Combined\\images\\val\\akhand_b43_515.jpg: 480x640 1 Car-Damage, 12.3ms\n",
      "image 155/208 D:\\Datasets\\riset_infor_dataset\\Car_Damage_Coco_Dataset_Combined\\images\\val\\akhand_b43_516.jpg: 480x640 1 Car-Damage, 15.2ms\n",
      "image 156/208 D:\\Datasets\\riset_infor_dataset\\Car_Damage_Coco_Dataset_Combined\\images\\val\\akhand_b43_517.jpg: 480x640 1 Car-Damage, 19.9ms\n",
      "image 157/208 D:\\Datasets\\riset_infor_dataset\\Car_Damage_Coco_Dataset_Combined\\images\\val\\akhand_b43_53.jpg: 480x640 2 Car-Damages, 19.5ms\n",
      "image 158/208 D:\\Datasets\\riset_infor_dataset\\Car_Damage_Coco_Dataset_Combined\\images\\val\\akhand_b43_531.jpg: 480x640 1 Car-Damage, 17.7ms\n",
      "image 159/208 D:\\Datasets\\riset_infor_dataset\\Car_Damage_Coco_Dataset_Combined\\images\\val\\akhand_b43_533.jpg: 480x640 1 Car-Damage, 17.3ms\n",
      "image 160/208 D:\\Datasets\\riset_infor_dataset\\Car_Damage_Coco_Dataset_Combined\\images\\val\\akhand_b43_539.jpg: 480x640 (no detections), 10.5ms\n",
      "image 161/208 D:\\Datasets\\riset_infor_dataset\\Car_Damage_Coco_Dataset_Combined\\images\\val\\akhand_b43_543.jpg: 480x640 2 Car-Damages, 17.6ms\n",
      "image 162/208 D:\\Datasets\\riset_infor_dataset\\Car_Damage_Coco_Dataset_Combined\\images\\val\\akhand_b43_546.jpg: 480x640 2 Car-Damages, 11.7ms\n",
      "image 163/208 D:\\Datasets\\riset_infor_dataset\\Car_Damage_Coco_Dataset_Combined\\images\\val\\akhand_b43_550.jpg: 480x640 2 Car-Damages, 15.8ms\n",
      "image 164/208 D:\\Datasets\\riset_infor_dataset\\Car_Damage_Coco_Dataset_Combined\\images\\val\\akhand_b43_552.jpg: 480x640 3 Car-Damages, 12.3ms\n",
      "image 165/208 D:\\Datasets\\riset_infor_dataset\\Car_Damage_Coco_Dataset_Combined\\images\\val\\akhand_b43_553.jpg: 480x640 1 Car-Damage, 12.2ms\n",
      "image 166/208 D:\\Datasets\\riset_infor_dataset\\Car_Damage_Coco_Dataset_Combined\\images\\val\\akhand_b43_558.jpg: 480x640 1 Car-Damage, 14.4ms\n",
      "image 167/208 D:\\Datasets\\riset_infor_dataset\\Car_Damage_Coco_Dataset_Combined\\images\\val\\akhand_b43_559.jpg: 480x640 4 Car-Damages, 15.5ms\n",
      "image 168/208 D:\\Datasets\\riset_infor_dataset\\Car_Damage_Coco_Dataset_Combined\\images\\val\\akhand_b43_572.jpg: 480x640 5 Car-Damages, 13.1ms\n",
      "image 169/208 D:\\Datasets\\riset_infor_dataset\\Car_Damage_Coco_Dataset_Combined\\images\\val\\akhand_b43_573.jpg: 480x640 2 Car-Damages, 14.5ms\n",
      "image 170/208 D:\\Datasets\\riset_infor_dataset\\Car_Damage_Coco_Dataset_Combined\\images\\val\\akhand_b43_575.jpg: 480x640 1 Car-Damage, 14.9ms\n",
      "image 171/208 D:\\Datasets\\riset_infor_dataset\\Car_Damage_Coco_Dataset_Combined\\images\\val\\akhand_b43_576.jpg: 480x640 1 Car-Damage, 12.2ms\n",
      "image 172/208 D:\\Datasets\\riset_infor_dataset\\Car_Damage_Coco_Dataset_Combined\\images\\val\\akhand_b43_579.jpg: 480x640 3 Car-Damages, 10.9ms\n",
      "image 173/208 D:\\Datasets\\riset_infor_dataset\\Car_Damage_Coco_Dataset_Combined\\images\\val\\akhand_b43_58.jpg: 480x640 1 Car-Damage, 14.0ms\n",
      "image 174/208 D:\\Datasets\\riset_infor_dataset\\Car_Damage_Coco_Dataset_Combined\\images\\val\\akhand_b43_580.jpg: 480x640 1 Car-Damage, 12.4ms\n",
      "image 175/208 D:\\Datasets\\riset_infor_dataset\\Car_Damage_Coco_Dataset_Combined\\images\\val\\akhand_b43_581.jpg: 480x640 4 Car-Damages, 16.2ms\n",
      "image 176/208 D:\\Datasets\\riset_infor_dataset\\Car_Damage_Coco_Dataset_Combined\\images\\val\\akhand_b43_583.jpg: 480x640 2 Car-Damages, 14.3ms\n",
      "image 177/208 D:\\Datasets\\riset_infor_dataset\\Car_Damage_Coco_Dataset_Combined\\images\\val\\akhand_b43_584.jpg: 480x640 1 Car-Damage, 9.7ms\n",
      "image 178/208 D:\\Datasets\\riset_infor_dataset\\Car_Damage_Coco_Dataset_Combined\\images\\val\\akhand_b43_588.jpg: 480x640 1 Car-Damage, 18.2ms\n",
      "image 179/208 D:\\Datasets\\riset_infor_dataset\\Car_Damage_Coco_Dataset_Combined\\images\\val\\akhand_b43_59.jpg: 480x640 (no detections), 20.8ms\n",
      "image 180/208 D:\\Datasets\\riset_infor_dataset\\Car_Damage_Coco_Dataset_Combined\\images\\val\\akhand_b43_590.jpg: 480x640 2 Car-Damages, 19.3ms\n",
      "image 181/208 D:\\Datasets\\riset_infor_dataset\\Car_Damage_Coco_Dataset_Combined\\images\\val\\akhand_b43_591.jpg: 480x640 1 Car-Damage, 15.4ms\n",
      "image 182/208 D:\\Datasets\\riset_infor_dataset\\Car_Damage_Coco_Dataset_Combined\\images\\val\\akhand_b43_592.jpg: 480x640 (no detections), 13.1ms\n",
      "image 183/208 D:\\Datasets\\riset_infor_dataset\\Car_Damage_Coco_Dataset_Combined\\images\\val\\akhand_b43_594.jpg: 480x640 1 Car-Damage, 13.8ms\n",
      "image 184/208 D:\\Datasets\\riset_infor_dataset\\Car_Damage_Coco_Dataset_Combined\\images\\val\\akhand_b43_598.jpg: 480x640 1 Car-Damage, 12.5ms\n",
      "image 185/208 D:\\Datasets\\riset_infor_dataset\\Car_Damage_Coco_Dataset_Combined\\images\\val\\akhand_b43_63.jpg: 480x640 (no detections), 18.0ms\n",
      "image 186/208 D:\\Datasets\\riset_infor_dataset\\Car_Damage_Coco_Dataset_Combined\\images\\val\\akhand_b43_65.jpg: 480x640 (no detections), 16.7ms\n",
      "image 187/208 D:\\Datasets\\riset_infor_dataset\\Car_Damage_Coco_Dataset_Combined\\images\\val\\akhand_b43_67.jpg: 480x640 2 Car-Damages, 14.9ms\n",
      "image 188/208 D:\\Datasets\\riset_infor_dataset\\Car_Damage_Coco_Dataset_Combined\\images\\val\\akhand_b43_68.jpg: 480x640 (no detections), 14.9ms\n",
      "image 189/208 D:\\Datasets\\riset_infor_dataset\\Car_Damage_Coco_Dataset_Combined\\images\\val\\akhand_b43_71.jpg: 480x640 3 Car-Damages, 22.8ms\n",
      "image 190/208 D:\\Datasets\\riset_infor_dataset\\Car_Damage_Coco_Dataset_Combined\\images\\val\\akhand_b43_72.jpg: 480x640 (no detections), 11.6ms\n",
      "image 191/208 D:\\Datasets\\riset_infor_dataset\\Car_Damage_Coco_Dataset_Combined\\images\\val\\akhand_b43_75.jpg: 480x640 2 Car-Damages, 8.1ms\n",
      "image 192/208 D:\\Datasets\\riset_infor_dataset\\Car_Damage_Coco_Dataset_Combined\\images\\val\\akhand_b43_84.jpg: 480x640 1 Car-Damage, 15.8ms\n",
      "image 193/208 D:\\Datasets\\riset_infor_dataset\\Car_Damage_Coco_Dataset_Combined\\images\\val\\akhand_b43_87.jpg: 480x640 2 Car-Damages, 15.3ms\n",
      "image 194/208 D:\\Datasets\\riset_infor_dataset\\Car_Damage_Coco_Dataset_Combined\\images\\val\\akhand_b43_89.jpg: 480x640 4 Car-Damages, 20.4ms\n",
      "image 195/208 D:\\Datasets\\riset_infor_dataset\\Car_Damage_Coco_Dataset_Combined\\images\\val\\akhand_b43_92.jpg: 480x640 1 Car-Damage, 16.7ms\n",
      "image 196/208 D:\\Datasets\\riset_infor_dataset\\Car_Damage_Coco_Dataset_Combined\\images\\val\\akhand_b43_95.jpg: 480x640 3 Car-Damages, 20.3ms\n",
      "image 197/208 D:\\Datasets\\riset_infor_dataset\\Car_Damage_Coco_Dataset_Combined\\images\\val\\akhand_b43_96.jpg: 480x640 1 Car-Damage, 20.9ms\n",
      "image 198/208 D:\\Datasets\\riset_infor_dataset\\Car_Damage_Coco_Dataset_Combined\\images\\val\\coco1.jpg: 640x640 2 Car-Damages, 25.7ms\n",
      "image 199/208 D:\\Datasets\\riset_infor_dataset\\Car_Damage_Coco_Dataset_Combined\\images\\val\\coco22.jpg: 640x640 2 Car-Damages, 19.3ms\n",
      "image 200/208 D:\\Datasets\\riset_infor_dataset\\Car_Damage_Coco_Dataset_Combined\\images\\val\\coco24.jpg: 640x640 1 Car-Damage, 21.0ms\n",
      "image 201/208 D:\\Datasets\\riset_infor_dataset\\Car_Damage_Coco_Dataset_Combined\\images\\val\\coco3.jpg: 640x640 (no detections), 17.2ms\n",
      "image 202/208 D:\\Datasets\\riset_infor_dataset\\Car_Damage_Coco_Dataset_Combined\\images\\val\\coco32.jpg: 640x640 (no detections), 15.7ms\n",
      "image 203/208 D:\\Datasets\\riset_infor_dataset\\Car_Damage_Coco_Dataset_Combined\\images\\val\\coco42.jpg: 640x640 1 Car-Damage, 16.0ms\n",
      "image 204/208 D:\\Datasets\\riset_infor_dataset\\Car_Damage_Coco_Dataset_Combined\\images\\val\\coco62.jpg: 640x640 1 Car-Damage, 17.0ms\n",
      "image 205/208 D:\\Datasets\\riset_infor_dataset\\Car_Damage_Coco_Dataset_Combined\\images\\val\\coco74.jpg: 640x640 (no detections), 18.1ms\n",
      "image 206/208 D:\\Datasets\\riset_infor_dataset\\Car_Damage_Coco_Dataset_Combined\\images\\val\\coco78.jpg: 640x640 4 Car-Damages, 18.1ms\n",
      "image 207/208 D:\\Datasets\\riset_infor_dataset\\Car_Damage_Coco_Dataset_Combined\\images\\val\\coco8.jpg: 640x640 3 Car-Damages, 16.6ms\n",
      "image 208/208 D:\\Datasets\\riset_infor_dataset\\Car_Damage_Coco_Dataset_Combined\\images\\val\\coco9.jpg: 640x640 1 Car-Damage, 21.1ms\n",
      "Speed: 2.0ms preprocess, 13.2ms inference, 1.6ms postprocess per image at shape (1, 3, 640, 640)\n",
      "Results saved to \u001b[1mruns\\detect\\train153\u001b[0m\n"
     ]
    }
   ],
   "source": [
    "results = model.predict(source=datasets_images_path + \"/val\", save=True, conf=0.25)"
   ]
  }
 ],
 "metadata": {
  "kernelspec": {
   "display_name": "pytorch_env",
   "language": "python",
   "name": "python3"
  },
  "language_info": {
   "codemirror_mode": {
    "name": "ipython",
    "version": 3
   },
   "file_extension": ".py",
   "mimetype": "text/x-python",
   "name": "python",
   "nbconvert_exporter": "python",
   "pygments_lexer": "ipython3",
   "version": "3.10.16"
  }
 },
 "nbformat": 4,
 "nbformat_minor": 2
}
